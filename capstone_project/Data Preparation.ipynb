{
 "cells": [
  {
   "cell_type": "code",
   "execution_count": 1,
   "metadata": {
    "collapsed": false
   },
   "outputs": [],
   "source": [
    "import pandas as pd\n",
    "import collections\n",
    "import statsmodels.formula.api as smf"
   ]
  },
  {
   "cell_type": "code",
   "execution_count": 2,
   "metadata": {
    "collapsed": false
   },
   "outputs": [],
   "source": [
    "df = pd.read_csv('data/listings_full.csv')\n"
   ]
  },
  {
   "cell_type": "markdown",
   "metadata": {},
   "source": [
    "## Split the amenities column into single columns"
   ]
  },
  {
   "cell_type": "code",
   "execution_count": 3,
   "metadata": {
    "collapsed": false
   },
   "outputs": [],
   "source": [
    "def convert_to_dict(x):\n",
    "    x = x.replace('{','').replace('}','')\n",
    "    x = x.replace('\\\"','').replace('\\\"','')\n",
    "    x = x.split(',')\n",
    "    return collections.Counter(x)"
   ]
  },
  {
   "cell_type": "code",
   "execution_count": 4,
   "metadata": {
    "collapsed": false
   },
   "outputs": [],
   "source": [
    "df.amenities = df.amenities.apply(convert_to_dict)"
   ]
  },
  {
   "cell_type": "code",
   "execution_count": 5,
   "metadata": {
    "collapsed": false
   },
   "outputs": [],
   "source": [
    "df_amenities = df.amenities.apply(pd.Series)\n",
    "df_amenities.columns = ['amenities_'+col.replace(\" \",\"\") for col in df_amenities.columns]"
   ]
  },
  {
   "cell_type": "code",
   "execution_count": 6,
   "metadata": {
    "collapsed": false
   },
   "outputs": [],
   "source": [
    "df = pd.concat([df,df_amenities],axis=1)"
   ]
  },
  {
   "cell_type": "code",
   "execution_count": 7,
   "metadata": {
    "collapsed": false
   },
   "outputs": [
    {
     "data": {
      "text/html": [
       "<div>\n",
       "<style>\n",
       "    .dataframe thead tr:only-child th {\n",
       "        text-align: right;\n",
       "    }\n",
       "\n",
       "    .dataframe thead th {\n",
       "        text-align: left;\n",
       "    }\n",
       "\n",
       "    .dataframe tbody tr th {\n",
       "        vertical-align: top;\n",
       "    }\n",
       "</style>\n",
       "<table border=\"1\" class=\"dataframe\">\n",
       "  <thead>\n",
       "    <tr style=\"text-align: right;\">\n",
       "      <th></th>\n",
       "      <th>id</th>\n",
       "      <th>listing_url</th>\n",
       "      <th>scrape_id</th>\n",
       "      <th>last_scraped</th>\n",
       "      <th>name</th>\n",
       "      <th>summary</th>\n",
       "      <th>space</th>\n",
       "      <th>description</th>\n",
       "      <th>experiences_offered</th>\n",
       "      <th>neighborhood_overview</th>\n",
       "      <th>...</th>\n",
       "      <th>amenities_Washer/Dryer</th>\n",
       "      <th>amenities_Wheelchairaccessible</th>\n",
       "      <th>amenities_Wideclearancetobed</th>\n",
       "      <th>amenities_Wideclearancetoshowerandtoilet</th>\n",
       "      <th>amenities_Widedoorway</th>\n",
       "      <th>amenities_Widehallwayclearance</th>\n",
       "      <th>amenities_Windowguards</th>\n",
       "      <th>amenities_WirelessInternet</th>\n",
       "      <th>amenities_translationmissing:en.hosting_amenity_49</th>\n",
       "      <th>amenities_translationmissing:en.hosting_amenity_50</th>\n",
       "    </tr>\n",
       "  </thead>\n",
       "  <tbody>\n",
       "    <tr>\n",
       "      <th>0</th>\n",
       "      <td>17260587</td>\n",
       "      <td>https://www.airbnb.com/rooms/17260587</td>\n",
       "      <td>20170507222235</td>\n",
       "      <td>2017-05-08</td>\n",
       "      <td>Kunterbuntes Zimmer mit eigenem Bad für jedermann</td>\n",
       "      <td>Meine Unterkunft ist gut für paare, alleinreis...</td>\n",
       "      <td>NaN</td>\n",
       "      <td>Meine Unterkunft ist gut für paare, alleinreis...</td>\n",
       "      <td>none</td>\n",
       "      <td>NaN</td>\n",
       "      <td>...</td>\n",
       "      <td>NaN</td>\n",
       "      <td>NaN</td>\n",
       "      <td>NaN</td>\n",
       "      <td>NaN</td>\n",
       "      <td>NaN</td>\n",
       "      <td>NaN</td>\n",
       "      <td>NaN</td>\n",
       "      <td>1.0</td>\n",
       "      <td>NaN</td>\n",
       "      <td>NaN</td>\n",
       "    </tr>\n",
       "    <tr>\n",
       "      <th>1</th>\n",
       "      <td>17227881</td>\n",
       "      <td>https://www.airbnb.com/rooms/17227881</td>\n",
       "      <td>20170507222235</td>\n",
       "      <td>2017-05-08</td>\n",
       "      <td>Modernes Zimmer in Berlin Pankow</td>\n",
       "      <td>Es ist ein schönes gepflegtes und modernes Zim...</td>\n",
       "      <td>Das Haus befindet sich direkt vor eine Tram Ha...</td>\n",
       "      <td>Es ist ein schönes gepflegtes und modernes Zim...</td>\n",
       "      <td>none</td>\n",
       "      <td>NaN</td>\n",
       "      <td>...</td>\n",
       "      <td>NaN</td>\n",
       "      <td>NaN</td>\n",
       "      <td>NaN</td>\n",
       "      <td>NaN</td>\n",
       "      <td>NaN</td>\n",
       "      <td>NaN</td>\n",
       "      <td>NaN</td>\n",
       "      <td>1.0</td>\n",
       "      <td>NaN</td>\n",
       "      <td>NaN</td>\n",
       "    </tr>\n",
       "    <tr>\n",
       "      <th>2</th>\n",
       "      <td>1153584</td>\n",
       "      <td>https://www.airbnb.com/rooms/1153584</td>\n",
       "      <td>20170507222235</td>\n",
       "      <td>2017-05-08</td>\n",
       "      <td>Gästezimmer Berlin-Pankow</td>\n",
       "      <td>Unser Gästezimmer befindet sich im Dachgeschos...</td>\n",
       "      <td>Wenn Ihr eine anspruchsvolles Ambiente sucht, ...</td>\n",
       "      <td>Unser Gästezimmer befindet sich im Dachgeschos...</td>\n",
       "      <td>none</td>\n",
       "      <td>Unweit der Berliner City, im nördlichen Pankow...</td>\n",
       "      <td>...</td>\n",
       "      <td>NaN</td>\n",
       "      <td>NaN</td>\n",
       "      <td>NaN</td>\n",
       "      <td>NaN</td>\n",
       "      <td>NaN</td>\n",
       "      <td>NaN</td>\n",
       "      <td>NaN</td>\n",
       "      <td>1.0</td>\n",
       "      <td>NaN</td>\n",
       "      <td>NaN</td>\n",
       "    </tr>\n",
       "    <tr>\n",
       "      <th>3</th>\n",
       "      <td>7832750</td>\n",
       "      <td>https://www.airbnb.com/rooms/7832750</td>\n",
       "      <td>20170507222235</td>\n",
       "      <td>2017-05-08</td>\n",
       "      <td>Sonniges Doppelzimmer+Nice Price!</td>\n",
       "      <td>Welcome! Hier vermiete ich ein kleines Wohlfüh...</td>\n",
       "      <td>Die Wohnung ist durch Ihre Lage sehr schön hel...</td>\n",
       "      <td>Welcome! Hier vermiete ich ein kleines Wohlfüh...</td>\n",
       "      <td>none</td>\n",
       "      <td>NaN</td>\n",
       "      <td>...</td>\n",
       "      <td>NaN</td>\n",
       "      <td>NaN</td>\n",
       "      <td>NaN</td>\n",
       "      <td>NaN</td>\n",
       "      <td>NaN</td>\n",
       "      <td>NaN</td>\n",
       "      <td>NaN</td>\n",
       "      <td>1.0</td>\n",
       "      <td>NaN</td>\n",
       "      <td>1.0</td>\n",
       "    </tr>\n",
       "    <tr>\n",
       "      <th>4</th>\n",
       "      <td>11634962</td>\n",
       "      <td>https://www.airbnb.com/rooms/11634962</td>\n",
       "      <td>20170507222235</td>\n",
       "      <td>2017-05-08</td>\n",
       "      <td>Room for womens in Pankow 30 min from the city</td>\n",
       "      <td>Gemütliches Zimmer im ruhigen Teil von Berlin....</td>\n",
       "      <td>Es handelt sich um ein großes, gemütliches Zim...</td>\n",
       "      <td>Gemütliches Zimmer im ruhigen Teil von Berlin....</td>\n",
       "      <td>none</td>\n",
       "      <td>NaN</td>\n",
       "      <td>...</td>\n",
       "      <td>NaN</td>\n",
       "      <td>NaN</td>\n",
       "      <td>NaN</td>\n",
       "      <td>NaN</td>\n",
       "      <td>NaN</td>\n",
       "      <td>NaN</td>\n",
       "      <td>NaN</td>\n",
       "      <td>1.0</td>\n",
       "      <td>NaN</td>\n",
       "      <td>NaN</td>\n",
       "    </tr>\n",
       "  </tbody>\n",
       "</table>\n",
       "<p>5 rows × 199 columns</p>\n",
       "</div>"
      ],
      "text/plain": [
       "         id                            listing_url       scrape_id  \\\n",
       "0  17260587  https://www.airbnb.com/rooms/17260587  20170507222235   \n",
       "1  17227881  https://www.airbnb.com/rooms/17227881  20170507222235   \n",
       "2   1153584   https://www.airbnb.com/rooms/1153584  20170507222235   \n",
       "3   7832750   https://www.airbnb.com/rooms/7832750  20170507222235   \n",
       "4  11634962  https://www.airbnb.com/rooms/11634962  20170507222235   \n",
       "\n",
       "  last_scraped                                               name  \\\n",
       "0   2017-05-08  Kunterbuntes Zimmer mit eigenem Bad für jedermann   \n",
       "1   2017-05-08                   Modernes Zimmer in Berlin Pankow   \n",
       "2   2017-05-08                          Gästezimmer Berlin-Pankow   \n",
       "3   2017-05-08                  Sonniges Doppelzimmer+Nice Price!   \n",
       "4   2017-05-08     Room for womens in Pankow 30 min from the city   \n",
       "\n",
       "                                             summary  \\\n",
       "0  Meine Unterkunft ist gut für paare, alleinreis...   \n",
       "1  Es ist ein schönes gepflegtes und modernes Zim...   \n",
       "2  Unser Gästezimmer befindet sich im Dachgeschos...   \n",
       "3  Welcome! Hier vermiete ich ein kleines Wohlfüh...   \n",
       "4  Gemütliches Zimmer im ruhigen Teil von Berlin....   \n",
       "\n",
       "                                               space  \\\n",
       "0                                                NaN   \n",
       "1  Das Haus befindet sich direkt vor eine Tram Ha...   \n",
       "2  Wenn Ihr eine anspruchsvolles Ambiente sucht, ...   \n",
       "3  Die Wohnung ist durch Ihre Lage sehr schön hel...   \n",
       "4  Es handelt sich um ein großes, gemütliches Zim...   \n",
       "\n",
       "                                         description experiences_offered  \\\n",
       "0  Meine Unterkunft ist gut für paare, alleinreis...                none   \n",
       "1  Es ist ein schönes gepflegtes und modernes Zim...                none   \n",
       "2  Unser Gästezimmer befindet sich im Dachgeschos...                none   \n",
       "3  Welcome! Hier vermiete ich ein kleines Wohlfüh...                none   \n",
       "4  Gemütliches Zimmer im ruhigen Teil von Berlin....                none   \n",
       "\n",
       "                               neighborhood_overview  \\\n",
       "0                                                NaN   \n",
       "1                                                NaN   \n",
       "2  Unweit der Berliner City, im nördlichen Pankow...   \n",
       "3                                                NaN   \n",
       "4                                                NaN   \n",
       "\n",
       "                          ...                         amenities_Washer/Dryer  \\\n",
       "0                         ...                                            NaN   \n",
       "1                         ...                                            NaN   \n",
       "2                         ...                                            NaN   \n",
       "3                         ...                                            NaN   \n",
       "4                         ...                                            NaN   \n",
       "\n",
       "  amenities_Wheelchairaccessible amenities_Wideclearancetobed  \\\n",
       "0                            NaN                          NaN   \n",
       "1                            NaN                          NaN   \n",
       "2                            NaN                          NaN   \n",
       "3                            NaN                          NaN   \n",
       "4                            NaN                          NaN   \n",
       "\n",
       "  amenities_Wideclearancetoshowerandtoilet amenities_Widedoorway  \\\n",
       "0                                      NaN                   NaN   \n",
       "1                                      NaN                   NaN   \n",
       "2                                      NaN                   NaN   \n",
       "3                                      NaN                   NaN   \n",
       "4                                      NaN                   NaN   \n",
       "\n",
       "  amenities_Widehallwayclearance amenities_Windowguards  \\\n",
       "0                            NaN                    NaN   \n",
       "1                            NaN                    NaN   \n",
       "2                            NaN                    NaN   \n",
       "3                            NaN                    NaN   \n",
       "4                            NaN                    NaN   \n",
       "\n",
       "  amenities_WirelessInternet  \\\n",
       "0                        1.0   \n",
       "1                        1.0   \n",
       "2                        1.0   \n",
       "3                        1.0   \n",
       "4                        1.0   \n",
       "\n",
       "  amenities_translationmissing:en.hosting_amenity_49  \\\n",
       "0                                                NaN   \n",
       "1                                                NaN   \n",
       "2                                                NaN   \n",
       "3                                                NaN   \n",
       "4                                                NaN   \n",
       "\n",
       "   amenities_translationmissing:en.hosting_amenity_50  \n",
       "0                                                NaN   \n",
       "1                                                NaN   \n",
       "2                                                NaN   \n",
       "3                                                1.0   \n",
       "4                                                NaN   \n",
       "\n",
       "[5 rows x 199 columns]"
      ]
     },
     "execution_count": 7,
     "metadata": {},
     "output_type": "execute_result"
    }
   ],
   "source": [
    "df.head()"
   ]
  },
  {
   "cell_type": "code",
   "execution_count": 8,
   "metadata": {
    "collapsed": false
   },
   "outputs": [
    {
     "data": {
      "text/plain": [
       "Index([u'id', u'listing_url', u'scrape_id', u'last_scraped', u'name',\n",
       "       u'summary', u'space', u'description', u'experiences_offered',\n",
       "       u'neighborhood_overview',\n",
       "       ...\n",
       "       u'amenities_Washer/Dryer', u'amenities_Wheelchairaccessible',\n",
       "       u'amenities_Wideclearancetobed',\n",
       "       u'amenities_Wideclearancetoshowerandtoilet', u'amenities_Widedoorway',\n",
       "       u'amenities_Widehallwayclearance', u'amenities_Windowguards',\n",
       "       u'amenities_WirelessInternet',\n",
       "       u'amenities_translationmissing:en.hosting_amenity_49',\n",
       "       u'amenities_translationmissing:en.hosting_amenity_50'],\n",
       "      dtype='object', length=199)"
      ]
     },
     "execution_count": 8,
     "metadata": {},
     "output_type": "execute_result"
    }
   ],
   "source": [
    "df.columns"
   ]
  },
  {
   "cell_type": "code",
   "execution_count": 15,
   "metadata": {
    "collapsed": false
   },
   "outputs": [
    {
     "data": {
      "text/plain": [
       "['number_of_reviews',\n",
       " 'first_review',\n",
       " 'last_review',\n",
       " 'review_scores_rating',\n",
       " 'review_scores_accuracy',\n",
       " 'review_scores_cleanliness',\n",
       " 'review_scores_checkin',\n",
       " 'review_scores_communication',\n",
       " 'review_scores_location',\n",
       " 'review_scores_value',\n",
       " 'reviews_per_month']"
      ]
     },
     "execution_count": 15,
     "metadata": {},
     "output_type": "execute_result"
    }
   ],
   "source": [
    "[col for col  in df.columns.tolist() if 'review' in col]"
   ]
  },
  {
   "cell_type": "code",
   "execution_count": 38,
   "metadata": {
    "collapsed": false
   },
   "outputs": [],
   "source": [
    "df_test = df.dropna()\n",
    "mod =smf.ols(formula='availability_365 ~ availability_90+number_of_reviews+review_scores_accuracy +review_scores_cleanliness+ review_scores_checkin+ review_scores_value+ reviews_per_month', data=df)\n"
   ]
  },
  {
   "cell_type": "code",
   "execution_count": 39,
   "metadata": {
    "collapsed": false
   },
   "outputs": [
    {
     "name": "stdout",
     "output_type": "stream",
     "text": [
      "                            OLS Regression Results                            \n",
      "==============================================================================\n",
      "Dep. Variable:       availability_365   R-squared:                       0.452\n",
      "Model:                            OLS   Adj. R-squared:                  0.452\n",
      "Method:                 Least Squares   F-statistic:                     1864.\n",
      "Date:                Wed, 12 Jul 2017   Prob (F-statistic):               0.00\n",
      "Time:                        13:27:08   Log-Likelihood:                -94527.\n",
      "No. Observations:               15809   AIC:                         1.891e+05\n",
      "Df Residuals:                   15801   BIC:                         1.891e+05\n",
      "Df Model:                           7                                         \n",
      "Covariance Type:            nonrobust                                         \n",
      "=============================================================================================\n",
      "                                coef    std err          t      P>|t|      [0.025      0.975]\n",
      "---------------------------------------------------------------------------------------------\n",
      "Intercept                   117.6618     11.517     10.216      0.000      95.087     140.237\n",
      "availability_90               2.8327      0.027    103.619      0.000       2.779       2.886\n",
      "number_of_reviews             0.7739      0.032     24.512      0.000       0.712       0.836\n",
      "review_scores_accuracy       -3.4710      1.264     -2.747      0.006      -5.948      -0.994\n",
      "review_scores_cleanliness     6.4614      0.915      7.059      0.000       4.667       8.256\n",
      "review_scores_checkin        -0.4215      1.191     -0.354      0.723      -2.755       1.912\n",
      "review_scores_value         -10.8057      1.177     -9.184      0.000     -13.112      -8.499\n",
      "reviews_per_month            -2.5333      0.718     -3.526      0.000      -3.942      -1.125\n",
      "==============================================================================\n",
      "Omnibus:                      489.044   Durbin-Watson:                   1.953\n",
      "Prob(Omnibus):                  0.000   Jarque-Bera (JB):              430.349\n",
      "Skew:                           0.344   Prob(JB):                     3.56e-94\n",
      "Kurtosis:                       2.577   Cond. No.                         662.\n",
      "==============================================================================\n",
      "\n",
      "Warnings:\n",
      "[1] Standard Errors assume that the covariance matrix of the errors is correctly specified.\n"
     ]
    }
   ],
   "source": [
    "res = mod.fit()\n",
    "print (res.summary())"
   ]
  }
 ],
 "metadata": {
  "anaconda-cloud": {},
  "kernelspec": {
   "display_name": "Python [conda root]",
   "language": "python",
   "name": "conda-root-py"
  },
  "language_info": {
   "codemirror_mode": {
    "name": "ipython",
    "version": 2
   },
   "file_extension": ".py",
   "mimetype": "text/x-python",
   "name": "python",
   "nbconvert_exporter": "python",
   "pygments_lexer": "ipython2",
   "version": "2.7.12"
  }
 },
 "nbformat": 4,
 "nbformat_minor": 1
}
