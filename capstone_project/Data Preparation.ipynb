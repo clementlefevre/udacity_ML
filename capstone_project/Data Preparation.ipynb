{
 "cells": [
  {
   "cell_type": "markdown",
   "metadata": {},
   "source": [
    "# AirBnB : Part 1a, data preparation."
   ]
  },
  {
   "cell_type": "code",
   "execution_count": 1,
   "metadata": {
    "collapsed": false
   },
   "outputs": [
    {
     "name": "stderr",
     "output_type": "stream",
     "text": [
      "/home/ramon/anaconda2/lib/python2.7/site-packages/statsmodels/compat/pandas.py:56: FutureWarning: The pandas.core.datetools module is deprecated and will be removed in a future version. Please use the pandas.tseries module instead.\n",
      "  from pandas.core import datetools\n"
     ]
    }
   ],
   "source": [
    "%matplotlib inline \n",
    "import numpy as np\n",
    "import pandas as pd\n",
    "import collections\n",
    "import itertools\n",
    "import unicodedata\n",
    "import statsmodels.api as sm\n",
    "from datetime import date\n",
    "import seaborn as sns\n",
    "from ast import literal_eval\n",
    "\n",
    "from utils import rstr, detect_lang"
   ]
  },
  {
   "cell_type": "code",
   "execution_count": 2,
   "metadata": {
    "collapsed": false
   },
   "outputs": [],
   "source": [
    "df = pd.read_csv('data/listings_full.csv')\n",
    "df = df[df.room_type=='Entire home/apt']"
   ]
  },
  {
   "cell_type": "markdown",
   "metadata": {},
   "source": [
    "## Remove columns without interest"
   ]
  },
  {
   "cell_type": "markdown",
   "metadata": {},
   "source": [
    "#### Separate text features in a specific Dataframe"
   ]
  },
  {
   "cell_type": "code",
   "execution_count": 3,
   "metadata": {
    "collapsed": false
   },
   "outputs": [],
   "source": [
    "cols_text = ['name', 'summary', 'space', 'description', 'experiences_offered', 'neighborhood_overview',\\\n",
    "            'notes','transit','access','interaction','house_rules','host_about']\n",
    "\n",
    "df_text_features = df[['id']+cols_text]\n",
    "\n",
    "df = df.drop(cols_text,axis=1)\n",
    "cols_text = ['text_'+ col for col in cols_text]\n",
    "df_text_features.columns = [['id']+cols_text]"
   ]
  },
  {
   "cell_type": "code",
   "execution_count": 4,
   "metadata": {
    "collapsed": false
   },
   "outputs": [],
   "source": [
    "df_text_features[cols_text] = df_text_features[cols_text].astype(str)\n",
    "df_text_features['text_all'] =df_text_features[cols_text].apply(lambda x: ' '.join(x), axis=1)"
   ]
  },
  {
   "cell_type": "code",
   "execution_count": 5,
   "metadata": {
    "collapsed": false
   },
   "outputs": [
    {
     "data": {
      "text/plain": [
       "(10285, 14)"
      ]
     },
     "execution_count": 5,
     "metadata": {},
     "output_type": "execute_result"
    }
   ],
   "source": [
    "df_text_features.shape"
   ]
  },
  {
   "cell_type": "code",
   "execution_count": 6,
   "metadata": {
    "collapsed": false
   },
   "outputs": [
    {
     "data": {
      "text/plain": [
       "id                            (<type 'int'>, [16682014, 15767215, 115576, 75...\n",
       "text_name                     (<type 'str'>, [Zuhause im Glück, 60m² mitten ...\n",
       "text_summary                  (<type 'str'>, [Meine Unterkunft ist in der Nä...\n",
       "text_space                    (<type 'str'>, [nan, Nach einer schönen Tour d...\n",
       "text_description              (<type 'str'>, [Meine Unterkunft ist in der Nä...\n",
       "text_experiences_offered                                 (<type 'str'>, [none])\n",
       "text_neighborhood_overview    (<type 'str'>, [nan, Die Wohnung befindet sich...\n",
       "text_notes                    (<type 'str'>, [nan, Bitte beachten Sie, dass ...\n",
       "text_transit                  (<type 'str'>, [nan, Sehr gute Anbindung an de...\n",
       "text_access                   (<type 'str'>, [nan, Ihr dürft die komplette W...\n",
       "text_interaction              (<type 'str'>, [nan, Während Deines Aufenthalt...\n",
       "text_house_rules              (<type 'str'>, [nan, non smoking area! Garden ...\n",
       "text_host_about               (<type 'str'>, [nan, I love my wife and three ...\n",
       "text_all                      (<type 'str'>, [Zuhause im Glück Meine Unterku...\n",
       "dtype: object"
      ]
     },
     "execution_count": 6,
     "metadata": {},
     "output_type": "execute_result"
    }
   ],
   "source": [
    "rstr(df_text_features)"
   ]
  },
  {
   "cell_type": "code",
   "execution_count": 7,
   "metadata": {
    "collapsed": false
   },
   "outputs": [],
   "source": [
    "df_text_features.text_all = df_text_features.text_all.apply(lambda x:x.decode('utf-8'))\n",
    "df_text_features['text_language']=df_text_features.text_all.apply(lambda x : detect_lang(x))"
   ]
  },
  {
   "cell_type": "code",
   "execution_count": 8,
   "metadata": {
    "collapsed": false
   },
   "outputs": [],
   "source": [
    "df_text_features.text_language = df_text_features.text_language.astype(str)\n",
    "df_text_features = df_text_features.drop('text_all',axis=1)"
   ]
  },
  {
   "cell_type": "code",
   "execution_count": 9,
   "metadata": {
    "collapsed": false
   },
   "outputs": [
    {
     "data": {
      "text/plain": [
       "<matplotlib.axes._subplots.AxesSubplot at 0x7f0709ecc510>"
      ]
     },
     "execution_count": 9,
     "metadata": {},
     "output_type": "execute_result"
    },
    {
     "data": {
      "image/png": "[encoded data removed]",
      "text/plain": [
       "<matplotlib.figure.Figure at 0x7f0708ab5d10>"
      ]
     },
     "metadata": {},
     "output_type": "display_data"
    }
   ],
   "source": [
    "df_text_features.text_language.value_counts().plot(kind='bar')"
   ]
  },
  {
   "cell_type": "code",
   "execution_count": 10,
   "metadata": {
    "collapsed": false
   },
   "outputs": [],
   "source": [
    "columns_to_exclude = ['calendar_last_scraped',  'scrape_id', 'last_scraped', 'listing_url', 'thumbnail_url', 'medium_url', 'picture_url', 'xl_picture_url', 'host_id', 'host_url', 'host_location', 'host_thumbnail_url', 'host_picture_url', 'host_total_listings_count','host_acceptance_rate', 'street', 'city', 'state', 'market', 'smart_location', 'country_code', 'country','room_type', 'has_availability','zipcode','neighbourhood','host_neighbourhood','neighbourhood_cleansed', 'requires_license', 'license', 'jurisdiction_names', 'calculated_host_listings_count','square_feet','monthly_price',\n",
    "'weekly_price','security_deposit','cleaning_fee']"
   ]
  },
  {
   "cell_type": "markdown",
   "metadata": {},
   "source": [
    "### Convert host location to country"
   ]
  },
  {
   "cell_type": "code",
   "execution_count": 11,
   "metadata": {
    "collapsed": false
   },
   "outputs": [
    {
     "data": {
      "text/plain": [
       "<matplotlib.axes._subplots.AxesSubplot at 0x7f07081eb290>"
      ]
     },
     "execution_count": 11,
     "metadata": {},
     "output_type": "execute_result"
    },
    {
     "data": {
      "image/png": "[encoded data removed]",
      "text/plain": [
       "<matplotlib.figure.Figure at 0x7f07081ebc90>"
      ]
     },
     "metadata": {},
     "output_type": "display_data"
    }
   ],
   "source": [
    "df.host_location = df.host_location.apply(lambda x: str(x).split(',')[-1])\n",
    "df.host_location.value_counts().sort_values(ascending=False).head(30).plot.bar(title=\"Host Location\")"
   ]
  },
  {
   "cell_type": "markdown",
   "metadata": {},
   "source": [
    "### Host neighbourhood"
   ]
  },
  {
   "cell_type": "code",
   "execution_count": 12,
   "metadata": {
    "collapsed": false
   },
   "outputs": [
    {
     "data": {
      "text/plain": [
       "<matplotlib.axes._subplots.AxesSubplot at 0x7f070c557f90>"
      ]
     },
     "execution_count": 12,
     "metadata": {},
     "output_type": "execute_result"
    },
    {
     "data": {
      "image/png": "[encoded data removed]",
      "text/plain": [
       "<matplotlib.figure.Figure at 0x7f070c4e95d0>"
      ]
     },
     "metadata": {},
     "output_type": "display_data"
    }
   ],
   "source": [
    "df.host_neighbourhood.value_counts().head(30).plot.bar(title=\"Host neighbourhood\")"
   ]
  },
  {
   "cell_type": "markdown",
   "metadata": {},
   "source": [
    "### Number of listing per host"
   ]
  },
  {
   "cell_type": "code",
   "execution_count": 13,
   "metadata": {
    "collapsed": false
   },
   "outputs": [
    {
     "data": {
      "text/plain": [
       "<matplotlib.axes._subplots.AxesSubplot at 0x7f070c3ebe10>"
      ]
     },
     "execution_count": 13,
     "metadata": {},
     "output_type": "execute_result"
    },
    {
     "data": {
      "image/png": "[encoded data removed]",
      "text/plain": [
       "<matplotlib.figure.Figure at 0x7f070889a190>"
      ]
     },
     "metadata": {},
     "output_type": "display_data"
    }
   ],
   "source": [
    "df.host_listings_count.value_counts().sort_index().plot.bar(title=\"host_listings_count\")"
   ]
  },
  {
   "cell_type": "code",
   "execution_count": 14,
   "metadata": {
    "collapsed": false
   },
   "outputs": [
    {
     "data": {
      "text/plain": [
       "<matplotlib.axes._subplots.AxesSubplot at 0x7f070c283ad0>"
      ]
     },
     "execution_count": 14,
     "metadata": {},
     "output_type": "execute_result"
    },
    {
     "data": {
      "image/png": "[encoded data removed]",
      "text/plain": [
       "<matplotlib.figure.Figure at 0x7f070c298610>"
      ]
     },
     "metadata": {},
     "output_type": "display_data"
    }
   ],
   "source": [
    "df.calculated_host_listings_count.value_counts().sort_index().plot.bar(title=\"host_listings_count\")"
   ]
  },
  {
   "cell_type": "code",
   "execution_count": 15,
   "metadata": {
    "collapsed": false
   },
   "outputs": [],
   "source": [
    "df = df.drop(columns_to_exclude,axis=1)"
   ]
  },
  {
   "cell_type": "markdown",
   "metadata": {},
   "source": [
    "### Remove special characters on columns name function"
   ]
  },
  {
   "cell_type": "code",
   "execution_count": 16,
   "metadata": {
    "collapsed": true
   },
   "outputs": [],
   "source": [
    "def remove_special_character(df, df_name):\n",
    "    df.columns  = [''.join(e for e in col if e.isalnum()) for col in df.columns.tolist()]\n",
    "    df.columns = [df_name+'_'+ col for col in df.columns]\n",
    "    return df\n",
    "    "
   ]
  },
  {
   "cell_type": "markdown",
   "metadata": {},
   "source": [
    "## Split the amenities column into single columns"
   ]
  },
  {
   "cell_type": "code",
   "execution_count": 17,
   "metadata": {
    "collapsed": false
   },
   "outputs": [],
   "source": [
    "def convert_to_dict(x):\n",
    "    x = x.replace('{','').replace('}','')\n",
    "    x = x.replace('-','_')\n",
    "    x = x.replace('\\\"','').replace('\\\"','')\n",
    "    x = x.replace('(','').replace(')','')\n",
    "    x = x.replace('/','').replace(':','_')\n",
    "    x = x.replace('\\'','').replace('.','_')\n",
    "    \n",
    "    x = x.split(',')\n",
    "    return collections.Counter(x)"
   ]
  },
  {
   "cell_type": "code",
   "execution_count": 18,
   "metadata": {
    "collapsed": false
   },
   "outputs": [],
   "source": [
    "df.amenities = df.amenities.apply(convert_to_dict)"
   ]
  },
  {
   "cell_type": "code",
   "execution_count": 19,
   "metadata": {
    "collapsed": false
   },
   "outputs": [],
   "source": [
    "df_amenities = df.amenities.apply(pd.Series)\n",
    "df_amenities = remove_special_character(df_amenities,'amenities_')\n",
    "df_amenities = df_amenities.fillna(0)"
   ]
  },
  {
   "cell_type": "code",
   "execution_count": 20,
   "metadata": {
    "collapsed": false
   },
   "outputs": [],
   "source": [
    "df = pd.concat([df,df_amenities],axis=1)\n",
    "df = df.drop('amenities',axis=1)"
   ]
  },
  {
   "cell_type": "markdown",
   "metadata": {},
   "source": [
    "## Split the host verification in columns"
   ]
  },
  {
   "cell_type": "code",
   "execution_count": 21,
   "metadata": {
    "collapsed": false
   },
   "outputs": [
    {
     "data": {
      "text/plain": [
       "16             ['email', 'phone', 'reviews']\n",
       "17             ['email', 'phone', 'reviews']\n",
       "18             ['email', 'phone', 'reviews']\n",
       "19    ['email', 'phone', 'reviews', 'jumio']\n",
       "20                        ['email', 'phone']\n",
       "Name: host_verifications, dtype: object"
      ]
     },
     "execution_count": 21,
     "metadata": {},
     "output_type": "execute_result"
    }
   ],
   "source": [
    "df.host_verifications.head()"
   ]
  },
  {
   "cell_type": "code",
   "execution_count": 22,
   "metadata": {
    "collapsed": false
   },
   "outputs": [],
   "source": [
    "host_verifications2 = df.host_verifications.apply(lambda x: collections.Counter(literal_eval(x)))\n",
    "df_host_verifications = host_verifications2.apply(pd.Series)\n",
    "df_host_verifications.columns = ['host_verification_'+col for col in df_host_verifications.columns.tolist()]\n",
    "df_host_verifications = df_host_verifications.fillna(0)"
   ]
  },
  {
   "cell_type": "code",
   "execution_count": 23,
   "metadata": {
    "collapsed": false
   },
   "outputs": [
    {
     "name": "stdout",
     "output_type": "stream",
     "text": [
      "(10285, 167)\n"
     ]
    }
   ],
   "source": [
    "df = pd.concat([df,df_host_verifications],axis=1)\n",
    "df = df.drop('host_verifications',axis=1)\n",
    "\n",
    "print df.shape"
   ]
  },
  {
   "cell_type": "markdown",
   "metadata": {},
   "source": [
    "## Convert bed type to categories"
   ]
  },
  {
   "cell_type": "code",
   "execution_count": 24,
   "metadata": {
    "collapsed": false
   },
   "outputs": [],
   "source": [
    "df_bed_type = pd.get_dummies(df.bed_type)\n",
    "df_bed_type = remove_special_character(df_bed_type,'bed_type')"
   ]
  },
  {
   "cell_type": "code",
   "execution_count": 25,
   "metadata": {
    "collapsed": false
   },
   "outputs": [
    {
     "name": "stdout",
     "output_type": "stream",
     "text": [
      "(10285, 171)\n"
     ]
    }
   ],
   "source": [
    "df = pd.concat([df,df_bed_type],axis=1)\n",
    "df = df.drop('bed_type',axis=1)\n",
    "print df.shape"
   ]
  },
  {
   "cell_type": "markdown",
   "metadata": {},
   "source": [
    "### Convert neighbourhood_group_cleansed to categories"
   ]
  },
  {
   "cell_type": "code",
   "execution_count": 26,
   "metadata": {
    "collapsed": false
   },
   "outputs": [],
   "source": [
    "df_neighbourhood_group_cleansed = pd.get_dummies(df.neighbourhood_group_cleansed)\n",
    "df_neighbourhood_group_cleansed = remove_special_character(df_neighbourhood_group_cleansed,'neighbourhood_group_cleansed_')"
   ]
  },
  {
   "cell_type": "code",
   "execution_count": 27,
   "metadata": {
    "collapsed": false
   },
   "outputs": [
    {
     "name": "stdout",
     "output_type": "stream",
     "text": [
      "(10285, 182)\n"
     ]
    }
   ],
   "source": [
    "df = pd.concat([df,df_neighbourhood_group_cleansed],axis=1)\n",
    "df = df.drop('neighbourhood_group_cleansed',axis=1)\n",
    "print df.shape"
   ]
  },
  {
   "cell_type": "markdown",
   "metadata": {},
   "source": [
    "### Convert property_type to categories"
   ]
  },
  {
   "cell_type": "code",
   "execution_count": 28,
   "metadata": {
    "collapsed": false
   },
   "outputs": [],
   "source": [
    "df_property_type = pd.get_dummies(df.property_type)\n",
    "df_property_type = remove_special_character(df_property_type,'property_type_')"
   ]
  },
  {
   "cell_type": "code",
   "execution_count": 29,
   "metadata": {
    "collapsed": false
   },
   "outputs": [
    {
     "name": "stdout",
     "output_type": "stream",
     "text": [
      "(10285, 202)\n"
     ]
    }
   ],
   "source": [
    "df = pd.concat([df,df_property_type],axis=1)\n",
    "df = df.drop('property_type',axis=1)\n",
    "print df.shape"
   ]
  },
  {
   "cell_type": "markdown",
   "metadata": {},
   "source": [
    "### Convert cancellation policy to numeric"
   ]
  },
  {
   "cell_type": "code",
   "execution_count": 30,
   "metadata": {
    "collapsed": false
   },
   "outputs": [
    {
     "data": {
      "text/plain": [
       "array(['strict', 'flexible', 'moderate', 'super_strict_60'], dtype=object)"
      ]
     },
     "execution_count": 30,
     "metadata": {},
     "output_type": "execute_result"
    }
   ],
   "source": [
    "df.cancellation_policy.unique()"
   ]
  },
  {
   "cell_type": "code",
   "execution_count": 31,
   "metadata": {
    "collapsed": true
   },
   "outputs": [],
   "source": [
    "df.cancellation_policy = df.cancellation_policy.replace('flexible',0).replace('moderate',1).replace('strict',2).replace('super_strict_60',3)"
   ]
  },
  {
   "cell_type": "code",
   "execution_count": 32,
   "metadata": {
    "collapsed": false
   },
   "outputs": [
    {
     "data": {
      "text/plain": [
       "2    3670\n",
       "0    3481\n",
       "1    3133\n",
       "3       1\n",
       "Name: cancellation_policy, dtype: int64"
      ]
     },
     "execution_count": 32,
     "metadata": {},
     "output_type": "execute_result"
    }
   ],
   "source": [
    "df.cancellation_policy.value_counts()"
   ]
  },
  {
   "cell_type": "markdown",
   "metadata": {},
   "source": [
    "### Convert last update to days"
   ]
  },
  {
   "cell_type": "code",
   "execution_count": 33,
   "metadata": {
    "collapsed": false
   },
   "outputs": [],
   "source": [
    "def convert_last_update_to_days(x):\n",
    "    if 'today' in x:\n",
    "        return 0\n",
    "    elif 'yesterday' in x:\n",
    "        return 1\n",
    "    elif 'a week ago' in x:\n",
    "        return 7\n",
    "    elif 'week' in x:\n",
    "        return int(x.split(' ')[0])*7\n",
    "    elif 'month' in x:\n",
    "        return int(x.split(' ')[0])*30"
   ]
  },
  {
   "cell_type": "code",
   "execution_count": 34,
   "metadata": {
    "collapsed": false
   },
   "outputs": [],
   "source": [
    "df.last_update_days = df.calendar_updated.apply(convert_last_update_to_days)"
   ]
  },
  {
   "cell_type": "code",
   "execution_count": 35,
   "metadata": {
    "collapsed": false
   },
   "outputs": [],
   "source": [
    "df = df.drop('calendar_updated',axis=1)"
   ]
  },
  {
   "cell_type": "markdown",
   "metadata": {},
   "source": [
    "### Convert response time to days"
   ]
  },
  {
   "cell_type": "code",
   "execution_count": 36,
   "metadata": {
    "collapsed": false
   },
   "outputs": [],
   "source": [
    "df.host_response_time = df.host_response_time.replace({'within a few hours':4,'within a day':24,'within an hour':1,'a few days or more':48})"
   ]
  },
  {
   "cell_type": "markdown",
   "metadata": {},
   "source": [
    "### Convert response rate to integer"
   ]
  },
  {
   "cell_type": "code",
   "execution_count": 37,
   "metadata": {
    "collapsed": false
   },
   "outputs": [],
   "source": [
    "df.host_response_rate = df.host_response_rate.apply(lambda x : float(str(x).strip('%')))\n"
   ]
  },
  {
   "cell_type": "markdown",
   "metadata": {},
   "source": [
    "## Convert price to float"
   ]
  },
  {
   "cell_type": "code",
   "execution_count": 38,
   "metadata": {
    "collapsed": false
   },
   "outputs": [],
   "source": [
    "df.price=df.price.replace( '[\\$,)]','', regex=True ).replace( '[(]','-',regex=True ).astype(float)\n",
    "#df.weekly_price=df.weekly_price.replace( '[\\$,)]','', regex=True ).replace( '[(]','-',regex=True ).astype(float)\n",
    "#df.monthly_price=df.monthly_price.replace( '[\\$,)]','', regex=True ).replace( '[(]','-',regex=True ).astype(float)\n",
    "#df.security_deposit=df.security_deposit.replace( '[\\$,)]','', regex=True ).replace( '[(]','-',regex=True ).astype(float)\n",
    "#df.cleaning_fee=df.cleaning_fee.replace( '[\\$,)]','', regex=True ).replace( '[(]','-',regex=True ).astype(float)\n",
    "df.extra_people=df.extra_people.replace( '[\\$,)]','', regex=True ).replace( '[(]','-',regex=True ).astype(float)\n"
   ]
  },
  {
   "cell_type": "markdown",
   "metadata": {},
   "source": [
    "## Convert boolean to integer"
   ]
  },
  {
   "cell_type": "code",
   "execution_count": 39,
   "metadata": {
    "collapsed": false
   },
   "outputs": [],
   "source": [
    "df['host_has_profile_pic']=(df.host_has_profile_pic=='t')*1\n",
    "df['host_identity_verified']=(df.host_identity_verified=='t')*1\n",
    "df['is_location_exact']=(df.is_location_exact=='t')*1\n",
    "df['instant_bookable']=(df.instant_bookable=='t')*1\n",
    "df['require_guest_profile_picture']=(df.require_guest_profile_picture=='t')*1\n",
    "df['require_guest_phone_verification']=(df.require_guest_phone_verification=='t')*1\n",
    "df['host_is_superhost']=(df.host_is_superhost=='t')*1\n"
   ]
  },
  {
   "cell_type": "markdown",
   "metadata": {},
   "source": [
    "## Convert last review and first review into numbers of day"
   ]
  },
  {
   "cell_type": "code",
   "execution_count": 40,
   "metadata": {
    "collapsed": false
   },
   "outputs": [],
   "source": [
    "df.last_review = date.today()-pd.to_datetime(df.last_review)\n",
    "df.first_review = date.today()-pd.to_datetime(df.first_review)\n",
    "df.host_since = date.today()-pd.to_datetime(df.host_since)\n",
    "\n",
    "\n",
    "df.last_review = df.last_review.apply(lambda x: x / np.timedelta64(1,'D'))\n",
    "df.first_review = df.first_review.apply(lambda x: x / np.timedelta64(1,'D'))\n",
    "df.host_since = df.host_since.apply(lambda x: x / np.timedelta64(1,'D'))"
   ]
  },
  {
   "cell_type": "markdown",
   "metadata": {},
   "source": [
    "### Add previous month availability\n"
   ]
  },
  {
   "cell_type": "code",
   "execution_count": 41,
   "metadata": {
    "collapsed": true
   },
   "outputs": [],
   "source": [
    "df_previous = pd.read_csv('data/listings_april_2017.csv')\n",
    "\n",
    "df_previous=df_previous[['id','availability_365','availability_30','availability_60','availability_90']]\n",
    "\n",
    "df_previous.columns = ['id','availability_365_previous_month','availability_30_previous_month','availability_60_previous_month','availability_90_previous_month']\n",
    "\n",
    "df = pd.merge(df,df_previous, on='id')"
   ]
  },
  {
   "cell_type": "code",
   "execution_count": 42,
   "metadata": {
    "collapsed": false
   },
   "outputs": [],
   "source": [
    "def get_unique(x):    \n",
    "    return type(x.values[1]),x.unique()\n",
    "\n",
    "def rstr(df):\n",
    "    return df.apply(get_unique)"
   ]
  },
  {
   "cell_type": "markdown",
   "metadata": {},
   "source": [
    "### Finally, combine the clean data with the text features"
   ]
  },
  {
   "cell_type": "code",
   "execution_count": 43,
   "metadata": {
    "collapsed": false
   },
   "outputs": [],
   "source": [
    "df = pd.merge(df,df_text_features,on='id', suffixes=('', '_text'))"
   ]
  },
  {
   "cell_type": "code",
   "execution_count": 44,
   "metadata": {
    "collapsed": false
   },
   "outputs": [
    {
     "data": {
      "text/plain": [
       "id                                  (<type 'long'>, [16682014, 15767215, 115576, 7...\n",
       "host_name                           (<type 'str'>, [Julia, Andre, Axel, Claudia, K...\n",
       "host_since                          (<type 'float'>, [192.0, 725.0, 2259.0, 730.0,...\n",
       "host_response_time                      (<type 'float'>, [1.0, 4.0, nan, 24.0, 48.0])\n",
       "host_response_rate                  (<type 'float'>, [100.0, nan, 67.0, 50.0, 90.0...\n",
       "host_is_superhost                                             (<type 'long'>, [0, 1])\n",
       "host_listings_count                 (<type 'float'>, [3.0, 1.0, 2.0, 4.0, 6.0, 17....\n",
       "host_has_profile_pic                                          (<type 'long'>, [1, 0])\n",
       "host_identity_verified                                        (<type 'long'>, [0, 1])\n",
       "latitude                            (<type 'float'>, [52.5828880716, 52.5875182848...\n",
       "longitude                           (<type 'float'>, [13.3961389176, 13.4012952707...\n",
       "is_location_exact                                             (<type 'long'>, [0, 1])\n",
       "accommodates                        (<type 'long'>, [6, 4, 2, 5, 3, 8, 1, 12, 10, ...\n",
       "bathrooms                           (<type 'float'>, [2.0, 1.0, 1.5, nan, 2.5, 3.0...\n",
       "bedrooms                            (<type 'float'>, [3.0, 2.0, 1.0, 4.0, 0.0, 5.0...\n",
       "beds                                (<type 'float'>, [5.0, 2.0, 4.0, 1.0, 3.0, 6.0...\n",
       "price                               (<type 'float'>, [56.0, 45.0, 69.0, 80.0, 75.0...\n",
       "guests_included                     (<type 'long'>, [2, 4, 1, 3, 15, 6, 10, 8, 7, ...\n",
       "extra_people                        (<type 'float'>, [5.0, 15.0, 20.0, 0.0, 8.0, 1...\n",
       "minimum_nights                      (<type 'long'>, [3, 2, 1, 18, 5, 4, 60, 13, 20...\n",
       "maximum_nights                      (<type 'long'>, [14, 1125, 30, 365, 7, 18, 5, ...\n",
       "availability_30                     (<type 'long'>, [2, 12, 0, 3, 26, 29, 15, 5, 4...\n",
       "availability_60                     (<type 'long'>, [5, 18, 26, 9, 0, 20, 56, 59, ...\n",
       "availability_90                     (<type 'long'>, [5, 18, 36, 15, 0, 30, 86, 45,...\n",
       "availability_365                    (<type 'long'>, [134, 263, 264, 30, 0, 361, 35...\n",
       "number_of_reviews                   (<type 'long'>, [0, 3, 2, 13, 1, 8, 4, 21, 128...\n",
       "first_review                        (<type 'float'>, [nan, 224.0, 1423.0, 690.0, 1...\n",
       "last_review                         (<type 'float'>, [nan, 129.0, 1079.0, 93.0, 11...\n",
       "review_scores_rating                (<type 'float'>, [nan, 87.0, 100.0, 40.0, 88.0...\n",
       "review_scores_accuracy              (<type 'float'>, [nan, 9.0, 10.0, 6.0, 8.0, 7....\n",
       "                                                          ...                        \n",
       "property_type__Guestsuite                                      (<type 'int'>, [0, 1])\n",
       "property_type__Guesthouse                                      (<type 'int'>, [0, 1])\n",
       "property_type__Hostel                                          (<type 'int'>, [0, 1])\n",
       "property_type__House                                           (<type 'int'>, [0, 1])\n",
       "property_type__Inlaw                                              (<type 'int'>, [0])\n",
       "property_type__Loft                                            (<type 'int'>, [0, 1])\n",
       "property_type__Naturelodge                                     (<type 'int'>, [0, 1])\n",
       "property_type__Other                                           (<type 'int'>, [0, 1])\n",
       "property_type__Servicedapartment                               (<type 'int'>, [0, 1])\n",
       "property_type__Timeshare                                       (<type 'int'>, [0, 1])\n",
       "property_type__Townhouse                                       (<type 'int'>, [0, 1])\n",
       "property_type__Vacationhome                                       (<type 'int'>, [0])\n",
       "property_type__Villa                                           (<type 'int'>, [0, 1])\n",
       "availability_365_previous_month     (<type 'long'>, [104, 261, 255, 38, 0, 50, 363...\n",
       "availability_30_previous_month      (<type 'long'>, [0, 3, 11, 8, 28, 30, 15, 19, ...\n",
       "availability_60_previous_month      (<type 'long'>, [2, 17, 23, 13, 0, 12, 58, 60,...\n",
       "availability_90_previous_month      (<type 'long'>, [5, 33, 37, 17, 0, 42, 88, 90,...\n",
       "text_name                           (<type 'str'>, [Zuhause im Glück, 60m² mitten ...\n",
       "text_summary                        (<type 'str'>, [Meine Unterkunft ist in der Nä...\n",
       "text_space                          (<type 'str'>, [nan, Nach einer schönen Tour d...\n",
       "text_description                    (<type 'str'>, [Meine Unterkunft ist in der Nä...\n",
       "text_experiences_offered                                       (<type 'str'>, [none])\n",
       "text_neighborhood_overview          (<type 'str'>, [nan, Die Wohnung befindet sich...\n",
       "text_notes                          (<type 'str'>, [nan, Bitte beachten Sie, dass ...\n",
       "text_transit                        (<type 'str'>, [nan, Sehr gute Anbindung an de...\n",
       "text_access                         (<type 'str'>, [nan, Ihr dürft die komplette W...\n",
       "text_interaction                    (<type 'str'>, [nan, Während Deines Aufenthalt...\n",
       "text_house_rules                    (<type 'str'>, [nan, non smoking area! Garden ...\n",
       "text_host_about                     (<type 'str'>, [nan, I love my wife and three ...\n",
       "text_language                       (<type 'str'>, [de, en, es, fr, nl, tl, it, zh...\n",
       "Length: 218, dtype: object"
      ]
     },
     "execution_count": 44,
     "metadata": {},
     "output_type": "execute_result"
    }
   ],
   "source": [
    "rstr(df)"
   ]
  },
  {
   "cell_type": "markdown",
   "metadata": {},
   "source": [
    "### Save to .csv"
   ]
  },
  {
   "cell_type": "code",
   "execution_count": 45,
   "metadata": {
    "collapsed": false
   },
   "outputs": [],
   "source": [
    "df.to_csv('data/listing_cleansed.csv',index=False)"
   ]
  }
 ],
 "metadata": {
  "anaconda-cloud": {},
  "kernelspec": {
   "display_name": "Python [conda root]",
   "language": "python",
   "name": "conda-root-py"
  },
  "language_info": {
   "codemirror_mode": {
    "name": "ipython",
    "version": 2
   },
   "file_extension": ".py",
   "mimetype": "text/x-python",
   "name": "python",
   "nbconvert_exporter": "python",
   "pygments_lexer": "ipython2",
   "version": "2.7.12"
  }
 },
 "nbformat": 4,
 "nbformat_minor": 1
}
