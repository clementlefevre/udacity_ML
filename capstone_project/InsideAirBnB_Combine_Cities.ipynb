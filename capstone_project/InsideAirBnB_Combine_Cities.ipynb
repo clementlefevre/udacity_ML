{
 "cells": [
  {
   "cell_type": "code",
   "execution_count": 1,
   "metadata": {
    "collapsed": false
   },
   "outputs": [
    {
     "name": "stderr",
     "output_type": "stream",
     "text": [
      "/home/ramon/anaconda2/lib/python2.7/site-packages/ggplot/utils.py:81: FutureWarning: pandas.tslib is deprecated and will be removed in a future version.\n",
      "You can access Timestamp as pandas.Timestamp\n",
      "  pd.tslib.Timestamp,\n",
      "/home/ramon/anaconda2/lib/python2.7/site-packages/ggplot/stats/smoothers.py:4: FutureWarning: The pandas.lib module is deprecated and will be removed in a future version. These are private functions and can be accessed from pandas._libs.lib instead\n",
      "  from pandas.lib import Timestamp\n",
      "/home/ramon/anaconda2/lib/python2.7/site-packages/statsmodels/compat/pandas.py:56: FutureWarning: The pandas.core.datetools module is deprecated and will be removed in a future version. Please use the pandas.tseries module instead.\n",
      "  from pandas.core import datetools\n"
     ]
    }
   ],
   "source": [
    "%matplotlib inline\n",
    "from os import listdir\n",
    "from os.path import isfile, join\n",
    "import numpy as np\n",
    "import pandas as pd\n",
    "from  ggplot import *"
   ]
  },
  {
   "cell_type": "markdown",
   "metadata": {},
   "source": [
    "Read all files names"
   ]
  },
  {
   "cell_type": "code",
   "execution_count": 2,
   "metadata": {
    "collapsed": true
   },
   "outputs": [],
   "source": [
    "col_interest =['id', 'host_id', 'host_since',\n",
    "       'host_listings_count', 'host_total_listings_count',\n",
    "       'property_type', 'room_type', 'bathrooms',\n",
    "       'bedrooms', 'beds', 'price', 'calendar_updated', 'availability_30',\n",
    "       'availability_60', 'availability_90', 'availability_365',\n",
    "       'number_of_reviews', 'first_review', 'last_review',\n",
    "       'review_scores_rating', 'review_scores_accuracy',\n",
    "       'review_scores_cleanliness', 'review_scores_checkin',\n",
    "       'review_scores_communication', 'review_scores_location',\n",
    "       'review_scores_value', 'reviews_per_month']"
   ]
  },
  {
   "cell_type": "code",
   "execution_count": 41,
   "metadata": {
    "collapsed": false
   },
   "outputs": [],
   "source": [
    "def combine_cities():\n",
    "    local_files =  [join('data/benchmark_capitals/',f) for f in listdir('data/benchmark_capitals/') if isfile(join('data/benchmark_capitals/', f))]\n",
    "    local_files = [f for f in local_files if \"all_\" not in f]\n",
    "    df_all_cities = pd.DataFrame()\n",
    "    print local_files\n",
    "\n",
    "    \n",
    "    for cities in local_files:\n",
    "        city_name =  cities.split('_')[2].split('.')[0]\n",
    "        df = pd.read_csv(cities)\n",
    "        df = df[col_interest]\n",
    "        df.price = df.price.astype(str)\n",
    "        df.price= df.price.str.replace('[$,]','')\n",
    "        df['city']=city_name.title()\n",
    "        df_all_cities =pd.concat([df_all_cities,df],axis=0)\n",
    "    return df_all_cities"
   ]
  },
  {
   "cell_type": "code",
   "execution_count": 42,
   "metadata": {
    "collapsed": false
   },
   "outputs": [
    {
     "name": "stdout",
     "output_type": "stream",
     "text": [
      "['data/benchmark_capitals/listings_barcelona.csv', 'data/benchmark_capitals/listings_antwerp.csv', 'data/benchmark_capitals/listings_athens.csv', 'data/benchmark_capitals/listings_madrid.csv', 'data/benchmark_capitals/listings_london.csv', 'data/benchmark_capitals/listings_geneva.csv', 'data/benchmark_capitals/listings_venice.csv', 'data/benchmark_capitals/listings_roma.csv', 'data/benchmark_capitals/listings_dublin.csv', 'data/benchmark_capitals/listings_amsterdam.csv', 'data/benchmark_capitals/listings_vienna.csv', 'data/benchmark_capitals/listings_paris.csv', 'data/benchmark_capitals/listings_berlin.csv', 'data/benchmark_capitals/listings_brussels.csv']\n"
     ]
    }
   ],
   "source": [
    "df = combine_cities()\n",
    "df.to_csv('data/benchmark_capitals/all_listings.csv',index=False)"
   ]
  },
  {
   "cell_type": "code",
   "execution_count": 40,
   "metadata": {
    "collapsed": false
   },
   "outputs": [
    {
     "data": {
      "text/plain": [
       "0"
      ]
     },
     "execution_count": 40,
     "metadata": {},
     "output_type": "execute_result"
    }
   ],
   "source": [
    "np.sum(pd.to_numeric(df.price).isnull())\n"
   ]
  },
  {
   "cell_type": "code",
   "execution_count": 27,
   "metadata": {
    "collapsed": false
   },
   "outputs": [
    {
     "data": {
      "text/html": [
       "<div>\n",
       "<style>\n",
       "    .dataframe thead tr:only-child th {\n",
       "        text-align: right;\n",
       "    }\n",
       "\n",
       "    .dataframe thead th {\n",
       "        text-align: left;\n",
       "    }\n",
       "\n",
       "    .dataframe tbody tr th {\n",
       "        vertical-align: top;\n",
       "    }\n",
       "</style>\n",
       "<table border=\"1\" class=\"dataframe\">\n",
       "  <thead>\n",
       "    <tr style=\"text-align: right;\">\n",
       "      <th></th>\n",
       "      <th>id</th>\n",
       "      <th>host_id</th>\n",
       "      <th>host_since</th>\n",
       "      <th>host_listings_count</th>\n",
       "      <th>host_total_listings_count</th>\n",
       "      <th>property_type</th>\n",
       "      <th>room_type</th>\n",
       "      <th>bathrooms</th>\n",
       "      <th>bedrooms</th>\n",
       "      <th>beds</th>\n",
       "      <th>...</th>\n",
       "      <th>last_review</th>\n",
       "      <th>review_scores_rating</th>\n",
       "      <th>review_scores_accuracy</th>\n",
       "      <th>review_scores_cleanliness</th>\n",
       "      <th>review_scores_checkin</th>\n",
       "      <th>review_scores_communication</th>\n",
       "      <th>review_scores_location</th>\n",
       "      <th>review_scores_value</th>\n",
       "      <th>reviews_per_month</th>\n",
       "      <th>city</th>\n",
       "    </tr>\n",
       "  </thead>\n",
       "  <tbody>\n",
       "    <tr>\n",
       "      <th>18147</th>\n",
       "      <td>15395696</td>\n",
       "      <td>2164</td>\n",
       "      <td>2008-08-16</td>\n",
       "      <td>2.0</td>\n",
       "      <td>2.0</td>\n",
       "      <td>Loft</td>\n",
       "      <td>Entire home/apt</td>\n",
       "      <td>1.0</td>\n",
       "      <td>0.0</td>\n",
       "      <td>1.0</td>\n",
       "      <td>...</td>\n",
       "      <td>2017-04-15</td>\n",
       "      <td>70.0</td>\n",
       "      <td>10.0</td>\n",
       "      <td>8.0</td>\n",
       "      <td>10.0</td>\n",
       "      <td>9.0</td>\n",
       "      <td>8.0</td>\n",
       "      <td>10.0</td>\n",
       "      <td>1.54</td>\n",
       "      <td>berlin</td>\n",
       "    </tr>\n",
       "  </tbody>\n",
       "</table>\n",
       "<p>1 rows × 28 columns</p>\n",
       "</div>"
      ],
      "text/plain": [
       "             id  host_id  host_since  host_listings_count  \\\n",
       "18147  15395696     2164  2008-08-16                  2.0   \n",
       "\n",
       "       host_total_listings_count property_type        room_type  bathrooms  \\\n",
       "18147                        2.0          Loft  Entire home/apt        1.0   \n",
       "\n",
       "       bedrooms  beds   ...    last_review review_scores_rating  \\\n",
       "18147       0.0   1.0   ...     2017-04-15                 70.0   \n",
       "\n",
       "       review_scores_accuracy  review_scores_cleanliness  \\\n",
       "18147                    10.0                        8.0   \n",
       "\n",
       "       review_scores_checkin  review_scores_communication  \\\n",
       "18147                   10.0                          9.0   \n",
       "\n",
       "       review_scores_location review_scores_value reviews_per_month    city  \n",
       "18147                     8.0                10.0              1.54  berlin  \n",
       "\n",
       "[1 rows x 28 columns]"
      ]
     },
     "execution_count": 27,
     "metadata": {},
     "output_type": "execute_result"
    }
   ],
   "source": [
    "df[df['id']==15395696]"
   ]
  },
  {
   "cell_type": "code",
   "execution_count": 6,
   "metadata": {
    "collapsed": false
   },
   "outputs": [
    {
     "data": {
      "text/plain": [
       "(264795, 28)"
      ]
     },
     "execution_count": 6,
     "metadata": {},
     "output_type": "execute_result"
    }
   ],
   "source": [
    "df.shape"
   ]
  },
  {
   "cell_type": "code",
   "execution_count": 7,
   "metadata": {
    "collapsed": true
   },
   "outputs": [],
   "source": [
    "def is_professional(x):\n",
    "    return (np.mean((x!=0)&(x<25))*100.0)"
   ]
  },
  {
   "cell_type": "code",
   "execution_count": 9,
   "metadata": {
    "collapsed": false
   },
   "outputs": [
    {
     "name": "stderr",
     "output_type": "stream",
     "text": [
      "/home/ramon/anaconda2/lib/python2.7/site-packages/pandas/core/groupby.py:4036: FutureWarning: using a dict with renaming is deprecated and will be removed in a future version\n",
      "  return super(DataFrameGroupBy, self).aggregate(arg, *args, **kwargs)\n"
     ]
    }
   ],
   "source": [
    "df_out = df.groupby('room_type').agg({'availability_30':{\"mean_availability_30\":np.mean, 'ratio_professional': is_professional}, \"reviews_per_month\":{'average_reviews_per_month':'mean'}, 'price':{'mean_price':'mean'}})[['availability_30','reviews_per_month','price']]"
   ]
  },
  {
   "cell_type": "code",
   "execution_count": 10,
   "metadata": {
    "collapsed": false
   },
   "outputs": [
    {
     "data": {
      "text/html": [
       "<div>\n",
       "<style>\n",
       "    .dataframe thead tr:only-child th {\n",
       "        text-align: right;\n",
       "    }\n",
       "\n",
       "    .dataframe thead th {\n",
       "        text-align: left;\n",
       "    }\n",
       "\n",
       "    .dataframe tbody tr th {\n",
       "        vertical-align: top;\n",
       "    }\n",
       "</style>\n",
       "<table border=\"1\" class=\"dataframe\">\n",
       "  <thead>\n",
       "    <tr style=\"text-align: right;\">\n",
       "      <th></th>\n",
       "      <th>ratio_professional</th>\n",
       "      <th>mean_availability_30</th>\n",
       "      <th>average_reviews_per_month</th>\n",
       "      <th>mean_price</th>\n",
       "    </tr>\n",
       "    <tr>\n",
       "      <th>room_type</th>\n",
       "      <th></th>\n",
       "      <th></th>\n",
       "      <th></th>\n",
       "      <th></th>\n",
       "    </tr>\n",
       "  </thead>\n",
       "  <tbody>\n",
       "    <tr>\n",
       "      <th>Entire home/apt</th>\n",
       "      <td>72.093810</td>\n",
       "      <td>5.862104</td>\n",
       "      <td>1.450000</td>\n",
       "      <td>138.252678</td>\n",
       "    </tr>\n",
       "    <tr>\n",
       "      <th>Private room</th>\n",
       "      <td>57.074703</td>\n",
       "      <td>9.436118</td>\n",
       "      <td>1.669483</td>\n",
       "      <td>45.480451</td>\n",
       "    </tr>\n",
       "    <tr>\n",
       "      <th>Shared room</th>\n",
       "      <td>52.631579</td>\n",
       "      <td>15.447368</td>\n",
       "      <td>1.287581</td>\n",
       "      <td>45.710526</td>\n",
       "    </tr>\n",
       "  </tbody>\n",
       "</table>\n",
       "</div>"
      ],
      "text/plain": [
       "                 ratio_professional  mean_availability_30  \\\n",
       "room_type                                                   \n",
       "Entire home/apt           72.093810              5.862104   \n",
       "Private room              57.074703              9.436118   \n",
       "Shared room               52.631579             15.447368   \n",
       "\n",
       "                 average_reviews_per_month  mean_price  \n",
       "room_type                                               \n",
       "Entire home/apt                   1.450000  138.252678  \n",
       "Private room                      1.669483   45.480451  \n",
       "Shared room                       1.287581   45.710526  "
      ]
     },
     "execution_count": 10,
     "metadata": {},
     "output_type": "execute_result"
    }
   ],
   "source": [
    "df_out.columns = df_out.columns.droplevel(0)\n",
    "df_out"
   ]
  },
  {
   "cell_type": "code",
   "execution_count": 11,
   "metadata": {
    "collapsed": true
   },
   "outputs": [],
   "source": [
    "df_berlin = pd.read_csv('data/benchmark_capitals/listings_berlin.csv')"
   ]
  },
  {
   "cell_type": "code",
   "execution_count": null,
   "metadata": {
    "collapsed": false
   },
   "outputs": [],
   "source": [
    "pd.to_datetime(df_berlin.host_since).hist()"
   ]
  },
  {
   "cell_type": "code",
   "execution_count": null,
   "metadata": {
    "collapsed": false
   },
   "outputs": [],
   "source": [
    "(pd.to_datetime(df_berlin.host_since)).idxmin()"
   ]
  },
  {
   "cell_type": "code",
   "execution_count": 12,
   "metadata": {
    "collapsed": false
   },
   "outputs": [
    {
     "data": {
      "text/plain": [
       "id                                                                           15395696\n",
       "listing_url                                     https://www.airbnb.com/rooms/15395696\n",
       "scrape_id                                                              20170507222235\n",
       "last_scraped                                                               2017-05-08\n",
       "name                                 spacious and bright artist's live-in studio loft\n",
       "summary                             You’ll love my place because of the high ceili...\n",
       "space                               One large space of 70 m2, bright, friendly and...\n",
       "description                         You’ll love my place because of the high ceili...\n",
       "experiences_offered                                                              none\n",
       "neighborhood_overview                                                             NaN\n",
       "notes                                                                             NaN\n",
       "transit                             The loft is close to Ubahns, Trams and Sbahns,...\n",
       "access                              You will hjave the entire place for yourself d...\n",
       "interaction                         I live nearby and you can call or text me if t...\n",
       "house_rules                                                                       NaN\n",
       "thumbnail_url                       https://a0.muscache.com/im/pictures/5a8588f3-c...\n",
       "medium_url                          https://a0.muscache.com/im/pictures/5a8588f3-c...\n",
       "picture_url                         https://a0.muscache.com/im/pictures/5a8588f3-c...\n",
       "xl_picture_url                      https://a0.muscache.com/im/pictures/5a8588f3-c...\n",
       "host_id                                                                          2164\n",
       "host_url                                       https://www.airbnb.com/users/show/2164\n",
       "host_name                                                                       Lulah\n",
       "host_since                                                                 2008-08-16\n",
       "host_location                                                 Berlin, Berlin, Germany\n",
       "host_about                          I'm an American artist living in Berlin for 24...\n",
       "host_response_time                                                       within a day\n",
       "host_response_rate                                                                80%\n",
       "host_acceptance_rate                                                              NaN\n",
       "host_is_superhost                                                                   f\n",
       "host_thumbnail_url                  https://a0.muscache.com/im/users/2164/profile_...\n",
       "                                                          ...                        \n",
       "guests_included                                                                     1\n",
       "extra_people                                                                    $0.00\n",
       "minimum_nights                                                                      4\n",
       "maximum_nights                                                                   1125\n",
       "calendar_updated                                                          3 weeks ago\n",
       "has_availability                                                                  NaN\n",
       "availability_30                                                                     0\n",
       "availability_60                                                                     0\n",
       "availability_90                                                                     0\n",
       "availability_365                                                                   49\n",
       "calendar_last_scraped                                                      2017-05-08\n",
       "number_of_reviews                                                                   2\n",
       "first_review                                                               2017-03-31\n",
       "last_review                                                                2017-04-15\n",
       "review_scores_rating                                                               70\n",
       "review_scores_accuracy                                                             10\n",
       "review_scores_cleanliness                                                           8\n",
       "review_scores_checkin                                                              10\n",
       "review_scores_communication                                                         9\n",
       "review_scores_location                                                              8\n",
       "review_scores_value                                                                10\n",
       "requires_license                                                                    f\n",
       "license                                                                           NaN\n",
       "jurisdiction_names                                                                NaN\n",
       "instant_bookable                                                                    f\n",
       "cancellation_policy                                                          moderate\n",
       "require_guest_profile_picture                                                       f\n",
       "require_guest_phone_verification                                                    f\n",
       "calculated_host_listings_count                                                      1\n",
       "reviews_per_month                                                                1.54\n",
       "Name: 18147, Length: 95, dtype: object"
      ]
     },
     "execution_count": 12,
     "metadata": {},
     "output_type": "execute_result"
    }
   ],
   "source": [
    "df_berlin.iloc[18147]"
   ]
  },
  {
   "cell_type": "code",
   "execution_count": null,
   "metadata": {
    "collapsed": false
   },
   "outputs": [],
   "source": [
    "df_berlin.host_since.max()"
   ]
  },
  {
   "cell_type": "code",
   "execution_count": null,
   "metadata": {
    "collapsed": false
   },
   "outputs": [],
   "source": [
    "np.mean(df_berlin.availability_30.isnull())"
   ]
  },
  {
   "cell_type": "code",
   "execution_count": null,
   "metadata": {
    "collapsed": false
   },
   "outputs": [],
   "source": [
    "df_berlin['occupancy_rate'] = (30-df_berlin[df_berlin.availability_30>0].availability_30)*100.0//30.0\n",
    "df_berlin.occupancy_rate.hist()"
   ]
  },
  {
   "cell_type": "code",
   "execution_count": null,
   "metadata": {
    "collapsed": false
   },
   "outputs": [],
   "source": [
    "ggplot(df_berlin,aes(x='occupancy_rate',y='reviews_per_month'))+ geom_boxplot()"
   ]
  },
  {
   "cell_type": "code",
   "execution_count": null,
   "metadata": {
    "collapsed": false
   },
   "outputs": [],
   "source": [
    "df_berlin.last_review = pd.to_datetime(df_berlin.last_review)"
   ]
  },
  {
   "cell_type": "code",
   "execution_count": null,
   "metadata": {
    "collapsed": false
   },
   "outputs": [],
   "source": [
    "t_zero =df_berlin.last_review.max()"
   ]
  },
  {
   "cell_type": "code",
   "execution_count": null,
   "metadata": {
    "collapsed": true
   },
   "outputs": [],
   "source": [
    "df_berlin['days_since_last_review']= (t_zero-df_berlin.last_review).dt.days"
   ]
  },
  {
   "cell_type": "code",
   "execution_count": null,
   "metadata": {
    "collapsed": false
   },
   "outputs": [],
   "source": [
    "df_berlin['is_active_host']= df_berlin.days_since_last_review<10"
   ]
  },
  {
   "cell_type": "code",
   "execution_count": null,
   "metadata": {
    "collapsed": false
   },
   "outputs": [],
   "source": [
    "df_berlin.groupby('room_type')[['is_active_host']].mean()"
   ]
  },
  {
   "cell_type": "code",
   "execution_count": null,
   "metadata": {
    "collapsed": false
   },
   "outputs": [],
   "source": [
    "pd.DataFrame(df_berlin.isnull().sum()/len(df_berlin)*100,columns=['ratio_missing']).sort_values(by=)"
   ]
  },
  {
   "cell_type": "code",
   "execution_count": null,
   "metadata": {
    "collapsed": false
   },
   "outputs": [],
   "source": [
    "df_berlin_cleansed = pd.read_csv('data/listing_cleansed.csv')\n",
    "df_berlin_cleansed.shape"
   ]
  }
 ],
 "metadata": {
  "anaconda-cloud": {},
  "kernelspec": {
   "display_name": "Python [conda root]",
   "language": "python",
   "name": "conda-root-py"
  },
  "language_info": {
   "codemirror_mode": {
    "name": "ipython",
    "version": 2
   },
   "file_extension": ".py",
   "mimetype": "text/x-python",
   "name": "python",
   "nbconvert_exporter": "python",
   "pygments_lexer": "ipython2",
   "version": "2.7.12"
  }
 },
 "nbformat": 4,
 "nbformat_minor": 2
}
