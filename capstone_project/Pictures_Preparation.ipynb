{
 "cells": [
  {
   "cell_type": "markdown",
   "metadata": {},
   "source": [
    "# Data preparation : 1c, picture processing"
   ]
  },
  {
   "cell_type": "markdown",
   "metadata": {},
   "source": [
    "In this notebook, we store the appartments pictures for the highly rented full AirBnB appartments, then :\n",
    "\n",
    "- compute the brightness qnd contrast, \n",
    "- convert them into greyscale numpy array and reduce its dimensionality,\n",
    "- compute the top 5 RGB colours for each picture.\n",
    "\n",
    "Finally, all those infos are stored into a Dataframe."
   ]
  },
  {
   "cell_type": "code",
   "execution_count": 4,
   "metadata": {
    "collapsed": false
   },
   "outputs": [
    {
     "name": "stderr",
     "output_type": "stream",
     "text": [
      "/home/ramon/anaconda2/lib/python2.7/site-packages/ggplot/utils.py:81: FutureWarning: pandas.tslib is deprecated and will be removed in a future version.\n",
      "You can access Timestamp as pandas.Timestamp\n",
      "  pd.tslib.Timestamp,\n",
      "/home/ramon/anaconda2/lib/python2.7/site-packages/ggplot/stats/smoothers.py:4: FutureWarning: The pandas.lib module is deprecated and will be removed in a future version. These are private functions and can be accessed from pandas._libs.lib instead\n",
      "  from pandas.lib import Timestamp\n",
      "/home/ramon/anaconda2/lib/python2.7/site-packages/statsmodels/compat/pandas.py:56: FutureWarning: The pandas.core.datetools module is deprecated and will be removed in a future version. Please use the pandas.tseries module instead.\n",
      "  from pandas.core import datetools\n"
     ]
    }
   ],
   "source": [
    "%matplotlib inline\n",
    "\n",
    "from os import listdir\n",
    "from os.path import isfile, join\n",
    "\n",
    "import matplotlib.pyplot as plt\n",
    "\n",
    "from pylab import rcParams\n",
    "import numpy as np\n",
    "import pandas as pd\n",
    "from ggplot import *\n",
    "\n",
    "import scipy\n",
    "import scipy.misc\n",
    "import scipy.cluster\n",
    "\n",
    "from sklearn.decomposition import PCA\n",
    "from sklearn.preprocessing import scale\n",
    "\n",
    "\n",
    "from PIL import Image, ImageFilter\n",
    "import urllib"
   ]
  },
  {
   "cell_type": "markdown",
   "metadata": {},
   "source": [
    "## Create a list of appart ID / picture urls"
   ]
  },
  {
   "cell_type": "code",
   "execution_count": 8,
   "metadata": {
    "collapsed": true
   },
   "outputs": [],
   "source": [
    "df_listing_high_renter = pd.read_csv('data/df_listing_high_renter.csv')"
   ]
  },
  {
   "cell_type": "code",
   "execution_count": 29,
   "metadata": {
    "collapsed": false
   },
   "outputs": [
    {
     "data": {
      "text/html": [
       "<div>\n",
       "<style>\n",
       "    .dataframe thead tr:only-child th {\n",
       "        text-align: right;\n",
       "    }\n",
       "\n",
       "    .dataframe thead th {\n",
       "        text-align: left;\n",
       "    }\n",
       "\n",
       "    .dataframe tbody tr th {\n",
       "        vertical-align: top;\n",
       "    }\n",
       "</style>\n",
       "<table border=\"1\" class=\"dataframe\">\n",
       "  <thead>\n",
       "    <tr style=\"text-align: right;\">\n",
       "      <th></th>\n",
       "      <th>18254</th>\n",
       "    </tr>\n",
       "  </thead>\n",
       "  <tbody>\n",
       "    <tr>\n",
       "      <th>listing_url</th>\n",
       "      <td>https://www.airbnb.com/rooms/4106583</td>\n",
       "    </tr>\n",
       "    <tr>\n",
       "      <th>thumbnail_url</th>\n",
       "      <td>https://a0.muscache.com/im/pictures/52427497/3...</td>\n",
       "    </tr>\n",
       "    <tr>\n",
       "      <th>medium_url</th>\n",
       "      <td>https://a0.muscache.com/im/pictures/52427497/3...</td>\n",
       "    </tr>\n",
       "    <tr>\n",
       "      <th>picture_url</th>\n",
       "      <td>https://a0.muscache.com/im/pictures/52427497/3...</td>\n",
       "    </tr>\n",
       "    <tr>\n",
       "      <th>xl_picture_url</th>\n",
       "      <td>https://a0.muscache.com/im/pictures/52427497/3...</td>\n",
       "    </tr>\n",
       "    <tr>\n",
       "      <th>host_url</th>\n",
       "      <td>https://www.airbnb.com/users/show/20998252</td>\n",
       "    </tr>\n",
       "    <tr>\n",
       "      <th>host_thumbnail_url</th>\n",
       "      <td>https://a0.muscache.com/im/users/20998252/prof...</td>\n",
       "    </tr>\n",
       "    <tr>\n",
       "      <th>host_picture_url</th>\n",
       "      <td>https://a0.muscache.com/im/users/20998252/prof...</td>\n",
       "    </tr>\n",
       "  </tbody>\n",
       "</table>\n",
       "</div>"
      ],
      "text/plain": [
       "                                                                18254\n",
       "listing_url                      https://www.airbnb.com/rooms/4106583\n",
       "thumbnail_url       https://a0.muscache.com/im/pictures/52427497/3...\n",
       "medium_url          https://a0.muscache.com/im/pictures/52427497/3...\n",
       "picture_url         https://a0.muscache.com/im/pictures/52427497/3...\n",
       "xl_picture_url      https://a0.muscache.com/im/pictures/52427497/3...\n",
       "host_url                   https://www.airbnb.com/users/show/20998252\n",
       "host_thumbnail_url  https://a0.muscache.com/im/users/20998252/prof...\n",
       "host_picture_url    https://a0.muscache.com/im/users/20998252/prof..."
      ]
     },
     "execution_count": 29,
     "metadata": {},
     "output_type": "execute_result"
    }
   ],
   "source": [
    "df_listing_all = pd.read_csv('data/listings.csv')\n",
    "\n",
    "col_url = [col for col in df_listing_all.columns if 'url' in col]\n",
    "col_reviews = [col for col in df_listing_high_renter.columns if 'review' in col]\n",
    "\n",
    "df_listing_all[df_listing_all.id==4106583][col_url].transpose()"
   ]
  },
  {
   "cell_type": "code",
   "execution_count": 32,
   "metadata": {
    "collapsed": false
   },
   "outputs": [
    {
     "data": {
      "text/plain": [
       "array([ 'https://a0.muscache.com/im/pictures/52427497/3b3b7391_original.jpg?aki_policy=x_large'], dtype=object)"
      ]
     },
     "execution_count": 32,
     "metadata": {},
     "output_type": "execute_result"
    }
   ],
   "source": [
    "df_listing_all[df_listing_all.id==4106583][col_url].xl_picture_url.values"
   ]
  },
  {
   "cell_type": "code",
   "execution_count": 35,
   "metadata": {
    "collapsed": false
   },
   "outputs": [
    {
     "name": "stdout",
     "output_type": "stream",
     "text": [
      "(3199, 521)\n",
      "(20576, 95)\n"
     ]
    }
   ],
   "source": [
    "print df_listing_high_renter.shape\n",
    "print df_listing_all.shape"
   ]
  },
  {
   "cell_type": "code",
   "execution_count": 41,
   "metadata": {
    "collapsed": false
   },
   "outputs": [],
   "source": [
    "df_pictures_url = pd.merge(df_listing_high_renter[['id']], df_listing_all[['id']+col_url], on='id')"
   ]
  },
  {
   "cell_type": "code",
   "execution_count": 125,
   "metadata": {
    "collapsed": false
   },
   "outputs": [
    {
     "data": {
      "text/html": [
       "<div>\n",
       "<style>\n",
       "    .dataframe thead tr:only-child th {\n",
       "        text-align: right;\n",
       "    }\n",
       "\n",
       "    .dataframe thead th {\n",
       "        text-align: left;\n",
       "    }\n",
       "\n",
       "    .dataframe tbody tr th {\n",
       "        vertical-align: top;\n",
       "    }\n",
       "</style>\n",
       "<table border=\"1\" class=\"dataframe\">\n",
       "  <thead>\n",
       "    <tr style=\"text-align: right;\">\n",
       "      <th></th>\n",
       "      <th>id</th>\n",
       "      <th>listing_url</th>\n",
       "      <th>thumbnail_url</th>\n",
       "      <th>medium_url</th>\n",
       "      <th>picture_url</th>\n",
       "      <th>xl_picture_url</th>\n",
       "      <th>host_url</th>\n",
       "      <th>host_thumbnail_url</th>\n",
       "      <th>host_picture_url</th>\n",
       "    </tr>\n",
       "  </thead>\n",
       "  <tbody>\n",
       "    <tr>\n",
       "      <th>0</th>\n",
       "      <td>15767215</td>\n",
       "      <td>https://www.airbnb.com/rooms/15767215</td>\n",
       "      <td>https://a0.muscache.com/im/pictures/0947cd5e-a...</td>\n",
       "      <td>https://a0.muscache.com/im/pictures/0947cd5e-a...</td>\n",
       "      <td>https://a0.muscache.com/im/pictures/0947cd5e-a...</td>\n",
       "      <td>https://a0.muscache.com/im/pictures/0947cd5e-a...</td>\n",
       "      <td>https://www.airbnb.com/users/show/39537907</td>\n",
       "      <td>https://a0.muscache.com/im/pictures/3a69d1b4-7...</td>\n",
       "      <td>https://a0.muscache.com/im/pictures/3a69d1b4-7...</td>\n",
       "    </tr>\n",
       "    <tr>\n",
       "      <th>1</th>\n",
       "      <td>7568544</td>\n",
       "      <td>https://www.airbnb.com/rooms/7568544</td>\n",
       "      <td>https://a0.muscache.com/im/pictures/96046046/5...</td>\n",
       "      <td>https://a0.muscache.com/im/pictures/96046046/5...</td>\n",
       "      <td>https://a0.muscache.com/im/pictures/96046046/5...</td>\n",
       "      <td>https://a0.muscache.com/im/pictures/96046046/5...</td>\n",
       "      <td>https://www.airbnb.com/users/show/39056052</td>\n",
       "      <td>https://a0.muscache.com/im/pictures/e710a9b1-6...</td>\n",
       "      <td>https://a0.muscache.com/im/pictures/e710a9b1-6...</td>\n",
       "    </tr>\n",
       "    <tr>\n",
       "      <th>2</th>\n",
       "      <td>16926322</td>\n",
       "      <td>https://www.airbnb.com/rooms/16926322</td>\n",
       "      <td>https://a0.muscache.com/im/pictures/f6591c6f-0...</td>\n",
       "      <td>https://a0.muscache.com/im/pictures/f6591c6f-0...</td>\n",
       "      <td>https://a0.muscache.com/im/pictures/f6591c6f-0...</td>\n",
       "      <td>https://a0.muscache.com/im/pictures/f6591c6f-0...</td>\n",
       "      <td>https://www.airbnb.com/users/show/25707959</td>\n",
       "      <td>https://a0.muscache.com/im/users/25707959/prof...</td>\n",
       "      <td>https://a0.muscache.com/im/users/25707959/prof...</td>\n",
       "    </tr>\n",
       "    <tr>\n",
       "      <th>3</th>\n",
       "      <td>16153479</td>\n",
       "      <td>https://www.airbnb.com/rooms/16153479</td>\n",
       "      <td>https://a0.muscache.com/im/pictures/95f34d39-0...</td>\n",
       "      <td>https://a0.muscache.com/im/pictures/95f34d39-0...</td>\n",
       "      <td>https://a0.muscache.com/im/pictures/95f34d39-0...</td>\n",
       "      <td>https://a0.muscache.com/im/pictures/95f34d39-0...</td>\n",
       "      <td>https://www.airbnb.com/users/show/105373097</td>\n",
       "      <td>https://a0.muscache.com/im/pictures/ea9eff09-4...</td>\n",
       "      <td>https://a0.muscache.com/im/pictures/ea9eff09-4...</td>\n",
       "    </tr>\n",
       "    <tr>\n",
       "      <th>4</th>\n",
       "      <td>16865367</td>\n",
       "      <td>https://www.airbnb.com/rooms/16865367</td>\n",
       "      <td>https://a0.muscache.com/im/pictures/485ee9b7-b...</td>\n",
       "      <td>https://a0.muscache.com/im/pictures/485ee9b7-b...</td>\n",
       "      <td>https://a0.muscache.com/im/pictures/485ee9b7-b...</td>\n",
       "      <td>https://a0.muscache.com/im/pictures/485ee9b7-b...</td>\n",
       "      <td>https://www.airbnb.com/users/show/112381310</td>\n",
       "      <td>https://a0.muscache.com/im/pictures/19e0e197-0...</td>\n",
       "      <td>https://a0.muscache.com/im/pictures/19e0e197-0...</td>\n",
       "    </tr>\n",
       "    <tr>\n",
       "      <th>5</th>\n",
       "      <td>4604780</td>\n",
       "      <td>https://www.airbnb.com/rooms/4604780</td>\n",
       "      <td>https://a0.muscache.com/im/pictures/57819996/8...</td>\n",
       "      <td>https://a0.muscache.com/im/pictures/57819996/8...</td>\n",
       "      <td>https://a0.muscache.com/im/pictures/57819996/8...</td>\n",
       "      <td>https://a0.muscache.com/im/pictures/57819996/8...</td>\n",
       "      <td>https://www.airbnb.com/users/show/23822141</td>\n",
       "      <td>https://a0.muscache.com/im/users/23822141/prof...</td>\n",
       "      <td>https://a0.muscache.com/im/users/23822141/prof...</td>\n",
       "    </tr>\n",
       "    <tr>\n",
       "      <th>6</th>\n",
       "      <td>768616</td>\n",
       "      <td>https://www.airbnb.com/rooms/768616</td>\n",
       "      <td>https://a0.muscache.com/im/pictures/24245246/0...</td>\n",
       "      <td>https://a0.muscache.com/im/pictures/24245246/0...</td>\n",
       "      <td>https://a0.muscache.com/im/pictures/24245246/0...</td>\n",
       "      <td>https://a0.muscache.com/im/pictures/24245246/0...</td>\n",
       "      <td>https://www.airbnb.com/users/show/4054647</td>\n",
       "      <td>https://a0.muscache.com/im/users/4054647/profi...</td>\n",
       "      <td>https://a0.muscache.com/im/users/4054647/profi...</td>\n",
       "    </tr>\n",
       "    <tr>\n",
       "      <th>7</th>\n",
       "      <td>14542554</td>\n",
       "      <td>https://www.airbnb.com/rooms/14542554</td>\n",
       "      <td>https://a0.muscache.com/im/pictures/a8473a20-b...</td>\n",
       "      <td>https://a0.muscache.com/im/pictures/a8473a20-b...</td>\n",
       "      <td>https://a0.muscache.com/im/pictures/a8473a20-b...</td>\n",
       "      <td>https://a0.muscache.com/im/pictures/a8473a20-b...</td>\n",
       "      <td>https://www.airbnb.com/users/show/2227611</td>\n",
       "      <td>https://a0.muscache.com/im/pictures/5f018716-7...</td>\n",
       "      <td>https://a0.muscache.com/im/pictures/5f018716-7...</td>\n",
       "    </tr>\n",
       "    <tr>\n",
       "      <th>8</th>\n",
       "      <td>4119526</td>\n",
       "      <td>https://www.airbnb.com/rooms/4119526</td>\n",
       "      <td>https://a0.muscache.com/im/pictures/c04a4268-a...</td>\n",
       "      <td>https://a0.muscache.com/im/pictures/c04a4268-a...</td>\n",
       "      <td>https://a0.muscache.com/im/pictures/c04a4268-a...</td>\n",
       "      <td>https://a0.muscache.com/im/pictures/c04a4268-a...</td>\n",
       "      <td>https://www.airbnb.com/users/show/21370854</td>\n",
       "      <td>https://a0.muscache.com/im/users/21370854/prof...</td>\n",
       "      <td>https://a0.muscache.com/im/users/21370854/prof...</td>\n",
       "    </tr>\n",
       "  </tbody>\n",
       "</table>\n",
       "</div>"
      ],
      "text/plain": [
       "         id                            listing_url  \\\n",
       "0  15767215  https://www.airbnb.com/rooms/15767215   \n",
       "1   7568544   https://www.airbnb.com/rooms/7568544   \n",
       "2  16926322  https://www.airbnb.com/rooms/16926322   \n",
       "3  16153479  https://www.airbnb.com/rooms/16153479   \n",
       "4  16865367  https://www.airbnb.com/rooms/16865367   \n",
       "5   4604780   https://www.airbnb.com/rooms/4604780   \n",
       "6    768616    https://www.airbnb.com/rooms/768616   \n",
       "7  14542554  https://www.airbnb.com/rooms/14542554   \n",
       "8   4119526   https://www.airbnb.com/rooms/4119526   \n",
       "\n",
       "                                       thumbnail_url  \\\n",
       "0  https://a0.muscache.com/im/pictures/0947cd5e-a...   \n",
       "1  https://a0.muscache.com/im/pictures/96046046/5...   \n",
       "2  https://a0.muscache.com/im/pictures/f6591c6f-0...   \n",
       "3  https://a0.muscache.com/im/pictures/95f34d39-0...   \n",
       "4  https://a0.muscache.com/im/pictures/485ee9b7-b...   \n",
       "5  https://a0.muscache.com/im/pictures/57819996/8...   \n",
       "6  https://a0.muscache.com/im/pictures/24245246/0...   \n",
       "7  https://a0.muscache.com/im/pictures/a8473a20-b...   \n",
       "8  https://a0.muscache.com/im/pictures/c04a4268-a...   \n",
       "\n",
       "                                          medium_url  \\\n",
       "0  https://a0.muscache.com/im/pictures/0947cd5e-a...   \n",
       "1  https://a0.muscache.com/im/pictures/96046046/5...   \n",
       "2  https://a0.muscache.com/im/pictures/f6591c6f-0...   \n",
       "3  https://a0.muscache.com/im/pictures/95f34d39-0...   \n",
       "4  https://a0.muscache.com/im/pictures/485ee9b7-b...   \n",
       "5  https://a0.muscache.com/im/pictures/57819996/8...   \n",
       "6  https://a0.muscache.com/im/pictures/24245246/0...   \n",
       "7  https://a0.muscache.com/im/pictures/a8473a20-b...   \n",
       "8  https://a0.muscache.com/im/pictures/c04a4268-a...   \n",
       "\n",
       "                                         picture_url  \\\n",
       "0  https://a0.muscache.com/im/pictures/0947cd5e-a...   \n",
       "1  https://a0.muscache.com/im/pictures/96046046/5...   \n",
       "2  https://a0.muscache.com/im/pictures/f6591c6f-0...   \n",
       "3  https://a0.muscache.com/im/pictures/95f34d39-0...   \n",
       "4  https://a0.muscache.com/im/pictures/485ee9b7-b...   \n",
       "5  https://a0.muscache.com/im/pictures/57819996/8...   \n",
       "6  https://a0.muscache.com/im/pictures/24245246/0...   \n",
       "7  https://a0.muscache.com/im/pictures/a8473a20-b...   \n",
       "8  https://a0.muscache.com/im/pictures/c04a4268-a...   \n",
       "\n",
       "                                      xl_picture_url  \\\n",
       "0  https://a0.muscache.com/im/pictures/0947cd5e-a...   \n",
       "1  https://a0.muscache.com/im/pictures/96046046/5...   \n",
       "2  https://a0.muscache.com/im/pictures/f6591c6f-0...   \n",
       "3  https://a0.muscache.com/im/pictures/95f34d39-0...   \n",
       "4  https://a0.muscache.com/im/pictures/485ee9b7-b...   \n",
       "5  https://a0.muscache.com/im/pictures/57819996/8...   \n",
       "6  https://a0.muscache.com/im/pictures/24245246/0...   \n",
       "7  https://a0.muscache.com/im/pictures/a8473a20-b...   \n",
       "8  https://a0.muscache.com/im/pictures/c04a4268-a...   \n",
       "\n",
       "                                      host_url  \\\n",
       "0   https://www.airbnb.com/users/show/39537907   \n",
       "1   https://www.airbnb.com/users/show/39056052   \n",
       "2   https://www.airbnb.com/users/show/25707959   \n",
       "3  https://www.airbnb.com/users/show/105373097   \n",
       "4  https://www.airbnb.com/users/show/112381310   \n",
       "5   https://www.airbnb.com/users/show/23822141   \n",
       "6    https://www.airbnb.com/users/show/4054647   \n",
       "7    https://www.airbnb.com/users/show/2227611   \n",
       "8   https://www.airbnb.com/users/show/21370854   \n",
       "\n",
       "                                  host_thumbnail_url  \\\n",
       "0  https://a0.muscache.com/im/pictures/3a69d1b4-7...   \n",
       "1  https://a0.muscache.com/im/pictures/e710a9b1-6...   \n",
       "2  https://a0.muscache.com/im/users/25707959/prof...   \n",
       "3  https://a0.muscache.com/im/pictures/ea9eff09-4...   \n",
       "4  https://a0.muscache.com/im/pictures/19e0e197-0...   \n",
       "5  https://a0.muscache.com/im/users/23822141/prof...   \n",
       "6  https://a0.muscache.com/im/users/4054647/profi...   \n",
       "7  https://a0.muscache.com/im/pictures/5f018716-7...   \n",
       "8  https://a0.muscache.com/im/users/21370854/prof...   \n",
       "\n",
       "                                    host_picture_url  \n",
       "0  https://a0.muscache.com/im/pictures/3a69d1b4-7...  \n",
       "1  https://a0.muscache.com/im/pictures/e710a9b1-6...  \n",
       "2  https://a0.muscache.com/im/users/25707959/prof...  \n",
       "3  https://a0.muscache.com/im/pictures/ea9eff09-4...  \n",
       "4  https://a0.muscache.com/im/pictures/19e0e197-0...  \n",
       "5  https://a0.muscache.com/im/users/23822141/prof...  \n",
       "6  https://a0.muscache.com/im/users/4054647/profi...  \n",
       "7  https://a0.muscache.com/im/pictures/5f018716-7...  \n",
       "8  https://a0.muscache.com/im/users/21370854/prof...  "
      ]
     },
     "execution_count": 125,
     "metadata": {},
     "output_type": "execute_result"
    }
   ],
   "source": [
    "df_pictures_url.head(9)"
   ]
  },
  {
   "cell_type": "code",
   "execution_count": 45,
   "metadata": {
    "collapsed": false
   },
   "outputs": [],
   "source": [
    "df_pictures_url.to_csv('data/high_renters_pictures_url.csv')"
   ]
  },
  {
   "cell_type": "markdown",
   "metadata": {},
   "source": [
    "## Scrap all appartment pictures for high rented flats"
   ]
  },
  {
   "cell_type": "code",
   "execution_count": 85,
   "metadata": {
    "collapsed": false
   },
   "outputs": [],
   "source": [
    "def scrap_pictures(id,url):\n",
    "   \n",
    "    try:\n",
    "        urllib.urlretrieve(url, \"data/pictures/\"+  str(id )+\".jpg\")\n",
    "    except Exception as e:\n",
    "        print e\n",
    "        print \"cannot scrap {}\".format(url)\n"
   ]
  },
  {
   "cell_type": "code",
   "execution_count": 135,
   "metadata": {
    "collapsed": false
   },
   "outputs": [],
   "source": [
    "def check_pictures_files_is_local(list_url):\n",
    "    local_files =  [f for f in listdir('data/pictures') if isfile(join('data/pictures', f))]\n",
    "    local_files =[int(f.split(\".\")[0]) for f in local_files]\n",
    "    \n",
    "    server_files = [f for f in list_url if f[0] not in local_files]\n",
    "    \n",
    "    \n",
    "    return server_files"
   ]
  },
  {
   "cell_type": "code",
   "execution_count": 137,
   "metadata": {
    "collapsed": false
   },
   "outputs": [
    {
     "name": "stdout",
     "output_type": "stream",
     "text": [
      "[]\n"
     ]
    }
   ],
   "source": [
    "list_url = df_pictures_url[['id','picture_url']].sort_values(by='id').values.tolist()\n",
    "list_url = check_pictures_files_is_local(list_url)"
   ]
  },
  {
   "cell_type": "code",
   "execution_count": 138,
   "metadata": {
    "collapsed": false
   },
   "outputs": [],
   "source": [
    "#for url in list_url:\n",
    " #   scrap_pictures(url[0],url[1])"
   ]
  },
  {
   "cell_type": "markdown",
   "metadata": {},
   "source": [
    "## Extract pictures features"
   ]
  },
  {
   "cell_type": "code",
   "execution_count": 793,
   "metadata": {
    "collapsed": true
   },
   "outputs": [],
   "source": [
    "#Pictures paramters\n",
    "SIZE = (64, 64)\n",
    "FORMAT = 'L'"
   ]
  },
  {
   "cell_type": "markdown",
   "metadata": {},
   "source": [
    "### Compute contrast and brightness for each picture"
   ]
  },
  {
   "cell_type": "code",
   "execution_count": 603,
   "metadata": {
    "collapsed": false
   },
   "outputs": [],
   "source": [
    "def compute_contrast_and_brightness(pic_file) :\n",
    "    pic_id = pic_file.split('.')[0]\n",
    "    img = Image.open('data/pictures/'+pic_file).convert('RGB')\n",
    "    img = img.resize(SIZE, Image.ANTIALIAS) \n",
    "    img.load()\n",
    "    data = np.asarray(img, dtype=\"int32\" )\n",
    "    R = data[:,:,0]\n",
    "    G = data[:,:,1]\n",
    "    B = data[:,:,2]\n",
    "    LuminanceA = (0.2126*R) + (0.7152*G) + (0.0722*B)\n",
    "    \n",
    "    return np.asarray((pic_id,R.std(),G.std(),B.std(),LuminanceA.mean(),LuminanceA.std()),dtype=\"int32\")\n"
   ]
  },
  {
   "cell_type": "code",
   "execution_count": 605,
   "metadata": {
    "collapsed": true
   },
   "outputs": [],
   "source": [
    "def create_contrast_brightness_matrix():\n",
    "    all_pics =  [f for f in listdir('data/pictures') if isfile(join('data/pictures', f))]\n",
    "    \n",
    "    i=0\n",
    "    for pic_file in all_pics:\n",
    "        \n",
    "        try: \n",
    "            npdata = compute_contrast_and_brightness(pic_file)\n",
    "        except Exception as e:\n",
    "            print \"{0} for {1}\".format(e,pic_file)\n",
    "            continue\n",
    "               \n",
    "        if i==0:\n",
    "            npdata_all = npdata\n",
    "            i=1\n",
    "        else :\n",
    "            npdata_all = np.vstack((npdata_all,npdata))\n",
    "        \n",
    "    return npdata_all"
   ]
  },
  {
   "cell_type": "code",
   "execution_count": 606,
   "metadata": {
    "collapsed": false
   },
   "outputs": [
    {
     "name": "stdout",
     "output_type": "stream",
     "text": [
      "cannot identify image file 'data/pictures/16543634.jpg' for 16543634.jpg\n"
     ]
    }
   ],
   "source": [
    "df_contrasts_brightness = pd.DataFrame(create_contrast_brightness_matrix())"
   ]
  },
  {
   "cell_type": "code",
   "execution_count": 607,
   "metadata": {
    "collapsed": false
   },
   "outputs": [],
   "source": [
    "df_contrasts_brightness.columns =['listing_id','R_contrast','G_contrast','B_contrast','Brightness_mean','Brightness_std']"
   ]
  },
  {
   "cell_type": "code",
   "execution_count": 609,
   "metadata": {
    "collapsed": false
   },
   "outputs": [
    {
     "data": {
      "text/html": [
       "<div>\n",
       "<style>\n",
       "    .dataframe thead tr:only-child th {\n",
       "        text-align: right;\n",
       "    }\n",
       "\n",
       "    .dataframe thead th {\n",
       "        text-align: left;\n",
       "    }\n",
       "\n",
       "    .dataframe tbody tr th {\n",
       "        vertical-align: top;\n",
       "    }\n",
       "</style>\n",
       "<table border=\"1\" class=\"dataframe\">\n",
       "  <thead>\n",
       "    <tr style=\"text-align: right;\">\n",
       "      <th></th>\n",
       "      <th>listing_id</th>\n",
       "      <th>R_contrast</th>\n",
       "      <th>G_contrast</th>\n",
       "      <th>B_contrast</th>\n",
       "      <th>Brightness_mean</th>\n",
       "      <th>Brightness_std</th>\n",
       "    </tr>\n",
       "  </thead>\n",
       "  <tbody>\n",
       "    <tr>\n",
       "      <th>count</th>\n",
       "      <td>3.198000e+03</td>\n",
       "      <td>3198.000000</td>\n",
       "      <td>3198.000000</td>\n",
       "      <td>3198.000000</td>\n",
       "      <td>3198.000000</td>\n",
       "      <td>3198.000000</td>\n",
       "    </tr>\n",
       "    <tr>\n",
       "      <th>mean</th>\n",
       "      <td>9.925138e+06</td>\n",
       "      <td>55.656973</td>\n",
       "      <td>58.884928</td>\n",
       "      <td>61.596623</td>\n",
       "      <td>137.326141</td>\n",
       "      <td>57.650719</td>\n",
       "    </tr>\n",
       "    <tr>\n",
       "      <th>std</th>\n",
       "      <td>5.851340e+06</td>\n",
       "      <td>11.872257</td>\n",
       "      <td>11.154216</td>\n",
       "      <td>11.891750</td>\n",
       "      <td>33.646997</td>\n",
       "      <td>10.931282</td>\n",
       "    </tr>\n",
       "    <tr>\n",
       "      <th>min</th>\n",
       "      <td>2.015000e+03</td>\n",
       "      <td>17.000000</td>\n",
       "      <td>18.000000</td>\n",
       "      <td>13.000000</td>\n",
       "      <td>25.000000</td>\n",
       "      <td>19.000000</td>\n",
       "    </tr>\n",
       "    <tr>\n",
       "      <th>25%</th>\n",
       "      <td>4.473138e+06</td>\n",
       "      <td>48.000000</td>\n",
       "      <td>52.000000</td>\n",
       "      <td>54.000000</td>\n",
       "      <td>112.000000</td>\n",
       "      <td>50.000000</td>\n",
       "    </tr>\n",
       "    <tr>\n",
       "      <th>50%</th>\n",
       "      <td>1.107387e+07</td>\n",
       "      <td>56.000000</td>\n",
       "      <td>59.000000</td>\n",
       "      <td>62.000000</td>\n",
       "      <td>136.000000</td>\n",
       "      <td>58.000000</td>\n",
       "    </tr>\n",
       "    <tr>\n",
       "      <th>75%</th>\n",
       "      <td>1.536784e+07</td>\n",
       "      <td>63.000000</td>\n",
       "      <td>66.000000</td>\n",
       "      <td>70.000000</td>\n",
       "      <td>163.000000</td>\n",
       "      <td>65.000000</td>\n",
       "    </tr>\n",
       "    <tr>\n",
       "      <th>max</th>\n",
       "      <td>1.810694e+07</td>\n",
       "      <td>102.000000</td>\n",
       "      <td>99.000000</td>\n",
       "      <td>103.000000</td>\n",
       "      <td>230.000000</td>\n",
       "      <td>94.000000</td>\n",
       "    </tr>\n",
       "  </tbody>\n",
       "</table>\n",
       "</div>"
      ],
      "text/plain": [
       "         listing_id   R_contrast   G_contrast   B_contrast  Brightness_mean  \\\n",
       "count  3.198000e+03  3198.000000  3198.000000  3198.000000      3198.000000   \n",
       "mean   9.925138e+06    55.656973    58.884928    61.596623       137.326141   \n",
       "std    5.851340e+06    11.872257    11.154216    11.891750        33.646997   \n",
       "min    2.015000e+03    17.000000    18.000000    13.000000        25.000000   \n",
       "25%    4.473138e+06    48.000000    52.000000    54.000000       112.000000   \n",
       "50%    1.107387e+07    56.000000    59.000000    62.000000       136.000000   \n",
       "75%    1.536784e+07    63.000000    66.000000    70.000000       163.000000   \n",
       "max    1.810694e+07   102.000000    99.000000   103.000000       230.000000   \n",
       "\n",
       "       Brightness_std  \n",
       "count     3198.000000  \n",
       "mean        57.650719  \n",
       "std         10.931282  \n",
       "min         19.000000  \n",
       "25%         50.000000  \n",
       "50%         58.000000  \n",
       "75%         65.000000  \n",
       "max         94.000000  "
      ]
     },
     "execution_count": 609,
     "metadata": {},
     "output_type": "execute_result"
    }
   ],
   "source": [
    "df_contrasts_brightness.describe()"
   ]
  },
  {
   "cell_type": "code",
   "execution_count": 610,
   "metadata": {
    "collapsed": true
   },
   "outputs": [],
   "source": [
    "df_contrasts_brightness.to_csv('data/df_contrasts_brightness.csv', index=False)"
   ]
  },
  {
   "cell_type": "markdown",
   "metadata": {},
   "source": [
    "## Convert all pictures to greyscale array and reduce dimensionality"
   ]
  },
  {
   "cell_type": "code",
   "execution_count": 51,
   "metadata": {
    "collapsed": false
   },
   "outputs": [],
   "source": [
    "def load_image(infilename) :\n",
    "    img = Image.open( infilename).convert(FORMAT)\n",
    "    img = img.resize(SIZE, Image.ANTIALIAS) \n",
    "    img.load()\n",
    "    data = np.asarray(img, dtype=\"int32\" )\n",
    "    \n",
    "    #save_image(data)\n",
    "    data = data.reshape(1,-1)\n",
    "    return data\n",
    "\n",
    "def reconstruct_image( npdata) :\n",
    "    clipped_ndata = np.asarray(np.clip(npdata,0,255), dtype=\"uint8\")  \n",
    "    img = Image.fromarray(clipped_ndata, FORMAT )\n",
    "    img.show()"
   ]
  },
  {
   "cell_type": "code",
   "execution_count": 403,
   "metadata": {
    "collapsed": false
   },
   "outputs": [
    {
     "data": {
      "text/plain": [
       "array([[186, 186, 187, ..., 137, 156, 132]], dtype=int32)"
      ]
     },
     "execution_count": 403,
     "metadata": {},
     "output_type": "execute_result"
    }
   ],
   "source": [
    "data"
   ]
  },
  {
   "cell_type": "code",
   "execution_count": 443,
   "metadata": {
    "collapsed": false
   },
   "outputs": [],
   "source": [
    "def create_matrix_greyscale_pictures():\n",
    "    all_pics =  [f for f in listdir('data/pictures') if isfile(join('data/pictures', f))]\n",
    "    \n",
    "    i=0\n",
    "    for pic_file in all_pics:\n",
    "        pic_id = pic_file.split('.')[0]\n",
    "        try: \n",
    "            npdata = load_image('data/pictures/'+pic_file)\n",
    "        except Exception as e:\n",
    "            print \"{0} for {1}\".format(e,pic_file)\n",
    "            continue\n",
    "        npdata = np.append([pic_id],npdata)\n",
    "        \n",
    "        if i==0:\n",
    "            \n",
    "            npdata_all = npdata\n",
    "            i=1\n",
    "        else :\n",
    "            npdata_all = np.vstack((npdata_all,npdata))\n",
    "        \n",
    "    return npdata_all\n",
    "        "
   ]
  },
  {
   "cell_type": "code",
   "execution_count": 444,
   "metadata": {
    "collapsed": false
   },
   "outputs": [
    {
     "name": "stdout",
     "output_type": "stream",
     "text": [
      "cannot identify image file 'data/pictures/16543634.jpg' for 16543634.jpg\n"
     ]
    }
   ],
   "source": [
    "npdata_all = create_matrix_greyscale_pictures()\n",
    "df_pictures = pd.DataFrame(npdata_all)"
   ]
  },
  {
   "cell_type": "code",
   "execution_count": 449,
   "metadata": {
    "collapsed": false
   },
   "outputs": [
    {
     "data": {
      "text/plain": [
       "(3198, 4097)"
      ]
     },
     "execution_count": 449,
     "metadata": {},
     "output_type": "execute_result"
    }
   ],
   "source": [
    "df_pictures.shape"
   ]
  },
  {
   "cell_type": "code",
   "execution_count": 126,
   "metadata": {
    "collapsed": false
   },
   "outputs": [],
   "source": [
    "cols = [\"pix_\"+ str(i) for i in range(0,df_pictures.shape[1]-1)]"
   ]
  },
  {
   "cell_type": "code",
   "execution_count": 458,
   "metadata": {
    "collapsed": false
   },
   "outputs": [],
   "source": [
    "df_pictures.columns = ['listing_id']+ cols"
   ]
  },
  {
   "cell_type": "code",
   "execution_count": 460,
   "metadata": {
    "collapsed": false
   },
   "outputs": [],
   "source": [
    "df_pictures.to_csv('data/df_pictures_listing.csv')"
   ]
  },
  {
   "cell_type": "markdown",
   "metadata": {},
   "source": [
    "### Convert pictures array to PC"
   ]
  },
  {
   "cell_type": "code",
   "execution_count": 813,
   "metadata": {
    "collapsed": false
   },
   "outputs": [],
   "source": [
    "pca = PCA(n_components=50)\n",
    "\n",
    "X_train = scale(df_pictures[cols].values)\n",
    "\n",
    "X_transformed = pca.fit_transform(X_train)\n",
    "\n",
    "df_pictures_PCA = pd.DataFrame(X_transformed)\n",
    "df_pictures_PCA.columns = ['pictures_PC_'+str(i) for i in range(1,51)]"
   ]
  },
  {
   "cell_type": "code",
   "execution_count": 816,
   "metadata": {
    "collapsed": false
   },
   "outputs": [],
   "source": [
    "df_pictures_PCA= pd.concat([df_pictures.listing_id,df_pictures_PCA],axis=1)"
   ]
  },
  {
   "cell_type": "code",
   "execution_count": 625,
   "metadata": {
    "collapsed": false
   },
   "outputs": [
    {
     "data": {
      "text/html": [
       "<div>\n",
       "<style>\n",
       "    .dataframe thead tr:only-child th {\n",
       "        text-align: right;\n",
       "    }\n",
       "\n",
       "    .dataframe thead th {\n",
       "        text-align: left;\n",
       "    }\n",
       "\n",
       "    .dataframe tbody tr th {\n",
       "        vertical-align: top;\n",
       "    }\n",
       "</style>\n",
       "<table border=\"1\" class=\"dataframe\">\n",
       "  <thead>\n",
       "    <tr style=\"text-align: right;\">\n",
       "      <th></th>\n",
       "      <th>review_scores_rating</th>\n",
       "      <th>reviews_per_month</th>\n",
       "      <th>availability_90</th>\n",
       "      <th>PC_1</th>\n",
       "      <th>PC_2</th>\n",
       "    </tr>\n",
       "  </thead>\n",
       "  <tbody>\n",
       "    <tr>\n",
       "      <th>review_scores_rating</th>\n",
       "      <td>1.000000</td>\n",
       "      <td>-0.058974</td>\n",
       "      <td>-0.125867</td>\n",
       "      <td>3.361284e-02</td>\n",
       "      <td>3.395258e-03</td>\n",
       "    </tr>\n",
       "    <tr>\n",
       "      <th>reviews_per_month</th>\n",
       "      <td>-0.058974</td>\n",
       "      <td>1.000000</td>\n",
       "      <td>-0.023449</td>\n",
       "      <td>-8.363577e-02</td>\n",
       "      <td>6.259623e-03</td>\n",
       "    </tr>\n",
       "    <tr>\n",
       "      <th>availability_90</th>\n",
       "      <td>-0.125867</td>\n",
       "      <td>-0.023449</td>\n",
       "      <td>1.000000</td>\n",
       "      <td>2.030847e-02</td>\n",
       "      <td>3.789411e-02</td>\n",
       "    </tr>\n",
       "    <tr>\n",
       "      <th>PC_1</th>\n",
       "      <td>0.033613</td>\n",
       "      <td>-0.083636</td>\n",
       "      <td>0.020308</td>\n",
       "      <td>1.000000e+00</td>\n",
       "      <td>-1.166617e-16</td>\n",
       "    </tr>\n",
       "    <tr>\n",
       "      <th>PC_2</th>\n",
       "      <td>0.003395</td>\n",
       "      <td>0.006260</td>\n",
       "      <td>0.037894</td>\n",
       "      <td>-1.166617e-16</td>\n",
       "      <td>1.000000e+00</td>\n",
       "    </tr>\n",
       "  </tbody>\n",
       "</table>\n",
       "</div>"
      ],
      "text/plain": [
       "                      review_scores_rating  reviews_per_month  \\\n",
       "review_scores_rating              1.000000          -0.058974   \n",
       "reviews_per_month                -0.058974           1.000000   \n",
       "availability_90                  -0.125867          -0.023449   \n",
       "PC_1                              0.033613          -0.083636   \n",
       "PC_2                              0.003395           0.006260   \n",
       "\n",
       "                      availability_90          PC_1          PC_2  \n",
       "review_scores_rating        -0.125867  3.361284e-02  3.395258e-03  \n",
       "reviews_per_month           -0.023449 -8.363577e-02  6.259623e-03  \n",
       "availability_90              1.000000  2.030847e-02  3.789411e-02  \n",
       "PC_1                         0.020308  1.000000e+00 -1.166617e-16  \n",
       "PC_2                         0.037894 -1.166617e-16  1.000000e+00  "
      ]
     },
     "execution_count": 625,
     "metadata": {},
     "output_type": "execute_result"
    }
   ],
   "source": [
    "df_pictures[['review_scores_rating','reviews_per_month','availability_90','PC_1','PC_2']].corr()"
   ]
  },
  {
   "cell_type": "markdown",
   "metadata": {},
   "source": [
    "## Extract top 5 colours in each pictures"
   ]
  },
  {
   "cell_type": "code",
   "execution_count": 707,
   "metadata": {
    "collapsed": false
   },
   "outputs": [],
   "source": [
    "\n",
    "\n",
    "NUM_CLUSTERS = 5\n",
    "\n",
    "def extract_top_colour_in_picture(pic_file):\n",
    "    \n",
    "    pic_id = np.asarray([pic_file.split('.')[0]])\n",
    "     \n",
    "    \n",
    "    im = Image.open('data/pictures/'+pic_file)\n",
    "    im = im.resize((150, 150))      # optional, to reduce time\n",
    "    ar = scipy.misc.fromimage(im)\n",
    "    ar = ar.astype(float)\n",
    "    shape = ar.shape\n",
    "    ar = ar.reshape(scipy.product(shape[:2]), shape[2])\n",
    "\n",
    "   \n",
    "    codes, dist = scipy.cluster.vq.kmeans(ar, NUM_CLUSTERS)\n",
    "    #print 'cluster centres:\\n', codes\n",
    "\n",
    "    vecs, dist = scipy.cluster.vq.vq(ar, codes)         # assign codes\n",
    "    counts, bins = scipy.histogram(vecs, len(codes))    # count occurrences\n",
    "\n",
    "    index_max = scipy.argmax(counts)                    # find most frequent\n",
    "    peak = codes[index_max]\n",
    "    \n",
    "    \n",
    "\n",
    "    peak = peak.astype(int)\n",
    "    colour = ''.join(chr(c) for c in peak).encode('hex')\n",
    "    #print 'most frequent is %s (#%s) \\n' % (peak, colour)\n",
    "    \n",
    "    i=0\n",
    "    \n",
    "    for c in range (NUM_CLUSTERS):\n",
    "        c_centroid=  np.asarray(codes[c])\n",
    "        c_counts =  np.asarray([counts[c]])\n",
    "        c_hex = ''.join(chr(c) for c in c_centroid.astype(int)).encode('hex')\n",
    "        c_hex = np.asarray([c_hex])\n",
    "        \n",
    "        if i==0:\n",
    "            npdata = np.concatenate((pic_id, c_centroid,c_counts,c_hex))#.astype('int32')\n",
    "            i=1\n",
    "        else :\n",
    "            npdata = np.hstack((npdata,np.concatenate((c_centroid,c_counts,c_hex))))#.astype('int32')))\n",
    "        \n",
    "    return npdata "
   ]
  },
  {
   "cell_type": "code",
   "execution_count": 708,
   "metadata": {
    "collapsed": false
   },
   "outputs": [
    {
     "data": {
      "text/plain": [
       "array(['81081', '74.4795121951', '53.9414634146', '27.0980487805', '2052',\n",
       "       '4a351b', '143.144551983', '103.496409616', '64.917265064', '3109',\n",
       "       '8f6740', '226.658888459', '216.70817196', '209.11221921', '10548',\n",
       "       'e2d8d1', '12.2218963832', '7.30694037146', '3.2981427175', '2126',\n",
       "       '0c0703', '201.991791504', '182.610712087', '165.349271496', '4665',\n",
       "       'c9b6a5'], \n",
       "      dtype='|S32')"
      ]
     },
     "execution_count": 708,
     "metadata": {},
     "output_type": "execute_result"
    }
   ],
   "source": [
    "extract_top_colour_in_picture('81081.jpg')"
   ]
  },
  {
   "cell_type": "code",
   "execution_count": 709,
   "metadata": {
    "collapsed": true
   },
   "outputs": [],
   "source": [
    "def create_colour_clusters_matrix():\n",
    "    all_pics =  [f for f in listdir('data/pictures') if isfile(join('data/pictures', f))]\n",
    "    \n",
    "    i=0\n",
    "    for pic_file in all_pics:\n",
    "        \n",
    "        try: \n",
    "            npdata = extract_top_colour_in_picture(pic_file)\n",
    "        except Exception as e:\n",
    "            print \"{0} for {1}\".format(e,pic_file)\n",
    "            continue\n",
    "        \n",
    "        if i==0:\n",
    "            \n",
    "            npdata_all = npdata\n",
    "            i=1\n",
    "        else :\n",
    "            npdata_all = np.vstack((npdata_all,npdata))\n",
    "        \n",
    "    return npdata_all"
   ]
  },
  {
   "cell_type": "code",
   "execution_count": 710,
   "metadata": {
    "collapsed": false
   },
   "outputs": [
    {
     "name": "stdout",
     "output_type": "stream",
     "text": [
      "index 4 is out of bounds for axis 0 with size 4 for 7891672.jpg\n",
      "cannot identify image file 'data/pictures/16543634.jpg' for 16543634.jpg\n",
      "index 4 is out of bounds for axis 0 with size 4 for 15880956.jpg\n"
     ]
    }
   ],
   "source": [
    "df_colors_cluster = pd.DataFrame(create_colour_clusters_matrix())"
   ]
  },
  {
   "cell_type": "code",
   "execution_count": 713,
   "metadata": {
    "collapsed": false
   },
   "outputs": [
    {
     "data": {
      "text/plain": [
       "(3196, 26)"
      ]
     },
     "execution_count": 713,
     "metadata": {},
     "output_type": "execute_result"
    }
   ],
   "source": [
    "df_colors_cluster.shape"
   ]
  },
  {
   "cell_type": "code",
   "execution_count": 714,
   "metadata": {
    "collapsed": false
   },
   "outputs": [
    {
     "data": {
      "text/html": [
       "<div>\n",
       "<style>\n",
       "    .dataframe thead tr:only-child th {\n",
       "        text-align: right;\n",
       "    }\n",
       "\n",
       "    .dataframe thead th {\n",
       "        text-align: left;\n",
       "    }\n",
       "\n",
       "    .dataframe tbody tr th {\n",
       "        vertical-align: top;\n",
       "    }\n",
       "</style>\n",
       "<table border=\"1\" class=\"dataframe\">\n",
       "  <thead>\n",
       "    <tr style=\"text-align: right;\">\n",
       "      <th></th>\n",
       "      <th>0</th>\n",
       "      <th>1</th>\n",
       "      <th>2</th>\n",
       "      <th>3</th>\n",
       "      <th>4</th>\n",
       "      <th>5</th>\n",
       "      <th>6</th>\n",
       "      <th>7</th>\n",
       "      <th>8</th>\n",
       "      <th>9</th>\n",
       "      <th>...</th>\n",
       "      <th>16</th>\n",
       "      <th>17</th>\n",
       "      <th>18</th>\n",
       "      <th>19</th>\n",
       "      <th>20</th>\n",
       "      <th>21</th>\n",
       "      <th>22</th>\n",
       "      <th>23</th>\n",
       "      <th>24</th>\n",
       "      <th>25</th>\n",
       "    </tr>\n",
       "  </thead>\n",
       "  <tbody>\n",
       "    <tr>\n",
       "      <th>0</th>\n",
       "      <td>4725997</td>\n",
       "      <td>141.698635403</td>\n",
       "      <td>144.572554296</td>\n",
       "      <td>138.247165097</td>\n",
       "      <td>5280</td>\n",
       "      <td>8d908a</td>\n",
       "      <td>108.116758933</td>\n",
       "      <td>102.128837443</td>\n",
       "      <td>88.2098641168</td>\n",
       "      <td>3891</td>\n",
       "      <td>...</td>\n",
       "      <td>182.720076482</td>\n",
       "      <td>193.778202677</td>\n",
       "      <td>200.604971319</td>\n",
       "      <td>5247</td>\n",
       "      <td>b6c1c8</td>\n",
       "      <td>47.3173852573</td>\n",
       "      <td>43.6328233658</td>\n",
       "      <td>34.3418636996</td>\n",
       "      <td>3572</td>\n",
       "      <td>2f2b22</td>\n",
       "    </tr>\n",
       "    <tr>\n",
       "      <th>1</th>\n",
       "      <td>14159874</td>\n",
       "      <td>92.7057716437</td>\n",
       "      <td>138.790464241</td>\n",
       "      <td>184.993099122</td>\n",
       "      <td>1577</td>\n",
       "      <td>5c8ab8</td>\n",
       "      <td>133.743443558</td>\n",
       "      <td>132.817939947</td>\n",
       "      <td>100.864690232</td>\n",
       "      <td>5123</td>\n",
       "      <td>...</td>\n",
       "      <td>28.2439379243</td>\n",
       "      <td>27.8438409311</td>\n",
       "      <td>19.6089557064</td>\n",
       "      <td>6223</td>\n",
       "      <td>1c1b13</td>\n",
       "      <td>81.2518361351</td>\n",
       "      <td>84.7685653664</td>\n",
       "      <td>64.4421413416</td>\n",
       "      <td>6289</td>\n",
       "      <td>515440</td>\n",
       "    </tr>\n",
       "    <tr>\n",
       "      <th>2</th>\n",
       "      <td>14195566</td>\n",
       "      <td>72.9199600798</td>\n",
       "      <td>84.3788423154</td>\n",
       "      <td>77.8073852295</td>\n",
       "      <td>5071</td>\n",
       "      <td>48544d</td>\n",
       "      <td>19.8510479042</td>\n",
       "      <td>24.5265718563</td>\n",
       "      <td>29.2836826347</td>\n",
       "      <td>2674</td>\n",
       "      <td>...</td>\n",
       "      <td>107.271832718</td>\n",
       "      <td>119.508541752</td>\n",
       "      <td>121.023780238</td>\n",
       "      <td>7326</td>\n",
       "      <td>6b7779</td>\n",
       "      <td>157.171464071</td>\n",
       "      <td>165.885897701</td>\n",
       "      <td>164.437978878</td>\n",
       "      <td>4771</td>\n",
       "      <td>9da5a4</td>\n",
       "    </tr>\n",
       "    <tr>\n",
       "      <th>3</th>\n",
       "      <td>2751942</td>\n",
       "      <td>54.6911671924</td>\n",
       "      <td>42.2659305994</td>\n",
       "      <td>36.8195583596</td>\n",
       "      <td>3153</td>\n",
       "      <td>362a24</td>\n",
       "      <td>206.275024534</td>\n",
       "      <td>199.606722277</td>\n",
       "      <td>188.710745829</td>\n",
       "      <td>4129</td>\n",
       "      <td>...</td>\n",
       "      <td>175.131674669</td>\n",
       "      <td>160.847082788</td>\n",
       "      <td>147.302487997</td>\n",
       "      <td>6892</td>\n",
       "      <td>afa093</td>\n",
       "      <td>246.677233429</td>\n",
       "      <td>248.557505895</td>\n",
       "      <td>247.622740372</td>\n",
       "      <td>3827</td>\n",
       "      <td>f6f8f7</td>\n",
       "    </tr>\n",
       "    <tr>\n",
       "      <th>4</th>\n",
       "      <td>16948945</td>\n",
       "      <td>156.81012333</td>\n",
       "      <td>131.508864337</td>\n",
       "      <td>96.1234583762</td>\n",
       "      <td>7807</td>\n",
       "      <td>9c8360</td>\n",
       "      <td>244.212780899</td>\n",
       "      <td>247.020365169</td>\n",
       "      <td>238.783005618</td>\n",
       "      <td>1437</td>\n",
       "      <td>...</td>\n",
       "      <td>175.396672504</td>\n",
       "      <td>174.945709282</td>\n",
       "      <td>165.347927612</td>\n",
       "      <td>3417</td>\n",
       "      <td>afaea5</td>\n",
       "      <td>109.458666204</td>\n",
       "      <td>86.481938173</td>\n",
       "      <td>62.2908996179</td>\n",
       "      <td>5779</td>\n",
       "      <td>6d563e</td>\n",
       "    </tr>\n",
       "  </tbody>\n",
       "</table>\n",
       "<p>5 rows × 26 columns</p>\n",
       "</div>"
      ],
      "text/plain": [
       "         0              1              2              3     4       5   \\\n",
       "0   4725997  141.698635403  144.572554296  138.247165097  5280  8d908a   \n",
       "1  14159874  92.7057716437  138.790464241  184.993099122  1577  5c8ab8   \n",
       "2  14195566  72.9199600798  84.3788423154  77.8073852295  5071  48544d   \n",
       "3   2751942  54.6911671924  42.2659305994  36.8195583596  3153  362a24   \n",
       "4  16948945   156.81012333  131.508864337  96.1234583762  7807  9c8360   \n",
       "\n",
       "              6              7              8     9    ...               16  \\\n",
       "0  108.116758933  102.128837443  88.2098641168  3891   ...    182.720076482   \n",
       "1  133.743443558  132.817939947  100.864690232  5123   ...    28.2439379243   \n",
       "2  19.8510479042  24.5265718563  29.2836826347  2674   ...    107.271832718   \n",
       "3  206.275024534  199.606722277  188.710745829  4129   ...    175.131674669   \n",
       "4  244.212780899  247.020365169  238.783005618  1437   ...    175.396672504   \n",
       "\n",
       "              17             18    19      20             21             22  \\\n",
       "0  193.778202677  200.604971319  5247  b6c1c8  47.3173852573  43.6328233658   \n",
       "1  27.8438409311  19.6089557064  6223  1c1b13  81.2518361351  84.7685653664   \n",
       "2  119.508541752  121.023780238  7326  6b7779  157.171464071  165.885897701   \n",
       "3  160.847082788  147.302487997  6892  afa093  246.677233429  248.557505895   \n",
       "4  174.945709282  165.347927612  3417  afaea5  109.458666204   86.481938173   \n",
       "\n",
       "              23    24      25  \n",
       "0  34.3418636996  3572  2f2b22  \n",
       "1  64.4421413416  6289  515440  \n",
       "2  164.437978878  4771  9da5a4  \n",
       "3  247.622740372  3827  f6f8f7  \n",
       "4  62.2908996179  5779  6d563e  \n",
       "\n",
       "[5 rows x 26 columns]"
      ]
     },
     "execution_count": 714,
     "metadata": {},
     "output_type": "execute_result"
    }
   ],
   "source": [
    "df_colors_cluster.head()"
   ]
  },
  {
   "cell_type": "code",
   "execution_count": 715,
   "metadata": {
    "collapsed": true
   },
   "outputs": [],
   "source": [
    "df_colors_cluster.columns = ['listing_id','Centroid_R_1','Centroid_G_1','Centroid_B_1','Centroid_Count_1','Centroid_hex_1',\n",
    "                            'Centroid_R_2','Centroid_G_2','Centroid_B_2','Centroid_Count_2','Centroid_hex_2',\n",
    "                          'Centroid_R_3','Centroid_G_3','Centroid_B_3','Centroid_Count_3','Centroid_hex_3',\n",
    "                         'Centroid_R_4','Centroid_G_4','Centroid_B_4','Centroid_Count_4','Centroid_hex_4',\n",
    "                           'Centroid_R_5','Centroid_G_5','Centroid_B_5','Centroid_Count_5','Centroid_hex_5']"
   ]
  },
  {
   "cell_type": "code",
   "execution_count": 717,
   "metadata": {
    "collapsed": true
   },
   "outputs": [],
   "source": [
    "cols_int = [col for col in df_colors_cluster.columns if 'hex' not in col]"
   ]
  },
  {
   "cell_type": "code",
   "execution_count": 720,
   "metadata": {
    "collapsed": false
   },
   "outputs": [],
   "source": [
    "df_colors_cluster[cols_int] = df_colors_cluster[cols_int].apply(pd.to_numeric)"
   ]
  },
  {
   "cell_type": "code",
   "execution_count": 5,
   "metadata": {
    "collapsed": false
   },
   "outputs": [
    {
     "ename": "NameError",
     "evalue": "name 'df_colors_cluster' is not defined",
     "output_type": "error",
     "traceback": [
      "\u001b[0;31m---------------------------------------------------------------------------\u001b[0m",
      "\u001b[0;31mNameError\u001b[0m                                 Traceback (most recent call last)",
      "\u001b[0;32m<ipython-input-5-e548b9d23ecc>\u001b[0m in \u001b[0;36m<module>\u001b[0;34m()\u001b[0m\n\u001b[0;32m----> 1\u001b[0;31m \u001b[0mdf_colors_cluster\u001b[0m\u001b[0;34m.\u001b[0m\u001b[0mto_csv\u001b[0m\u001b[0;34m(\u001b[0m\u001b[0;34m'data/df_colours_clusters.csv'\u001b[0m\u001b[0;34m,\u001b[0m\u001b[0mindex\u001b[0m\u001b[0;34m=\u001b[0m\u001b[0mFalse\u001b[0m\u001b[0;34m)\u001b[0m\u001b[0;34m\u001b[0m\u001b[0m\n\u001b[0m",
      "\u001b[0;31mNameError\u001b[0m: name 'df_colors_cluster' is not defined"
     ]
    }
   ],
   "source": [
    "df_colors_cluster.to_csv('data/df_colours_clusters.csv',index=False)"
   ]
  },
  {
   "cell_type": "markdown",
   "metadata": {},
   "source": [
    "# Combine all (brightness/contrast, PCA of picture, colors clusters)"
   ]
  },
  {
   "cell_type": "markdown",
   "metadata": {},
   "source": [
    "## Select only new column "
   ]
  },
  {
   "cell_type": "code",
   "execution_count": 836,
   "metadata": {
    "collapsed": false
   },
   "outputs": [],
   "source": [
    "df_contrasts_brightness= df_contrasts_brightness[['listing_id',\n",
    " 'R_contrast',\n",
    " 'G_contrast',\n",
    " 'B_contrast',\n",
    " 'Brightness_mean',\n",
    " 'Brightness_std']]"
   ]
  },
  {
   "cell_type": "code",
   "execution_count": 819,
   "metadata": {
    "collapsed": false
   },
   "outputs": [
    {
     "data": {
      "text/html": [
       "<div>\n",
       "<style>\n",
       "    .dataframe thead tr:only-child th {\n",
       "        text-align: right;\n",
       "    }\n",
       "\n",
       "    .dataframe thead th {\n",
       "        text-align: left;\n",
       "    }\n",
       "\n",
       "    .dataframe tbody tr th {\n",
       "        vertical-align: top;\n",
       "    }\n",
       "</style>\n",
       "<table border=\"1\" class=\"dataframe\">\n",
       "  <thead>\n",
       "    <tr style=\"text-align: right;\">\n",
       "      <th></th>\n",
       "      <th>listing_id</th>\n",
       "      <th>pictures_PC_1</th>\n",
       "      <th>pictures_PC_2</th>\n",
       "      <th>pictures_PC_3</th>\n",
       "      <th>pictures_PC_4</th>\n",
       "      <th>pictures_PC_5</th>\n",
       "      <th>pictures_PC_6</th>\n",
       "      <th>pictures_PC_7</th>\n",
       "      <th>pictures_PC_8</th>\n",
       "      <th>pictures_PC_9</th>\n",
       "      <th>...</th>\n",
       "      <th>pictures_PC_41</th>\n",
       "      <th>pictures_PC_42</th>\n",
       "      <th>pictures_PC_43</th>\n",
       "      <th>pictures_PC_44</th>\n",
       "      <th>pictures_PC_45</th>\n",
       "      <th>pictures_PC_46</th>\n",
       "      <th>pictures_PC_47</th>\n",
       "      <th>pictures_PC_48</th>\n",
       "      <th>pictures_PC_49</th>\n",
       "      <th>pictures_PC_50</th>\n",
       "    </tr>\n",
       "  </thead>\n",
       "  <tbody>\n",
       "    <tr>\n",
       "      <th>0</th>\n",
       "      <td>4725997</td>\n",
       "      <td>-11.869571</td>\n",
       "      <td>-11.541879</td>\n",
       "      <td>-36.193643</td>\n",
       "      <td>-9.63651</td>\n",
       "      <td>5.064946</td>\n",
       "      <td>9.636718</td>\n",
       "      <td>2.324031</td>\n",
       "      <td>-2.159733</td>\n",
       "      <td>-1.423866</td>\n",
       "      <td>...</td>\n",
       "      <td>-0.618167</td>\n",
       "      <td>0.971557</td>\n",
       "      <td>-0.174573</td>\n",
       "      <td>-2.442091</td>\n",
       "      <td>0.873904</td>\n",
       "      <td>0.543305</td>\n",
       "      <td>1.198252</td>\n",
       "      <td>-2.257121</td>\n",
       "      <td>1.812957</td>\n",
       "      <td>2.127437</td>\n",
       "    </tr>\n",
       "  </tbody>\n",
       "</table>\n",
       "<p>1 rows × 51 columns</p>\n",
       "</div>"
      ],
      "text/plain": [
       "   listing_id  pictures_PC_1  pictures_PC_2  pictures_PC_3  pictures_PC_4  \\\n",
       "0     4725997     -11.869571     -11.541879     -36.193643       -9.63651   \n",
       "\n",
       "   pictures_PC_5  pictures_PC_6  pictures_PC_7  pictures_PC_8  pictures_PC_9  \\\n",
       "0       5.064946       9.636718       2.324031      -2.159733      -1.423866   \n",
       "\n",
       "        ...        pictures_PC_41  pictures_PC_42  pictures_PC_43  \\\n",
       "0       ...             -0.618167        0.971557       -0.174573   \n",
       "\n",
       "   pictures_PC_44  pictures_PC_45  pictures_PC_46  pictures_PC_47  \\\n",
       "0       -2.442091        0.873904        0.543305        1.198252   \n",
       "\n",
       "   pictures_PC_48  pictures_PC_49  pictures_PC_50  \n",
       "0       -2.257121        1.812957        2.127437  \n",
       "\n",
       "[1 rows x 51 columns]"
      ]
     },
     "execution_count": 819,
     "metadata": {},
     "output_type": "execute_result"
    }
   ],
   "source": [
    "df_pictures_PCA.head(1)"
   ]
  },
  {
   "cell_type": "code",
   "execution_count": 823,
   "metadata": {
    "collapsed": false
   },
   "outputs": [
    {
     "data": {
      "text/html": [
       "<div>\n",
       "<style>\n",
       "    .dataframe thead tr:only-child th {\n",
       "        text-align: right;\n",
       "    }\n",
       "\n",
       "    .dataframe thead th {\n",
       "        text-align: left;\n",
       "    }\n",
       "\n",
       "    .dataframe tbody tr th {\n",
       "        vertical-align: top;\n",
       "    }\n",
       "</style>\n",
       "<table border=\"1\" class=\"dataframe\">\n",
       "  <thead>\n",
       "    <tr style=\"text-align: right;\">\n",
       "      <th></th>\n",
       "      <th>listing_id</th>\n",
       "      <th>Centroid_R_1</th>\n",
       "      <th>Centroid_G_1</th>\n",
       "      <th>Centroid_B_1</th>\n",
       "      <th>Centroid_Count_1</th>\n",
       "      <th>Centroid_hex_1</th>\n",
       "      <th>Centroid_R_2</th>\n",
       "      <th>Centroid_G_2</th>\n",
       "      <th>Centroid_B_2</th>\n",
       "      <th>Centroid_Count_2</th>\n",
       "      <th>...</th>\n",
       "      <th>Centroid_R_5</th>\n",
       "      <th>Centroid_G_5</th>\n",
       "      <th>Centroid_B_5</th>\n",
       "      <th>Centroid_Count_5</th>\n",
       "      <th>Centroid_hex_5</th>\n",
       "      <th>id</th>\n",
       "      <th>review_scores_rating</th>\n",
       "      <th>reviews_per_month</th>\n",
       "      <th>availability_90</th>\n",
       "      <th>price</th>\n",
       "    </tr>\n",
       "  </thead>\n",
       "  <tbody>\n",
       "    <tr>\n",
       "      <th>0</th>\n",
       "      <td>4725997</td>\n",
       "      <td>141.698635</td>\n",
       "      <td>144.572554</td>\n",
       "      <td>138.247165</td>\n",
       "      <td>5280</td>\n",
       "      <td>8d908a</td>\n",
       "      <td>108.116759</td>\n",
       "      <td>102.128837</td>\n",
       "      <td>88.209864</td>\n",
       "      <td>3891</td>\n",
       "      <td>...</td>\n",
       "      <td>47.317385</td>\n",
       "      <td>43.632823</td>\n",
       "      <td>34.341864</td>\n",
       "      <td>3572</td>\n",
       "      <td>2f2b22</td>\n",
       "      <td>4725997</td>\n",
       "      <td>99.0</td>\n",
       "      <td>1.65</td>\n",
       "      <td>37</td>\n",
       "      <td>70</td>\n",
       "    </tr>\n",
       "  </tbody>\n",
       "</table>\n",
       "<p>1 rows × 31 columns</p>\n",
       "</div>"
      ],
      "text/plain": [
       "   listing_id  Centroid_R_1  Centroid_G_1  Centroid_B_1  Centroid_Count_1  \\\n",
       "0     4725997    141.698635    144.572554    138.247165              5280   \n",
       "\n",
       "  Centroid_hex_1  Centroid_R_2  Centroid_G_2  Centroid_B_2  Centroid_Count_2  \\\n",
       "0         8d908a    108.116759    102.128837     88.209864              3891   \n",
       "\n",
       "   ...   Centroid_R_5  Centroid_G_5  Centroid_B_5  Centroid_Count_5  \\\n",
       "0  ...      47.317385     43.632823     34.341864              3572   \n",
       "\n",
       "   Centroid_hex_5       id  review_scores_rating  reviews_per_month  \\\n",
       "0          2f2b22  4725997                  99.0               1.65   \n",
       "\n",
       "   availability_90  price  \n",
       "0               37     70  \n",
       "\n",
       "[1 rows x 31 columns]"
      ]
     },
     "execution_count": 823,
     "metadata": {},
     "output_type": "execute_result"
    }
   ],
   "source": [
    "df_colors_cluster.head(1)"
   ]
  },
  {
   "cell_type": "code",
   "execution_count": 837,
   "metadata": {
    "collapsed": true
   },
   "outputs": [],
   "source": [
    "df_listing_high_renter = pd.merge(df_listing_high_renter,df_contrasts_brightness, left_on='id',right_on='listing_id')"
   ]
  },
  {
   "cell_type": "code",
   "execution_count": 839,
   "metadata": {
    "collapsed": false
   },
   "outputs": [],
   "source": [
    "df_listing_high_renter=  df_listing_high_renter.drop(\"Unnamed: 0\",axis=1)"
   ]
  },
  {
   "cell_type": "code",
   "execution_count": 841,
   "metadata": {
    "collapsed": false
   },
   "outputs": [],
   "source": [
    "df_listing_high_renter = pd.merge(df_listing_high_renter,df_pictures_PCA, left_on='id',right_on='listing_id')"
   ]
  },
  {
   "cell_type": "code",
   "execution_count": 849,
   "metadata": {
    "collapsed": false
   },
   "outputs": [],
   "source": [
    "df_colors_cluster.drop(['id',\n",
    " 'review_scores_rating',\n",
    " 'reviews_per_month',\n",
    " 'availability_90',\n",
    " 'price'],axis=1,inplace=True)"
   ]
  },
  {
   "cell_type": "code",
   "execution_count": 851,
   "metadata": {
    "collapsed": false
   },
   "outputs": [],
   "source": [
    "df_listing_high_renter = pd.merge(df_listing_high_renter,df_colors_cluster, left_on='id',right_on='listing_id')"
   ]
  },
  {
   "cell_type": "code",
   "execution_count": 854,
   "metadata": {
    "collapsed": false
   },
   "outputs": [],
   "source": [
    "df_listing_high_renter.drop(['listing_id_x','listing_id_y'],axis=1,inplace=True)"
   ]
  },
  {
   "cell_type": "code",
   "execution_count": 856,
   "metadata": {
    "collapsed": true
   },
   "outputs": [],
   "source": [
    "df_listing_high_renter.to_csv('data/df_listing_high_renter_with_pic_data.csv',index=False)"
   ]
  }
 ],
 "metadata": {
  "anaconda-cloud": {},
  "kernelspec": {
   "display_name": "Python [conda root]",
   "language": "python",
   "name": "conda-root-py"
  },
  "language_info": {
   "codemirror_mode": {
    "name": "ipython",
    "version": 2
   },
   "file_extension": ".py",
   "mimetype": "text/x-python",
   "name": "python",
   "nbconvert_exporter": "python",
   "pygments_lexer": "ipython2",
   "version": "2.7.12"
  }
 },
 "nbformat": 4,
 "nbformat_minor": 2
}
