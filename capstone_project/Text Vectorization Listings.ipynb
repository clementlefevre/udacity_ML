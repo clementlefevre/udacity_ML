{
 "cells": [
  {
   "cell_type": "code",
   "execution_count": 1,
   "metadata": {
    "collapsed": false
   },
   "outputs": [
    {
     "name": "stderr",
     "output_type": "stream",
     "text": [
      "/home/ramon/anaconda2/lib/python2.7/site-packages/ggplot/utils.py:81: FutureWarning: pandas.tslib is deprecated and will be removed in a future version.\n",
      "You can access Timestamp as pandas.Timestamp\n",
      "  pd.tslib.Timestamp,\n",
      "/home/ramon/anaconda2/lib/python2.7/site-packages/ggplot/stats/smoothers.py:4: FutureWarning: The pandas.lib module is deprecated and will be removed in a future version. These are private functions and can be accessed from pandas._libs.lib instead\n",
      "  from pandas.lib import Timestamp\n",
      "/home/ramon/anaconda2/lib/python2.7/site-packages/statsmodels/compat/pandas.py:56: FutureWarning: The pandas.core.datetools module is deprecated and will be removed in a future version. Please use the pandas.tseries module instead.\n",
      "  from pandas.core import datetools\n"
     ]
    }
   ],
   "source": [
    "%matplotlib inline\n",
    "import numpy as np\n",
    "import re\n",
    "from ggplot import *\n",
    "import pandas as pd\n",
    "from langdetect import detect\n",
    "from sklearn.feature_extraction.text import CountVectorizer,TfidfVectorizer\n",
    "from sklearn.model_selection import train_test_split\n",
    "from sklearn.decomposition import PCA\n",
    "\n",
    "from sklearn.cluster import KMeans\n",
    "from sklearn.pipeline import Pipeline\n",
    "from sklearn.linear_model import LinearRegression\n",
    "from sklearn.ensemble import RandomForestClassifier\n",
    "from sklearn.metrics import r2_score, mean_squared_error\n",
    "from nltk.stem.porter import PorterStemmer\n",
    "from nltk.corpus import stopwords\n",
    "import nltk\n",
    "import matplotlib.pyplot as plt\n",
    "from matplotlib import cm\n",
    "import seaborn as sns\n",
    "from sklearn.ensemble import RandomForestRegressor\n"
   ]
  },
  {
   "cell_type": "code",
   "execution_count": 2,
   "metadata": {
    "collapsed": true
   },
   "outputs": [],
   "source": [
    "def get_unique(x):    \n",
    "    return type(x.values[1]),x.unique()\n",
    "\n",
    "def rstr(df):\n",
    "    return df.apply(get_unique)"
   ]
  },
  {
   "cell_type": "code",
   "execution_count": 3,
   "metadata": {
    "collapsed": false
   },
   "outputs": [],
   "source": [
    "df_listing = pd.read_csv('data/listing_cleansed.csv')\n",
    "\n",
    "cols_text =[col for col in df_listing.columns if 'text' in col]\n",
    "cols_of_interest = ['id','review_scores_rating','availability_90']+cols_text\n",
    "df_listing = df_listing[cols_of_interest]"
   ]
  },
  {
   "cell_type": "code",
   "execution_count": 4,
   "metadata": {
    "collapsed": false
   },
   "outputs": [
    {
     "data": {
      "text/html": [
       "<div>\n",
       "<style>\n",
       "    .dataframe thead tr:only-child th {\n",
       "        text-align: right;\n",
       "    }\n",
       "\n",
       "    .dataframe thead th {\n",
       "        text-align: left;\n",
       "    }\n",
       "\n",
       "    .dataframe tbody tr th {\n",
       "        vertical-align: top;\n",
       "    }\n",
       "</style>\n",
       "<table border=\"1\" class=\"dataframe\">\n",
       "  <thead>\n",
       "    <tr style=\"text-align: right;\">\n",
       "      <th></th>\n",
       "      <th>missing_percent</th>\n",
       "    </tr>\n",
       "  </thead>\n",
       "  <tbody>\n",
       "    <tr>\n",
       "      <th>text_notes</th>\n",
       "      <td>68.798871</td>\n",
       "    </tr>\n",
       "    <tr>\n",
       "      <th>text_access</th>\n",
       "      <td>54.919635</td>\n",
       "    </tr>\n",
       "    <tr>\n",
       "      <th>text_interaction</th>\n",
       "      <td>54.887055</td>\n",
       "    </tr>\n",
       "    <tr>\n",
       "      <th>text_neighborhood_overview</th>\n",
       "      <td>48.859687</td>\n",
       "    </tr>\n",
       "    <tr>\n",
       "      <th>text_host_about</th>\n",
       "      <td>46.437880</td>\n",
       "    </tr>\n",
       "    <tr>\n",
       "      <th>text_house_rules</th>\n",
       "      <td>40.204170</td>\n",
       "    </tr>\n",
       "    <tr>\n",
       "      <th>text_transit</th>\n",
       "      <td>39.400521</td>\n",
       "    </tr>\n",
       "    <tr>\n",
       "      <th>text_space</th>\n",
       "      <td>30.701564</td>\n",
       "    </tr>\n",
       "    <tr>\n",
       "      <th>review_scores_rating</th>\n",
       "      <td>17.463076</td>\n",
       "    </tr>\n",
       "    <tr>\n",
       "      <th>text_summary</th>\n",
       "      <td>5.668983</td>\n",
       "    </tr>\n",
       "    <tr>\n",
       "      <th>text_name</th>\n",
       "      <td>0.543006</td>\n",
       "    </tr>\n",
       "    <tr>\n",
       "      <th>text_description</th>\n",
       "      <td>0.043440</td>\n",
       "    </tr>\n",
       "  </tbody>\n",
       "</table>\n",
       "</div>"
      ],
      "text/plain": [
       "                            missing_percent\n",
       "text_notes                        68.798871\n",
       "text_access                       54.919635\n",
       "text_interaction                  54.887055\n",
       "text_neighborhood_overview        48.859687\n",
       "text_host_about                   46.437880\n",
       "text_house_rules                  40.204170\n",
       "text_transit                      39.400521\n",
       "text_space                        30.701564\n",
       "review_scores_rating              17.463076\n",
       "text_summary                       5.668983\n",
       "text_name                          0.543006\n",
       "text_description                   0.043440"
      ]
     },
     "execution_count": 4,
     "metadata": {},
     "output_type": "execute_result"
    }
   ],
   "source": [
    "df_missing_data = pd.DataFrame(df_listing.isnull().sum()/len(df_listing)*100).sort_values(by=0,ascending=False)\n",
    "df_missing_data.columns = ['missing_percent']\n",
    "df_missing_data[df_missing_data.missing_percent>0]"
   ]
  },
  {
   "cell_type": "code",
   "execution_count": 5,
   "metadata": {
    "collapsed": false
   },
   "outputs": [],
   "source": [
    "df_listing = df_listing[(~df_listing.text_name.isnull())& (~df_listing.review_scores_rating.isnull())]\n",
    "df_listing[cols_text] = df_listing[cols_text].astype(str)\n",
    "df_listing['text_all'] =df_listing[cols_text].apply(lambda x: ' '.join(x), axis=1)\n",
    "df_listing['text_all'] =df_listing.text_all.str.replace(r'[^a-zA-Z\\d\\s:]','')"
   ]
  },
  {
   "cell_type": "code",
   "execution_count": 6,
   "metadata": {
    "collapsed": false
   },
   "outputs": [],
   "source": [
    "df_listing = df_listing[df_listing.text_all.str.len()>3]\n"
   ]
  },
  {
   "cell_type": "code",
   "execution_count": 7,
   "metadata": {
    "collapsed": false
   },
   "outputs": [
    {
     "name": "stdout",
     "output_type": "stream",
     "text": [
      "[ 'Bed and Garden nan HistoricalVilla romant Home garden with barbecue children welcome four persons  In our halftimbered villa in PankowNiederschnhausen we offer in historic ambiance a tasteful and stylish apartment for your stay in Berlin On two floors you can live sleep and cook The apartment has its own garden entrance the garden is available for our guests Barbecue and seating available Families with children are welcome there is a playground in the garden  Holiday homes equipment is unique and high quality:  The interior is in color and style of furniture lovingly adapted to the building Underfloor heating and WLan make your stay more comfortable HistoricalVilla romant Home garden with barbecue children welcome four persons  In our halftimbered villa in PankowNiederschnhausen we offer in historic ambiance a tasteful and stylish apartment for your stay in Berlin On two floors you can live sleep and cook The apartment has its own garden entrance the garden is available for our guests Barbecue and seating available Families with children are welcome there is a playground in the garden  Holiday homes equipment is unique and high quality:  The interior is in color and style of furniture lovingly adapted to the building Underfloor heating and WLan make your stay more comfortable none nan nan nan nan nan non smoking area Garden is usable for guests Further rules when you are here : I love my wife and three kids my little dog jack russel traveling cooking art music drawing and being an architect My wife and I love being host to nice people from all around the world'\n",
      " 'familienfreundliche Altbauwohnung Wir sind fter mal ein langes Wochenende verreist und suchen eine jungegroe Familie oder Paare die unsere Wohnung in der Zeit mit Leben fllen Die 140 m2 Wohnung ist kinder und babyfreundlich mit grosser Terrasse und sehr gut gelegen Es gibt 2 Schlafzimmer mit jeweils einem Doppelbett bzw nem Schlafsofa Im Kinderzimmer gibt es 2 Betten und ein Babybett  Es Knnen bequem auch 6 Personen in der Wohnung schlafen Wir sind fter mal ein langes Wochenende verreist und suchen eine jungegroe Familie oder Paare die unsere Wohnung in der Zeit mit Leben fllen Die 140 m2 Wohnung ist kinder und babyfreundlich mit grosser Terrasse und sehr gut gelegen Es gibt 2 Schlafzimmer mit jeweils einem Doppelbett bzw nem Schlafsofa Im Kinderzimmer gibt es 2 Betten und ein Babybett  Es Knnen bequem auch 6 Personen in der Wohnung schlafen Ihr drft die komplette Wohnung  einschlielich der Terrasse nutzen Whrend Deines Aufenthaltes in unserer Wohnung sind wir nicht da aber telefonisch erreichbar um eventuelle Fragen zu beantworten Die Wohnung befindet sich ber einem tollen kleinen Kino blauer Stern Direkt vor dem Haus findet ihr zahlreiche Schnellimbisse und Einkaufsmglichkeiten Kaisers Netto Bcker Rossmann Biomarkt Apotheke  Sehr gute Anbindung an den ffentlichen Nahverkehr Die BVGHaltestelle ist direkt vor der Tr Zum SBahnhof Pankow braucht man nur 10 min none Die Wohnung befindet sich ber einem tollen kleinen Kino blauer Stern Direkt vor dem Haus findet ihr zahlreiche Schnellimbisse und Einkaufsmglichkeiten Kaisers Netto Bcker Rossmann Biomarkt Apotheke  nan Sehr gute Anbindung an den ffentlichen Nahverkehr Die BVGHaltestelle ist direkt vor der Tr Zum SBahnhof Pankow braucht man nur 10 min Ihr drft die komplette Wohnung  einschlielich der Terrasse nutzen Whrend Deines Aufenthaltes in unserer Wohnung sind wir nicht da aber telefonisch erreichbar um eventuelle Fragen zu beantworten Rcksichtsvoller Umgang mit allen Sachen: so wie ihr es auch zu Hause macht Gern ohne Straenschuhen in der Wohnung Ich war frher eine Weltenbummlerin und immer viel auf Reisen Ich habe jeweils ein Semester in Spanien und eins in Australien gelebt \\r\\nGeboren bin ich in Riesa einer Schsischen Kleinstadt Dort habe ich die ersten 18 Jahre meines Lebens verbracht Seit dem bin ich viel in Deutschland unterwegs gewesen und ber 10x umgezogen\\r\\nVor 5 Jahren habe ich eine Familie gegrndet und bin etwas ruhiger geworden Dennoch verreise ich sehr gern Inzwischen reisen wir zu viert '\n",
      " 'Beautiful 105sqm Flat besides Park nan we rent 105sq m of our furnished appartment for 990 livingroom with flatscreen tv  big Couch for sleeping hifi and internet wifi kitchen bathroom with bathtub and washingmashine sleepingroom with doublebed  The House is seated In beautiful and Natural Environment at Pankow surounded by Parks Only 200 meter to Bus and Tram Station From there it Takes less then 14 min to Prenzlauer BergSchnhauser Allee So from the flat to the centre of the City ie Alexanderplatz it takes You only 20 min all together Here You find a Community of different ages Families and Singles which like to practice Yoga and alternative healing wich life together in this house Downstairs You find two Big Yogarooms were daily classes and weekend workshops are held recently as well as massage homopathic treatments we rent 105sq m of our furnished appartment for 990 livingroom with flatscreen tv  big Couch for sleeping hifi and internet wifi kitchen bathroom with bathtub and washingmashine sleepingroom with doublebed  The House is seated In beautiful and Natural Environment at Pankow surounded by Parks Only 200 meter to Bus and Tram Station From there it Takes less then 14 min to Prenzlauer BergSchnhauser Allee So from the flat to the centre of the City ie Alexanderplatz it takes You only 20 min all together Here You find a Community of different ages Families and Singles which like to practice Yoga and alternative healing wich life together in this house Downstairs You find two Big Yogarooms were daily classes and weekend workshops are held recently as well as massage homopathic treatments none nan nan nan nan nan No Smoking  Nichtraucher nan'\n",
      " ...,\n",
      " 'Near northside Berlin 15 mins to centre Renovated very clean apartment located in a quiet treelined culdesac with a nearby lake 50 metres and Ubahn station 100 metres  Easy connections 15 minutes to Alexanderplatz Restaurants shopping cafes  all within minutes walk The apartment is located in a quiet culdesac  no traffic noise The street ends in the park surrounding the lake less than a minute walk away The living room with a nice enclosed terrace and a bedroom are facing a large green and quiet inner courtyard southeast direction so plenty of sun from morning till early afternoon while the large and bright kitchen is facing West and gets a lot of evening sun The apartment is located on the second story of the three story 1920s building with original windows and doors There is no elevator but its a short walk up The street is quiet and there is plenty of free parking if you arrive with the car For your sleeping pleasure all my bedding is 100 percent cotton and all the pillows and blanket are featherdawn combination  no polyester If you need I can also provide a portable baby bed  just let me know in advance Renovated very clean apartment located in a quiet treelined culdesac with a nearby lake 50 metres and Ubahn station 100 metres  Easy connections 15 minutes to Alexanderplatz Restaurants shopping cafes  all within minutes walk The apartment is located in a quiet culdesac  no traffic noise The street ends in the park surrounding the lake less than a minute walk away The living room with a nice enclosed terrace and a bedroom are facing a large green and quiet inner courtyard southeast direction so plenty of sun from morning till early afternoon while the large and bright kitchen is facing West and gets a lot of evening sun The apartment is located on the second story of the three story 1920s building with original windows and doors There is no elevator but its a short walk up The street is quiet and there is plenty of free parking if you arrive with the car For your sleeping pleasure all my bedding is 100 percent cotton and all the pillows and blank none The immediate vicinity is quiet and green  with a lovely park and a lake basically on your door step However a vibrant and busy Residenzstr with its many shops and restaurants is right around the corner or rather around the park   a few minutes walk away All major supermarkets: Aldi Lidl Edeka and Kaisers are all within minutes walk Ubahn station is exactly 3 minute walk away with U8 direct line to Alexanderplatz  there in 10 minutes For nature lovers and bikeriders  the large green Shillerpark 2 min way Volkspark Rehrberge 10 min and Strandbad Ploetzensee 15 min as well as the Berliner Mauerweg  are all in the area For urban explorers the Wedding area of Berlin is basically across the street with many trendy bars and restaurants about 20 minute walk away The area gets some noise from the Tegel airport traffic however it is hardly audible inside the apartment double windows and no airtraffic at night It is completely quiet The area as the whole Berlin is extremely bikefriendly If you prefer public transportation: the UBahn U8 FranzNeumannPlatz Am Schaefersee is 5 minute walk away and a nice walk too  through the park with the lake U8 connects directly with Alexanderplatz 1014 min  this is a subway line that allows carryon bikes You will have access to the entire apartment as well as the courtyard There is plenty of free parking space on the street The neighborhood is quiet and safe as there is a nice fullyilluminating park surrounding the lake boatrentals are available during the season Aside from the playground inside the courtyard there are several nearby   without crossing any streets  so kids are safe to play and run around The area itself is very green as the large Schillerpark is 7 minute walk away and Volkspark Rehberge and Ploetzensee with Strandbad is about 15 minute bike ride away All the major shopping  Aldi Kaisers Netto  within walking distance as many shops and restaurants on the vibrant Residenzstr The neighbourhood is very mixed and very friendly  an piece of authentic Berlin to discover I will personally meet the guests and show them around I speak both English native and German fluently This is my private house so please no smoking inside only on the balcony No loud music no parties There are some antique pieces of furniture as well as books  so please treat those with care but feel free to read whatever you like Im an American originally from Chicago living in Berlin since the 90s My motto: books surround yourself with good books and good people'\n",
      " 'Kleine gemtliche Wohnung Nhe Stadtmitte Gleich in der Strae befindet sich ein Lebensmittelladen Um die Ecke gibt es noch Kaisers und Rossmann ein Solarium zahlreiche Restaurants und Imissbuden Currywurst Dner Asiatisch  Die Wohnung ist klein aber gemtlich und hat einen Balkon Die strae ist sehr ruhig und grenzt an einen See an mit Park  Nur 5 min Fuweg ist die Ubahn U8 und etliche Busstationen nan Gleich in der Strae befindet sich ein Lebensmittelladen Um die Ecke gibt es noch Kaisers und Rossmann ein Solarium zahlreiche Restaurants und Imissbuden Currywurst Dner Asiatisch  Die Wohnung ist klein aber gemtlich und hat einen Balkon Die strae ist sehr ruhig und grenzt an einen See an mit Park  Nur 5 min Fuweg ist die Ubahn U8 und etliche Busstationen Bitte nicht in der Wohnung rauchen und bitte keine Haustiere und auch keine Partys feiern none nan Bitte nicht in der Wohnung rauchen und bitte keine Haustiere und auch keine Partys feiern nan nan nan  Nicht mit Schuhen in der Wohnung rumlaufen Ich bin 22 Jahre alt und studiere Jura im 8 Semester an der Freien Universitt Berlin \\r\\nIch liebe Tiere und bin Nichtraucherin In meiner Freizeit lese ich gerne und mache Fitness\\r\\n\\r\\nIm 22 years old and i study law in Berlin \\r\\nI nearly finished my studies\\r\\nI love animals and i am a nonsmoker\\r\\nIn my freetime i go to the gym and read books'\n",
      " 'Loft im grnen Norden Berlins Willkommen in unserem Loft unter dem Dach Zu erreichen ber eine Wendeltreppe ungnstig fr gehbehinderte Personen Hier findest du alles was du brauchst: ein kleines Schlafzimmer MiniBad WC  Badewanne und groem WohnEssBereich inkl kleiner Kche mit Bartresen Du bist nur ca 68 Gehminuten von der nchsten SU Station entfernt Es gibt ein neues Duschbad exklusiv fr die Gste des Loft eine Etage tiefer Badeschuhe und Bademntel stehen zur Verfgung Das Apartment ist hell und freundlich geschnitten Die kleine offene Kche mit einem Bartresen gibt dem kleinen Loft seinen Charme  Die Kche ist mit einer Nespresso Maschine ausgestattet Die Kapseln knnen entweder selbst mitgebracht werden oder bei uns kuflich erworben werden  Schlafgelegenheit auf einer wandelbaren Schlafcouch fr 2 Personen im Wohnbereich Handtcher und Bettwsche sind inkl und werden nach Bedarf getauscht Willkommen in unserem Loft unter dem Dach Zu erreichen ber eine Wendeltreppe ungnstig fr gehbehinderte Personen Hier findest du alles was du brauchst: ein kleines Schlafzimmer MiniBad WC  Badewanne und groem WohnEssBereich inkl kleiner Kche mit Bartresen Du bist nur ca 68 Gehminuten von der nchsten SU Station entfernt Es gibt ein neues Duschbad exklusiv fr die Gste des Loft eine Etage tiefer Badeschuhe und Bademntel stehen zur Verfgung Das Apartment ist hell und freundlich geschnitten Die kleine offene Kche mit einem Bartresen gibt dem kleinen Loft seinen Charme  Die Kche ist mit einer Nespresso Maschine ausgestattet Die Kapseln knnen entweder selbst mitgebracht werden oder bei uns kuflich erworben werden  Schlafgelegenheit auf einer wandelbaren Schlafcouch fr 2 Personen im Wohnbereich Handtcher und Bettwsche sind inkl und werden nach Bedarf getauscht WLAN mit 100MBits ist kostenlos verfgbar  Gartenbenutzung mglich Parkplatz auf Anfrage Wi none In unmittelbarer Nhe ist alles vorhanden: Supermrkte Getrnkemarkt BioGeschfte Restaurants Cafe Imbiss Fitnessstudio usw Bitte beachte dass das Mitbringen oder Halten von Haustieren nicht gestattet ist unser Haus ist in BerlinWittenau ruhig gelegen und trotzdem nah am Zentrum Zur UBahn sind es 8 min zur SBahn 6min und zum Bus 2 min zu Fu  zB BUS 120 direkt vom Hauptbahnhof zu uns:35min Zur Mitte Brandenburger Tor Potsdamer Platz mit der SBAHN 25min Nach Kreuzberg mit der UBahn25min WLAN mit 100MBits ist kostenlos verfgbar  Gartenbenutzung mglich Parkplatz auf Anfrage Wir Uli und Peter wohnen im Haus und stehen bei Anwesenheit jederzeit gern persnlich und bei Abwesenheit telefonisch zur Verfgung Es ist ein Nichtraucher Apartment Im hauseigenen Garten ist es allerdings gestattet zu rauchen  Non Smoking  Apartment No animals allowed nan']\n"
     ]
    }
   ],
   "source": [
    "stringo = df_listing.text_all.tail(-1).values\n",
    "print stringo"
   ]
  },
  {
   "cell_type": "code",
   "execution_count": 8,
   "metadata": {
    "collapsed": false
   },
   "outputs": [
    {
     "name": "stdout",
     "output_type": "stream",
     "text": [
      "[nltk_data] Downloading package stopwords to /home/ramon/nltk_data...\n",
      "[nltk_data]   Package stopwords is already up-to-date!\n"
     ]
    }
   ],
   "source": [
    "porter = PorterStemmer()\n",
    "\n",
    "def tokenizer_porter(text):\n",
    "    return [porter.stem(word) for word in text.split()]\n",
    "\n",
    "nltk.download('stopwords')\n",
    "\n",
    "stop = stopwords.words('english')\n",
    "\n",
    "raw_text = df_listing.text_all.values\n",
    "\n",
    "vectorizer = TfidfVectorizer(ngram_range=(1,1),tokenizer=tokenizer_porter,stop_words=stop,max_features=20000)\n",
    "X_vectorized = vectorizer.fit_transform(raw_text)"
   ]
  },
  {
   "cell_type": "code",
   "execution_count": 9,
   "metadata": {
    "collapsed": false
   },
   "outputs": [
    {
     "data": {
      "text/html": [
       "<div>\n",
       "<style>\n",
       "    .dataframe thead tr:only-child th {\n",
       "        text-align: right;\n",
       "    }\n",
       "\n",
       "    .dataframe thead th {\n",
       "        text-align: left;\n",
       "    }\n",
       "\n",
       "    .dataframe tbody tr th {\n",
       "        vertical-align: top;\n",
       "    }\n",
       "</style>\n",
       "<table border=\"1\" class=\"dataframe\">\n",
       "  <thead>\n",
       "    <tr style=\"text-align: right;\">\n",
       "      <th></th>\n",
       "      <th>0</th>\n",
       "      <th>1</th>\n",
       "    </tr>\n",
       "  </thead>\n",
       "  <tbody>\n",
       "    <tr>\n",
       "      <th>0</th>\n",
       "      <td>nan</td>\n",
       "      <td>492.168884</td>\n",
       "    </tr>\n",
       "    <tr>\n",
       "      <th>1</th>\n",
       "      <td>apart</td>\n",
       "      <td>416.013535</td>\n",
       "    </tr>\n",
       "    <tr>\n",
       "      <th>2</th>\n",
       "      <td>und</td>\n",
       "      <td>409.968159</td>\n",
       "    </tr>\n",
       "    <tr>\n",
       "      <th>3</th>\n",
       "      <td>berlin</td>\n",
       "      <td>329.086283</td>\n",
       "    </tr>\n",
       "    <tr>\n",
       "      <th>4</th>\n",
       "      <td>room</td>\n",
       "      <td>264.318124</td>\n",
       "    </tr>\n",
       "  </tbody>\n",
       "</table>\n",
       "</div>"
      ],
      "text/plain": [
       "        0           1\n",
       "0     nan  492.168884\n",
       "1   apart  416.013535\n",
       "2     und  409.968159\n",
       "3  berlin  329.086283\n",
       "4    room  264.318124"
      ]
     },
     "execution_count": 9,
     "metadata": {},
     "output_type": "execute_result"
    }
   ],
   "source": [
    "freqs = [(word, X_vectorized.getcol(idx).sum()) for word, idx in vectorizer.vocabulary_.items()]\n",
    "#sort from largest to smallest\n",
    "pd.DataFrame(sorted (freqs, key = lambda x: -x[1])).head()"
   ]
  },
  {
   "cell_type": "code",
   "execution_count": 10,
   "metadata": {
    "collapsed": false
   },
   "outputs": [
    {
     "data": {
      "text/html": [
       "<div>\n",
       "<style>\n",
       "    .dataframe thead tr:only-child th {\n",
       "        text-align: right;\n",
       "    }\n",
       "\n",
       "    .dataframe thead th {\n",
       "        text-align: left;\n",
       "    }\n",
       "\n",
       "    .dataframe tbody tr th {\n",
       "        vertical-align: top;\n",
       "    }\n",
       "</style>\n",
       "<table border=\"1\" class=\"dataframe\">\n",
       "  <thead>\n",
       "    <tr style=\"text-align: right;\">\n",
       "      <th></th>\n",
       "      <th>TFIDF</th>\n",
       "    </tr>\n",
       "  </thead>\n",
       "  <tbody>\n",
       "    <tr>\n",
       "      <th>restaurantsclub</th>\n",
       "      <td>9.238537</td>\n",
       "    </tr>\n",
       "    <tr>\n",
       "      <th>botschaft</th>\n",
       "      <td>9.238537</td>\n",
       "    </tr>\n",
       "    <tr>\n",
       "      <th>yrckstrass</th>\n",
       "      <td>9.238537</td>\n",
       "    </tr>\n",
       "    <tr>\n",
       "      <th>scheunenviertelspandau</th>\n",
       "      <td>9.238537</td>\n",
       "    </tr>\n",
       "    <tr>\n",
       "      <th>mbitss</th>\n",
       "      <td>9.238537</td>\n",
       "    </tr>\n",
       "    <tr>\n",
       "      <th>u8m10s1225</th>\n",
       "      <td>9.238537</td>\n",
       "    </tr>\n",
       "    <tr>\n",
       "      <th>rosenthalor</th>\n",
       "      <td>9.238537</td>\n",
       "    </tr>\n",
       "    <tr>\n",
       "      <th>brotsorten</th>\n",
       "      <td>9.238537</td>\n",
       "    </tr>\n",
       "    <tr>\n",
       "      <th>rosenthalerplatzcent</th>\n",
       "      <td>9.238537</td>\n",
       "    </tr>\n",
       "    <tr>\n",
       "      <th>restand</th>\n",
       "      <td>9.238537</td>\n",
       "    </tr>\n",
       "    <tr>\n",
       "      <th>coyoacn</th>\n",
       "      <td>9.238537</td>\n",
       "    </tr>\n",
       "    <tr>\n",
       "      <th>loislan</th>\n",
       "      <td>9.238537</td>\n",
       "    </tr>\n",
       "    <tr>\n",
       "      <th>stepfre</th>\n",
       "      <td>9.238537</td>\n",
       "    </tr>\n",
       "    <tr>\n",
       "      <th>kaiserinaugustastra</th>\n",
       "      <td>9.238537</td>\n",
       "    </tr>\n",
       "    <tr>\n",
       "      <th>fanni</th>\n",
       "      <td>9.238537</td>\n",
       "    </tr>\n",
       "    <tr>\n",
       "      <th>uscita</th>\n",
       "      <td>9.238537</td>\n",
       "    </tr>\n",
       "    <tr>\n",
       "      <th>racetrack</th>\n",
       "      <td>9.238537</td>\n",
       "    </tr>\n",
       "    <tr>\n",
       "      <th>restaurantssupermarket</th>\n",
       "      <td>9.238537</td>\n",
       "    </tr>\n",
       "    <tr>\n",
       "      <th>doskona</th>\n",
       "      <td>9.238537</td>\n",
       "    </tr>\n",
       "    <tr>\n",
       "      <th>restaurantboot</th>\n",
       "      <td>9.238537</td>\n",
       "    </tr>\n",
       "    <tr>\n",
       "      <th>barnimstrass</th>\n",
       "      <td>9.238537</td>\n",
       "    </tr>\n",
       "    <tr>\n",
       "      <th>hereinaft</th>\n",
       "      <td>9.238537</td>\n",
       "    </tr>\n",
       "    <tr>\n",
       "      <th>rooftopstudio</th>\n",
       "      <td>9.238537</td>\n",
       "    </tr>\n",
       "    <tr>\n",
       "      <th>n347</th>\n",
       "      <td>9.238537</td>\n",
       "    </tr>\n",
       "    <tr>\n",
       "      <th>u2spittelmarkt</th>\n",
       "      <td>9.238537</td>\n",
       "    </tr>\n",
       "    <tr>\n",
       "      <th>striclti</th>\n",
       "      <td>9.238537</td>\n",
       "    </tr>\n",
       "    <tr>\n",
       "      <th>jaccuzi</th>\n",
       "      <td>9.238537</td>\n",
       "    </tr>\n",
       "    <tr>\n",
       "      <th>altstadtinsel</th>\n",
       "      <td>9.238537</td>\n",
       "    </tr>\n",
       "    <tr>\n",
       "      <th>restaurantscafesetc</th>\n",
       "      <td>9.238537</td>\n",
       "    </tr>\n",
       "    <tr>\n",
       "      <th>:da</th>\n",
       "      <td>9.238537</td>\n",
       "    </tr>\n",
       "    <tr>\n",
       "      <th>...</th>\n",
       "      <td>...</td>\n",
       "    </tr>\n",
       "    <tr>\n",
       "      <th>die</th>\n",
       "      <td>2.136038</td>\n",
       "    </tr>\n",
       "    <tr>\n",
       "      <th>place</th>\n",
       "      <td>2.133161</td>\n",
       "    </tr>\n",
       "    <tr>\n",
       "      <th>thi</th>\n",
       "      <td>2.128657</td>\n",
       "    </tr>\n",
       "    <tr>\n",
       "      <th>park</th>\n",
       "      <td>2.123767</td>\n",
       "    </tr>\n",
       "    <tr>\n",
       "      <th>area</th>\n",
       "      <td>2.118901</td>\n",
       "    </tr>\n",
       "    <tr>\n",
       "      <th>ha</th>\n",
       "      <td>2.104443</td>\n",
       "    </tr>\n",
       "    <tr>\n",
       "      <th>der</th>\n",
       "      <td>2.098480</td>\n",
       "    </tr>\n",
       "    <tr>\n",
       "      <th>one</th>\n",
       "      <td>2.097292</td>\n",
       "    </tr>\n",
       "    <tr>\n",
       "      <th>5</th>\n",
       "      <td>2.090978</td>\n",
       "    </tr>\n",
       "    <tr>\n",
       "      <th>station</th>\n",
       "      <td>2.072271</td>\n",
       "    </tr>\n",
       "    <tr>\n",
       "      <th>also</th>\n",
       "      <td>2.041850</td>\n",
       "    </tr>\n",
       "    <tr>\n",
       "      <th>flat</th>\n",
       "      <td>2.019627</td>\n",
       "    </tr>\n",
       "    <tr>\n",
       "      <th>bathroom</th>\n",
       "      <td>2.002198</td>\n",
       "    </tr>\n",
       "    <tr>\n",
       "      <th>minut</th>\n",
       "      <td>1.984006</td>\n",
       "    </tr>\n",
       "    <tr>\n",
       "      <th>im</th>\n",
       "      <td>1.973107</td>\n",
       "    </tr>\n",
       "    <tr>\n",
       "      <th>bed</th>\n",
       "      <td>1.946200</td>\n",
       "    </tr>\n",
       "    <tr>\n",
       "      <th>veri</th>\n",
       "      <td>1.911085</td>\n",
       "    </tr>\n",
       "    <tr>\n",
       "      <th>und</th>\n",
       "      <td>1.894464</td>\n",
       "    </tr>\n",
       "    <tr>\n",
       "      <th>bar</th>\n",
       "      <td>1.869251</td>\n",
       "    </tr>\n",
       "    <tr>\n",
       "      <th>locat</th>\n",
       "      <td>1.832737</td>\n",
       "    </tr>\n",
       "    <tr>\n",
       "      <th>2</th>\n",
       "      <td>1.822760</td>\n",
       "    </tr>\n",
       "    <tr>\n",
       "      <th>walk</th>\n",
       "      <td>1.812881</td>\n",
       "    </tr>\n",
       "    <tr>\n",
       "      <th>live</th>\n",
       "      <td>1.759802</td>\n",
       "    </tr>\n",
       "    <tr>\n",
       "      <th>room</th>\n",
       "      <td>1.754449</td>\n",
       "    </tr>\n",
       "    <tr>\n",
       "      <th>restaur</th>\n",
       "      <td>1.701107</td>\n",
       "    </tr>\n",
       "    <tr>\n",
       "      <th>kitchen</th>\n",
       "      <td>1.694469</td>\n",
       "    </tr>\n",
       "    <tr>\n",
       "      <th>apart</th>\n",
       "      <td>1.460325</td>\n",
       "    </tr>\n",
       "    <tr>\n",
       "      <th>berlin</th>\n",
       "      <td>1.265381</td>\n",
       "    </tr>\n",
       "    <tr>\n",
       "      <th>nan</th>\n",
       "      <td>1.131872</td>\n",
       "    </tr>\n",
       "    <tr>\n",
       "      <th>none</th>\n",
       "      <td>1.000000</td>\n",
       "    </tr>\n",
       "  </tbody>\n",
       "</table>\n",
       "<p>20000 rows × 1 columns</p>\n",
       "</div>"
      ],
      "text/plain": [
       "                           TFIDF\n",
       "restaurantsclub         9.238537\n",
       "botschaft               9.238537\n",
       "yrckstrass              9.238537\n",
       "scheunenviertelspandau  9.238537\n",
       "mbitss                  9.238537\n",
       "u8m10s1225              9.238537\n",
       "rosenthalor             9.238537\n",
       "brotsorten              9.238537\n",
       "rosenthalerplatzcent    9.238537\n",
       "restand                 9.238537\n",
       "coyoacn                 9.238537\n",
       "loislan                 9.238537\n",
       "stepfre                 9.238537\n",
       "kaiserinaugustastra     9.238537\n",
       "fanni                   9.238537\n",
       "uscita                  9.238537\n",
       "racetrack               9.238537\n",
       "restaurantssupermarket  9.238537\n",
       "doskona                 9.238537\n",
       "restaurantboot          9.238537\n",
       "barnimstrass            9.238537\n",
       "hereinaft               9.238537\n",
       "rooftopstudio           9.238537\n",
       "n347                    9.238537\n",
       "u2spittelmarkt          9.238537\n",
       "striclti                9.238537\n",
       "jaccuzi                 9.238537\n",
       "altstadtinsel           9.238537\n",
       "restaurantscafesetc     9.238537\n",
       ":da                     9.238537\n",
       "...                          ...\n",
       "die                     2.136038\n",
       "place                   2.133161\n",
       "thi                     2.128657\n",
       "park                    2.123767\n",
       "area                    2.118901\n",
       "ha                      2.104443\n",
       "der                     2.098480\n",
       "one                     2.097292\n",
       "5                       2.090978\n",
       "station                 2.072271\n",
       "also                    2.041850\n",
       "flat                    2.019627\n",
       "bathroom                2.002198\n",
       "minut                   1.984006\n",
       "im                      1.973107\n",
       "bed                     1.946200\n",
       "veri                    1.911085\n",
       "und                     1.894464\n",
       "bar                     1.869251\n",
       "locat                   1.832737\n",
       "2                       1.822760\n",
       "walk                    1.812881\n",
       "live                    1.759802\n",
       "room                    1.754449\n",
       "restaur                 1.701107\n",
       "kitchen                 1.694469\n",
       "apart                   1.460325\n",
       "berlin                  1.265381\n",
       "nan                     1.131872\n",
       "none                    1.000000\n",
       "\n",
       "[20000 rows x 1 columns]"
      ]
     },
     "execution_count": 10,
     "metadata": {},
     "output_type": "execute_result"
    }
   ],
   "source": [
    "idf = vectorizer.idf_\n",
    "df_tfidf = pd.DataFrame.from_dict(dict(zip(vectorizer.get_feature_names(), idf)),orient='index')\n",
    "df_tfidf.columns=['TFIDF']\n",
    "df_tfidf.sort_values(by='TFIDF',ascending=False)"
   ]
  },
  {
   "cell_type": "code",
   "execution_count": 11,
   "metadata": {
    "collapsed": false
   },
   "outputs": [
    {
     "data": {
      "text/plain": [
       "(7567, 20000)"
      ]
     },
     "execution_count": 11,
     "metadata": {},
     "output_type": "execute_result"
    }
   ],
   "source": [
    "X_vectorized.shape"
   ]
  },
  {
   "cell_type": "code",
   "execution_count": 12,
   "metadata": {
    "collapsed": true
   },
   "outputs": [],
   "source": [
    "X_train,X_test,y_train,y_test = train_test_split(X_vectorized,df_listing.availability_90.values,test_size=.2)\n"
   ]
  },
  {
   "cell_type": "code",
   "execution_count": 13,
   "metadata": {
    "collapsed": false
   },
   "outputs": [
    {
     "data": {
      "text/plain": [
       "-3.1148104409921302"
      ]
     },
     "execution_count": 13,
     "metadata": {},
     "output_type": "execute_result"
    }
   ],
   "source": [
    "lm = LinearRegression()\n",
    "lm.fit(X_train,y_train)\n",
    "prediction = lm.predict(X_test)\n",
    "r2_score(y_test,prediction)"
   ]
  },
  {
   "cell_type": "code",
   "execution_count": 14,
   "metadata": {
    "collapsed": false
   },
   "outputs": [
    {
     "data": {
      "text/plain": [
       "-0.029003008559893129"
      ]
     },
     "execution_count": 14,
     "metadata": {},
     "output_type": "execute_result"
    }
   ],
   "source": [
    "rf = RandomForestRegressor()\n",
    "rf.fit(X_train,y_train)\n",
    "prediction = rf.predict(X_test)\n",
    "r2_score(y_test,prediction)"
   ]
  }
 ],
 "metadata": {
  "anaconda-cloud": {},
  "kernelspec": {
   "display_name": "Python [conda root]",
   "language": "python",
   "name": "conda-root-py"
  },
  "language_info": {
   "codemirror_mode": {
    "name": "ipython",
    "version": 2
   },
   "file_extension": ".py",
   "mimetype": "text/x-python",
   "name": "python",
   "nbconvert_exporter": "python",
   "pygments_lexer": "ipython2",
   "version": "2.7.12"
  }
 },
 "nbformat": 4,
 "nbformat_minor": 1
}
