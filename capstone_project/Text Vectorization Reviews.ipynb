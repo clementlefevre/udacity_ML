{
 "cells": [
  {
   "cell_type": "markdown",
   "metadata": {},
   "source": [
    "# AirBnB : Part 1 : data preparation for reviews text."
   ]
  },
  {
   "cell_type": "markdown",
   "metadata": {},
   "source": [
    "In this part, we briefly analyze the content of the text reviews.\n",
    "\n",
    "Then after having vectorized those reviews, we will use dimensionality reduction to make them usable as predictors.\n",
    "\n",
    "At the end of the process, using the Principal Components Eigenvectors,  we build new features and add them to the listing dataset."
   ]
  },
  {
   "cell_type": "code",
   "execution_count": 25,
   "metadata": {
    "collapsed": false
   },
   "outputs": [],
   "source": [
    "%matplotlib inline\n",
    "\n",
    "import numpy as np\n",
    "from ggplot import *\n",
    "import pandas as pd\n",
    "from langdetect import detect\n",
    "from sklearn.feature_extraction.text import CountVectorizer,TfidfVectorizer,HashingVectorizer\n",
    "from sklearn.model_selection import train_test_split,GridSearchCV\n",
    "from sklearn.preprocessing import MinMaxScaler\n",
    "from sklearn.linear_model import SGDRegressor\n",
    "from sklearn.svm import SVR\n",
    "from sklearn.decomposition import TruncatedSVD\n",
    "\n",
    "\n",
    "from sklearn.ensemble import RandomForestClassifier,RandomForestRegressor\n",
    "from sklearn.naive_bayes import MultinomialNB\n",
    "from sklearn.metrics import r2_score, mean_squared_error, confusion_matrix,classification_report\n",
    "\n",
    "from xgboost import XGBRegressor\n",
    "\n",
    "import nltk\n",
    "import matplotlib.pyplot as plt\n",
    "from matplotlib import cm\n",
    "import seaborn as sns\n",
    "\n",
    "from utils import detect_lang"
   ]
  },
  {
   "cell_type": "markdown",
   "metadata": {},
   "source": [
    "## Label the reviews per language"
   ]
  },
  {
   "cell_type": "markdown",
   "metadata": {},
   "source": [
    "Before proceeding to text vectorization, we label each review with its corresponding language.\n",
    "\n",
    "To implement this, i use the the [langdetect](https://pypi.python.org/pypi/langdetect?) package"
   ]
  },
  {
   "cell_type": "code",
   "execution_count": 26,
   "metadata": {
    "collapsed": false
   },
   "outputs": [],
   "source": [
    "def add_language_to_reviews(df):\n",
    "    df_reviews = pd.read_csv('data/reviews.csv')\n",
    "    df_reviews[\"comments2\"] = df_reviews.comments.apply(lambda x:str(x).decode('utf-8'))\n",
    "    df_reviews['language']= df_reviews.comments2.apply(detect_lang)\n",
    "    df_reviews.to_csv(\"data/reviews_with_lang.csv\")"
   ]
  },
  {
   "cell_type": "code",
   "execution_count": 27,
   "metadata": {
    "collapsed": false
   },
   "outputs": [],
   "source": [
    "df_reviews = pd.read_csv('data/reviews_with_lang.csv')\n",
    "\n",
    "# drop missing reviews\n",
    "df_reviews = df_reviews[~df_reviews.comments.isnull()]\n",
    "\n",
    "# retrieve clean listing data from Data Preparation\n",
    "df_listing = pd.read_csv('data/listing_cleansed.csv')\n"
   ]
  },
  {
   "cell_type": "markdown",
   "metadata": {},
   "source": [
    "Once each reviews has been labelled, we can proceed to a short analysis regarding the relationships between the languages reviews and the appartment rating."
   ]
  },
  {
   "cell_type": "code",
   "execution_count": 28,
   "metadata": {
    "collapsed": false
   },
   "outputs": [],
   "source": [
    "df_reviews  = pd.merge(df_reviews,df_listing[['id','review_scores_rating','review_scores_cleanliness','availability_30','availability_90','reviews_per_month','price']],left_on='listing_id',right_on='id' )"
   ]
  },
  {
   "cell_type": "markdown",
   "metadata": {},
   "source": [
    "### Cancelled reservations"
   ]
  },
  {
   "cell_type": "code",
   "execution_count": 29,
   "metadata": {
    "collapsed": false
   },
   "outputs": [
    {
     "data": {
      "text/plain": [
       "<matplotlib.axes._subplots.AxesSubplot at 0x7f7e6c002a90>"
      ]
     },
     "execution_count": 29,
     "metadata": {},
     "output_type": "execute_result"
    },
    {
     "data": {
      "image/png": "[encoded data removed]",
      "text/plain": [
       "<matplotlib.figure.Figure at 0x7f7e66be4550>"
      ]
     },
     "metadata": {},
     "output_type": "display_data"
    }
   ],
   "source": [
    "df_reviews.comments.str.contains('The host canceled this reservation').value_counts(dropna=False).plot.bar(title='Reservation cancelled')"
   ]
  },
  {
   "cell_type": "markdown",
   "metadata": {},
   "source": [
    "### Drop cancelled reservations"
   ]
  },
  {
   "cell_type": "code",
   "execution_count": 30,
   "metadata": {
    "collapsed": true
   },
   "outputs": [],
   "source": [
    "df_reviews = df_reviews[~df_reviews.comments.str.contains('The host canceled this reservation')]"
   ]
  },
  {
   "cell_type": "code",
   "execution_count": 31,
   "metadata": {
    "collapsed": false
   },
   "outputs": [
    {
     "data": {
      "text/plain": [
       "<matplotlib.axes._subplots.AxesSubplot at 0x7f7e6bd9f190>"
      ]
     },
     "execution_count": 31,
     "metadata": {},
     "output_type": "execute_result"
    },
    {
     "data": {
      "image/png": "[encoded data removed]",
      "text/plain": [
       "<matplotlib.figure.Figure at 0x7f7e6da82390>"
      ]
     },
     "metadata": {},
     "output_type": "display_data"
    }
   ],
   "source": [
    "groupy_per_lang = df_reviews.groupby('language').comments.count().sort_values(ascending = False)\n",
    "\n",
    "groupy_per_lang.plot.bar(title=\"Per review language\",figsize=(12, 6))"
   ]
  },
  {
   "cell_type": "code",
   "execution_count": 32,
   "metadata": {
    "collapsed": false
   },
   "outputs": [
    {
     "data": {
      "text/html": [
       "<div>\n",
       "<style>\n",
       "    .dataframe thead tr:only-child th {\n",
       "        text-align: right;\n",
       "    }\n",
       "\n",
       "    .dataframe thead th {\n",
       "        text-align: left;\n",
       "    }\n",
       "\n",
       "    .dataframe tbody tr th {\n",
       "        vertical-align: top;\n",
       "    }\n",
       "</style>\n",
       "<table border=\"1\" class=\"dataframe\">\n",
       "  <thead>\n",
       "    <tr style=\"text-align: right;\">\n",
       "      <th></th>\n",
       "      <th>comments</th>\n",
       "      <th>% total reviews</th>\n",
       "    </tr>\n",
       "    <tr>\n",
       "      <th>language</th>\n",
       "      <th></th>\n",
       "      <th></th>\n",
       "    </tr>\n",
       "  </thead>\n",
       "  <tbody>\n",
       "    <tr>\n",
       "      <th>en</th>\n",
       "      <td>96099</td>\n",
       "      <td>68.86</td>\n",
       "    </tr>\n",
       "    <tr>\n",
       "      <th>de</th>\n",
       "      <td>25476</td>\n",
       "      <td>18.25</td>\n",
       "    </tr>\n",
       "    <tr>\n",
       "      <th>fr</th>\n",
       "      <td>7021</td>\n",
       "      <td>5.03</td>\n",
       "    </tr>\n",
       "    <tr>\n",
       "      <th>es</th>\n",
       "      <td>3664</td>\n",
       "      <td>2.63</td>\n",
       "    </tr>\n",
       "    <tr>\n",
       "      <th>it</th>\n",
       "      <td>1907</td>\n",
       "      <td>1.37</td>\n",
       "    </tr>\n",
       "  </tbody>\n",
       "</table>\n",
       "</div>"
      ],
      "text/plain": [
       "          comments  % total reviews\n",
       "language                           \n",
       "en           96099            68.86\n",
       "de           25476            18.25\n",
       "fr            7021             5.03\n",
       "es            3664             2.63\n",
       "it            1907             1.37"
      ]
     },
     "execution_count": 32,
     "metadata": {},
     "output_type": "execute_result"
    }
   ],
   "source": [
    "df_lang = pd.DataFrame(groupy_per_lang)\n",
    "df_lang['% total reviews']=np.round(df_lang.comments/df_lang.comments.sum()*100.0,2)\n",
    "df_lang.head()"
   ]
  },
  {
   "cell_type": "markdown",
   "metadata": {},
   "source": [
    "From this chart, we will only use reviews written in english (69% of the total reviews)"
   ]
  },
  {
   "cell_type": "code",
   "execution_count": 33,
   "metadata": {
    "collapsed": false
   },
   "outputs": [
    {
     "data": {
      "image/png": "[encoded data removed]",
      "text/plain": [
       "<matplotlib.figure.Figure at 0x7f7e6b0fc610>"
      ]
     },
     "metadata": {},
     "output_type": "display_data"
    },
    {
     "data": {
      "text/plain": [
       "<ggplot: (8761331715777)>"
      ]
     },
     "execution_count": 33,
     "metadata": {},
     "output_type": "execute_result"
    }
   ],
   "source": [
    "ggplot(df_reviews[df_reviews.price<200],aes(x='language', y='price'))+geom_boxplot() +ggtitle('Rented appartments price per reviewer language')"
   ]
  },
  {
   "cell_type": "markdown",
   "metadata": {},
   "source": [
    "Out of scope here, but still interesting, the high median price for scandinavian hosts, and low ones for countries from Balkans."
   ]
  },
  {
   "cell_type": "code",
   "execution_count": null,
   "metadata": {
    "collapsed": true
   },
   "outputs": [],
   "source": [
    "def concat_comments(x):\n",
    "    x = x.str.replace(r'[^a-zA-Z\\d\\s:]','')\n",
    "    return \"%s\" % '- '.join(x)\n",
    "\n",
    "df_reviews_eng = df_reviews[df_reviews.language=='en']\n",
    "\n",
    "df_reviews_eng = df_reviews_eng[~df_reviews_eng.review_scores_rating.isnull()]\n",
    "df_reviews_eng = df_reviews_eng[~df_reviews_eng.comments.str.contains('The host canceled this reservation')]"
   ]
  },
  {
   "cell_type": "code",
   "execution_count": 34,
   "metadata": {
    "collapsed": false
   },
   "outputs": [],
   "source": [
    "groupy = df_reviews_eng.groupby('listing_id').agg({'comments': [concat_comments,'count'], 'review_scores_rating': 'mean', 'availability_30':'mean','availability_90':'mean','reviews_per_month':'mean'})\n",
    "groupy.columns = [\"_\".join(x) for x in groupy.columns.ravel()]\n",
    "groupy.comments_concat_comments = groupy.comments_concat_comments.str.lower()"
   ]
  },
  {
   "cell_type": "code",
   "execution_count": 93,
   "metadata": {
    "collapsed": false
   },
   "outputs": [
    {
     "data": {
      "text/plain": [
       "(7009, 7)"
      ]
     },
     "execution_count": 93,
     "metadata": {},
     "output_type": "execute_result"
    }
   ],
   "source": [
    "groupy.shape"
   ]
  },
  {
   "cell_type": "code",
   "execution_count": 35,
   "metadata": {
    "collapsed": false
   },
   "outputs": [
    {
     "data": {
      "image/png": "[encoded data removed]",
      "text/plain": [
       "<matplotlib.figure.Figure at 0x7f7e6ab31ad0>"
      ]
     },
     "metadata": {},
     "output_type": "display_data"
    },
    {
     "data": {
      "text/plain": [
       "<ggplot: (8761308680901)>"
      ]
     },
     "execution_count": 35,
     "metadata": {},
     "output_type": "execute_result"
    }
   ],
   "source": [
    "ggplot(groupy,aes(x='availability_30_mean',y='reviews_per_month_mean'))+geom_boxplot()"
   ]
  },
  {
   "cell_type": "markdown",
   "metadata": {},
   "source": [
    "Critical informations here : The appartments with Zero availability are mostly appartments that are not rented (very low number of reviews per months) rather than fully booked. We can exclude them."
   ]
  },
  {
   "cell_type": "code",
   "execution_count": 36,
   "metadata": {
    "collapsed": false
   },
   "outputs": [
    {
     "data": {
      "text/html": [
       "<div>\n",
       "<style>\n",
       "    .dataframe thead tr:only-child th {\n",
       "        text-align: right;\n",
       "    }\n",
       "\n",
       "    .dataframe thead th {\n",
       "        text-align: left;\n",
       "    }\n",
       "\n",
       "    .dataframe tbody tr th {\n",
       "        vertical-align: top;\n",
       "    }\n",
       "</style>\n",
       "<table border=\"1\" class=\"dataframe\">\n",
       "  <thead>\n",
       "    <tr style=\"text-align: right;\">\n",
       "      <th></th>\n",
       "      <th>review_scores_rating_mean</th>\n",
       "      <th>availability_90_mean</th>\n",
       "      <th>availability_30_mean</th>\n",
       "    </tr>\n",
       "  </thead>\n",
       "  <tbody>\n",
       "    <tr>\n",
       "      <th>count</th>\n",
       "      <td>7009.000000</td>\n",
       "      <td>7009.000000</td>\n",
       "      <td>7009.000000</td>\n",
       "    </tr>\n",
       "    <tr>\n",
       "      <th>mean</th>\n",
       "      <td>93.338422</td>\n",
       "      <td>18.706663</td>\n",
       "      <td>4.598516</td>\n",
       "    </tr>\n",
       "    <tr>\n",
       "      <th>std</th>\n",
       "      <td>7.400301</td>\n",
       "      <td>24.575723</td>\n",
       "      <td>6.870689</td>\n",
       "    </tr>\n",
       "    <tr>\n",
       "      <th>min</th>\n",
       "      <td>20.000000</td>\n",
       "      <td>0.000000</td>\n",
       "      <td>0.000000</td>\n",
       "    </tr>\n",
       "    <tr>\n",
       "      <th>25%</th>\n",
       "      <td>90.000000</td>\n",
       "      <td>0.000000</td>\n",
       "      <td>0.000000</td>\n",
       "    </tr>\n",
       "    <tr>\n",
       "      <th>50%</th>\n",
       "      <td>95.000000</td>\n",
       "      <td>6.000000</td>\n",
       "      <td>0.000000</td>\n",
       "    </tr>\n",
       "    <tr>\n",
       "      <th>75%</th>\n",
       "      <td>100.000000</td>\n",
       "      <td>31.000000</td>\n",
       "      <td>7.000000</td>\n",
       "    </tr>\n",
       "    <tr>\n",
       "      <th>max</th>\n",
       "      <td>100.000000</td>\n",
       "      <td>90.000000</td>\n",
       "      <td>30.000000</td>\n",
       "    </tr>\n",
       "  </tbody>\n",
       "</table>\n",
       "</div>"
      ],
      "text/plain": [
       "       review_scores_rating_mean  availability_90_mean  availability_30_mean\n",
       "count                7009.000000           7009.000000           7009.000000\n",
       "mean                   93.338422             18.706663              4.598516\n",
       "std                     7.400301             24.575723              6.870689\n",
       "min                    20.000000              0.000000              0.000000\n",
       "25%                    90.000000              0.000000              0.000000\n",
       "50%                    95.000000              6.000000              0.000000\n",
       "75%                   100.000000             31.000000              7.000000\n",
       "max                   100.000000             90.000000             30.000000"
      ]
     },
     "execution_count": 36,
     "metadata": {},
     "output_type": "execute_result"
    }
   ],
   "source": [
    "groupy[['review_scores_rating_mean','availability_90_mean','availability_30_mean']].describe()"
   ]
  },
  {
   "cell_type": "markdown",
   "metadata": {},
   "source": [
    "### Remove stop words, host names and Stem text reviews."
   ]
  },
  {
   "cell_type": "markdown",
   "metadata": {},
   "source": [
    "#### Host names"
   ]
  },
  {
   "cell_type": "code",
   "execution_count": 50,
   "metadata": {
    "collapsed": false
   },
   "outputs": [],
   "source": [
    "all_host_names = df_listing.host_name.str.lower()\n",
    "all_host_names = all_host_names.unique().tolist()\n"
   ]
  },
  {
   "cell_type": "code",
   "execution_count": 52,
   "metadata": {
    "collapsed": false
   },
   "outputs": [
    {
     "data": {
      "text/plain": [
       "3213"
      ]
     },
     "execution_count": 52,
     "metadata": {},
     "output_type": "execute_result"
    }
   ],
   "source": [
    "len(all_host_names)"
   ]
  },
  {
   "cell_type": "markdown",
   "metadata": {},
   "source": [
    "#### Stop words and stem"
   ]
  },
  {
   "cell_type": "code",
   "execution_count": null,
   "metadata": {
    "collapsed": true
   },
   "outputs": [],
   "source": [
    "additional_names = ['etienn',]"
   ]
  },
  {
   "cell_type": "code",
   "execution_count": 54,
   "metadata": {
    "collapsed": false
   },
   "outputs": [],
   "source": [
    "porter = nltk.stem.porter.PorterStemmer()\n",
    "\n",
    "def tokenizer_porter(text):\n",
    "    return [porter.stem(word) for word in text.split()]\n",
    "\n",
    "stop = nltk.corpus.stopwords.words('english')\n",
    "stop =list(set(stop)-set(['no', 'not', 'never','don\\'t','couldn\\'t']))+all_host_names\n",
    "\n",
    "groupy['good_bad_review']=np.where(groupy.review_scores_rating_mean>94,'good','bad')\n",
    "X = groupy.comments_concat_comments.values\n",
    "y = groupy.good_bad_review.values\n",
    "\n",
    "X_train,X_test,y_train,y_test = train_test_split(X,y,test_size=0.2)"
   ]
  },
  {
   "cell_type": "markdown",
   "metadata": {},
   "source": [
    "### Vectorize text using Tfidf"
   ]
  },
  {
   "cell_type": "code",
   "execution_count": 55,
   "metadata": {
    "collapsed": true
   },
   "outputs": [],
   "source": [
    "vectorizer = TfidfVectorizer(ngram_range=(2,3),tokenizer=tokenizer_porter,stop_words=stop,max_features=20000)\n",
    "X_train_vectorized = vectorizer.fit_transform(X_train).todense()"
   ]
  },
  {
   "cell_type": "markdown",
   "metadata": {},
   "source": [
    "### Scale data for PCA"
   ]
  },
  {
   "cell_type": "code",
   "execution_count": 56,
   "metadata": {
    "collapsed": false
   },
   "outputs": [],
   "source": [
    "scaler = MinMaxScaler()\n",
    "X_train_vectorized = scaler.fit_transform(X_train_vectorized)"
   ]
  },
  {
   "cell_type": "code",
   "execution_count": 57,
   "metadata": {
    "collapsed": true
   },
   "outputs": [],
   "source": [
    "X_test_vectorized = vectorizer.transform(X_test).todense()\n",
    "X_test_vectorized = scaler.transform(X_test_vectorized)"
   ]
  },
  {
   "cell_type": "markdown",
   "metadata": {},
   "source": [
    "### Quick classification overview"
   ]
  },
  {
   "cell_type": "markdown",
   "metadata": {},
   "source": [
    "In order the check wether using the reviews as predictor, we can run a simple classification tasks on whether the review score is higher than the median value (94%, which balances the dataset):"
   ]
  },
  {
   "cell_type": "code",
   "execution_count": 64,
   "metadata": {
    "collapsed": false
   },
   "outputs": [],
   "source": [
    "clf = MultinomialNB()\n",
    "clf.fit(X_train_vectorized,y_train)\n",
    "predicted = clf.predict(X_test_vectorized)"
   ]
  },
  {
   "cell_type": "code",
   "execution_count": 65,
   "metadata": {
    "collapsed": false,
    "scrolled": true
   },
   "outputs": [
    {
     "name": "stdout",
     "output_type": "stream",
     "text": [
      "[[463 194]\n",
      " [217 528]]\n",
      "             precision    recall  f1-score   support\n",
      "\n",
      "        bad       0.70      0.68      0.69       680\n",
      "       good       0.71      0.73      0.72       722\n",
      "\n",
      "avg / total       0.71      0.71      0.71      1402\n",
      "\n"
     ]
    }
   ],
   "source": [
    "print confusion_matrix(y_test,predicted)\n",
    "print classification_report(predicted,y_test)"
   ]
  },
  {
   "cell_type": "markdown",
   "metadata": {},
   "source": [
    "Even if not very accurate, using those features could be good additional predictor for our regressor."
   ]
  },
  {
   "cell_type": "code",
   "execution_count": 60,
   "metadata": {
    "collapsed": false
   },
   "outputs": [
    {
     "data": {
      "text/html": [
       "<div>\n",
       "<style>\n",
       "    .dataframe thead tr:only-child th {\n",
       "        text-align: right;\n",
       "    }\n",
       "\n",
       "    .dataframe thead th {\n",
       "        text-align: left;\n",
       "    }\n",
       "\n",
       "    .dataframe tbody tr th {\n",
       "        vertical-align: top;\n",
       "    }\n",
       "</style>\n",
       "<table border=\"1\" class=\"dataframe\">\n",
       "  <thead>\n",
       "    <tr style=\"text-align: right;\">\n",
       "      <th></th>\n",
       "      <th>TFIDF</th>\n",
       "    </tr>\n",
       "  </thead>\n",
       "  <tbody>\n",
       "    <tr>\n",
       "      <th>marylis wa</th>\n",
       "      <td>8.938802</td>\n",
       "    </tr>\n",
       "    <tr>\n",
       "      <th>lanc wa</th>\n",
       "      <td>8.938802</td>\n",
       "    </tr>\n",
       "    <tr>\n",
       "      <th>mauric wa</th>\n",
       "      <td>8.938802</td>\n",
       "    </tr>\n",
       "    <tr>\n",
       "      <th>nanci wa</th>\n",
       "      <td>8.938802</td>\n",
       "    </tr>\n",
       "    <tr>\n",
       "      <th>nestor wa</th>\n",
       "      <td>8.533337</td>\n",
       "    </tr>\n",
       "  </tbody>\n",
       "</table>\n",
       "</div>"
      ],
      "text/plain": [
       "               TFIDF\n",
       "marylis wa  8.938802\n",
       "lanc wa     8.938802\n",
       "mauric wa   8.938802\n",
       "nanci wa    8.938802\n",
       "nestor wa   8.533337"
      ]
     },
     "execution_count": 60,
     "metadata": {},
     "output_type": "execute_result"
    }
   ],
   "source": [
    "idf = vectorizer.idf_\n",
    "df_idf = pd.DataFrame.from_dict(dict(zip(vectorizer.get_feature_names(), idf)),orient='index')\n",
    "df_idf.columns=['TFIDF']\n",
    "df_idf = df_idf.sort_values(by='TFIDF',ascending=False)\n",
    "df_idf.head()"
   ]
  },
  {
   "cell_type": "markdown",
   "metadata": {},
   "source": [
    "Interesting enough, we can check which stemmed word are weighting the most in this binary classification :"
   ]
  },
  {
   "cell_type": "code",
   "execution_count": 61,
   "metadata": {
    "collapsed": false
   },
   "outputs": [
    {
     "name": "stdout",
     "output_type": "stream",
     "text": [
      "\t-12.1692\tetienn wa      \t\t-6.1469\tapart wa       \n",
      "\t-12.1692\tjena wa        \t\t-6.2957\teveryth need   \n",
      "\t-12.1692\tmarylis wa     \t\t-6.5097\twould definit  \n",
      "\t-12.1692\tmauric wa      \t\t-6.5107\trecommend thi  \n",
      "\t-12.1692\tnestor wa      \t\t-6.5766\twa veri        \n",
      "\t-12.1692\tnikla wa       \t\t-6.6433\tpublic transport\n",
      "\t-12.1692\tno toilet      \t\t-6.8288\tstay berlin    \n",
      "\t-12.1692\tno toilet paper\t\t-6.8597\tveri close     \n",
      "\t-12.1692\trudi wa        \t\t-6.8682\tveri help      \n",
      "\t-12.1692\tveri dirti     \t\t-6.8766\tgreat locat    \n",
      "\t-12.1692\tviliu wa       \t\t-6.8941\twould recommend\n",
      "\t-12.1256\tbit disappoint \t\t-6.9024\twalk distanc   \n",
      "\t-12.0835\tplace price    \t\t-6.9106\thighli recommend\n",
      "\t-12.0581\tnatur histori museum\t\t-6.9310\tveri clean     \n",
      "\t-12.0248\tmathia wa      \t\t-6.9351\t- apart        \n",
      "\t-12.0174\tnot veri clean \t\t-6.9437\tthi apart      \n",
      "\t-11.9694\tveri disappoint\t\t-6.9503\tberlin -       \n",
      "\t-11.9440\tveri bad       \t\t-7.0025\twa great       \n",
      "\t-11.9281\tnatur histori  \t\t-7.0055\tveri well      \n",
      "\t-11.9224\twa howev       \t\t-7.0233\tveri comfort   \n",
      "\t-11.9122\twa not clean   \t\t-7.0281\t- great        \n",
      "\t-11.9065\thour befor arriv\t\t-7.0516\tstay apart     \n",
      "\t-11.8891\tdoesnt speak   \t\t-7.0963\tplace wa       \n",
      "\t-11.8878\tbetti wa       \t\t-7.0983\twell equip     \n",
      "\t-11.8835\twasnt clean    \t\t-7.0997\twa realli      \n",
      "\t-11.8620\tnot fulli      \t\t-7.1004\tgreat host     \n",
      "\t-11.8519\tbit cleaner    \t\t-7.1035\tapart veri     \n",
      "\t-11.8460\twa told        \t\t-7.1294\trecommend stay \n",
      "\t-11.8447\tinternet not   \t\t-7.1313\tvisit berlin   \n",
      "\t-11.8403\twould not stay \t\t-7.1316\trecommend -    \n",
      "\t-11.8360\tno respons     \t\t-7.1396\tcome back      \n",
      "\t-11.8335\treview thi     \t\t-7.1521\tthi place      \n",
      "\t-11.8292\tdoor lock      \t\t-7.2006\tdefinit stay   \n",
      "\t-11.8214\tgood short     \t\t-7.2281\tdure stay      \n",
      "\t-11.8120\tshower head wa \t\t-7.2283\tflat wa        \n",
      "\t-11.7828\t2 room         \t\t-7.2406\tbar restaur    \n",
      "\t-11.7748\tapart rather   \t\t-7.2427\tveri nice      \n",
      "\t-11.7484\tno frill       \t\t-7.2478\twell locat     \n",
      "\t-11.7422\tlocat howev    \t\t-7.2508\tplace stay     \n",
      "\t-11.7411\tshower bed     \t\t-7.2650\trestaur bar    \n"
     ]
    }
   ],
   "source": [
    "def show_most_informative_features(vectorizer, clf, n=20):\n",
    "    feature_names = vectorizer.get_feature_names()\n",
    "    coefs_with_fns = sorted(zip(clf.coef_[0], feature_names))\n",
    "    top = zip(coefs_with_fns[:n], coefs_with_fns[:-(n + 1):-1])\n",
    "    for (coef_1, fn_1), (coef_2, fn_2) in top:\n",
    "        print \"\\t%.4f\\t%-15s\\t\\t%.4f\\t%-15s\" % (coef_1, fn_1, coef_2, fn_2)\n",
    "        \n",
    "show_most_informative_features(vectorizer,clf,n=40)"
   ]
  },
  {
   "cell_type": "markdown",
   "metadata": {},
   "source": [
    "Well, toilet papers, bad internet, broken shower head seem to be a no-go."
   ]
  },
  {
   "cell_type": "markdown",
   "metadata": {},
   "source": [
    "### Dimensionality reduction\n"
   ]
  },
  {
   "cell_type": "markdown",
   "metadata": {},
   "source": [
    "Now we have scaled vectorized vector using Tfidf, we can reduce the number of columns using a PCA"
   ]
  },
  {
   "cell_type": "code",
   "execution_count": 67,
   "metadata": {
    "collapsed": true
   },
   "outputs": [],
   "source": [
    "n_components=300\n",
    "svd = TruncatedSVD(n_components=n_components)\n",
    "X_train_svd = svd.fit_transform(X_train_vectorized)\n",
    "X_test_svd = svd.transform(X_test_vectorized)"
   ]
  },
  {
   "cell_type": "code",
   "execution_count": 63,
   "metadata": {
    "collapsed": false
   },
   "outputs": [
    {
     "name": "stdout",
     "output_type": "stream",
     "text": [
      "Explained variance with 300 components : 20.4013038583\n"
     ]
    }
   ],
   "source": [
    "print \"Explained variance with {0} components : {1}\".format(n_components,svd.explained_variance_ratio_.sum()*100)"
   ]
  },
  {
   "cell_type": "markdown",
   "metadata": {},
   "source": [
    "## Add PCA of reviews to dataset :"
   ]
  },
  {
   "cell_type": "markdown",
   "metadata": {},
   "source": [
    "Finally, we can vectorize the full set with Tfidf, scale it, and use PCA to summarize with only 200 vectors :"
   ]
  },
  {
   "cell_type": "code",
   "execution_count": 86,
   "metadata": {
    "collapsed": true
   },
   "outputs": [],
   "source": [
    "X_all_reviews = vectorizer.fit_transform(X).todense()\n",
    "X_all_reviews_TFIDF_scaled =scaler.fit_transform(X_all_reviews)"
   ]
  },
  {
   "cell_type": "code",
   "execution_count": 87,
   "metadata": {
    "collapsed": false
   },
   "outputs": [
    {
     "name": "stdout",
     "output_type": "stream",
     "text": [
      "(7009,)\n",
      "(7009, 20000)\n",
      "(7009, 20000)\n"
     ]
    }
   ],
   "source": [
    "print X.shape\n",
    "print X_all_reviews.shape\n",
    "print X_all_reviews_TFIDF_scaled.shape"
   ]
  },
  {
   "cell_type": "code",
   "execution_count": 88,
   "metadata": {
    "collapsed": false
   },
   "outputs": [
    {
     "name": "stdout",
     "output_type": "stream",
     "text": [
      "19.3692650631\n"
     ]
    }
   ],
   "source": [
    "X_all_reviews_PCA = svd.fit_transform(X_all_reviews_TFIDF_scaled)\n",
    "print svd.explained_variance_ratio_.sum()*100"
   ]
  },
  {
   "cell_type": "markdown",
   "metadata": {},
   "source": [
    "Via a PCA, we dropped the reviews matrix from 20000 columns to 300.\n",
    "We can now append it to the listing dataset :"
   ]
  },
  {
   "cell_type": "code",
   "execution_count": 89,
   "metadata": {
    "collapsed": true
   },
   "outputs": [],
   "source": [
    "df_reviews_PCA = pd.DataFrame(X_all_reviews_PCA)\n",
    "df_reviews_PCA.columns = ['PC_'+str(i) for i in range(1,n_components+1) ]"
   ]
  },
  {
   "cell_type": "code",
   "execution_count": 92,
   "metadata": {
    "collapsed": false
   },
   "outputs": [
    {
     "data": {
      "text/plain": [
       "(7009, 300)"
      ]
     },
     "execution_count": 92,
     "metadata": {},
     "output_type": "execute_result"
    }
   ],
   "source": [
    "df_reviews_PCA.shape"
   ]
  },
  {
   "cell_type": "code",
   "execution_count": 91,
   "metadata": {
    "collapsed": false
   },
   "outputs": [
    {
     "data": {
      "text/plain": [
       "(9208, 218)"
      ]
     },
     "execution_count": 91,
     "metadata": {},
     "output_type": "execute_result"
    }
   ],
   "source": [
    "df_listing.shape"
   ]
  }
 ],
 "metadata": {
  "anaconda-cloud": {},
  "kernelspec": {
   "display_name": "Python [conda root]",
   "language": "python",
   "name": "conda-root-py"
  },
  "language_info": {
   "codemirror_mode": {
    "name": "ipython",
    "version": 2
   },
   "file_extension": ".py",
   "mimetype": "text/x-python",
   "name": "python",
   "nbconvert_exporter": "python",
   "pygments_lexer": "ipython2",
   "version": "2.7.12"
  }
 },
 "nbformat": 4,
 "nbformat_minor": 1
}
