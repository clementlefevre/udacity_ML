{
 "cells": [
  {
   "cell_type": "code",
   "execution_count": 1,
   "metadata": {
    "collapsed": false
   },
   "outputs": [
    {
     "name": "stderr",
     "output_type": "stream",
     "text": [
      "/home/ramon/anaconda2/lib/python2.7/site-packages/ggplot/utils.py:81: FutureWarning: pandas.tslib is deprecated and will be removed in a future version.\n",
      "You can access Timestamp as pandas.Timestamp\n",
      "  pd.tslib.Timestamp,\n",
      "/home/ramon/anaconda2/lib/python2.7/site-packages/ggplot/stats/smoothers.py:4: FutureWarning: The pandas.lib module is deprecated and will be removed in a future version. These are private functions and can be accessed from pandas._libs.lib instead\n",
      "  from pandas.lib import Timestamp\n",
      "/home/ramon/anaconda2/lib/python2.7/site-packages/statsmodels/compat/pandas.py:56: FutureWarning: The pandas.core.datetools module is deprecated and will be removed in a future version. Please use the pandas.tseries module instead.\n",
      "  from pandas.core import datetools\n"
     ]
    }
   ],
   "source": [
    "%matplotlib inline\n",
    "import numpy as np\n",
    "from ggplot import *\n",
    "import pandas as pd\n",
    "from langdetect import detect\n",
    "from sklearn.feature_extraction.text import CountVectorizer, TfidfTransformer,TfidfVectorizer\n",
    "from sklearn.model_selection import train_test_split\n",
    "from sklearn.decomposition import PCA\n",
    "\n",
    "from sklearn.cluster import KMeans\n",
    "from sklearn.pipeline import Pipeline\n",
    "from sklearn.linear_model import LinearRegression\n",
    "from sklearn.ensemble import RandomForestClassifier\n",
    "from sklearn.naive_bayes import MultinomialNB\n",
    "from sklearn.metrics import r2_score, mean_squared_error, confusion_matrix,classification_report\n",
    "\n",
    "import nltk\n",
    "import matplotlib.pyplot as plt\n",
    "from matplotlib import cm\n",
    "import seaborn as sns\n",
    "\n",
    "from utils import detect_lang"
   ]
  },
  {
   "cell_type": "code",
   "execution_count": 2,
   "metadata": {
    "collapsed": false
   },
   "outputs": [],
   "source": [
    "def add_language_to_reviews(df):\n",
    "    df_reviews = pd.read_csv('data/reviews.csv')\n",
    "    \n",
    "    df_reviews[\"comments2\"] = df_reviews.comments.apply(lambda x:str(x).decode('utf-8'))\n",
    "    df_reviews['language']= df_reviews.comments2.apply(detect_lang)\n",
    "    df_reviews.to_csv(\"data/reviews_with_lang.csv\")\n",
    "    "
   ]
  },
  {
   "cell_type": "code",
   "execution_count": 3,
   "metadata": {
    "collapsed": false
   },
   "outputs": [],
   "source": [
    "df_reviews = pd.read_csv('data/reviews_with_lang.csv')\n",
    "df_reviews_eng = df_reviews[df_reviews.language=='en']\n",
    "\n",
    "df_listing = pd.read_csv('data/listings.csv')\n"
   ]
  },
  {
   "cell_type": "code",
   "execution_count": 4,
   "metadata": {
    "collapsed": false
   },
   "outputs": [
    {
     "data": {
      "text/plain": [
       "Index([u'id', u'listing_url', u'scrape_id', u'last_scraped', u'name',\n",
       "       u'summary', u'space', u'description', u'experiences_offered',\n",
       "       u'neighborhood_overview', u'notes', u'transit', u'access',\n",
       "       u'interaction', u'house_rules', u'thumbnail_url', u'medium_url',\n",
       "       u'picture_url', u'xl_picture_url', u'host_id', u'host_url',\n",
       "       u'host_name', u'host_since', u'host_location', u'host_about',\n",
       "       u'host_response_time', u'host_response_rate', u'host_acceptance_rate',\n",
       "       u'host_is_superhost', u'host_thumbnail_url', u'host_picture_url',\n",
       "       u'host_neighbourhood', u'host_listings_count',\n",
       "       u'host_total_listings_count', u'host_verifications',\n",
       "       u'host_has_profile_pic', u'host_identity_verified', u'street',\n",
       "       u'neighbourhood', u'neighbourhood_cleansed',\n",
       "       u'neighbourhood_group_cleansed', u'city', u'state', u'zipcode',\n",
       "       u'market', u'smart_location', u'country_code', u'country', u'latitude',\n",
       "       u'longitude', u'is_location_exact', u'property_type', u'room_type',\n",
       "       u'accommodates', u'bathrooms', u'bedrooms', u'beds', u'bed_type',\n",
       "       u'amenities', u'square_feet', u'price', u'weekly_price',\n",
       "       u'monthly_price', u'security_deposit', u'cleaning_fee',\n",
       "       u'guests_included', u'extra_people', u'minimum_nights',\n",
       "       u'maximum_nights', u'calendar_updated', u'has_availability',\n",
       "       u'availability_30', u'availability_60', u'availability_90',\n",
       "       u'availability_365', u'calendar_last_scraped', u'number_of_reviews',\n",
       "       u'first_review', u'last_review', u'review_scores_rating',\n",
       "       u'review_scores_accuracy', u'review_scores_cleanliness',\n",
       "       u'review_scores_checkin', u'review_scores_communication',\n",
       "       u'review_scores_location', u'review_scores_value', u'requires_license',\n",
       "       u'license', u'jurisdiction_names', u'instant_bookable',\n",
       "       u'cancellation_policy', u'require_guest_profile_picture',\n",
       "       u'require_guest_phone_verification', u'calculated_host_listings_count',\n",
       "       u'reviews_per_month'],\n",
       "      dtype='object')"
      ]
     },
     "execution_count": 4,
     "metadata": {},
     "output_type": "execute_result"
    }
   ],
   "source": [
    "df_listing.columns"
   ]
  },
  {
   "cell_type": "code",
   "execution_count": 5,
   "metadata": {
    "collapsed": false
   },
   "outputs": [
    {
     "data": {
      "text/plain": [
       "<matplotlib.axes._subplots.AxesSubplot at 0x7effae7ca490>"
      ]
     },
     "execution_count": 5,
     "metadata": {},
     "output_type": "execute_result"
    },
    {
     "data": {
      "image/png": "[encoded data removed]",
      "text/plain": [
       "<matplotlib.figure.Figure at 0x7efff41e5a50>"
      ]
     },
     "metadata": {},
     "output_type": "display_data"
    }
   ],
   "source": [
    "df_listing[df_listing.room_type=='Entire home/apt'].plot(kind='scatter',x='availability_30',y='number_of_reviews')"
   ]
  },
  {
   "cell_type": "code",
   "execution_count": 6,
   "metadata": {
    "collapsed": false
   },
   "outputs": [
    {
     "data": {
      "text/plain": [
       "array(['Private room', 'Entire home/apt', 'Shared room'], dtype=object)"
      ]
     },
     "execution_count": 6,
     "metadata": {},
     "output_type": "execute_result"
    }
   ],
   "source": [
    "df_listing.room_type.unique()"
   ]
  },
  {
   "cell_type": "code",
   "execution_count": 7,
   "metadata": {
    "collapsed": false
   },
   "outputs": [],
   "source": [
    "df_reviews_eng = pd.merge(df_reviews_eng,df_listing[['id','review_scores_rating','review_scores_cleanliness','room_type','availability_30','availability_90','reviews_per_month']],left_on='listing_id',right_on='id')"
   ]
  },
  {
   "cell_type": "code",
   "execution_count": 8,
   "metadata": {
    "collapsed": false
   },
   "outputs": [
    {
     "data": {
      "text/html": [
       "<div>\n",
       "<style>\n",
       "    .dataframe thead tr:only-child th {\n",
       "        text-align: right;\n",
       "    }\n",
       "\n",
       "    .dataframe thead th {\n",
       "        text-align: left;\n",
       "    }\n",
       "\n",
       "    .dataframe tbody tr th {\n",
       "        vertical-align: top;\n",
       "    }\n",
       "</style>\n",
       "<table border=\"1\" class=\"dataframe\">\n",
       "  <thead>\n",
       "    <tr style=\"text-align: right;\">\n",
       "      <th></th>\n",
       "      <th>Unnamed: 0</th>\n",
       "      <th>listing_id</th>\n",
       "      <th>id_x</th>\n",
       "      <th>date</th>\n",
       "      <th>reviewer_id</th>\n",
       "      <th>reviewer_name</th>\n",
       "      <th>comments</th>\n",
       "      <th>language</th>\n",
       "      <th>id_y</th>\n",
       "      <th>review_scores_rating</th>\n",
       "      <th>review_scores_cleanliness</th>\n",
       "      <th>room_type</th>\n",
       "      <th>availability_30</th>\n",
       "      <th>availability_90</th>\n",
       "      <th>reviews_per_month</th>\n",
       "    </tr>\n",
       "  </thead>\n",
       "  <tbody>\n",
       "    <tr>\n",
       "      <th>0</th>\n",
       "      <td>1</td>\n",
       "      <td>7878281</td>\n",
       "      <td>50115386</td>\n",
       "      <td>2015-10-09</td>\n",
       "      <td>45018962</td>\n",
       "      <td>Rotem</td>\n",
       "      <td>AMAZING hosting, we arrived to Benita's appart...</td>\n",
       "      <td>en</td>\n",
       "      <td>7878281</td>\n",
       "      <td>99.0</td>\n",
       "      <td>10.0</td>\n",
       "      <td>Entire home/apt</td>\n",
       "      <td>6</td>\n",
       "      <td>6</td>\n",
       "      <td>0.69</td>\n",
       "    </tr>\n",
       "    <tr>\n",
       "      <th>1</th>\n",
       "      <td>3</td>\n",
       "      <td>7878281</td>\n",
       "      <td>58376102</td>\n",
       "      <td>2016-01-02</td>\n",
       "      <td>6789115</td>\n",
       "      <td>Nicola</td>\n",
       "      <td>This apartment was beautiful, spacious, warm a...</td>\n",
       "      <td>en</td>\n",
       "      <td>7878281</td>\n",
       "      <td>99.0</td>\n",
       "      <td>10.0</td>\n",
       "      <td>Entire home/apt</td>\n",
       "      <td>6</td>\n",
       "      <td>6</td>\n",
       "      <td>0.69</td>\n",
       "    </tr>\n",
       "    <tr>\n",
       "      <th>2</th>\n",
       "      <td>4</td>\n",
       "      <td>7878281</td>\n",
       "      <td>71814574</td>\n",
       "      <td>2016-04-28</td>\n",
       "      <td>63494941</td>\n",
       "      <td>Claudio</td>\n",
       "      <td>BENITA AND KLEMENS WERE VERY KIND WITH US. THE...</td>\n",
       "      <td>en</td>\n",
       "      <td>7878281</td>\n",
       "      <td>99.0</td>\n",
       "      <td>10.0</td>\n",
       "      <td>Entire home/apt</td>\n",
       "      <td>6</td>\n",
       "      <td>6</td>\n",
       "      <td>0.69</td>\n",
       "    </tr>\n",
       "    <tr>\n",
       "      <th>3</th>\n",
       "      <td>5</td>\n",
       "      <td>7878281</td>\n",
       "      <td>74568125</td>\n",
       "      <td>2016-05-15</td>\n",
       "      <td>57750113</td>\n",
       "      <td>Sandeep</td>\n",
       "      <td>Yes. Klemens came with a bouquet of flowers an...</td>\n",
       "      <td>en</td>\n",
       "      <td>7878281</td>\n",
       "      <td>99.0</td>\n",
       "      <td>10.0</td>\n",
       "      <td>Entire home/apt</td>\n",
       "      <td>6</td>\n",
       "      <td>6</td>\n",
       "      <td>0.69</td>\n",
       "    </tr>\n",
       "    <tr>\n",
       "      <th>4</th>\n",
       "      <td>7</td>\n",
       "      <td>7878281</td>\n",
       "      <td>86698077</td>\n",
       "      <td>2016-07-17</td>\n",
       "      <td>19899121</td>\n",
       "      <td>Brian</td>\n",
       "      <td>Great experience. Hosts were responsive and fr...</td>\n",
       "      <td>en</td>\n",
       "      <td>7878281</td>\n",
       "      <td>99.0</td>\n",
       "      <td>10.0</td>\n",
       "      <td>Entire home/apt</td>\n",
       "      <td>6</td>\n",
       "      <td>6</td>\n",
       "      <td>0.69</td>\n",
       "    </tr>\n",
       "  </tbody>\n",
       "</table>\n",
       "</div>"
      ],
      "text/plain": [
       "   Unnamed: 0  listing_id      id_x        date  reviewer_id reviewer_name  \\\n",
       "0           1     7878281  50115386  2015-10-09     45018962         Rotem   \n",
       "1           3     7878281  58376102  2016-01-02      6789115        Nicola   \n",
       "2           4     7878281  71814574  2016-04-28     63494941       Claudio   \n",
       "3           5     7878281  74568125  2016-05-15     57750113       Sandeep   \n",
       "4           7     7878281  86698077  2016-07-17     19899121         Brian   \n",
       "\n",
       "                                            comments language     id_y  \\\n",
       "0  AMAZING hosting, we arrived to Benita's appart...       en  7878281   \n",
       "1  This apartment was beautiful, spacious, warm a...       en  7878281   \n",
       "2  BENITA AND KLEMENS WERE VERY KIND WITH US. THE...       en  7878281   \n",
       "3  Yes. Klemens came with a bouquet of flowers an...       en  7878281   \n",
       "4  Great experience. Hosts were responsive and fr...       en  7878281   \n",
       "\n",
       "   review_scores_rating  review_scores_cleanliness        room_type  \\\n",
       "0                  99.0                       10.0  Entire home/apt   \n",
       "1                  99.0                       10.0  Entire home/apt   \n",
       "2                  99.0                       10.0  Entire home/apt   \n",
       "3                  99.0                       10.0  Entire home/apt   \n",
       "4                  99.0                       10.0  Entire home/apt   \n",
       "\n",
       "   availability_30  availability_90  reviews_per_month  \n",
       "0                6                6               0.69  \n",
       "1                6                6               0.69  \n",
       "2                6                6               0.69  \n",
       "3                6                6               0.69  \n",
       "4                6                6               0.69  "
      ]
     },
     "execution_count": 8,
     "metadata": {},
     "output_type": "execute_result"
    }
   ],
   "source": [
    "df_reviews_eng.head()"
   ]
  },
  {
   "cell_type": "code",
   "execution_count": 9,
   "metadata": {
    "collapsed": true
   },
   "outputs": [],
   "source": [
    "groupy_per_lang = df_reviews.groupby('language').comments.count().sort_values(ascending = False)"
   ]
  },
  {
   "cell_type": "code",
   "execution_count": 10,
   "metadata": {
    "collapsed": false
   },
   "outputs": [
    {
     "data": {
      "text/plain": [
       "<matplotlib.axes._subplots.AxesSubplot at 0x7effb6119690>"
      ]
     },
     "execution_count": 10,
     "metadata": {},
     "output_type": "execute_result"
    },
    {
     "data": {
      "image/png": "[encoded data removed]",
      "text/plain": [
       "<matplotlib.figure.Figure at 0x7effb6182090>"
      ]
     },
     "metadata": {},
     "output_type": "display_data"
    }
   ],
   "source": [
    "groupy_per_lang.plot.bar(title=\"Per review language\")"
   ]
  },
  {
   "cell_type": "code",
   "execution_count": 11,
   "metadata": {
    "collapsed": false
   },
   "outputs": [],
   "source": [
    "def concat_comments(x):\n",
    "    x = x.str.replace(r'[^a-zA-Z\\d\\s:]','')\n",
    "    return \"%s\" % '- '.join(x)\n",
    "\n",
    "df_reviews_eng = df_reviews_eng[df_reviews_eng.room_type=='Entire home/apt']\n",
    "df_reviews_eng = df_reviews_eng[~df_reviews_eng.review_scores_rating.isnull()]\n",
    "df_reviews_eng = df_reviews_eng[~df_reviews_eng.comments.str.contains('The host canceled this reservation')]\n",
    "\n",
    "groupy = df_reviews_eng.groupby('listing_id').agg({'comments': [concat_comments,'count'], 'review_scores_rating': 'mean', 'availability_30':'mean','availability_90':'mean','reviews_per_month':'mean'})\n",
    "groupy.columns = [\"_\".join(x) for x in groupy.columns.ravel()]"
   ]
  },
  {
   "cell_type": "code",
   "execution_count": 12,
   "metadata": {
    "collapsed": false
   },
   "outputs": [
    {
     "data": {
      "image/png": "[encoded data removed]",
      "text/plain": [
       "<matplotlib.figure.Figure at 0x7effb2054d90>"
      ]
     },
     "metadata": {},
     "output_type": "display_data"
    },
    {
     "data": {
      "text/plain": [
       "<ggplot: (8727291800053)>"
      ]
     },
     "execution_count": 12,
     "metadata": {},
     "output_type": "execute_result"
    }
   ],
   "source": [
    "ggplot(groupy,aes(x='availability_90_mean',y='reviews_per_month_mean'))+geom_boxplot()"
   ]
  },
  {
   "cell_type": "code",
   "execution_count": 15,
   "metadata": {
    "collapsed": false
   },
   "outputs": [
    {
     "data": {
      "text/html": [
       "<div>\n",
       "<style>\n",
       "    .dataframe thead tr:only-child th {\n",
       "        text-align: right;\n",
       "    }\n",
       "\n",
       "    .dataframe thead th {\n",
       "        text-align: left;\n",
       "    }\n",
       "\n",
       "    .dataframe tbody tr th {\n",
       "        vertical-align: top;\n",
       "    }\n",
       "</style>\n",
       "<table border=\"1\" class=\"dataframe\">\n",
       "  <thead>\n",
       "    <tr style=\"text-align: right;\">\n",
       "      <th></th>\n",
       "      <th>review_scores_rating_mean</th>\n",
       "      <th>availability_90_mean</th>\n",
       "      <th>availability_30_mean</th>\n",
       "    </tr>\n",
       "  </thead>\n",
       "  <tbody>\n",
       "    <tr>\n",
       "      <th>count</th>\n",
       "      <td>7541.000000</td>\n",
       "      <td>7541.000000</td>\n",
       "      <td>7541.000000</td>\n",
       "    </tr>\n",
       "    <tr>\n",
       "      <th>mean</th>\n",
       "      <td>93.315873</td>\n",
       "      <td>19.328471</td>\n",
       "      <td>4.737303</td>\n",
       "    </tr>\n",
       "    <tr>\n",
       "      <th>std</th>\n",
       "      <td>7.549269</td>\n",
       "      <td>24.972328</td>\n",
       "      <td>6.974533</td>\n",
       "    </tr>\n",
       "    <tr>\n",
       "      <th>min</th>\n",
       "      <td>20.000000</td>\n",
       "      <td>0.000000</td>\n",
       "      <td>0.000000</td>\n",
       "    </tr>\n",
       "    <tr>\n",
       "      <th>25%</th>\n",
       "      <td>90.000000</td>\n",
       "      <td>0.000000</td>\n",
       "      <td>0.000000</td>\n",
       "    </tr>\n",
       "    <tr>\n",
       "      <th>50%</th>\n",
       "      <td>95.000000</td>\n",
       "      <td>7.000000</td>\n",
       "      <td>0.000000</td>\n",
       "    </tr>\n",
       "    <tr>\n",
       "      <th>75%</th>\n",
       "      <td>100.000000</td>\n",
       "      <td>32.000000</td>\n",
       "      <td>7.000000</td>\n",
       "    </tr>\n",
       "    <tr>\n",
       "      <th>max</th>\n",
       "      <td>100.000000</td>\n",
       "      <td>90.000000</td>\n",
       "      <td>30.000000</td>\n",
       "    </tr>\n",
       "  </tbody>\n",
       "</table>\n",
       "</div>"
      ],
      "text/plain": [
       "       review_scores_rating_mean  availability_90_mean  availability_30_mean\n",
       "count                7541.000000           7541.000000           7541.000000\n",
       "mean                   93.315873             19.328471              4.737303\n",
       "std                     7.549269             24.972328              6.974533\n",
       "min                    20.000000              0.000000              0.000000\n",
       "25%                    90.000000              0.000000              0.000000\n",
       "50%                    95.000000              7.000000              0.000000\n",
       "75%                   100.000000             32.000000              7.000000\n",
       "max                   100.000000             90.000000             30.000000"
      ]
     },
     "execution_count": 15,
     "metadata": {},
     "output_type": "execute_result"
    }
   ],
   "source": [
    "groupy[['review_scores_rating_mean','availability_90_mean','availability_30_mean']].describe()"
   ]
  },
  {
   "cell_type": "markdown",
   "metadata": {},
   "source": [
    "### List of host"
   ]
  },
  {
   "cell_type": "code",
   "execution_count": 43,
   "metadata": {
    "collapsed": false
   },
   "outputs": [],
   "source": [
    "all_host_names = df_listing.host_name.str.lower()\n",
    "all_host_names = all_host_names.unique().tolist()"
   ]
  },
  {
   "cell_type": "code",
   "execution_count": 48,
   "metadata": {
    "collapsed": false
   },
   "outputs": [],
   "source": [
    "porter = nltk.stem.porter.PorterStemmer()\n",
    "\n",
    "def tokenizer_porter(text):\n",
    "    return [porter.stem(word) for word in text.split()]\n",
    "\n",
    "stop = nltk.corpus.stopwords.words('english')\n",
    "stop =list(set(stop)-set(['no', 'not', 'never','don\\'t','couldn\\'t']))+all_host_names\n",
    "\n",
    "groupy['good_bad_review']=np.where(groupy.review_scores_rating_mean>94,'good','bad')\n",
    "X = groupy.comments_concat_comments.values\n",
    "y = groupy.good_bad_review\n",
    "\n",
    "X_train,X_test,y_train,y_test = train_test_split(X,y,test_size=0.2)"
   ]
  },
  {
   "cell_type": "code",
   "execution_count": 49,
   "metadata": {
    "collapsed": false
   },
   "outputs": [],
   "source": [
    "vectorizer = TfidfVectorizer(ngram_range=(2,3),tokenizer=tokenizer_porter,stop_words=stop,max_features=20000)\n",
    "X_train_vectorized = vectorizer.fit_transform(X_train).todense()"
   ]
  },
  {
   "cell_type": "code",
   "execution_count": 53,
   "metadata": {
    "collapsed": false
   },
   "outputs": [
    {
     "name": "stdout",
     "output_type": "stream",
     "text": [
      "[[412 174]\n",
      " [291 632]]\n",
      "             precision    recall  f1-score   support\n",
      "\n",
      "        bad       0.59      0.70      0.64       586\n",
      "       good       0.78      0.68      0.73       923\n",
      "\n",
      "avg / total       0.71      0.69      0.70      1509\n",
      "\n"
     ]
    }
   ],
   "source": [
    "X_train_vectorized = X_vectorized\n",
    "X_test_vectorized = vectorizer.transform(X_test)\n",
    "\n",
    "clf = MultinomialNB().fit(X_train_vectorized,y_train)\n",
    "\n",
    "predicted = clf.predict(X_test_vectorized)\n",
    "\n",
    "print confusion_matrix(predicted,y_test)\n",
    "print classification_report(predicted,y_test)"
   ]
  },
  {
   "cell_type": "code",
   "execution_count": 54,
   "metadata": {
    "collapsed": false
   },
   "outputs": [
    {
     "name": "stdout",
     "output_type": "stream",
     "text": [
      "\t-10.9611\tetienn wa      \t\t-6.1564\twa veri        \n",
      "\t-10.9611\tmarylis wa     \t\t-6.4200\tapart wa       \n",
      "\t-10.9611\tmauric wa      \t\t-6.6504\tveri nice      \n",
      "\t-10.9611\tnestor wa      \t\t-6.6996\twa great       \n",
      "\t-10.9611\tno toilet      \t\t-6.8198\thighli recommend\n",
      "\t-10.9611\trudi wa        \t\t-6.8475\teveryth need   \n",
      "\t-10.9611\tstay vinni     \t\t-6.9496\twa perfect     \n",
      "\t-10.9611\tveri dirti     \t\t-7.0040\tpublic transport\n",
      "\t-10.9611\tviliu wa       \t\t-7.0067\tgreat locat    \n",
      "\t-10.9611\tvinni great    \t\t-7.0078\tveri clean     \n",
      "\t-10.9611\tvinni place    \t\t-7.0143\tgreat host     \n",
      "\t-10.9611\tvinni wa       \t\t-7.0253\twould definit  \n",
      "\t-10.9486\twa howev       \t\t-7.0762\trecommend thi  \n",
      "\t-10.9377\tveri thin      \t\t-7.1265\teveryth wa     \n",
      "\t-10.9225\tshower head wa \t\t-7.1974\tplace wa       \n",
      "\t-10.9210\tkey becaus     \t\t-7.2178\tapart veri     \n",
      "\t-10.9193\tnot veri clean \t\t-7.2251\tthi apart      \n",
      "\t-10.9181\tbit disappoint \t\t-7.2331\tveri help      \n",
      "\t-10.9166\tsignal wa      \t\t-7.2549\tstay berlin    \n",
      "\t-10.9100\tnatur histori museum\t\t-7.2613\tthi place      \n",
      "\t-10.9037\tran wa         \t\t-7.2700\tflat wa        \n",
      "\t-10.9006\tapart rather   \t\t-7.2734\twa realli      \n",
      "\t-10.8988\tdoesnt speak   \t\t-7.3114\tdefinit recommend\n",
      "\t-10.8985\thour befor arriv\t\t-7.3248\tstay apart     \n",
      "\t-10.8966\tbroken wa      \t\t-7.3253\twalk distanc   \n",
      "\t-10.8935\twould not stay \t\t-7.3450\tveri comfort   \n",
      "\t-10.8922\tapart ok       \t\t-7.3593\tcome back      \n",
      "\t-10.8860\tbit cleaner    \t\t-7.3627\tplace stay     \n",
      "\t-10.8850\tveri poor      \t\t-7.3652\tveri well      \n",
      "\t-10.8835\tplace price    \t\t-7.3779\trealli nice    \n",
      "\t-10.8783\tnatur histori  \t\t-7.3989\tgreat place    \n",
      "\t-10.8767\tdoesnt work    \t\t-7.4017\tveri close     \n",
      "\t-10.8728\t- lar          \t\t-7.4206\tminut walk     \n",
      "\t-10.8722\tbed no         \t\t-7.4254\tveri good      \n",
      "\t-10.8709\tsmell smoke    \t\t-7.4601\twell equip     \n",
      "\t-10.8699\tveri disappoint\t\t-7.4805\tveri friendli  \n",
      "\t-10.8670\tus anoth       \t\t-7.4855\tenjoy stay     \n",
      "\t-10.8627\twa reason      \t\t-7.4867\tveri easi      \n",
      "\t-10.8621\tveri bad       \t\t-7.4934\twa clean       \n",
      "\t-10.8586\thead wa        \t\t-7.4959\tgreat stay     \n"
     ]
    }
   ],
   "source": [
    "def show_most_informative_features(vectorizer, clf, n=20):\n",
    "    feature_names = vectorizer.get_feature_names()\n",
    "    coefs_with_fns = sorted(zip(clf.coef_[0], feature_names))\n",
    "    top = zip(coefs_with_fns[:n], coefs_with_fns[:-(n + 1):-1])\n",
    "    for (coef_1, fn_1), (coef_2, fn_2) in top:\n",
    "        print \"\\t%.4f\\t%-15s\\t\\t%.4f\\t%-15s\" % (coef_1, fn_1, coef_2, fn_2)\n",
    "        \n",
    "show_most_informative_features(vectorizer,clf,n=40)"
   ]
  }
 ],
 "metadata": {
  "anaconda-cloud": {},
  "kernelspec": {
   "display_name": "Python [conda root]",
   "language": "python",
   "name": "conda-root-py"
  },
  "language_info": {
   "codemirror_mode": {
    "name": "ipython",
    "version": 2
   },
   "file_extension": ".py",
   "mimetype": "text/x-python",
   "name": "python",
   "nbconvert_exporter": "python",
   "pygments_lexer": "ipython2",
   "version": "2.7.12"
  }
 },
 "nbformat": 4,
 "nbformat_minor": 1
}
