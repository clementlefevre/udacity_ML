{
 "cells": [
  {
   "cell_type": "code",
   "execution_count": 1,
   "metadata": {
    "collapsed": false
   },
   "outputs": [
    {
     "name": "stderr",
     "output_type": "stream",
     "text": [
      "/home/ramon/anaconda2/lib/python2.7/site-packages/ggplot/utils.py:81: FutureWarning: pandas.tslib is deprecated and will be removed in a future version.\n",
      "You can access Timestamp as pandas.Timestamp\n",
      "  pd.tslib.Timestamp,\n",
      "/home/ramon/anaconda2/lib/python2.7/site-packages/ggplot/stats/smoothers.py:4: FutureWarning: The pandas.lib module is deprecated and will be removed in a future version. These are private functions and can be accessed from pandas._libs.lib instead\n",
      "  from pandas.lib import Timestamp\n",
      "/home/ramon/anaconda2/lib/python2.7/site-packages/statsmodels/compat/pandas.py:56: FutureWarning: The pandas.core.datetools module is deprecated and will be removed in a future version. Please use the pandas.tseries module instead.\n",
      "  from pandas.core import datetools\n"
     ]
    }
   ],
   "source": [
    "%matplotlib inline\n",
    "import numpy as np\n",
    "from ggplot import *\n",
    "import pandas as pd\n",
    "from langdetect import detect\n",
    "from sklearn.feature_extraction.text import CountVectorizer,TfidfVectorizer,HashingVectorizer\n",
    "from sklearn.model_selection import train_test_split\n",
    "from sklearn.decomposition import PCA\n",
    "from sklearn.preprocessing import MinMaxScaler\n",
    "from sklearn.linear_model import SGDRegressor\n",
    "\n",
    "\n",
    "from sklearn.ensemble import RandomForestClassifier\n",
    "from sklearn.naive_bayes import MultinomialNB\n",
    "from sklearn.metrics import r2_score, mean_squared_error, confusion_matrix,classification_report\n",
    "\n",
    "import nltk\n",
    "import matplotlib.pyplot as plt\n",
    "from matplotlib import cm\n",
    "import seaborn as sns\n",
    "\n",
    "from utils import detect_lang"
   ]
  },
  {
   "cell_type": "code",
   "execution_count": 2,
   "metadata": {
    "collapsed": false
   },
   "outputs": [],
   "source": [
    "def add_language_to_reviews(df):\n",
    "    df_reviews = pd.read_csv('data/reviews.csv')\n",
    "    \n",
    "    df_reviews[\"comments2\"] = df_reviews.comments.apply(lambda x:str(x).decode('utf-8'))\n",
    "    df_reviews['language']= df_reviews.comments2.apply(detect_lang)\n",
    "    df_reviews.to_csv(\"data/reviews_with_lang.csv\")\n",
    "    "
   ]
  },
  {
   "cell_type": "code",
   "execution_count": 3,
   "metadata": {
    "collapsed": false
   },
   "outputs": [],
   "source": [
    "df_reviews = pd.read_csv('data/reviews_with_lang.csv')\n",
    "df_reviews_eng = df_reviews[df_reviews.language=='de']\n",
    "\n",
    "df_listing = pd.read_csv('data/listings.csv')\n"
   ]
  },
  {
   "cell_type": "code",
   "execution_count": 4,
   "metadata": {
    "collapsed": false
   },
   "outputs": [
    {
     "data": {
      "text/plain": [
       "Index([u'id', u'listing_url', u'scrape_id', u'last_scraped', u'name',\n",
       "       u'summary', u'space', u'description', u'experiences_offered',\n",
       "       u'neighborhood_overview', u'notes', u'transit', u'access',\n",
       "       u'interaction', u'house_rules', u'thumbnail_url', u'medium_url',\n",
       "       u'picture_url', u'xl_picture_url', u'host_id', u'host_url',\n",
       "       u'host_name', u'host_since', u'host_location', u'host_about',\n",
       "       u'host_response_time', u'host_response_rate', u'host_acceptance_rate',\n",
       "       u'host_is_superhost', u'host_thumbnail_url', u'host_picture_url',\n",
       "       u'host_neighbourhood', u'host_listings_count',\n",
       "       u'host_total_listings_count', u'host_verifications',\n",
       "       u'host_has_profile_pic', u'host_identity_verified', u'street',\n",
       "       u'neighbourhood', u'neighbourhood_cleansed',\n",
       "       u'neighbourhood_group_cleansed', u'city', u'state', u'zipcode',\n",
       "       u'market', u'smart_location', u'country_code', u'country', u'latitude',\n",
       "       u'longitude', u'is_location_exact', u'property_type', u'room_type',\n",
       "       u'accommodates', u'bathrooms', u'bedrooms', u'beds', u'bed_type',\n",
       "       u'amenities', u'square_feet', u'price', u'weekly_price',\n",
       "       u'monthly_price', u'security_deposit', u'cleaning_fee',\n",
       "       u'guests_included', u'extra_people', u'minimum_nights',\n",
       "       u'maximum_nights', u'calendar_updated', u'has_availability',\n",
       "       u'availability_30', u'availability_60', u'availability_90',\n",
       "       u'availability_365', u'calendar_last_scraped', u'number_of_reviews',\n",
       "       u'first_review', u'last_review', u'review_scores_rating',\n",
       "       u'review_scores_accuracy', u'review_scores_cleanliness',\n",
       "       u'review_scores_checkin', u'review_scores_communication',\n",
       "       u'review_scores_location', u'review_scores_value', u'requires_license',\n",
       "       u'license', u'jurisdiction_names', u'instant_bookable',\n",
       "       u'cancellation_policy', u'require_guest_profile_picture',\n",
       "       u'require_guest_phone_verification', u'calculated_host_listings_count',\n",
       "       u'reviews_per_month'],\n",
       "      dtype='object')"
      ]
     },
     "execution_count": 4,
     "metadata": {},
     "output_type": "execute_result"
    }
   ],
   "source": [
    "df_listing.columns"
   ]
  },
  {
   "cell_type": "code",
   "execution_count": 5,
   "metadata": {
    "collapsed": false
   },
   "outputs": [
    {
     "data": {
      "text/plain": [
       "<matplotlib.axes._subplots.AxesSubplot at 0x7f4faa516350>"
      ]
     },
     "execution_count": 5,
     "metadata": {},
     "output_type": "execute_result"
    },
    {
     "data": {
      "image/png": "[encoded data removed]",
      "text/plain": [
       "<matplotlib.figure.Figure at 0x7f4ff06dde90>"
      ]
     },
     "metadata": {},
     "output_type": "display_data"
    }
   ],
   "source": [
    "df_listing[df_listing.room_type=='Entire home/apt'].plot(kind='scatter',x='availability_30',y='number_of_reviews')"
   ]
  },
  {
   "cell_type": "code",
   "execution_count": 6,
   "metadata": {
    "collapsed": false
   },
   "outputs": [
    {
     "data": {
      "text/plain": [
       "array(['Private room', 'Entire home/apt', 'Shared room'], dtype=object)"
      ]
     },
     "execution_count": 6,
     "metadata": {},
     "output_type": "execute_result"
    }
   ],
   "source": [
    "df_listing.room_type.unique()"
   ]
  },
  {
   "cell_type": "code",
   "execution_count": 7,
   "metadata": {
    "collapsed": false
   },
   "outputs": [],
   "source": [
    "df_reviews_eng = pd.merge(df_reviews_eng,df_listing[['id','review_scores_rating','review_scores_cleanliness','room_type','availability_30','availability_90','reviews_per_month']],left_on='listing_id',right_on='id')"
   ]
  },
  {
   "cell_type": "code",
   "execution_count": 8,
   "metadata": {
    "collapsed": false
   },
   "outputs": [
    {
     "data": {
      "text/html": [
       "<div>\n",
       "<style>\n",
       "    .dataframe thead tr:only-child th {\n",
       "        text-align: right;\n",
       "    }\n",
       "\n",
       "    .dataframe thead th {\n",
       "        text-align: left;\n",
       "    }\n",
       "\n",
       "    .dataframe tbody tr th {\n",
       "        vertical-align: top;\n",
       "    }\n",
       "</style>\n",
       "<table border=\"1\" class=\"dataframe\">\n",
       "  <thead>\n",
       "    <tr style=\"text-align: right;\">\n",
       "      <th></th>\n",
       "      <th>Unnamed: 0</th>\n",
       "      <th>listing_id</th>\n",
       "      <th>id_x</th>\n",
       "      <th>date</th>\n",
       "      <th>reviewer_id</th>\n",
       "      <th>reviewer_name</th>\n",
       "      <th>comments</th>\n",
       "      <th>language</th>\n",
       "      <th>id_y</th>\n",
       "      <th>review_scores_rating</th>\n",
       "      <th>review_scores_cleanliness</th>\n",
       "      <th>room_type</th>\n",
       "      <th>availability_30</th>\n",
       "      <th>availability_90</th>\n",
       "      <th>reviews_per_month</th>\n",
       "    </tr>\n",
       "  </thead>\n",
       "  <tbody>\n",
       "    <tr>\n",
       "      <th>0</th>\n",
       "      <td>2</td>\n",
       "      <td>7878281</td>\n",
       "      <td>54012898</td>\n",
       "      <td>2015-11-15</td>\n",
       "      <td>47456471</td>\n",
       "      <td>Jochen</td>\n",
       "      <td>Sehr schöne und ideal gelegene Wohnung, ideal ...</td>\n",
       "      <td>de</td>\n",
       "      <td>7878281</td>\n",
       "      <td>99.0</td>\n",
       "      <td>10.0</td>\n",
       "      <td>Entire home/apt</td>\n",
       "      <td>6</td>\n",
       "      <td>6</td>\n",
       "      <td>0.69</td>\n",
       "    </tr>\n",
       "    <tr>\n",
       "      <th>1</th>\n",
       "      <td>6</td>\n",
       "      <td>7878281</td>\n",
       "      <td>79321644</td>\n",
       "      <td>2016-06-12</td>\n",
       "      <td>24247455</td>\n",
       "      <td>Katrin</td>\n",
       "      <td>Es ist eine wunderschöne Wohnung, die alles ha...</td>\n",
       "      <td>de</td>\n",
       "      <td>7878281</td>\n",
       "      <td>99.0</td>\n",
       "      <td>10.0</td>\n",
       "      <td>Entire home/apt</td>\n",
       "      <td>6</td>\n",
       "      <td>6</td>\n",
       "      <td>0.69</td>\n",
       "    </tr>\n",
       "    <tr>\n",
       "      <th>2</th>\n",
       "      <td>19</td>\n",
       "      <td>12576911</td>\n",
       "      <td>74853521</td>\n",
       "      <td>2016-05-17</td>\n",
       "      <td>70617709</td>\n",
       "      <td>Carina</td>\n",
       "      <td>Super süße Wohnung, alles da was man braucht u...</td>\n",
       "      <td>de</td>\n",
       "      <td>12576911</td>\n",
       "      <td>89.0</td>\n",
       "      <td>9.0</td>\n",
       "      <td>Entire home/apt</td>\n",
       "      <td>5</td>\n",
       "      <td>36</td>\n",
       "      <td>0.57</td>\n",
       "    </tr>\n",
       "    <tr>\n",
       "      <th>3</th>\n",
       "      <td>20</td>\n",
       "      <td>12576911</td>\n",
       "      <td>78321194</td>\n",
       "      <td>2016-06-06</td>\n",
       "      <td>45350910</td>\n",
       "      <td>Julia</td>\n",
       "      <td>Leider haben wir Stephanie nicht persönlich ke...</td>\n",
       "      <td>de</td>\n",
       "      <td>12576911</td>\n",
       "      <td>89.0</td>\n",
       "      <td>9.0</td>\n",
       "      <td>Entire home/apt</td>\n",
       "      <td>5</td>\n",
       "      <td>36</td>\n",
       "      <td>0.57</td>\n",
       "    </tr>\n",
       "    <tr>\n",
       "      <th>4</th>\n",
       "      <td>21</td>\n",
       "      <td>12576911</td>\n",
       "      <td>80377217</td>\n",
       "      <td>2016-06-17</td>\n",
       "      <td>66714494</td>\n",
       "      <td>Jasmin</td>\n",
       "      <td>Gemütliche, saubere und ruhige Wohnung. Hab mi...</td>\n",
       "      <td>de</td>\n",
       "      <td>12576911</td>\n",
       "      <td>89.0</td>\n",
       "      <td>9.0</td>\n",
       "      <td>Entire home/apt</td>\n",
       "      <td>5</td>\n",
       "      <td>36</td>\n",
       "      <td>0.57</td>\n",
       "    </tr>\n",
       "  </tbody>\n",
       "</table>\n",
       "</div>"
      ],
      "text/plain": [
       "   Unnamed: 0  listing_id      id_x        date  reviewer_id reviewer_name  \\\n",
       "0           2     7878281  54012898  2015-11-15     47456471        Jochen   \n",
       "1           6     7878281  79321644  2016-06-12     24247455        Katrin   \n",
       "2          19    12576911  74853521  2016-05-17     70617709        Carina   \n",
       "3          20    12576911  78321194  2016-06-06     45350910         Julia   \n",
       "4          21    12576911  80377217  2016-06-17     66714494        Jasmin   \n",
       "\n",
       "                                            comments language      id_y  \\\n",
       "0  Sehr schöne und ideal gelegene Wohnung, ideal ...       de   7878281   \n",
       "1  Es ist eine wunderschöne Wohnung, die alles ha...       de   7878281   \n",
       "2  Super süße Wohnung, alles da was man braucht u...       de  12576911   \n",
       "3  Leider haben wir Stephanie nicht persönlich ke...       de  12576911   \n",
       "4  Gemütliche, saubere und ruhige Wohnung. Hab mi...       de  12576911   \n",
       "\n",
       "   review_scores_rating  review_scores_cleanliness        room_type  \\\n",
       "0                  99.0                       10.0  Entire home/apt   \n",
       "1                  99.0                       10.0  Entire home/apt   \n",
       "2                  89.0                        9.0  Entire home/apt   \n",
       "3                  89.0                        9.0  Entire home/apt   \n",
       "4                  89.0                        9.0  Entire home/apt   \n",
       "\n",
       "   availability_30  availability_90  reviews_per_month  \n",
       "0                6                6               0.69  \n",
       "1                6                6               0.69  \n",
       "2                5               36               0.57  \n",
       "3                5               36               0.57  \n",
       "4                5               36               0.57  "
      ]
     },
     "execution_count": 8,
     "metadata": {},
     "output_type": "execute_result"
    }
   ],
   "source": [
    "df_reviews_eng.head()"
   ]
  },
  {
   "cell_type": "code",
   "execution_count": 9,
   "metadata": {
    "collapsed": true
   },
   "outputs": [],
   "source": [
    "groupy_per_lang = df_reviews.groupby('language').comments.count().sort_values(ascending = False)"
   ]
  },
  {
   "cell_type": "code",
   "execution_count": 10,
   "metadata": {
    "collapsed": false
   },
   "outputs": [
    {
     "data": {
      "text/plain": [
       "<matplotlib.axes._subplots.AxesSubplot at 0x7f4fb1fddf90>"
      ]
     },
     "execution_count": 10,
     "metadata": {},
     "output_type": "execute_result"
    },
    {
     "data": {
      "image/png": "[encoded data removed]",
      "text/plain": [
       "<matplotlib.figure.Figure at 0x7f4fb1f18690>"
      ]
     },
     "metadata": {},
     "output_type": "display_data"
    }
   ],
   "source": [
    "groupy_per_lang.plot.bar(title=\"Per review language\")"
   ]
  },
  {
   "cell_type": "code",
   "execution_count": 11,
   "metadata": {
    "collapsed": false
   },
   "outputs": [],
   "source": [
    "def concat_comments(x):\n",
    "    x = x.str.replace(r'[^a-zA-Z\\d\\s:]','')\n",
    "    return \"%s\" % '- '.join(x)\n",
    "\n",
    "df_reviews_eng = df_reviews_eng[df_reviews_eng.room_type=='Entire home/apt']\n",
    "df_reviews_eng = df_reviews_eng[~df_reviews_eng.review_scores_rating.isnull()]\n",
    "df_reviews_eng = df_reviews_eng[~df_reviews_eng.comments.str.contains('The host canceled this reservation')]\n",
    "\n",
    "groupy = df_reviews_eng.groupby('listing_id').agg({'comments': [concat_comments,'count'], 'review_scores_rating': 'mean', 'availability_30':'mean','availability_90':'mean','reviews_per_month':'mean'})\n",
    "groupy.columns = [\"_\".join(x) for x in groupy.columns.ravel()]"
   ]
  },
  {
   "cell_type": "code",
   "execution_count": 12,
   "metadata": {
    "collapsed": false
   },
   "outputs": [
    {
     "data": {
      "image/png": "[encoded data removed]",
      "text/plain": [
       "<matplotlib.figure.Figure at 0x7f4fb1f8e710>"
      ]
     },
     "metadata": {},
     "output_type": "display_data"
    },
    {
     "data": {
      "text/plain": [
       "<ggplot: (8748762285925)>"
      ]
     },
     "execution_count": 12,
     "metadata": {},
     "output_type": "execute_result"
    }
   ],
   "source": [
    "ggplot(groupy,aes(x='availability_90_mean',y='reviews_per_month_mean'))+geom_boxplot()"
   ]
  },
  {
   "cell_type": "code",
   "execution_count": 13,
   "metadata": {
    "collapsed": false
   },
   "outputs": [
    {
     "data": {
      "text/html": [
       "<div>\n",
       "<style>\n",
       "    .dataframe thead tr:only-child th {\n",
       "        text-align: right;\n",
       "    }\n",
       "\n",
       "    .dataframe thead th {\n",
       "        text-align: left;\n",
       "    }\n",
       "\n",
       "    .dataframe tbody tr th {\n",
       "        vertical-align: top;\n",
       "    }\n",
       "</style>\n",
       "<table border=\"1\" class=\"dataframe\">\n",
       "  <thead>\n",
       "    <tr style=\"text-align: right;\">\n",
       "      <th></th>\n",
       "      <th>review_scores_rating_mean</th>\n",
       "      <th>availability_90_mean</th>\n",
       "      <th>availability_30_mean</th>\n",
       "    </tr>\n",
       "  </thead>\n",
       "  <tbody>\n",
       "    <tr>\n",
       "      <th>count</th>\n",
       "      <td>5357.000000</td>\n",
       "      <td>5357.000000</td>\n",
       "      <td>5357.000000</td>\n",
       "    </tr>\n",
       "    <tr>\n",
       "      <th>mean</th>\n",
       "      <td>93.134030</td>\n",
       "      <td>21.239686</td>\n",
       "      <td>5.263394</td>\n",
       "    </tr>\n",
       "    <tr>\n",
       "      <th>std</th>\n",
       "      <td>6.593666</td>\n",
       "      <td>25.031803</td>\n",
       "      <td>7.042936</td>\n",
       "    </tr>\n",
       "    <tr>\n",
       "      <th>min</th>\n",
       "      <td>20.000000</td>\n",
       "      <td>0.000000</td>\n",
       "      <td>0.000000</td>\n",
       "    </tr>\n",
       "    <tr>\n",
       "      <th>25%</th>\n",
       "      <td>90.000000</td>\n",
       "      <td>0.000000</td>\n",
       "      <td>0.000000</td>\n",
       "    </tr>\n",
       "    <tr>\n",
       "      <th>50%</th>\n",
       "      <td>94.000000</td>\n",
       "      <td>11.000000</td>\n",
       "      <td>2.000000</td>\n",
       "    </tr>\n",
       "    <tr>\n",
       "      <th>75%</th>\n",
       "      <td>98.000000</td>\n",
       "      <td>35.000000</td>\n",
       "      <td>8.000000</td>\n",
       "    </tr>\n",
       "    <tr>\n",
       "      <th>max</th>\n",
       "      <td>100.000000</td>\n",
       "      <td>90.000000</td>\n",
       "      <td>30.000000</td>\n",
       "    </tr>\n",
       "  </tbody>\n",
       "</table>\n",
       "</div>"
      ],
      "text/plain": [
       "       review_scores_rating_mean  availability_90_mean  availability_30_mean\n",
       "count                5357.000000           5357.000000           5357.000000\n",
       "mean                   93.134030             21.239686              5.263394\n",
       "std                     6.593666             25.031803              7.042936\n",
       "min                    20.000000              0.000000              0.000000\n",
       "25%                    90.000000              0.000000              0.000000\n",
       "50%                    94.000000             11.000000              2.000000\n",
       "75%                    98.000000             35.000000              8.000000\n",
       "max                   100.000000             90.000000             30.000000"
      ]
     },
     "execution_count": 13,
     "metadata": {},
     "output_type": "execute_result"
    }
   ],
   "source": [
    "groupy[['review_scores_rating_mean','availability_90_mean','availability_30_mean']].describe()"
   ]
  },
  {
   "cell_type": "markdown",
   "metadata": {},
   "source": [
    "### List of host"
   ]
  },
  {
   "cell_type": "code",
   "execution_count": 14,
   "metadata": {
    "collapsed": false
   },
   "outputs": [],
   "source": [
    "all_host_names = df_listing.host_name.str.lower()\n",
    "all_host_names = all_host_names.unique().tolist()"
   ]
  },
  {
   "cell_type": "code",
   "execution_count": 15,
   "metadata": {
    "collapsed": false
   },
   "outputs": [],
   "source": [
    "def drop_host_names_from_comments(x):\n",
    "    x = x.split(' ')\n",
    "    \n",
    "    x= [word for word in x if word.lower() not in all_host_names]\n",
    "    return ' '.join(x)\n",
    "\n",
    "\n",
    "#groupy.comments_concat_comments.apply(drop_host_names_from_comments)"
   ]
  },
  {
   "cell_type": "code",
   "execution_count": 16,
   "metadata": {
    "collapsed": false
   },
   "outputs": [],
   "source": [
    "porter = nltk.stem.porter.PorterStemmer()\n",
    "\n",
    "def tokenizer_porter(text):\n",
    "    return [porter.stem(word) for word in text.split()]\n",
    "\n",
    "stop = nltk.corpus.stopwords.words('english')\n",
    "stop =list(set(stop)-set(['no', 'not', 'never','don\\'t','couldn\\'t']))+all_host_names\n",
    "\n",
    "groupy['good_bad_review']=np.where(groupy.review_scores_rating_mean>94,'good','bad')\n",
    "X = groupy.comments_concat_comments.values\n",
    "y = groupy.availability_90_mean\n",
    "\n",
    "X_train,X_test,y_train,y_test = train_test_split(X,y,test_size=0.2)"
   ]
  },
  {
   "cell_type": "code",
   "execution_count": 17,
   "metadata": {
    "collapsed": true
   },
   "outputs": [],
   "source": [
    "#vectorizer = HashingVectorizer(tokenizer=tokenizer_porter,stop_words=stop,n_features = 20000)\n",
    "\n",
    "vectorizer = TfidfVectorizer(ngram_range=(2,3),tokenizer=tokenizer_porter,stop_words=stop,max_features=20000)\n",
    "X_train_vectorized = vectorizer.fit_transform(X_train).todense()"
   ]
  },
  {
   "cell_type": "code",
   "execution_count": 18,
   "metadata": {
    "collapsed": false
   },
   "outputs": [],
   "source": [
    "scaler = MinMaxScaler()\n",
    "X_train_vectorized = scaler.fit_transform(X_train_vectorized)"
   ]
  },
  {
   "cell_type": "code",
   "execution_count": 19,
   "metadata": {
    "collapsed": true
   },
   "outputs": [],
   "source": [
    "X_test_vectorized = vectorizer.transform(X_test).todense()\n",
    "X_test_vectorized = scaler.transform(X_test_vectorized)"
   ]
  },
  {
   "cell_type": "code",
   "execution_count": null,
   "metadata": {
    "collapsed": true
   },
   "outputs": [],
   "source": [
    "clf = MultinomialNB()\n",
    "clf  = SGDRegressor(penalty='elasticnet', alpha=0.01,l1_ratio=0.25, fit_intercept=True)\n",
    "clf.fit(X_train_vectorized,y_train)\n",
    "\n",
    "predicted = clf.predict(X_test_vectorized)"
   ]
  },
  {
   "cell_type": "code",
   "execution_count": 25,
   "metadata": {
    "collapsed": false
   },
   "outputs": [
    {
     "data": {
      "text/plain": [
       "(1072,)"
      ]
     },
     "execution_count": 25,
     "metadata": {},
     "output_type": "execute_result"
    }
   ],
   "source": [
    "print predicted.shape"
   ]
  },
  {
   "cell_type": "code",
   "execution_count": 24,
   "metadata": {
    "collapsed": false,
    "scrolled": true
   },
   "outputs": [
    {
     "name": "stderr",
     "output_type": "stream",
     "text": [
      "/home/ramon/anaconda2/lib/python2.7/site-packages/sklearn/utils/validation.py:395: DeprecationWarning: Passing 1d arrays as data is deprecated in 0.17 and will raise ValueError in 0.19. Reshape your data either using X.reshape(-1, 1) if your data has a single feature or X.reshape(1, -1) if it contains a single sample.\n",
      "  DeprecationWarning)\n"
     ]
    },
    {
     "ename": "ValueError",
     "evalue": "shapes (1,1072) and (20000,) not aligned: 1072 (dim 1) != 20000 (dim 0)",
     "output_type": "error",
     "traceback": [
      "\u001b[0;31m---------------------------------------------------------------------------\u001b[0m",
      "\u001b[0;31mValueError\u001b[0m                                Traceback (most recent call last)",
      "\u001b[0;32m<ipython-input-24-8fdf6a1f4ef7>\u001b[0m in \u001b[0;36m<module>\u001b[0;34m()\u001b[0m\n\u001b[1;32m      5\u001b[0m \u001b[0mpredicted\u001b[0m \u001b[0;34m=\u001b[0m \u001b[0mclf\u001b[0m\u001b[0;34m.\u001b[0m\u001b[0mpredict\u001b[0m\u001b[0;34m(\u001b[0m\u001b[0mX_test_vectorized\u001b[0m\u001b[0;34m)\u001b[0m\u001b[0;34m\u001b[0m\u001b[0m\n\u001b[1;32m      6\u001b[0m \u001b[0;34m\u001b[0m\u001b[0m\n\u001b[0;32m----> 7\u001b[0;31m \u001b[0;32mprint\u001b[0m \u001b[0mclf\u001b[0m\u001b[0;34m.\u001b[0m\u001b[0mscore\u001b[0m\u001b[0;34m(\u001b[0m\u001b[0mpredicted\u001b[0m\u001b[0;34m,\u001b[0m\u001b[0my_test\u001b[0m\u001b[0;34m)\u001b[0m\u001b[0;34m\u001b[0m\u001b[0m\n\u001b[0m\u001b[1;32m      8\u001b[0m \u001b[0;32mprint\u001b[0m \u001b[0mclassification_report\u001b[0m\u001b[0;34m(\u001b[0m\u001b[0mpredicted\u001b[0m\u001b[0;34m,\u001b[0m\u001b[0my_test\u001b[0m\u001b[0;34m)\u001b[0m\u001b[0;34m\u001b[0m\u001b[0m\n",
      "\u001b[0;32m/home/ramon/anaconda2/lib/python2.7/site-packages/sklearn/base.pyc\u001b[0m in \u001b[0;36mscore\u001b[0;34m(self, X, y, sample_weight)\u001b[0m\n\u001b[1;32m    384\u001b[0m \u001b[0;34m\u001b[0m\u001b[0m\n\u001b[1;32m    385\u001b[0m         \u001b[0;32mfrom\u001b[0m \u001b[0;34m.\u001b[0m\u001b[0mmetrics\u001b[0m \u001b[0;32mimport\u001b[0m \u001b[0mr2_score\u001b[0m\u001b[0;34m\u001b[0m\u001b[0m\n\u001b[0;32m--> 386\u001b[0;31m         return r2_score(y, self.predict(X), sample_weight=sample_weight,\n\u001b[0m\u001b[1;32m    387\u001b[0m                         multioutput='variance_weighted')\n\u001b[1;32m    388\u001b[0m \u001b[0;34m\u001b[0m\u001b[0m\n",
      "\u001b[0;32m/home/ramon/anaconda2/lib/python2.7/site-packages/sklearn/linear_model/stochastic_gradient.pyc\u001b[0m in \u001b[0;36mpredict\u001b[0;34m(self, X)\u001b[0m\n\u001b[1;32m   1020\u001b[0m            \u001b[0mPredicted\u001b[0m \u001b[0mtarget\u001b[0m \u001b[0mvalues\u001b[0m \u001b[0mper\u001b[0m \u001b[0melement\u001b[0m \u001b[0;32min\u001b[0m \u001b[0mX\u001b[0m\u001b[0;34m.\u001b[0m\u001b[0;34m\u001b[0m\u001b[0m\n\u001b[1;32m   1021\u001b[0m         \"\"\"\n\u001b[0;32m-> 1022\u001b[0;31m         \u001b[0;32mreturn\u001b[0m \u001b[0mself\u001b[0m\u001b[0;34m.\u001b[0m\u001b[0m_decision_function\u001b[0m\u001b[0;34m(\u001b[0m\u001b[0mX\u001b[0m\u001b[0;34m)\u001b[0m\u001b[0;34m\u001b[0m\u001b[0m\n\u001b[0m\u001b[1;32m   1023\u001b[0m \u001b[0;34m\u001b[0m\u001b[0m\n\u001b[1;32m   1024\u001b[0m     def _fit_regressor(self, X, y, alpha, C, loss, learning_rate,\n",
      "\u001b[0;32m/home/ramon/anaconda2/lib/python2.7/site-packages/sklearn/linear_model/stochastic_gradient.pyc\u001b[0m in \u001b[0;36m_decision_function\u001b[0;34m(self, X)\u001b[0m\n\u001b[1;32m   1005\u001b[0m \u001b[0;34m\u001b[0m\u001b[0m\n\u001b[1;32m   1006\u001b[0m         scores = safe_sparse_dot(X, self.coef_.T,\n\u001b[0;32m-> 1007\u001b[0;31m                                  dense_output=True) + self.intercept_\n\u001b[0m\u001b[1;32m   1008\u001b[0m         \u001b[0;32mreturn\u001b[0m \u001b[0mscores\u001b[0m\u001b[0;34m.\u001b[0m\u001b[0mravel\u001b[0m\u001b[0;34m(\u001b[0m\u001b[0;34m)\u001b[0m\u001b[0;34m\u001b[0m\u001b[0m\n\u001b[1;32m   1009\u001b[0m \u001b[0;34m\u001b[0m\u001b[0m\n",
      "\u001b[0;32m/home/ramon/anaconda2/lib/python2.7/site-packages/sklearn/utils/extmath.pyc\u001b[0m in \u001b[0;36msafe_sparse_dot\u001b[0;34m(a, b, dense_output)\u001b[0m\n\u001b[1;32m    187\u001b[0m         \u001b[0;32mreturn\u001b[0m \u001b[0mret\u001b[0m\u001b[0;34m\u001b[0m\u001b[0m\n\u001b[1;32m    188\u001b[0m     \u001b[0;32melse\u001b[0m\u001b[0;34m:\u001b[0m\u001b[0;34m\u001b[0m\u001b[0m\n\u001b[0;32m--> 189\u001b[0;31m         \u001b[0;32mreturn\u001b[0m \u001b[0mfast_dot\u001b[0m\u001b[0;34m(\u001b[0m\u001b[0ma\u001b[0m\u001b[0;34m,\u001b[0m \u001b[0mb\u001b[0m\u001b[0;34m)\u001b[0m\u001b[0;34m\u001b[0m\u001b[0m\n\u001b[0m\u001b[1;32m    190\u001b[0m \u001b[0;34m\u001b[0m\u001b[0m\n\u001b[1;32m    191\u001b[0m \u001b[0;34m\u001b[0m\u001b[0m\n",
      "\u001b[0;31mValueError\u001b[0m: shapes (1,1072) and (20000,) not aligned: 1072 (dim 1) != 20000 (dim 0)"
     ]
    }
   ],
   "source": [
    "print clf.score(predicted,y_test)\n",
    "print classification_report(predicted,y_test)"
   ]
  },
  {
   "cell_type": "code",
   "execution_count": null,
   "metadata": {
    "collapsed": false
   },
   "outputs": [],
   "source": [
    "idf = vectorizer.idf_\n",
    "df_idf = pd.DataFrame.from_dict(dict(zip(vectorizer.get_feature_names(), idf)),orient='index')\n",
    "df_idf.columns=['TFIDF']\n",
    "df_idf = df_idf.sort_values(by='TFIDF',ascending=False)\n",
    "df_idf.head()"
   ]
  },
  {
   "cell_type": "code",
   "execution_count": null,
   "metadata": {
    "collapsed": true
   },
   "outputs": [],
   "source": [
    "X_train_vectorized.shape\n",
    "from sklearn.decomposition import TruncatedSVD\n",
    "svd = TruncatedSVD(n_components=200)\n",
    "X_svd = svd.fit_transform(X_train_vectorized)"
   ]
  },
  {
   "cell_type": "code",
   "execution_count": null,
   "metadata": {
    "collapsed": false
   },
   "outputs": [],
   "source": [
    "svd.explained_variance_ratio_.sum()*100"
   ]
  },
  {
   "cell_type": "code",
   "execution_count": null,
   "metadata": {
    "collapsed": false
   },
   "outputs": [],
   "source": [
    "def show_most_informative_features(vectorizer, clf, n=20):\n",
    "    feature_names = vectorizer.get_feature_names()\n",
    "    coefs_with_fns = sorted(zip(clf.coef_[0], feature_names))\n",
    "    top = zip(coefs_with_fns[:n], coefs_with_fns[:-(n + 1):-1])\n",
    "    for (coef_1, fn_1), (coef_2, fn_2) in top:\n",
    "        print \"\\t%.4f\\t%-15s\\t\\t%.4f\\t%-15s\" % (coef_1, fn_1, coef_2, fn_2)\n",
    "        \n",
    "show_most_informative_features(vectorizer,clf,n=40)"
   ]
  }
 ],
 "metadata": {
  "anaconda-cloud": {},
  "kernelspec": {
   "display_name": "Python [conda root]",
   "language": "python",
   "name": "conda-root-py"
  },
  "language_info": {
   "codemirror_mode": {
    "name": "ipython",
    "version": 2
   },
   "file_extension": ".py",
   "mimetype": "text/x-python",
   "name": "python",
   "nbconvert_exporter": "python",
   "pygments_lexer": "ipython2",
   "version": "2.7.12"
  }
 },
 "nbformat": 4,
 "nbformat_minor": 1
}
