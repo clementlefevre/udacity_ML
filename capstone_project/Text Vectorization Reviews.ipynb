{
 "cells": [
  {
   "cell_type": "code",
   "execution_count": 28,
   "metadata": {
    "collapsed": false
   },
   "outputs": [],
   "source": [
    "%matplotlib inline\n",
    "import numpy as np\n",
    "from ggplot import *\n",
    "import pandas as pd\n",
    "from langdetect import detect\n",
    "from sklearn.feature_extraction.text import CountVectorizer, TfidfTransformer,TfidfVectorizer\n",
    "from sklearn.model_selection import train_test_split\n",
    "from sklearn.decomposition import PCA\n",
    "\n",
    "from sklearn.cluster import KMeans\n",
    "from sklearn.pipeline import Pipeline\n",
    "from sklearn.linear_model import LinearRegression\n",
    "from sklearn.ensemble import RandomForestClassifier\n",
    "from sklearn.metrics import r2_score, mean_squared_error, confusion_matrix\n",
    "\n",
    "import nltk\n",
    "import matplotlib.pyplot as plt\n",
    "from matplotlib import cm\n",
    "import seaborn as sns\n",
    "\n",
    "from utils import detect_lang"
   ]
  },
  {
   "cell_type": "code",
   "execution_count": 2,
   "metadata": {
    "collapsed": false
   },
   "outputs": [],
   "source": [
    "def add_language_to_reviews(df):\n",
    "    df_reviews = pd.read_csv('data/reviews.csv')\n",
    "    \n",
    "    df_reviews[\"comments2\"] = df_reviews.comments.apply(lambda x:str(x).decode('utf-8'))\n",
    "    df_reviews['language']= df_reviews.comments2.apply(detect_lang)\n",
    "    df_reviews.to_csv(\"data/reviews_with_lang.csv\")\n",
    "    "
   ]
  },
  {
   "cell_type": "code",
   "execution_count": 3,
   "metadata": {
    "collapsed": false
   },
   "outputs": [],
   "source": [
    "df_reviews = pd.read_csv('data/reviews_with_lang.csv')\n",
    "df_reviews_eng = df_reviews[df_reviews.language=='en']\n",
    "\n",
    "df_listing = pd.read_csv('data/listings.csv')\n"
   ]
  },
  {
   "cell_type": "code",
   "execution_count": 4,
   "metadata": {
    "collapsed": false
   },
   "outputs": [
    {
     "data": {
      "text/plain": [
       "Index([u'id', u'listing_url', u'scrape_id', u'last_scraped', u'name',\n",
       "       u'summary', u'space', u'description', u'experiences_offered',\n",
       "       u'neighborhood_overview', u'notes', u'transit', u'access',\n",
       "       u'interaction', u'house_rules', u'thumbnail_url', u'medium_url',\n",
       "       u'picture_url', u'xl_picture_url', u'host_id', u'host_url',\n",
       "       u'host_name', u'host_since', u'host_location', u'host_about',\n",
       "       u'host_response_time', u'host_response_rate', u'host_acceptance_rate',\n",
       "       u'host_is_superhost', u'host_thumbnail_url', u'host_picture_url',\n",
       "       u'host_neighbourhood', u'host_listings_count',\n",
       "       u'host_total_listings_count', u'host_verifications',\n",
       "       u'host_has_profile_pic', u'host_identity_verified', u'street',\n",
       "       u'neighbourhood', u'neighbourhood_cleansed',\n",
       "       u'neighbourhood_group_cleansed', u'city', u'state', u'zipcode',\n",
       "       u'market', u'smart_location', u'country_code', u'country', u'latitude',\n",
       "       u'longitude', u'is_location_exact', u'property_type', u'room_type',\n",
       "       u'accommodates', u'bathrooms', u'bedrooms', u'beds', u'bed_type',\n",
       "       u'amenities', u'square_feet', u'price', u'weekly_price',\n",
       "       u'monthly_price', u'security_deposit', u'cleaning_fee',\n",
       "       u'guests_included', u'extra_people', u'minimum_nights',\n",
       "       u'maximum_nights', u'calendar_updated', u'has_availability',\n",
       "       u'availability_30', u'availability_60', u'availability_90',\n",
       "       u'availability_365', u'calendar_last_scraped', u'number_of_reviews',\n",
       "       u'first_review', u'last_review', u'review_scores_rating',\n",
       "       u'review_scores_accuracy', u'review_scores_cleanliness',\n",
       "       u'review_scores_checkin', u'review_scores_communication',\n",
       "       u'review_scores_location', u'review_scores_value', u'requires_license',\n",
       "       u'license', u'jurisdiction_names', u'instant_bookable',\n",
       "       u'cancellation_policy', u'require_guest_profile_picture',\n",
       "       u'require_guest_phone_verification', u'calculated_host_listings_count',\n",
       "       u'reviews_per_month'],\n",
       "      dtype='object')"
      ]
     },
     "execution_count": 4,
     "metadata": {},
     "output_type": "execute_result"
    }
   ],
   "source": [
    "df_listing.columns"
   ]
  },
  {
   "cell_type": "code",
   "execution_count": 5,
   "metadata": {
    "collapsed": false
   },
   "outputs": [
    {
     "data": {
      "text/plain": [
       "<matplotlib.axes._subplots.AxesSubplot at 0x7f1eec460490>"
      ]
     },
     "execution_count": 5,
     "metadata": {},
     "output_type": "execute_result"
    },
    {
     "data": {
      "image/png": "[encoded data removed]",
      "text/plain": [
       "<matplotlib.figure.Figure at 0x7f1f30e270d0>"
      ]
     },
     "metadata": {},
     "output_type": "display_data"
    }
   ],
   "source": [
    "df_listing[df_listing.room_type=='Entire home/apt'].plot(kind='scatter',x='availability_30',y='number_of_reviews')"
   ]
  },
  {
   "cell_type": "code",
   "execution_count": 6,
   "metadata": {
    "collapsed": false
   },
   "outputs": [
    {
     "data": {
      "text/plain": [
       "array(['Private room', 'Entire home/apt', 'Shared room'], dtype=object)"
      ]
     },
     "execution_count": 6,
     "metadata": {},
     "output_type": "execute_result"
    }
   ],
   "source": [
    "df_listing.room_type.unique()"
   ]
  },
  {
   "cell_type": "code",
   "execution_count": 7,
   "metadata": {
    "collapsed": false
   },
   "outputs": [],
   "source": [
    "df_reviews_eng = pd.merge(df_reviews_eng,df_listing[['id','review_scores_rating','review_scores_cleanliness','room_type','availability_30','availability_90','reviews_per_month']],left_on='listing_id',right_on='id')"
   ]
  },
  {
   "cell_type": "code",
   "execution_count": 8,
   "metadata": {
    "collapsed": false
   },
   "outputs": [
    {
     "data": {
      "text/html": [
       "<div>\n",
       "<style>\n",
       "    .dataframe thead tr:only-child th {\n",
       "        text-align: right;\n",
       "    }\n",
       "\n",
       "    .dataframe thead th {\n",
       "        text-align: left;\n",
       "    }\n",
       "\n",
       "    .dataframe tbody tr th {\n",
       "        vertical-align: top;\n",
       "    }\n",
       "</style>\n",
       "<table border=\"1\" class=\"dataframe\">\n",
       "  <thead>\n",
       "    <tr style=\"text-align: right;\">\n",
       "      <th></th>\n",
       "      <th>Unnamed: 0</th>\n",
       "      <th>listing_id</th>\n",
       "      <th>id_x</th>\n",
       "      <th>date</th>\n",
       "      <th>reviewer_id</th>\n",
       "      <th>reviewer_name</th>\n",
       "      <th>comments</th>\n",
       "      <th>language</th>\n",
       "      <th>id_y</th>\n",
       "      <th>review_scores_rating</th>\n",
       "      <th>review_scores_cleanliness</th>\n",
       "      <th>room_type</th>\n",
       "      <th>availability_30</th>\n",
       "      <th>availability_90</th>\n",
       "      <th>reviews_per_month</th>\n",
       "    </tr>\n",
       "  </thead>\n",
       "  <tbody>\n",
       "    <tr>\n",
       "      <th>0</th>\n",
       "      <td>1</td>\n",
       "      <td>7878281</td>\n",
       "      <td>50115386</td>\n",
       "      <td>2015-10-09</td>\n",
       "      <td>45018962</td>\n",
       "      <td>Rotem</td>\n",
       "      <td>AMAZING hosting, we arrived to Benita's appart...</td>\n",
       "      <td>en</td>\n",
       "      <td>7878281</td>\n",
       "      <td>99.0</td>\n",
       "      <td>10.0</td>\n",
       "      <td>Entire home/apt</td>\n",
       "      <td>6</td>\n",
       "      <td>6</td>\n",
       "      <td>0.69</td>\n",
       "    </tr>\n",
       "    <tr>\n",
       "      <th>1</th>\n",
       "      <td>3</td>\n",
       "      <td>7878281</td>\n",
       "      <td>58376102</td>\n",
       "      <td>2016-01-02</td>\n",
       "      <td>6789115</td>\n",
       "      <td>Nicola</td>\n",
       "      <td>This apartment was beautiful, spacious, warm a...</td>\n",
       "      <td>en</td>\n",
       "      <td>7878281</td>\n",
       "      <td>99.0</td>\n",
       "      <td>10.0</td>\n",
       "      <td>Entire home/apt</td>\n",
       "      <td>6</td>\n",
       "      <td>6</td>\n",
       "      <td>0.69</td>\n",
       "    </tr>\n",
       "    <tr>\n",
       "      <th>2</th>\n",
       "      <td>4</td>\n",
       "      <td>7878281</td>\n",
       "      <td>71814574</td>\n",
       "      <td>2016-04-28</td>\n",
       "      <td>63494941</td>\n",
       "      <td>Claudio</td>\n",
       "      <td>BENITA AND KLEMENS WERE VERY KIND WITH US. THE...</td>\n",
       "      <td>en</td>\n",
       "      <td>7878281</td>\n",
       "      <td>99.0</td>\n",
       "      <td>10.0</td>\n",
       "      <td>Entire home/apt</td>\n",
       "      <td>6</td>\n",
       "      <td>6</td>\n",
       "      <td>0.69</td>\n",
       "    </tr>\n",
       "    <tr>\n",
       "      <th>3</th>\n",
       "      <td>5</td>\n",
       "      <td>7878281</td>\n",
       "      <td>74568125</td>\n",
       "      <td>2016-05-15</td>\n",
       "      <td>57750113</td>\n",
       "      <td>Sandeep</td>\n",
       "      <td>Yes. Klemens came with a bouquet of flowers an...</td>\n",
       "      <td>en</td>\n",
       "      <td>7878281</td>\n",
       "      <td>99.0</td>\n",
       "      <td>10.0</td>\n",
       "      <td>Entire home/apt</td>\n",
       "      <td>6</td>\n",
       "      <td>6</td>\n",
       "      <td>0.69</td>\n",
       "    </tr>\n",
       "    <tr>\n",
       "      <th>4</th>\n",
       "      <td>7</td>\n",
       "      <td>7878281</td>\n",
       "      <td>86698077</td>\n",
       "      <td>2016-07-17</td>\n",
       "      <td>19899121</td>\n",
       "      <td>Brian</td>\n",
       "      <td>Great experience. Hosts were responsive and fr...</td>\n",
       "      <td>en</td>\n",
       "      <td>7878281</td>\n",
       "      <td>99.0</td>\n",
       "      <td>10.0</td>\n",
       "      <td>Entire home/apt</td>\n",
       "      <td>6</td>\n",
       "      <td>6</td>\n",
       "      <td>0.69</td>\n",
       "    </tr>\n",
       "  </tbody>\n",
       "</table>\n",
       "</div>"
      ],
      "text/plain": [
       "   Unnamed: 0  listing_id      id_x        date  reviewer_id reviewer_name  \\\n",
       "0           1     7878281  50115386  2015-10-09     45018962         Rotem   \n",
       "1           3     7878281  58376102  2016-01-02      6789115        Nicola   \n",
       "2           4     7878281  71814574  2016-04-28     63494941       Claudio   \n",
       "3           5     7878281  74568125  2016-05-15     57750113       Sandeep   \n",
       "4           7     7878281  86698077  2016-07-17     19899121         Brian   \n",
       "\n",
       "                                            comments language     id_y  \\\n",
       "0  AMAZING hosting, we arrived to Benita's appart...       en  7878281   \n",
       "1  This apartment was beautiful, spacious, warm a...       en  7878281   \n",
       "2  BENITA AND KLEMENS WERE VERY KIND WITH US. THE...       en  7878281   \n",
       "3  Yes. Klemens came with a bouquet of flowers an...       en  7878281   \n",
       "4  Great experience. Hosts were responsive and fr...       en  7878281   \n",
       "\n",
       "   review_scores_rating  review_scores_cleanliness        room_type  \\\n",
       "0                  99.0                       10.0  Entire home/apt   \n",
       "1                  99.0                       10.0  Entire home/apt   \n",
       "2                  99.0                       10.0  Entire home/apt   \n",
       "3                  99.0                       10.0  Entire home/apt   \n",
       "4                  99.0                       10.0  Entire home/apt   \n",
       "\n",
       "   availability_30  availability_90  reviews_per_month  \n",
       "0                6                6               0.69  \n",
       "1                6                6               0.69  \n",
       "2                6                6               0.69  \n",
       "3                6                6               0.69  \n",
       "4                6                6               0.69  "
      ]
     },
     "execution_count": 8,
     "metadata": {},
     "output_type": "execute_result"
    }
   ],
   "source": [
    "df_reviews_eng.head()"
   ]
  },
  {
   "cell_type": "code",
   "execution_count": 9,
   "metadata": {
    "collapsed": true
   },
   "outputs": [],
   "source": [
    "groupy_per_lang = df_reviews.groupby('language').comments.count().sort_values(ascending = False)"
   ]
  },
  {
   "cell_type": "code",
   "execution_count": 10,
   "metadata": {
    "collapsed": false
   },
   "outputs": [
    {
     "data": {
      "text/plain": [
       "<matplotlib.axes._subplots.AxesSubplot at 0x7f1ef3daf710>"
      ]
     },
     "execution_count": 10,
     "metadata": {},
     "output_type": "execute_result"
    },
    {
     "data": {
      "image/png": "[encoded data removed]",
      "text/plain": [
       "<matplotlib.figure.Figure at 0x7f1ef3eee7d0>"
      ]
     },
     "metadata": {},
     "output_type": "display_data"
    }
   ],
   "source": [
    "groupy_per_lang.plot.bar(title=\"Per review language\")"
   ]
  },
  {
   "cell_type": "code",
   "execution_count": 11,
   "metadata": {
    "collapsed": false
   },
   "outputs": [],
   "source": [
    "def concat_comments(x):\n",
    "    return \"%s\" % '- '.join(x)\n",
    "\n",
    "df_reviews_eng = df_reviews_eng[df_reviews_eng.room_type=='Entire home/apt']\n",
    "df_reviews_eng = df_reviews_eng[~df_reviews_eng.review_scores_rating.isnull()]\n",
    "df_reviews_eng = df_reviews_eng[~df_reviews_eng.comments.str.contains('The host canceled this reservation')]\n",
    "groupy = df_reviews_eng.groupby('listing_id').agg({'comments': [concat_comments,'count'], 'review_scores_rating': 'mean', 'availability_30':'mean','availability_90':'mean','reviews_per_month':'mean'})\n",
    "#groupy  = df_rewiews_eng.groupby('listing_id')['comments','review_scores_cleanliness'].apply(lambda x: \"%s\" % ', '.join(x))\n",
    "raw_text = groupy.comments.values\n",
    "groupy.columns = [\"_\".join(x) for x in groupy.columns.ravel()]"
   ]
  },
  {
   "cell_type": "code",
   "execution_count": null,
   "metadata": {
    "collapsed": false
   },
   "outputs": [],
   "source": [
    "ggplot(groupy,aes(x='availability_90_mean',y='reviews_per_month_mean'))+geom_point()"
   ]
  },
  {
   "cell_type": "code",
   "execution_count": null,
   "metadata": {
    "collapsed": true
   },
   "outputs": [],
   "source": [
    "raw_text = groupy.comments_concat_comments.values"
   ]
  },
  {
   "cell_type": "code",
   "execution_count": 26,
   "metadata": {
    "collapsed": false
   },
   "outputs": [
    {
     "name": "stdout",
     "output_type": "stream",
     "text": [
      "[nltk_data] Downloading package stopwords to /home/ramon/nltk_data...\n",
      "[nltk_data]   Package stopwords is already up-to-date!\n"
     ]
    }
   ],
   "source": [
    "porter = nltk.stem.porter.PorterStemmer()\n",
    "\n",
    "def tokenizer_porter(text):\n",
    "    return [porter.stem(word) for word in text.split()]\n",
    "\n",
    "nltk.download('stopwords')\n",
    "\n",
    "stop = nltk.corpus.stopwords.words('english')\n",
    "\n",
    "\n",
    "vectorizer = TfidfVectorizer(ngram_range=(2,2),tokenizer=tokenizer_porter,stop_words=stop,max_features=3000)\n",
    "X_vectorized = vectorizer.fit_transform(groupy.comments_concat_comments.values).todense()\n",
    "\n",
    "from sklearn.naive_bayes import MultinomialNB\n",
    "\n",
    "target = np.where(groupy.review_scores_rating_mean>90,'good','bad')\n",
    "\n",
    "clf = MultinomialNB().fit(X_vectorized, target)"
   ]
  },
  {
   "cell_type": "code",
   "execution_count": 27,
   "metadata": {
    "collapsed": true
   },
   "outputs": [],
   "source": [
    "predicted = clf.predict(X_vectorized)"
   ]
  },
  {
   "cell_type": "code",
   "execution_count": 36,
   "metadata": {
    "collapsed": false
   },
   "outputs": [
    {
     "name": "stdout",
     "output_type": "stream",
     "text": [
      "[[5467 1731]\n",
      " [  16  327]]\n"
     ]
    }
   ],
   "source": [
    "print confusion_matrix(predicted,target)"
   ]
  },
  {
   "cell_type": "code",
   "execution_count": 38,
   "metadata": {
    "collapsed": false
   },
   "outputs": [
    {
     "name": "stdout",
     "output_type": "stream",
     "text": [
      "\t-9.6819\twa broken      \t\t-4.7809\twa veri        \n",
      "\t-9.6096\tuwe wa         \t\t-5.1226\tapart wa       \n",
      "\t-9.4839\tgili wa        \t\t-5.3998\tveri nice      \n",
      "\t-9.4075\tshower curtain \t\t-5.6571\twa great       \n",
      "\t-9.3152\tdidn't work    \t\t-5.6994\twould definit  \n",
      "\t-9.3130\tdidn't realli  \t\t-5.7238\trecommend thi  \n",
      "\t-9.3126\tcentral station\t\t-5.7681\thighli recommend\n",
      "\t-9.2832\toveral good    \t\t-5.7978\teveryth wa     \n",
      "\t-9.2826\ttoilet paper   \t\t-5.8797\twa realli      \n",
      "\t-9.2762\tron wa         \t\t-5.9039\teveryth need   \n",
      "\t-9.2350\tdoor wa        \t\t-5.9320\twa perfect     \n",
      "\t-9.2263\thowev wa       \t\t-5.9572\tplace wa       \n",
      "\t-9.2181\tstephan wa     \t\t-5.9638\tflat wa        \n",
      "\t-9.1863\t- alex         \t\t-6.0473\tveri clean     \n",
      "\t-9.1636\tbit noisi      \t\t-6.0525\tapart veri     \n",
      "\t-9.1544\tcontact host   \t\t-6.0628\tpublic transport\n",
      "\t-9.1249\twa wifi        \t\t-6.0631\tdefinit recommend\n",
      "\t-9.1195\tdidn't know    \t\t-6.0682\tveri close     \n",
      "\t-9.1184\tonli complaint \t\t-6.1020\tveri well      \n",
      "\t-9.1141\twould nice     \t\t-6.1194\tveri help      \n"
     ]
    }
   ],
   "source": [
    "def show_most_informative_features(vectorizer, clf, n=20):\n",
    "    feature_names = vectorizer.get_feature_names()\n",
    "    coefs_with_fns = sorted(zip(clf.coef_[0], feature_names))\n",
    "    top = zip(coefs_with_fns[:n], coefs_with_fns[:-(n + 1):-1])\n",
    "    for (coef_1, fn_1), (coef_2, fn_2) in top:\n",
    "        print \"\\t%.4f\\t%-15s\\t\\t%.4f\\t%-15s\" % (coef_1, fn_1, coef_2, fn_2)\n",
    "        \n",
    "show_most_informative_features(vectorizer,clf)"
   ]
  },
  {
   "cell_type": "code",
   "execution_count": null,
   "metadata": {
    "collapsed": false
   },
   "outputs": [],
   "source": [
    "pca = PCA(n_components=20).fit(X_vectorized)\n",
    "\n",
    "print pca.explained_variance_ratio_.sum()\n",
    "print pca.explained_variance_ratio_*100"
   ]
  },
  {
   "cell_type": "code",
   "execution_count": null,
   "metadata": {
    "collapsed": false
   },
   "outputs": [],
   "source": [
    "data2D = pca.transform(X_vectorized)\n",
    "groupy['pc1']=data2D[:,0]\n",
    "groupy['pc2']=data2D[:,1]"
   ]
  },
  {
   "cell_type": "code",
   "execution_count": null,
   "metadata": {
    "collapsed": false
   },
   "outputs": [],
   "source": [
    "cmap = cm.get_cmap('Spectral')\n",
    "data2D = pca.transform(X_vectorized)\n",
    "groupy.plot(kind='scatter',x='pc1', y='pc2',alpha=.2)"
   ]
  },
  {
   "cell_type": "code",
   "execution_count": null,
   "metadata": {
    "collapsed": false
   },
   "outputs": [],
   "source": [
    "df_reviews_eng.review_scores_rating.hist(bins=100)"
   ]
  },
  {
   "cell_type": "code",
   "execution_count": null,
   "metadata": {
    "collapsed": false
   },
   "outputs": [],
   "source": [
    "nltk.download()"
   ]
  },
  {
   "cell_type": "code",
   "execution_count": 16,
   "metadata": {
    "collapsed": false
   },
   "outputs": [
    {
     "name": "stderr",
     "output_type": "stream",
     "text": [
      "/home/ramon/anaconda2/lib/python2.7/site-packages/ipykernel/__main__.py:14: SettingWithCopyWarning: \n",
      "A value is trying to be set on a copy of a slice from a DataFrame.\n",
      "Try using .loc[row_indexer,col_indexer] = value instead\n",
      "\n",
      "See the caveats in the documentation: http://pandas.pydata.org/pandas-docs/stable/indexing.html#indexing-view-versus-copy\n",
      "/home/ramon/anaconda2/lib/python2.7/site-packages/ipykernel/__main__.py:15: SettingWithCopyWarning: \n",
      "A value is trying to be set on a copy of a slice from a DataFrame.\n",
      "Try using .loc[row_indexer,col_indexer] = value instead\n",
      "\n",
      "See the caveats in the documentation: http://pandas.pydata.org/pandas-docs/stable/indexing.html#indexing-view-versus-copy\n",
      "/home/ramon/anaconda2/lib/python2.7/site-packages/ipykernel/__main__.py:16: SettingWithCopyWarning: \n",
      "A value is trying to be set on a copy of a slice from a DataFrame.\n",
      "Try using .loc[row_indexer,col_indexer] = value instead\n",
      "\n",
      "See the caveats in the documentation: http://pandas.pydata.org/pandas-docs/stable/indexing.html#indexing-view-versus-copy\n"
     ]
    }
   ],
   "source": [
    "porter = nltk.stem.porter.PorterStemmer()\n",
    "def stem_stop(x):\n",
    "    x = x.replace(r'[^a-zA-Z\\d\\s:]','')\n",
    "    x = x.split(' ')\n",
    "    x = [word for word in x if word not in set(nltk.corpus.stopwords.words(\"english\"))]\n",
    "    \n",
    "    x = ' '.join(x)\n",
    "    x = [porter.stem(word.decode('utf-8')) for word in x.split()]\n",
    " \n",
    "    return x\n",
    "\n",
    "test_df = groupy.head(10)\n",
    "\n",
    "test_df['features']= test_df.comments_concat_comments.apply(stem_stop)\n",
    "test_df['score']= np.where(test_df.review_scores_rating_mean>90,'good','bad')\n",
    "test_df['Labeled_Feature'] = zip(test_df['features'],test_df['score'])"
   ]
  },
  {
   "cell_type": "code",
   "execution_count": null,
   "metadata": {
    "collapsed": true
   },
   "outputs": [],
   "source": []
  }
 ],
 "metadata": {
  "anaconda-cloud": {},
  "kernelspec": {
   "display_name": "Python [conda root]",
   "language": "python",
   "name": "conda-root-py"
  },
  "language_info": {
   "codemirror_mode": {
    "name": "ipython",
    "version": 2
   },
   "file_extension": ".py",
   "mimetype": "text/x-python",
   "name": "python",
   "nbconvert_exporter": "python",
   "pygments_lexer": "ipython2",
   "version": "2.7.12"
  }
 },
 "nbformat": 4,
 "nbformat_minor": 1
}
