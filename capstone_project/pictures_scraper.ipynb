{
 "cells": [
  {
   "cell_type": "code",
   "execution_count": 143,
   "metadata": {
    "collapsed": false
   },
   "outputs": [],
   "source": [
    "import numpy as np\n",
    "import pandas as pd\n",
    "from PIL import Image\n",
    "import urllib\n",
    "from os import listdir\n",
    "from os.path import isfile, join\n"
   ]
  },
  {
   "cell_type": "markdown",
   "metadata": {},
   "source": [
    "## Create a list of appart ID / picture urls"
   ]
  },
  {
   "cell_type": "code",
   "execution_count": 2,
   "metadata": {
    "collapsed": true
   },
   "outputs": [],
   "source": [
    "df_listing_high_renter = pd.read_csv('data/df_listing_high_renter.csv')"
   ]
  },
  {
   "cell_type": "code",
   "execution_count": 3,
   "metadata": {
    "collapsed": true
   },
   "outputs": [],
   "source": [
    "df_listing_all = pd.read_csv('data/listings.csv')"
   ]
  },
  {
   "cell_type": "code",
   "execution_count": 24,
   "metadata": {
    "collapsed": false
   },
   "outputs": [],
   "source": [
    "col_url = [col for col in df_listing_all.columns if 'url' in col]"
   ]
  },
  {
   "cell_type": "code",
   "execution_count": 29,
   "metadata": {
    "collapsed": false
   },
   "outputs": [
    {
     "data": {
      "text/html": [
       "<div>\n",
       "<style>\n",
       "    .dataframe thead tr:only-child th {\n",
       "        text-align: right;\n",
       "    }\n",
       "\n",
       "    .dataframe thead th {\n",
       "        text-align: left;\n",
       "    }\n",
       "\n",
       "    .dataframe tbody tr th {\n",
       "        vertical-align: top;\n",
       "    }\n",
       "</style>\n",
       "<table border=\"1\" class=\"dataframe\">\n",
       "  <thead>\n",
       "    <tr style=\"text-align: right;\">\n",
       "      <th></th>\n",
       "      <th>18254</th>\n",
       "    </tr>\n",
       "  </thead>\n",
       "  <tbody>\n",
       "    <tr>\n",
       "      <th>listing_url</th>\n",
       "      <td>https://www.airbnb.com/rooms/4106583</td>\n",
       "    </tr>\n",
       "    <tr>\n",
       "      <th>thumbnail_url</th>\n",
       "      <td>https://a0.muscache.com/im/pictures/52427497/3...</td>\n",
       "    </tr>\n",
       "    <tr>\n",
       "      <th>medium_url</th>\n",
       "      <td>https://a0.muscache.com/im/pictures/52427497/3...</td>\n",
       "    </tr>\n",
       "    <tr>\n",
       "      <th>picture_url</th>\n",
       "      <td>https://a0.muscache.com/im/pictures/52427497/3...</td>\n",
       "    </tr>\n",
       "    <tr>\n",
       "      <th>xl_picture_url</th>\n",
       "      <td>https://a0.muscache.com/im/pictures/52427497/3...</td>\n",
       "    </tr>\n",
       "    <tr>\n",
       "      <th>host_url</th>\n",
       "      <td>https://www.airbnb.com/users/show/20998252</td>\n",
       "    </tr>\n",
       "    <tr>\n",
       "      <th>host_thumbnail_url</th>\n",
       "      <td>https://a0.muscache.com/im/users/20998252/prof...</td>\n",
       "    </tr>\n",
       "    <tr>\n",
       "      <th>host_picture_url</th>\n",
       "      <td>https://a0.muscache.com/im/users/20998252/prof...</td>\n",
       "    </tr>\n",
       "  </tbody>\n",
       "</table>\n",
       "</div>"
      ],
      "text/plain": [
       "                                                                18254\n",
       "listing_url                      https://www.airbnb.com/rooms/4106583\n",
       "thumbnail_url       https://a0.muscache.com/im/pictures/52427497/3...\n",
       "medium_url          https://a0.muscache.com/im/pictures/52427497/3...\n",
       "picture_url         https://a0.muscache.com/im/pictures/52427497/3...\n",
       "xl_picture_url      https://a0.muscache.com/im/pictures/52427497/3...\n",
       "host_url                   https://www.airbnb.com/users/show/20998252\n",
       "host_thumbnail_url  https://a0.muscache.com/im/users/20998252/prof...\n",
       "host_picture_url    https://a0.muscache.com/im/users/20998252/prof..."
      ]
     },
     "execution_count": 29,
     "metadata": {},
     "output_type": "execute_result"
    }
   ],
   "source": [
    "df_listing_all[df_listing_all.id==4106583][col_url].transpose()"
   ]
  },
  {
   "cell_type": "code",
   "execution_count": 32,
   "metadata": {
    "collapsed": false
   },
   "outputs": [
    {
     "data": {
      "text/plain": [
       "array([ 'https://a0.muscache.com/im/pictures/52427497/3b3b7391_original.jpg?aki_policy=x_large'], dtype=object)"
      ]
     },
     "execution_count": 32,
     "metadata": {},
     "output_type": "execute_result"
    }
   ],
   "source": [
    "df_listing_all[df_listing_all.id==4106583][col_url].xl_picture_url.values"
   ]
  },
  {
   "cell_type": "code",
   "execution_count": 35,
   "metadata": {
    "collapsed": false
   },
   "outputs": [
    {
     "name": "stdout",
     "output_type": "stream",
     "text": [
      "(3199, 521)\n",
      "(20576, 95)\n"
     ]
    }
   ],
   "source": [
    "print df_listing_high_renter.shape\n",
    "print df_listing_all.shape"
   ]
  },
  {
   "cell_type": "code",
   "execution_count": 41,
   "metadata": {
    "collapsed": false
   },
   "outputs": [],
   "source": [
    "df_pictures_url = pd.merge(df_listing_high_renter[['id']], df_listing_all[['id']+col_url], on='id')"
   ]
  },
  {
   "cell_type": "code",
   "execution_count": 125,
   "metadata": {
    "collapsed": false
   },
   "outputs": [
    {
     "data": {
      "text/html": [
       "<div>\n",
       "<style>\n",
       "    .dataframe thead tr:only-child th {\n",
       "        text-align: right;\n",
       "    }\n",
       "\n",
       "    .dataframe thead th {\n",
       "        text-align: left;\n",
       "    }\n",
       "\n",
       "    .dataframe tbody tr th {\n",
       "        vertical-align: top;\n",
       "    }\n",
       "</style>\n",
       "<table border=\"1\" class=\"dataframe\">\n",
       "  <thead>\n",
       "    <tr style=\"text-align: right;\">\n",
       "      <th></th>\n",
       "      <th>id</th>\n",
       "      <th>listing_url</th>\n",
       "      <th>thumbnail_url</th>\n",
       "      <th>medium_url</th>\n",
       "      <th>picture_url</th>\n",
       "      <th>xl_picture_url</th>\n",
       "      <th>host_url</th>\n",
       "      <th>host_thumbnail_url</th>\n",
       "      <th>host_picture_url</th>\n",
       "    </tr>\n",
       "  </thead>\n",
       "  <tbody>\n",
       "    <tr>\n",
       "      <th>0</th>\n",
       "      <td>15767215</td>\n",
       "      <td>https://www.airbnb.com/rooms/15767215</td>\n",
       "      <td>https://a0.muscache.com/im/pictures/0947cd5e-a...</td>\n",
       "      <td>https://a0.muscache.com/im/pictures/0947cd5e-a...</td>\n",
       "      <td>https://a0.muscache.com/im/pictures/0947cd5e-a...</td>\n",
       "      <td>https://a0.muscache.com/im/pictures/0947cd5e-a...</td>\n",
       "      <td>https://www.airbnb.com/users/show/39537907</td>\n",
       "      <td>https://a0.muscache.com/im/pictures/3a69d1b4-7...</td>\n",
       "      <td>https://a0.muscache.com/im/pictures/3a69d1b4-7...</td>\n",
       "    </tr>\n",
       "    <tr>\n",
       "      <th>1</th>\n",
       "      <td>7568544</td>\n",
       "      <td>https://www.airbnb.com/rooms/7568544</td>\n",
       "      <td>https://a0.muscache.com/im/pictures/96046046/5...</td>\n",
       "      <td>https://a0.muscache.com/im/pictures/96046046/5...</td>\n",
       "      <td>https://a0.muscache.com/im/pictures/96046046/5...</td>\n",
       "      <td>https://a0.muscache.com/im/pictures/96046046/5...</td>\n",
       "      <td>https://www.airbnb.com/users/show/39056052</td>\n",
       "      <td>https://a0.muscache.com/im/pictures/e710a9b1-6...</td>\n",
       "      <td>https://a0.muscache.com/im/pictures/e710a9b1-6...</td>\n",
       "    </tr>\n",
       "    <tr>\n",
       "      <th>2</th>\n",
       "      <td>16926322</td>\n",
       "      <td>https://www.airbnb.com/rooms/16926322</td>\n",
       "      <td>https://a0.muscache.com/im/pictures/f6591c6f-0...</td>\n",
       "      <td>https://a0.muscache.com/im/pictures/f6591c6f-0...</td>\n",
       "      <td>https://a0.muscache.com/im/pictures/f6591c6f-0...</td>\n",
       "      <td>https://a0.muscache.com/im/pictures/f6591c6f-0...</td>\n",
       "      <td>https://www.airbnb.com/users/show/25707959</td>\n",
       "      <td>https://a0.muscache.com/im/users/25707959/prof...</td>\n",
       "      <td>https://a0.muscache.com/im/users/25707959/prof...</td>\n",
       "    </tr>\n",
       "    <tr>\n",
       "      <th>3</th>\n",
       "      <td>16153479</td>\n",
       "      <td>https://www.airbnb.com/rooms/16153479</td>\n",
       "      <td>https://a0.muscache.com/im/pictures/95f34d39-0...</td>\n",
       "      <td>https://a0.muscache.com/im/pictures/95f34d39-0...</td>\n",
       "      <td>https://a0.muscache.com/im/pictures/95f34d39-0...</td>\n",
       "      <td>https://a0.muscache.com/im/pictures/95f34d39-0...</td>\n",
       "      <td>https://www.airbnb.com/users/show/105373097</td>\n",
       "      <td>https://a0.muscache.com/im/pictures/ea9eff09-4...</td>\n",
       "      <td>https://a0.muscache.com/im/pictures/ea9eff09-4...</td>\n",
       "    </tr>\n",
       "    <tr>\n",
       "      <th>4</th>\n",
       "      <td>16865367</td>\n",
       "      <td>https://www.airbnb.com/rooms/16865367</td>\n",
       "      <td>https://a0.muscache.com/im/pictures/485ee9b7-b...</td>\n",
       "      <td>https://a0.muscache.com/im/pictures/485ee9b7-b...</td>\n",
       "      <td>https://a0.muscache.com/im/pictures/485ee9b7-b...</td>\n",
       "      <td>https://a0.muscache.com/im/pictures/485ee9b7-b...</td>\n",
       "      <td>https://www.airbnb.com/users/show/112381310</td>\n",
       "      <td>https://a0.muscache.com/im/pictures/19e0e197-0...</td>\n",
       "      <td>https://a0.muscache.com/im/pictures/19e0e197-0...</td>\n",
       "    </tr>\n",
       "    <tr>\n",
       "      <th>5</th>\n",
       "      <td>4604780</td>\n",
       "      <td>https://www.airbnb.com/rooms/4604780</td>\n",
       "      <td>https://a0.muscache.com/im/pictures/57819996/8...</td>\n",
       "      <td>https://a0.muscache.com/im/pictures/57819996/8...</td>\n",
       "      <td>https://a0.muscache.com/im/pictures/57819996/8...</td>\n",
       "      <td>https://a0.muscache.com/im/pictures/57819996/8...</td>\n",
       "      <td>https://www.airbnb.com/users/show/23822141</td>\n",
       "      <td>https://a0.muscache.com/im/users/23822141/prof...</td>\n",
       "      <td>https://a0.muscache.com/im/users/23822141/prof...</td>\n",
       "    </tr>\n",
       "    <tr>\n",
       "      <th>6</th>\n",
       "      <td>768616</td>\n",
       "      <td>https://www.airbnb.com/rooms/768616</td>\n",
       "      <td>https://a0.muscache.com/im/pictures/24245246/0...</td>\n",
       "      <td>https://a0.muscache.com/im/pictures/24245246/0...</td>\n",
       "      <td>https://a0.muscache.com/im/pictures/24245246/0...</td>\n",
       "      <td>https://a0.muscache.com/im/pictures/24245246/0...</td>\n",
       "      <td>https://www.airbnb.com/users/show/4054647</td>\n",
       "      <td>https://a0.muscache.com/im/users/4054647/profi...</td>\n",
       "      <td>https://a0.muscache.com/im/users/4054647/profi...</td>\n",
       "    </tr>\n",
       "    <tr>\n",
       "      <th>7</th>\n",
       "      <td>14542554</td>\n",
       "      <td>https://www.airbnb.com/rooms/14542554</td>\n",
       "      <td>https://a0.muscache.com/im/pictures/a8473a20-b...</td>\n",
       "      <td>https://a0.muscache.com/im/pictures/a8473a20-b...</td>\n",
       "      <td>https://a0.muscache.com/im/pictures/a8473a20-b...</td>\n",
       "      <td>https://a0.muscache.com/im/pictures/a8473a20-b...</td>\n",
       "      <td>https://www.airbnb.com/users/show/2227611</td>\n",
       "      <td>https://a0.muscache.com/im/pictures/5f018716-7...</td>\n",
       "      <td>https://a0.muscache.com/im/pictures/5f018716-7...</td>\n",
       "    </tr>\n",
       "    <tr>\n",
       "      <th>8</th>\n",
       "      <td>4119526</td>\n",
       "      <td>https://www.airbnb.com/rooms/4119526</td>\n",
       "      <td>https://a0.muscache.com/im/pictures/c04a4268-a...</td>\n",
       "      <td>https://a0.muscache.com/im/pictures/c04a4268-a...</td>\n",
       "      <td>https://a0.muscache.com/im/pictures/c04a4268-a...</td>\n",
       "      <td>https://a0.muscache.com/im/pictures/c04a4268-a...</td>\n",
       "      <td>https://www.airbnb.com/users/show/21370854</td>\n",
       "      <td>https://a0.muscache.com/im/users/21370854/prof...</td>\n",
       "      <td>https://a0.muscache.com/im/users/21370854/prof...</td>\n",
       "    </tr>\n",
       "  </tbody>\n",
       "</table>\n",
       "</div>"
      ],
      "text/plain": [
       "         id                            listing_url  \\\n",
       "0  15767215  https://www.airbnb.com/rooms/15767215   \n",
       "1   7568544   https://www.airbnb.com/rooms/7568544   \n",
       "2  16926322  https://www.airbnb.com/rooms/16926322   \n",
       "3  16153479  https://www.airbnb.com/rooms/16153479   \n",
       "4  16865367  https://www.airbnb.com/rooms/16865367   \n",
       "5   4604780   https://www.airbnb.com/rooms/4604780   \n",
       "6    768616    https://www.airbnb.com/rooms/768616   \n",
       "7  14542554  https://www.airbnb.com/rooms/14542554   \n",
       "8   4119526   https://www.airbnb.com/rooms/4119526   \n",
       "\n",
       "                                       thumbnail_url  \\\n",
       "0  https://a0.muscache.com/im/pictures/0947cd5e-a...   \n",
       "1  https://a0.muscache.com/im/pictures/96046046/5...   \n",
       "2  https://a0.muscache.com/im/pictures/f6591c6f-0...   \n",
       "3  https://a0.muscache.com/im/pictures/95f34d39-0...   \n",
       "4  https://a0.muscache.com/im/pictures/485ee9b7-b...   \n",
       "5  https://a0.muscache.com/im/pictures/57819996/8...   \n",
       "6  https://a0.muscache.com/im/pictures/24245246/0...   \n",
       "7  https://a0.muscache.com/im/pictures/a8473a20-b...   \n",
       "8  https://a0.muscache.com/im/pictures/c04a4268-a...   \n",
       "\n",
       "                                          medium_url  \\\n",
       "0  https://a0.muscache.com/im/pictures/0947cd5e-a...   \n",
       "1  https://a0.muscache.com/im/pictures/96046046/5...   \n",
       "2  https://a0.muscache.com/im/pictures/f6591c6f-0...   \n",
       "3  https://a0.muscache.com/im/pictures/95f34d39-0...   \n",
       "4  https://a0.muscache.com/im/pictures/485ee9b7-b...   \n",
       "5  https://a0.muscache.com/im/pictures/57819996/8...   \n",
       "6  https://a0.muscache.com/im/pictures/24245246/0...   \n",
       "7  https://a0.muscache.com/im/pictures/a8473a20-b...   \n",
       "8  https://a0.muscache.com/im/pictures/c04a4268-a...   \n",
       "\n",
       "                                         picture_url  \\\n",
       "0  https://a0.muscache.com/im/pictures/0947cd5e-a...   \n",
       "1  https://a0.muscache.com/im/pictures/96046046/5...   \n",
       "2  https://a0.muscache.com/im/pictures/f6591c6f-0...   \n",
       "3  https://a0.muscache.com/im/pictures/95f34d39-0...   \n",
       "4  https://a0.muscache.com/im/pictures/485ee9b7-b...   \n",
       "5  https://a0.muscache.com/im/pictures/57819996/8...   \n",
       "6  https://a0.muscache.com/im/pictures/24245246/0...   \n",
       "7  https://a0.muscache.com/im/pictures/a8473a20-b...   \n",
       "8  https://a0.muscache.com/im/pictures/c04a4268-a...   \n",
       "\n",
       "                                      xl_picture_url  \\\n",
       "0  https://a0.muscache.com/im/pictures/0947cd5e-a...   \n",
       "1  https://a0.muscache.com/im/pictures/96046046/5...   \n",
       "2  https://a0.muscache.com/im/pictures/f6591c6f-0...   \n",
       "3  https://a0.muscache.com/im/pictures/95f34d39-0...   \n",
       "4  https://a0.muscache.com/im/pictures/485ee9b7-b...   \n",
       "5  https://a0.muscache.com/im/pictures/57819996/8...   \n",
       "6  https://a0.muscache.com/im/pictures/24245246/0...   \n",
       "7  https://a0.muscache.com/im/pictures/a8473a20-b...   \n",
       "8  https://a0.muscache.com/im/pictures/c04a4268-a...   \n",
       "\n",
       "                                      host_url  \\\n",
       "0   https://www.airbnb.com/users/show/39537907   \n",
       "1   https://www.airbnb.com/users/show/39056052   \n",
       "2   https://www.airbnb.com/users/show/25707959   \n",
       "3  https://www.airbnb.com/users/show/105373097   \n",
       "4  https://www.airbnb.com/users/show/112381310   \n",
       "5   https://www.airbnb.com/users/show/23822141   \n",
       "6    https://www.airbnb.com/users/show/4054647   \n",
       "7    https://www.airbnb.com/users/show/2227611   \n",
       "8   https://www.airbnb.com/users/show/21370854   \n",
       "\n",
       "                                  host_thumbnail_url  \\\n",
       "0  https://a0.muscache.com/im/pictures/3a69d1b4-7...   \n",
       "1  https://a0.muscache.com/im/pictures/e710a9b1-6...   \n",
       "2  https://a0.muscache.com/im/users/25707959/prof...   \n",
       "3  https://a0.muscache.com/im/pictures/ea9eff09-4...   \n",
       "4  https://a0.muscache.com/im/pictures/19e0e197-0...   \n",
       "5  https://a0.muscache.com/im/users/23822141/prof...   \n",
       "6  https://a0.muscache.com/im/users/4054647/profi...   \n",
       "7  https://a0.muscache.com/im/pictures/5f018716-7...   \n",
       "8  https://a0.muscache.com/im/users/21370854/prof...   \n",
       "\n",
       "                                    host_picture_url  \n",
       "0  https://a0.muscache.com/im/pictures/3a69d1b4-7...  \n",
       "1  https://a0.muscache.com/im/pictures/e710a9b1-6...  \n",
       "2  https://a0.muscache.com/im/users/25707959/prof...  \n",
       "3  https://a0.muscache.com/im/pictures/ea9eff09-4...  \n",
       "4  https://a0.muscache.com/im/pictures/19e0e197-0...  \n",
       "5  https://a0.muscache.com/im/users/23822141/prof...  \n",
       "6  https://a0.muscache.com/im/users/4054647/profi...  \n",
       "7  https://a0.muscache.com/im/pictures/5f018716-7...  \n",
       "8  https://a0.muscache.com/im/users/21370854/prof...  "
      ]
     },
     "execution_count": 125,
     "metadata": {},
     "output_type": "execute_result"
    }
   ],
   "source": [
    "df_pictures_url.head(9)"
   ]
  },
  {
   "cell_type": "code",
   "execution_count": 45,
   "metadata": {
    "collapsed": false
   },
   "outputs": [],
   "source": [
    "df_pictures_url.to_csv('data/high_renters_pictures_url.csv')"
   ]
  },
  {
   "cell_type": "markdown",
   "metadata": {},
   "source": [
    "## Scrap all appartment pictures for high rented flats"
   ]
  },
  {
   "cell_type": "code",
   "execution_count": 85,
   "metadata": {
    "collapsed": false
   },
   "outputs": [],
   "source": [
    "def scrap_pictures(id,url):\n",
    "   \n",
    "    try:\n",
    "        urllib.urlretrieve(url, \"data/pictures/\"+  str(id )+\".jpg\")\n",
    "    except Exception as e:\n",
    "        print e\n",
    "        print \"cannot scrap {}\".format(url)\n"
   ]
  },
  {
   "cell_type": "code",
   "execution_count": 135,
   "metadata": {
    "collapsed": false
   },
   "outputs": [],
   "source": [
    "def check_pictures_files_is_local(list_url):\n",
    "    local_files =  [f for f in listdir('data/pictures') if isfile(join('data/pictures', f))]\n",
    "    local_files =[int(f.split(\".\")[0]) for f in local_files]\n",
    "    \n",
    "    server_files = [f for f in list_url if f[0] not in local_files]\n",
    "    \n",
    "    \n",
    "    return server_files"
   ]
  },
  {
   "cell_type": "code",
   "execution_count": 137,
   "metadata": {
    "collapsed": false
   },
   "outputs": [
    {
     "name": "stdout",
     "output_type": "stream",
     "text": [
      "[]\n"
     ]
    }
   ],
   "source": [
    "list_url = df_pictures_url[['id','picture_url']].sort_values(by='id').values.tolist()\n",
    "list_url = check_pictures_files_is_local(list_url)"
   ]
  },
  {
   "cell_type": "code",
   "execution_count": 138,
   "metadata": {
    "collapsed": false
   },
   "outputs": [],
   "source": [
    "#for url in list_url:\n",
    " #   scrap_pictures(url[0],url[1])"
   ]
  },
  {
   "cell_type": "markdown",
   "metadata": {},
   "source": [
    "## Convert pictures to numpy array"
   ]
  },
  {
   "cell_type": "code",
   "execution_count": 268,
   "metadata": {
    "collapsed": true
   },
   "outputs": [],
   "source": [
    "size = (128, 128)\n",
    "\n",
    "def load_image( infilename ) :\n",
    "    img = Image.open( infilename).convert('RGB')\n",
    "   \n",
    "    \n",
    "    img = img.resize(size, Image.ANTIALIAS)\n",
    "    \n",
    "    img.load()\n",
    "    \n",
    "    \n",
    "    data = np.asarray(img, dtype=\"int32\" )\n",
    "    save_image(data)\n",
    "    data = data.reshape(1,-1)\n",
    "    return data,img\n",
    "\n",
    "def save_image( npdata) :\n",
    "    img = Image.fromarray( np.asarray( np.clip(npdata,0,255), dtype=\"uint8\"), \"RGB\" )\n",
    "    img.show()\n",
    "    \n"
   ]
  },
  {
   "cell_type": "code",
   "execution_count": 269,
   "metadata": {
    "collapsed": false
   },
   "outputs": [],
   "source": [
    "data,img = load_image('data/pictures/81081.jpg')"
   ]
  },
  {
   "cell_type": "code",
   "execution_count": 274,
   "metadata": {
    "collapsed": false
   },
   "outputs": [
    {
     "name": "stdout",
     "output_type": "stream",
     "text": [
      "<type 'NoneType'>\n"
     ]
    }
   ],
   "source": [
    "print type(img.getcolors())"
   ]
  },
  {
   "cell_type": "code",
   "execution_count": 285,
   "metadata": {
    "collapsed": false
   },
   "outputs": [
    {
     "name": "stdout",
     "output_type": "stream",
     "text": [
      "reading image\n",
      "finding clusters\n",
      "cluster centres:\n",
      "[[  31.46345117   22.43618933    9.63211504]\n",
      " [ 201.30205216  181.91256947  163.63958957]\n",
      " [ 226.4619323   216.35630985  208.65241301]\n",
      " [ 159.46686747  100.23433735   22.30662651]\n",
      " [ 114.84189723   92.61089152   87.98550725]]\n",
      "[ 3320  4521 10729  1658  2272]\n",
      "most frequent is [226 216 208] (#e2d8d0)\n"
     ]
    }
   ],
   "source": [
    "\n",
    "import scipy\n",
    "import scipy.misc\n",
    "import scipy.cluster\n",
    "\n",
    "NUM_CLUSTERS = 5\n",
    "\n",
    "print 'reading image'\n",
    "im = Image.open('data/pictures/81081.jpg')\n",
    "im = im.resize((150, 150))      # optional, to reduce time\n",
    "ar = scipy.misc.fromimage(im)\n",
    "ar = ar.astype(float)\n",
    "shape = ar.shape\n",
    "ar = ar.reshape(scipy.product(shape[:2]), shape[2])\n",
    "\n",
    "print 'finding clusters'\n",
    "codes, dist = scipy.cluster.vq.kmeans(ar, NUM_CLUSTERS)\n",
    "print 'cluster centres:\\n', codes\n",
    "\n",
    "vecs, dist = scipy.cluster.vq.vq(ar, codes)         # assign codes\n",
    "counts, bins = scipy.histogram(vecs, len(codes))    # count occurrences\n",
    "\n",
    "index_max = scipy.argmax(counts)                    # find most frequent\n",
    "peak = codes[index_max]\n",
    "\n",
    "print counts\n",
    "\n",
    "peak = peak.astype(int)\n",
    "colour = ''.join(chr(c) for c in peak).encode('hex')\n",
    "print 'most frequent is %s (#%s)' % (peak, colour)"
   ]
  }
 ],
 "metadata": {
  "anaconda-cloud": {},
  "kernelspec": {
   "display_name": "Python [conda root]",
   "language": "python",
   "name": "conda-root-py"
  },
  "language_info": {
   "codemirror_mode": {
    "name": "ipython",
    "version": 2
   },
   "file_extension": ".py",
   "mimetype": "text/x-python",
   "name": "python",
   "nbconvert_exporter": "python",
   "pygments_lexer": "ipython2",
   "version": "2.7.12"
  }
 },
 "nbformat": 4,
 "nbformat_minor": 2
}
