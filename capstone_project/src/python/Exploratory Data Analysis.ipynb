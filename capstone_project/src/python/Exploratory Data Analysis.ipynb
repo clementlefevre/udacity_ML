{
 "cells": [
  {
   "cell_type": "markdown",
   "metadata": {},
   "source": [
    "# AirBnB : Part 2, Exploratory Data Analysis"
   ]
  },
  {
   "cell_type": "code",
   "execution_count": 1,
   "metadata": {
    "collapsed": false
   },
   "outputs": [
    {
     "name": "stderr",
     "output_type": "stream",
     "text": [
      "/home/ramon/anaconda2/lib/python2.7/site-packages/statsmodels/compat/pandas.py:56: FutureWarning: The pandas.core.datetools module is deprecated and will be removed in a future version. Please use the pandas.tseries module instead.\n",
      "  from pandas.core import datetools\n",
      "/home/ramon/anaconda2/lib/python2.7/site-packages/sklearn/cross_validation.py:44: DeprecationWarning: This module was deprecated in version 0.18 in favor of the model_selection module into which all the refactored classes and functions are moved. Also note that the interface of the new CV iterators are different from that of this module. This module will be removed in 0.20.\n",
      "  \"This module will be removed in 0.20.\", DeprecationWarning)\n",
      "/home/ramon/anaconda2/lib/python2.7/site-packages/sklearn/grid_search.py:43: DeprecationWarning: This module was deprecated in version 0.18 in favor of the model_selection module into which all the refactored classes and functions are moved. This module will be removed in 0.20.\n",
      "  DeprecationWarning)\n"
     ]
    }
   ],
   "source": [
    "%matplotlib inline \n",
    "\n",
    "import matplotlib.pyplot as plt\n",
    "\n",
    "from time import time\n",
    "import numpy as np\n",
    "import pandas as pd\n",
    "\n",
    "import seaborn as sns\n",
    "\n",
    "import statsmodels.api as sm\n",
    "\n",
    "from sklearn.ensemble import RandomForestClassifier\n",
    "from sklearn.linear_model import LinearRegression,LogisticRegression\n",
    "from sklearn.metrics import r2_score, mean_squared_error,confusion_matrix,classification_report\n",
    "from sklearn.model_selection import train_test_split,StratifiedKFold\n",
    "from sklearn.grid_search import GridSearchCV\n",
    "\n",
    "from sklearn import metrics\n",
    "from sklearn.cluster import KMeans\n",
    "from sklearn.decomposition import PCA\n",
    "from sklearn.preprocessing import scale,LabelEncoder\n",
    "\n",
    "from xgboost import XGBClassifier\n",
    "from utils import rstr,distance"
   ]
  },
  {
   "cell_type": "markdown",
   "metadata": {},
   "source": [
    "### Add frequency reviews and distance to highlights"
   ]
  },
  {
   "cell_type": "code",
   "execution_count": 2,
   "metadata": {
    "collapsed": false
   },
   "outputs": [
    {
     "data": {
      "text/plain": [
       "0"
      ]
     },
     "execution_count": 2,
     "metadata": {},
     "output_type": "execute_result"
    }
   ],
   "source": [
    "df_id = pd.read_csv('../../data/listing_cleansed.csv')\n",
    "#df_listing = pd.read_csv('../../data/listing_cleansed.csv')\n",
    "\n",
    "#df_listing = pd.read_csv('../../data/listing_with_reviews_PCA.csv')\n",
    "df_listing = pd.read_csv('../../data/df_listing_high_renter_with_pic_data.csv')\n",
    "df_listing= pd.merge(df_listing,df_id[['listing_id','host_id']],on='listing_id')\n",
    "df_listing.host_id.isnull().sum()"
   ]
  },
  {
   "cell_type": "code",
   "execution_count": 3,
   "metadata": {
    "collapsed": false
   },
   "outputs": [],
   "source": [
    "df_reviews_freq=pd.read_csv('../../data/reviews_frequency.csv')\n",
    "df = pd.merge(df_listing,df_reviews_freq,on='listing_id')"
   ]
  },
  {
   "cell_type": "code",
   "execution_count": 4,
   "metadata": {
    "collapsed": false
   },
   "outputs": [
    {
     "data": {
      "text/plain": [
       "(3196, 600)"
      ]
     },
     "execution_count": 4,
     "metadata": {},
     "output_type": "execute_result"
    }
   ],
   "source": [
    "df_listing.shape"
   ]
  },
  {
   "cell_type": "code",
   "execution_count": 5,
   "metadata": {
    "collapsed": true
   },
   "outputs": [],
   "source": [
    "coord_brandenburg_tor = (52.516849,13.377661)\n",
    "def distance_highlight(x):\n",
    "    return distance(coord_brandenburg_tor,x)\n",
    "    "
   ]
  },
  {
   "cell_type": "code",
   "execution_count": 6,
   "metadata": {
    "collapsed": false
   },
   "outputs": [],
   "source": [
    "\n",
    "df['coordinate']=list(zip(df.latitude, df.longitude))\n",
    "df['distance_brandenburg_tor'] = df['coordinate'].apply(distance_highlight)\n",
    "\n",
    "count_appart_per_host=df.groupby([\"host_id\"])[\"listing_id\"].transform(\"count\")\n",
    "\n",
    "df = pd.concat([df,pd.get_dummies(df.text_language,prefix='language_text_')],axis=1)\n",
    "\n",
    "df['is_multi_host']=( count_appart_per_host>1)*1"
   ]
  },
  {
   "cell_type": "code",
   "execution_count": 7,
   "metadata": {
    "collapsed": false
   },
   "outputs": [
    {
     "data": {
      "text/plain": [
       "<matplotlib.axes._subplots.AxesSubplot at 0x7fdc559eb0d0>"
      ]
     },
     "execution_count": 7,
     "metadata": {},
     "output_type": "execute_result"
    },
    {
     "data": {
      "image/png": "[encoded data removed]",
      "text/plain": [
       "<matplotlib.figure.Figure at 0x7fdc903c9b90>"
      ]
     },
     "metadata": {},
     "output_type": "display_data"
    }
   ],
   "source": [
    "df.is_multi_host.hist()"
   ]
  },
  {
   "cell_type": "markdown",
   "metadata": {},
   "source": [
    "### Filter on listings with high reviews number"
   ]
  },
  {
   "cell_type": "code",
   "execution_count": 8,
   "metadata": {
    "collapsed": false
   },
   "outputs": [],
   "source": [
    "df = df[df.last_review<200]\n",
    "df = df[df.number_of_reviews>2]\n",
    "df = df[~df.review_scores_accuracy.isnull()]\n",
    "#df = df[df.availability_30>0]"
   ]
  },
  {
   "cell_type": "markdown",
   "metadata": {},
   "source": [
    "### Fill the missing data"
   ]
  },
  {
   "cell_type": "code",
   "execution_count": 9,
   "metadata": {
    "collapsed": false
   },
   "outputs": [],
   "source": [
    "columns_fill_na_with_mean = [u'bathrooms', u'bedrooms', u'beds', u'host_since',\n",
    "       u'host_listings_count','host_response_time','host_response_rate','review_scores_value','review_scores_cleanliness','review_scores_communication','review_scores_location']\n",
    "\n",
    "df[columns_fill_na_with_mean]= df[columns_fill_na_with_mean].fillna(df[columns_fill_na_with_mean].mean())"
   ]
  },
  {
   "cell_type": "code",
   "execution_count": 10,
   "metadata": {
    "collapsed": false
   },
   "outputs": [
    {
     "data": {
      "text/html": [
       "<div>\n",
       "<style>\n",
       "    .dataframe thead tr:only-child th {\n",
       "        text-align: right;\n",
       "    }\n",
       "\n",
       "    .dataframe thead th {\n",
       "        text-align: left;\n",
       "    }\n",
       "\n",
       "    .dataframe tbody tr th {\n",
       "        vertical-align: top;\n",
       "    }\n",
       "</style>\n",
       "<table border=\"1\" class=\"dataframe\">\n",
       "  <thead>\n",
       "    <tr style=\"text-align: right;\">\n",
       "      <th></th>\n",
       "      <th>missing_percent</th>\n",
       "    </tr>\n",
       "  </thead>\n",
       "  <tbody>\n",
       "    <tr>\n",
       "      <th>text_notes</th>\n",
       "      <td>58.421630</td>\n",
       "    </tr>\n",
       "    <tr>\n",
       "      <th>text_access</th>\n",
       "      <td>47.679942</td>\n",
       "    </tr>\n",
       "    <tr>\n",
       "      <th>text_interaction</th>\n",
       "      <td>45.305079</td>\n",
       "    </tr>\n",
       "    <tr>\n",
       "      <th>text_neighborhood_overview</th>\n",
       "      <td>41.834125</td>\n",
       "    </tr>\n",
       "    <tr>\n",
       "      <th>text_host_about</th>\n",
       "      <td>39.970771</td>\n",
       "    </tr>\n",
       "    <tr>\n",
       "      <th>text_house_rules</th>\n",
       "      <td>33.321155</td>\n",
       "    </tr>\n",
       "    <tr>\n",
       "      <th>text_transit</th>\n",
       "      <td>32.078919</td>\n",
       "    </tr>\n",
       "    <tr>\n",
       "      <th>text_space</th>\n",
       "      <td>21.556449</td>\n",
       "    </tr>\n",
       "    <tr>\n",
       "      <th>text_summary</th>\n",
       "      <td>5.261235</td>\n",
       "    </tr>\n",
       "    <tr>\n",
       "      <th>text_name</th>\n",
       "      <td>0.182682</td>\n",
       "    </tr>\n",
       "    <tr>\n",
       "      <th>text_description</th>\n",
       "      <td>0.036536</td>\n",
       "    </tr>\n",
       "  </tbody>\n",
       "</table>\n",
       "</div>"
      ],
      "text/plain": [
       "                            missing_percent\n",
       "text_notes                        58.421630\n",
       "text_access                       47.679942\n",
       "text_interaction                  45.305079\n",
       "text_neighborhood_overview        41.834125\n",
       "text_host_about                   39.970771\n",
       "text_house_rules                  33.321155\n",
       "text_transit                      32.078919\n",
       "text_space                        21.556449\n",
       "text_summary                       5.261235\n",
       "text_name                          0.182682\n",
       "text_description                   0.036536"
      ]
     },
     "execution_count": 10,
     "metadata": {},
     "output_type": "execute_result"
    }
   ],
   "source": [
    "df_missing_data = pd.DataFrame(df.isnull().sum()/len(df)*100).sort_values(by=0,ascending=False)\n",
    "df_missing_data.columns = ['missing_percent']\n",
    "df_missing_data[df_missing_data.missing_percent>0]"
   ]
  },
  {
   "cell_type": "markdown",
   "metadata": {},
   "source": [
    "## Correlation with target"
   ]
  },
  {
   "cell_type": "code",
   "execution_count": 11,
   "metadata": {
    "collapsed": true
   },
   "outputs": [],
   "source": [
    "TARGET = 'host_listings_count'"
   ]
  },
  {
   "cell_type": "markdown",
   "metadata": {},
   "source": [
    "### Columns to exclude"
   ]
  },
  {
   "cell_type": "code",
   "execution_count": 12,
   "metadata": {
    "collapsed": false
   },
   "outputs": [],
   "source": [
    "cols_amenities = [col for col in df.columns if 'amenities' in col]\n",
    "cols_review_PC = [col for col in df.columns if 'reviews_PC' in col]\n",
    "cols_picture_PC = [col for col in df.columns if 'pictures_PC' in col]\n",
    "cols_language_text = [col for col in df.columns if 'language_text' in col]\n",
    "\n",
    "\n",
    "\n",
    "COLS_EXCLUDE = cols_amenities+cols_review_PC+cols_picture_PC+cols_language_text+['listing_id','host_id']\n",
    "\n",
    "COLS_INCLUDE =['reviews_PC_4', 'reviews_PC_3','reviews_PC_8','amenities__Elevatorinbuilding', u'amenities__TV', u'beds',\n",
    "       u'reviews_PC_13',u'amenities__Shampoo', u'amenities__Laptopfriendlyworkspace','pictures_PC_1']\n",
    "\n",
    "COLS_EXCLUDE = list(set(COLS_EXCLUDE)-set(COLS_INCLUDE))"
   ]
  },
  {
   "cell_type": "code",
   "execution_count": 13,
   "metadata": {
    "collapsed": false
   },
   "outputs": [
    {
     "data": {
      "text/html": [
       "<div>\n",
       "<style>\n",
       "    .dataframe thead tr:only-child th {\n",
       "        text-align: right;\n",
       "    }\n",
       "\n",
       "    .dataframe thead th {\n",
       "        text-align: left;\n",
       "    }\n",
       "\n",
       "    .dataframe tbody tr th {\n",
       "        vertical-align: top;\n",
       "    }\n",
       "</style>\n",
       "<table border=\"1\" class=\"dataframe\">\n",
       "  <thead>\n",
       "    <tr style=\"text-align: right;\">\n",
       "      <th></th>\n",
       "      <th>host_listings_count</th>\n",
       "      <th>corr_abs</th>\n",
       "    </tr>\n",
       "  </thead>\n",
       "  <tbody>\n",
       "    <tr>\n",
       "      <th>host_listings_count</th>\n",
       "      <td>1.000000</td>\n",
       "      <td>1.000000</td>\n",
       "    </tr>\n",
       "    <tr>\n",
       "      <th>is_multi_host</th>\n",
       "      <td>0.429588</td>\n",
       "      <td>0.429588</td>\n",
       "    </tr>\n",
       "    <tr>\n",
       "      <th>instant_bookable</th>\n",
       "      <td>0.234392</td>\n",
       "      <td>0.234392</td>\n",
       "    </tr>\n",
       "    <tr>\n",
       "      <th>review_scores_communication</th>\n",
       "      <td>-0.214009</td>\n",
       "      <td>0.214009</td>\n",
       "    </tr>\n",
       "    <tr>\n",
       "      <th>reviews_PC_4</th>\n",
       "      <td>0.184697</td>\n",
       "      <td>0.184697</td>\n",
       "    </tr>\n",
       "    <tr>\n",
       "      <th>reviews_PC_3</th>\n",
       "      <td>-0.178023</td>\n",
       "      <td>0.178023</td>\n",
       "    </tr>\n",
       "    <tr>\n",
       "      <th>review_scores_accuracy</th>\n",
       "      <td>-0.176133</td>\n",
       "      <td>0.176133</td>\n",
       "    </tr>\n",
       "    <tr>\n",
       "      <th>review_scores_rating</th>\n",
       "      <td>-0.175830</td>\n",
       "      <td>0.175830</td>\n",
       "    </tr>\n",
       "    <tr>\n",
       "      <th>availability_365_previous_month</th>\n",
       "      <td>0.168126</td>\n",
       "      <td>0.168126</td>\n",
       "    </tr>\n",
       "    <tr>\n",
       "      <th>review_scores_checkin</th>\n",
       "      <td>-0.163575</td>\n",
       "      <td>0.163575</td>\n",
       "    </tr>\n",
       "    <tr>\n",
       "      <th>availability_365</th>\n",
       "      <td>0.158773</td>\n",
       "      <td>0.158773</td>\n",
       "    </tr>\n",
       "    <tr>\n",
       "      <th>amenities__Elevatorinbuilding</th>\n",
       "      <td>0.137619</td>\n",
       "      <td>0.137619</td>\n",
       "    </tr>\n",
       "    <tr>\n",
       "      <th>reviews_per_month</th>\n",
       "      <td>0.131354</td>\n",
       "      <td>0.131354</td>\n",
       "    </tr>\n",
       "    <tr>\n",
       "      <th>review_scores_value</th>\n",
       "      <td>-0.130599</td>\n",
       "      <td>0.130599</td>\n",
       "    </tr>\n",
       "    <tr>\n",
       "      <th>accommodates</th>\n",
       "      <td>0.128204</td>\n",
       "      <td>0.128204</td>\n",
       "    </tr>\n",
       "    <tr>\n",
       "      <th>property_type__Condominium</th>\n",
       "      <td>0.125576</td>\n",
       "      <td>0.125576</td>\n",
       "    </tr>\n",
       "    <tr>\n",
       "      <th>distance_brandenburg_tor</th>\n",
       "      <td>-0.122703</td>\n",
       "      <td>0.122703</td>\n",
       "    </tr>\n",
       "    <tr>\n",
       "      <th>host_response_time</th>\n",
       "      <td>-0.121689</td>\n",
       "      <td>0.121689</td>\n",
       "    </tr>\n",
       "    <tr>\n",
       "      <th>amenities__TV</th>\n",
       "      <td>0.119465</td>\n",
       "      <td>0.119465</td>\n",
       "    </tr>\n",
       "    <tr>\n",
       "      <th>beds</th>\n",
       "      <td>0.118418</td>\n",
       "      <td>0.118418</td>\n",
       "    </tr>\n",
       "    <tr>\n",
       "      <th>amenities__translationmissingenhostingamenity50</th>\n",
       "      <td>-0.114155</td>\n",
       "      <td>0.114155</td>\n",
       "    </tr>\n",
       "    <tr>\n",
       "      <th>reviewed_more_than_7_ago</th>\n",
       "      <td>0.113079</td>\n",
       "      <td>0.113079</td>\n",
       "    </tr>\n",
       "    <tr>\n",
       "      <th>reviewed_more_than_20_ago</th>\n",
       "      <td>0.112768</td>\n",
       "      <td>0.112768</td>\n",
       "    </tr>\n",
       "    <tr>\n",
       "      <th>reviews_PC_13</th>\n",
       "      <td>0.112278</td>\n",
       "      <td>0.112278</td>\n",
       "    </tr>\n",
       "    <tr>\n",
       "      <th>neighbourhood_group_cleansed__Mitte</th>\n",
       "      <td>0.110566</td>\n",
       "      <td>0.110566</td>\n",
       "    </tr>\n",
       "    <tr>\n",
       "      <th>amenities__Shampoo</th>\n",
       "      <td>-0.108774</td>\n",
       "      <td>0.108774</td>\n",
       "    </tr>\n",
       "    <tr>\n",
       "      <th>amenities__Laptopfriendlyworkspace</th>\n",
       "      <td>-0.107841</td>\n",
       "      <td>0.107841</td>\n",
       "    </tr>\n",
       "    <tr>\n",
       "      <th>reviewed_more_than_30_ago</th>\n",
       "      <td>0.104632</td>\n",
       "      <td>0.104632</td>\n",
       "    </tr>\n",
       "    <tr>\n",
       "      <th>is_location_exact</th>\n",
       "      <td>0.104110</td>\n",
       "      <td>0.104110</td>\n",
       "    </tr>\n",
       "    <tr>\n",
       "      <th>amenities__translationmissingenhostingamenity49</th>\n",
       "      <td>-0.103430</td>\n",
       "      <td>0.103430</td>\n",
       "    </tr>\n",
       "  </tbody>\n",
       "</table>\n",
       "</div>"
      ],
      "text/plain": [
       "                                                 host_listings_count  corr_abs\n",
       "host_listings_count                                         1.000000  1.000000\n",
       "is_multi_host                                               0.429588  0.429588\n",
       "instant_bookable                                            0.234392  0.234392\n",
       "review_scores_communication                                -0.214009  0.214009\n",
       "reviews_PC_4                                                0.184697  0.184697\n",
       "reviews_PC_3                                               -0.178023  0.178023\n",
       "review_scores_accuracy                                     -0.176133  0.176133\n",
       "review_scores_rating                                       -0.175830  0.175830\n",
       "availability_365_previous_month                             0.168126  0.168126\n",
       "review_scores_checkin                                      -0.163575  0.163575\n",
       "availability_365                                            0.158773  0.158773\n",
       "amenities__Elevatorinbuilding                               0.137619  0.137619\n",
       "reviews_per_month                                           0.131354  0.131354\n",
       "review_scores_value                                        -0.130599  0.130599\n",
       "accommodates                                                0.128204  0.128204\n",
       "property_type__Condominium                                  0.125576  0.125576\n",
       "distance_brandenburg_tor                                   -0.122703  0.122703\n",
       "host_response_time                                         -0.121689  0.121689\n",
       "amenities__TV                                               0.119465  0.119465\n",
       "beds                                                        0.118418  0.118418\n",
       "amenities__translationmissingenhostingamenity50            -0.114155  0.114155\n",
       "reviewed_more_than_7_ago                                    0.113079  0.113079\n",
       "reviewed_more_than_20_ago                                   0.112768  0.112768\n",
       "reviews_PC_13                                               0.112278  0.112278\n",
       "neighbourhood_group_cleansed__Mitte                         0.110566  0.110566\n",
       "amenities__Shampoo                                         -0.108774  0.108774\n",
       "amenities__Laptopfriendlyworkspace                         -0.107841  0.107841\n",
       "reviewed_more_than_30_ago                                   0.104632  0.104632\n",
       "is_location_exact                                           0.104110  0.104110\n",
       "amenities__translationmissingenhostingamenity49            -0.103430  0.103430"
      ]
     },
     "execution_count": 13,
     "metadata": {},
     "output_type": "execute_result"
    }
   ],
   "source": [
    "df_corr = df.corr()[TARGET]\n",
    "df_corr = pd.DataFrame(df_corr)\n",
    "df_corr['corr_abs'] = np.abs(df_corr[TARGET])\n",
    "df_corr = df_corr.sort_values(by='corr_abs',ascending=False)\n",
    "df_corr.head(30)"
   ]
  },
  {
   "cell_type": "markdown",
   "metadata": {},
   "source": [
    "## Linear Model and R-squared"
   ]
  },
  {
   "cell_type": "code",
   "execution_count": 14,
   "metadata": {
    "collapsed": false
   },
   "outputs": [],
   "source": [
    "TARGET_CLASSIFICATION ='is_multi_host'\n",
    "y = df[TARGET_CLASSIFICATION]\n",
    "numerics = ['int16', 'int32', 'int64', 'float16', 'float32', 'float64']\n",
    "\n",
    "X = df.drop([TARGET_CLASSIFICATION,'host_listings_count']+COLS_EXCLUDE,axis=1).select_dtypes(include=numerics)"
   ]
  },
  {
   "cell_type": "markdown",
   "metadata": {},
   "source": [
    "### Train test split"
   ]
  },
  {
   "cell_type": "code",
   "execution_count": 15,
   "metadata": {
    "collapsed": true
   },
   "outputs": [],
   "source": [
    "def balanced_subsample(y, size=None):\n",
    "\n",
    "    subsample = []\n",
    "\n",
    "    if size is None:\n",
    "        n_smp = y.value_counts().min()\n",
    "    else:\n",
    "        n_smp = int(size / len(y.value_counts().index))\n",
    "\n",
    "    for label in y.value_counts().index:\n",
    "        samples = y[y == label].index.values\n",
    "        index_range = range(samples.shape[0])\n",
    "        indexes = np.random.choice(index_range, size=n_smp, replace=False)\n",
    "        subsample += samples[indexes].tolist()\n",
    "\n",
    "    return subsample"
   ]
  },
  {
   "cell_type": "code",
   "execution_count": 16,
   "metadata": {
    "collapsed": true
   },
   "outputs": [],
   "source": [
    "rebalanced_index = balanced_subsample(y)"
   ]
  },
  {
   "cell_type": "code",
   "execution_count": 17,
   "metadata": {
    "collapsed": false
   },
   "outputs": [],
   "source": [
    "X,y = X.loc[rebalanced_index],y.loc[rebalanced_index]"
   ]
  },
  {
   "cell_type": "code",
   "execution_count": 18,
   "metadata": {
    "collapsed": false
   },
   "outputs": [
    {
     "data": {
      "text/plain": [
       "1    697\n",
       "0    697\n",
       "Name: is_multi_host, dtype: int64"
      ]
     },
     "execution_count": 18,
     "metadata": {},
     "output_type": "execute_result"
    }
   ],
   "source": [
    "y.value_counts()"
   ]
  },
  {
   "cell_type": "code",
   "execution_count": 19,
   "metadata": {
    "collapsed": false
   },
   "outputs": [],
   "source": [
    "X_train,X_test,y_train,y_test = train_test_split(X,y,test_size=.2,stratify=y)"
   ]
  },
  {
   "cell_type": "markdown",
   "metadata": {},
   "source": [
    "### Logistic Regression"
   ]
  },
  {
   "cell_type": "code",
   "execution_count": 20,
   "metadata": {
    "collapsed": false
   },
   "outputs": [
    {
     "name": "stdout",
     "output_type": "stream",
     "text": [
      "[[ 34 106]\n",
      " [ 26 113]]\n",
      "             precision    recall  f1-score   support\n",
      "\n",
      "          0       0.57      0.24      0.34       140\n",
      "          1       0.52      0.81      0.63       139\n",
      "\n",
      "avg / total       0.54      0.53      0.49       279\n",
      "\n"
     ]
    }
   ],
   "source": [
    "lm = LogisticRegression(C=1e5)\n",
    "lm.fit(X_train,y_train)\n",
    "prediction = lm.predict(X_test)\n",
    "print confusion_matrix(y_test,prediction)\n",
    "print classification_report(y_test,prediction)"
   ]
  },
  {
   "cell_type": "markdown",
   "metadata": {},
   "source": [
    "### Random Forest"
   ]
  },
  {
   "cell_type": "code",
   "execution_count": 21,
   "metadata": {
    "collapsed": false
   },
   "outputs": [
    {
     "name": "stdout",
     "output_type": "stream",
     "text": [
      "[[115  25]\n",
      " [ 54  85]]\n",
      "             precision    recall  f1-score   support\n",
      "\n",
      "          0       0.68      0.82      0.74       140\n",
      "          1       0.77      0.61      0.68       139\n",
      "\n",
      "avg / total       0.73      0.72      0.71       279\n",
      "\n"
     ]
    }
   ],
   "source": [
    "rf = RandomForestClassifier()\n",
    "rf.fit(X_train,y_train)\n",
    "prediction = rf.predict(X_test)\n",
    "print confusion_matrix(y_test,prediction)\n",
    "print classification_report(y_test,prediction)"
   ]
  },
  {
   "cell_type": "markdown",
   "metadata": {},
   "source": [
    "### XGB"
   ]
  },
  {
   "cell_type": "code",
   "execution_count": 22,
   "metadata": {
    "collapsed": false
   },
   "outputs": [
    {
     "name": "stdout",
     "output_type": "stream",
     "text": [
      "XGBClassifier(base_score=0.5, colsample_bylevel=1, colsample_bytree=1,\n",
      "       gamma=0.0, learning_rate=0.1, max_delta_step=0, max_depth=9,\n",
      "       min_child_weight=2, missing=None, n_estimators=100, nthread=-1,\n",
      "       objective='binary:logistic', reg_alpha=0, reg_lambda=1,\n",
      "       scale_pos_weight=1, seed=0, silent=True, subsample=1)\n"
     ]
    }
   ],
   "source": [
    "params = {\n",
    "    'max_depth':[9],\n",
    "    'min_child_weight':[2],\n",
    "    'learning_rate' :[0.1],\n",
    "    'gamma':[0.0],\n",
    "    'n_estimators':[100]\n",
    "}\n",
    "\n",
    "def cv_optimize(clf, parameters, Xtrain, ytrain, n_folds=5):\n",
    "    gs = GridSearchCV(clf, param_grid=params, cv=n_folds, n_jobs=-1,scoring=\"recall\")\n",
    "    gs.fit(Xtrain, ytrain)\n",
    "    \n",
    "    return gs.best_estimator_\n",
    "\n",
    "clf = XGBClassifier()\n",
    "\n",
    "best_clf = cv_optimize(clf,params,X_train,y_train)\n",
    "\n",
    "print(best_clf)"
   ]
  },
  {
   "cell_type": "code",
   "execution_count": 23,
   "metadata": {
    "collapsed": false
   },
   "outputs": [
    {
     "name": "stdout",
     "output_type": "stream",
     "text": [
      "[[112  28]\n",
      " [ 31 108]]\n",
      "             precision    recall  f1-score   support\n",
      "\n",
      "          0       0.78      0.80      0.79       140\n",
      "          1       0.79      0.78      0.79       139\n",
      "\n",
      "avg / total       0.79      0.79      0.79       279\n",
      "\n"
     ]
    }
   ],
   "source": [
    "prediction = best_clf.predict(X_test)\n",
    "print confusion_matrix(y_test,prediction)\n",
    "print classification_report(y_test,prediction)"
   ]
  },
  {
   "cell_type": "code",
   "execution_count": 24,
   "metadata": {
    "collapsed": false
   },
   "outputs": [
    {
     "data": {
      "text/plain": [
       "1    558\n",
       "0    557\n",
       "Name: is_multi_host, dtype: int64"
      ]
     },
     "execution_count": 24,
     "metadata": {},
     "output_type": "execute_result"
    }
   ],
   "source": [
    "y_train.value_counts()"
   ]
  },
  {
   "cell_type": "code",
   "execution_count": 25,
   "metadata": {
    "collapsed": false
   },
   "outputs": [
    {
     "data": {
      "text/plain": [
       "<matplotlib.axes._subplots.AxesSubplot at 0x7fdc903c9c50>"
      ]
     },
     "execution_count": 25,
     "metadata": {},
     "output_type": "execute_result"
    },
    {
     "data": {
      "image/png": "[encoded data removed]",
      "text/plain": [
       "<matplotlib.figure.Figure at 0x7fdc558a9690>"
      ]
     },
     "metadata": {},
     "output_type": "display_data"
    }
   ],
   "source": [
    "features_weights = pd.DataFrame.from_dict(best_clf.booster().get_fscore(),orient=\"index\")\n",
    "features_weights.columns = ['fscore']\n",
    "\n",
    "features_weights.sort_values(by='fscore',ascending=False).head(50).plot(kind='bar',title='XGB regressor - Features Importance')"
   ]
  },
  {
   "cell_type": "code",
   "execution_count": 26,
   "metadata": {
    "collapsed": false
   },
   "outputs": [
    {
     "data": {
      "text/html": [
       "<div>\n",
       "<style>\n",
       "    .dataframe thead tr:only-child th {\n",
       "        text-align: right;\n",
       "    }\n",
       "\n",
       "    .dataframe thead th {\n",
       "        text-align: left;\n",
       "    }\n",
       "\n",
       "    .dataframe tbody tr th {\n",
       "        vertical-align: top;\n",
       "    }\n",
       "</style>\n",
       "<table border=\"1\" class=\"dataframe\">\n",
       "  <thead>\n",
       "    <tr style=\"text-align: right;\">\n",
       "      <th></th>\n",
       "      <th>fscore</th>\n",
       "    </tr>\n",
       "  </thead>\n",
       "  <tbody>\n",
       "    <tr>\n",
       "      <th>host_since</th>\n",
       "      <td>169</td>\n",
       "    </tr>\n",
       "    <tr>\n",
       "      <th>reviews_PC_4</th>\n",
       "      <td>95</td>\n",
       "    </tr>\n",
       "    <tr>\n",
       "      <th>reviews_PC_3</th>\n",
       "      <td>85</td>\n",
       "    </tr>\n",
       "    <tr>\n",
       "      <th>distance_brandenburg_tor</th>\n",
       "      <td>85</td>\n",
       "    </tr>\n",
       "    <tr>\n",
       "      <th>reviews_per_month</th>\n",
       "      <td>84</td>\n",
       "    </tr>\n",
       "    <tr>\n",
       "      <th>availability_365</th>\n",
       "      <td>82</td>\n",
       "    </tr>\n",
       "    <tr>\n",
       "      <th>availability_365_previous_month</th>\n",
       "      <td>81</td>\n",
       "    </tr>\n",
       "    <tr>\n",
       "      <th>longitude</th>\n",
       "      <td>80</td>\n",
       "    </tr>\n",
       "    <tr>\n",
       "      <th>Centroid_Count_3</th>\n",
       "      <td>78</td>\n",
       "    </tr>\n",
       "    <tr>\n",
       "      <th>first_review</th>\n",
       "      <td>75</td>\n",
       "    </tr>\n",
       "    <tr>\n",
       "      <th>latitude</th>\n",
       "      <td>75</td>\n",
       "    </tr>\n",
       "    <tr>\n",
       "      <th>reviews_PC_8</th>\n",
       "      <td>72</td>\n",
       "    </tr>\n",
       "    <tr>\n",
       "      <th>R_contrast</th>\n",
       "      <td>66</td>\n",
       "    </tr>\n",
       "    <tr>\n",
       "      <th>Centroid_Count_5</th>\n",
       "      <td>65</td>\n",
       "    </tr>\n",
       "    <tr>\n",
       "      <th>review_scores_rating</th>\n",
       "      <td>62</td>\n",
       "    </tr>\n",
       "    <tr>\n",
       "      <th>last_review</th>\n",
       "      <td>59</td>\n",
       "    </tr>\n",
       "    <tr>\n",
       "      <th>Centroid_R_1</th>\n",
       "      <td>50</td>\n",
       "    </tr>\n",
       "    <tr>\n",
       "      <th>Centroid_Count_1</th>\n",
       "      <td>49</td>\n",
       "    </tr>\n",
       "    <tr>\n",
       "      <th>Brightness_mean</th>\n",
       "      <td>47</td>\n",
       "    </tr>\n",
       "    <tr>\n",
       "      <th>number_of_reviews</th>\n",
       "      <td>47</td>\n",
       "    </tr>\n",
       "    <tr>\n",
       "      <th>Centroid_R_5</th>\n",
       "      <td>45</td>\n",
       "    </tr>\n",
       "    <tr>\n",
       "      <th>price</th>\n",
       "      <td>45</td>\n",
       "    </tr>\n",
       "    <tr>\n",
       "      <th>reviews_PC_13</th>\n",
       "      <td>44</td>\n",
       "    </tr>\n",
       "    <tr>\n",
       "      <th>pictures_PC_1</th>\n",
       "      <td>43</td>\n",
       "    </tr>\n",
       "    <tr>\n",
       "      <th>host_response_rate</th>\n",
       "      <td>43</td>\n",
       "    </tr>\n",
       "    <tr>\n",
       "      <th>availability_60_previous_month</th>\n",
       "      <td>43</td>\n",
       "    </tr>\n",
       "    <tr>\n",
       "      <th>beds</th>\n",
       "      <td>40</td>\n",
       "    </tr>\n",
       "    <tr>\n",
       "      <th>extra_people</th>\n",
       "      <td>40</td>\n",
       "    </tr>\n",
       "    <tr>\n",
       "      <th>accommodates</th>\n",
       "      <td>39</td>\n",
       "    </tr>\n",
       "    <tr>\n",
       "      <th>Centroid_Count_4</th>\n",
       "      <td>39</td>\n",
       "    </tr>\n",
       "    <tr>\n",
       "      <th>...</th>\n",
       "      <td>...</td>\n",
       "    </tr>\n",
       "    <tr>\n",
       "      <th>reviewed_more_than_90_ago</th>\n",
       "      <td>15</td>\n",
       "    </tr>\n",
       "    <tr>\n",
       "      <th>minimum_nights</th>\n",
       "      <td>14</td>\n",
       "    </tr>\n",
       "    <tr>\n",
       "      <th>amenities__TV</th>\n",
       "      <td>14</td>\n",
       "    </tr>\n",
       "    <tr>\n",
       "      <th>review_scores_cleanliness</th>\n",
       "      <td>12</td>\n",
       "    </tr>\n",
       "    <tr>\n",
       "      <th>availability_30_previous_month</th>\n",
       "      <td>12</td>\n",
       "    </tr>\n",
       "    <tr>\n",
       "      <th>reviewed_more_than_30_ago</th>\n",
       "      <td>12</td>\n",
       "    </tr>\n",
       "    <tr>\n",
       "      <th>reviewed_more_than_40_ago</th>\n",
       "      <td>11</td>\n",
       "    </tr>\n",
       "    <tr>\n",
       "      <th>review_scores_location</th>\n",
       "      <td>11</td>\n",
       "    </tr>\n",
       "    <tr>\n",
       "      <th>amenities__Shampoo</th>\n",
       "      <td>10</td>\n",
       "    </tr>\n",
       "    <tr>\n",
       "      <th>host_verification_jumio</th>\n",
       "      <td>10</td>\n",
       "    </tr>\n",
       "    <tr>\n",
       "      <th>host_verification_facebook</th>\n",
       "      <td>9</td>\n",
       "    </tr>\n",
       "    <tr>\n",
       "      <th>neighbourhood_group_cleansed__FriedrichshainKreuzberg</th>\n",
       "      <td>9</td>\n",
       "    </tr>\n",
       "    <tr>\n",
       "      <th>reviewed_more_than_20_ago</th>\n",
       "      <td>8</td>\n",
       "    </tr>\n",
       "    <tr>\n",
       "      <th>amenities__Laptopfriendlyworkspace</th>\n",
       "      <td>8</td>\n",
       "    </tr>\n",
       "    <tr>\n",
       "      <th>is_location_exact</th>\n",
       "      <td>7</td>\n",
       "    </tr>\n",
       "    <tr>\n",
       "      <th>host_verification_kba</th>\n",
       "      <td>7</td>\n",
       "    </tr>\n",
       "    <tr>\n",
       "      <th>neighbourhood_group_cleansed__Pankow</th>\n",
       "      <td>6</td>\n",
       "    </tr>\n",
       "    <tr>\n",
       "      <th>reviewed_more_than_14_ago</th>\n",
       "      <td>5</td>\n",
       "    </tr>\n",
       "    <tr>\n",
       "      <th>amenities__Elevatorinbuilding</th>\n",
       "      <td>5</td>\n",
       "    </tr>\n",
       "    <tr>\n",
       "      <th>host_is_superhost</th>\n",
       "      <td>4</td>\n",
       "    </tr>\n",
       "    <tr>\n",
       "      <th>review_scores_value</th>\n",
       "      <td>4</td>\n",
       "    </tr>\n",
       "    <tr>\n",
       "      <th>neighbourhood_group_cleansed__Neuklln</th>\n",
       "      <td>4</td>\n",
       "    </tr>\n",
       "    <tr>\n",
       "      <th>review_scores_accuracy</th>\n",
       "      <td>3</td>\n",
       "    </tr>\n",
       "    <tr>\n",
       "      <th>review_scores_checkin</th>\n",
       "      <td>3</td>\n",
       "    </tr>\n",
       "    <tr>\n",
       "      <th>host_verification_work_email</th>\n",
       "      <td>3</td>\n",
       "    </tr>\n",
       "    <tr>\n",
       "      <th>neighbourhood_group_cleansed__Lichtenberg</th>\n",
       "      <td>2</td>\n",
       "    </tr>\n",
       "    <tr>\n",
       "      <th>reviewed_more_than_7_ago</th>\n",
       "      <td>2</td>\n",
       "    </tr>\n",
       "    <tr>\n",
       "      <th>neighbourhood_group_cleansed__Mitte</th>\n",
       "      <td>2</td>\n",
       "    </tr>\n",
       "    <tr>\n",
       "      <th>host_verification_government_id</th>\n",
       "      <td>2</td>\n",
       "    </tr>\n",
       "    <tr>\n",
       "      <th>review_scores_communication</th>\n",
       "      <td>1</td>\n",
       "    </tr>\n",
       "  </tbody>\n",
       "</table>\n",
       "<p>92 rows × 1 columns</p>\n",
       "</div>"
      ],
      "text/plain": [
       "                                                    fscore\n",
       "host_since                                             169\n",
       "reviews_PC_4                                            95\n",
       "reviews_PC_3                                            85\n",
       "distance_brandenburg_tor                                85\n",
       "reviews_per_month                                       84\n",
       "availability_365                                        82\n",
       "availability_365_previous_month                         81\n",
       "longitude                                               80\n",
       "Centroid_Count_3                                        78\n",
       "first_review                                            75\n",
       "latitude                                                75\n",
       "reviews_PC_8                                            72\n",
       "R_contrast                                              66\n",
       "Centroid_Count_5                                        65\n",
       "review_scores_rating                                    62\n",
       "last_review                                             59\n",
       "Centroid_R_1                                            50\n",
       "Centroid_Count_1                                        49\n",
       "Brightness_mean                                         47\n",
       "number_of_reviews                                       47\n",
       "Centroid_R_5                                            45\n",
       "price                                                   45\n",
       "reviews_PC_13                                           44\n",
       "pictures_PC_1                                           43\n",
       "host_response_rate                                      43\n",
       "availability_60_previous_month                          43\n",
       "beds                                                    40\n",
       "extra_people                                            40\n",
       "accommodates                                            39\n",
       "Centroid_Count_4                                        39\n",
       "...                                                    ...\n",
       "reviewed_more_than_90_ago                               15\n",
       "minimum_nights                                          14\n",
       "amenities__TV                                           14\n",
       "review_scores_cleanliness                               12\n",
       "availability_30_previous_month                          12\n",
       "reviewed_more_than_30_ago                               12\n",
       "reviewed_more_than_40_ago                               11\n",
       "review_scores_location                                  11\n",
       "amenities__Shampoo                                      10\n",
       "host_verification_jumio                                 10\n",
       "host_verification_facebook                               9\n",
       "neighbourhood_group_cleansed__FriedrichshainKre...       9\n",
       "reviewed_more_than_20_ago                                8\n",
       "amenities__Laptopfriendlyworkspace                       8\n",
       "is_location_exact                                        7\n",
       "host_verification_kba                                    7\n",
       "neighbourhood_group_cleansed__Pankow                     6\n",
       "reviewed_more_than_14_ago                                5\n",
       "amenities__Elevatorinbuilding                            5\n",
       "host_is_superhost                                        4\n",
       "review_scores_value                                      4\n",
       "neighbourhood_group_cleansed__Neuklln                    4\n",
       "review_scores_accuracy                                   3\n",
       "review_scores_checkin                                    3\n",
       "host_verification_work_email                             3\n",
       "neighbourhood_group_cleansed__Lichtenberg                2\n",
       "reviewed_more_than_7_ago                                 2\n",
       "neighbourhood_group_cleansed__Mitte                      2\n",
       "host_verification_government_id                          2\n",
       "review_scores_communication                              1\n",
       "\n",
       "[92 rows x 1 columns]"
      ]
     },
     "execution_count": 26,
     "metadata": {},
     "output_type": "execute_result"
    }
   ],
   "source": [
    "features_weights.sort_values(by='fscore',ascending=False)"
   ]
  },
  {
   "cell_type": "markdown",
   "metadata": {},
   "source": [
    "## K-Means clustering"
   ]
  },
  {
   "cell_type": "code",
   "execution_count": 27,
   "metadata": {
    "collapsed": false
   },
   "outputs": [
    {
     "name": "stdout",
     "output_type": "stream",
     "text": [
      "n_digits: 2, \t n_samples 1394, \t n_features 146\n",
      "_______________________________________________________________________________\n",
      "init    time  inertia    homo   compl  v-meas     ARI AMI  silhouette\n",
      "k-means++   0.24s    174438   0.161   0.164   0.163   0.208   0.161    0.048\n",
      "   random   0.20s    174440   0.167   0.170   0.168   0.217   0.167    0.039\n",
      "PCA-based   0.02s    174449   0.160   0.164   0.162   0.204   0.159    0.043\n",
      "_______________________________________________________________________________\n"
     ]
    }
   ],
   "source": [
    "#np.random.seed(42)\n",
    "\n",
    "data = scale(X)\n",
    "\n",
    "n_samples, n_features = X.shape\n",
    "n_digits = len(np.unique(y))\n",
    "labels = y\n",
    "\n",
    "\n",
    "sample_size = 300\n",
    "\n",
    "print(\"n_digits: %d, \\t n_samples %d, \\t n_features %d\"\n",
    "      % (n_digits, n_samples, n_features))\n",
    "\n",
    "\n",
    "print(79 * '_')\n",
    "print('% 9s' % 'init'\n",
    "      '    time  inertia    homo   compl  v-meas     ARI AMI  silhouette')\n",
    "\n",
    "\n",
    "def bench_k_means(estimator, name, data):\n",
    "    t0 = time()\n",
    "    estimator.fit(data)\n",
    "    print('% 9s   %.2fs    %i   %.3f   %.3f   %.3f   %.3f   %.3f    %.3f'\n",
    "          % (name, (time() - t0), estimator.inertia_,\n",
    "             metrics.homogeneity_score(labels, estimator.labels_),\n",
    "             metrics.completeness_score(labels, estimator.labels_),\n",
    "             metrics.v_measure_score(labels, estimator.labels_),\n",
    "             metrics.adjusted_rand_score(labels, estimator.labels_),\n",
    "             metrics.adjusted_mutual_info_score(labels,  estimator.labels_),\n",
    "             metrics.silhouette_score(data, estimator.labels_,\n",
    "                                      metric='euclidean',\n",
    "                                      sample_size=sample_size)))\n",
    "\n",
    "bench_k_means(KMeans(init='k-means++', n_clusters=n_digits, n_init=10),\n",
    "              name=\"k-means++\", data=data)\n",
    "\n",
    "bench_k_means(KMeans(init='random', n_clusters=n_digits, n_init=10),\n",
    "              name=\"random\", data=data)\n",
    "\n",
    "# in this case the seeding of the centers is deterministic, hence we run the\n",
    "# kmeans algorithm only once with n_init=1\n",
    "pca = PCA(n_components=n_digits).fit(data)\n",
    "bench_k_means(KMeans(init=pca.components_, n_clusters=n_digits, n_init=1),\n",
    "              name=\"PCA-based\",\n",
    "              data=data)\n",
    "print(79 * '_')"
   ]
  },
  {
   "cell_type": "code",
   "execution_count": 28,
   "metadata": {
    "collapsed": false
   },
   "outputs": [
    {
     "data": {
      "image/png": "[encoded data removed]",
      "text/plain": [
       "<matplotlib.figure.Figure at 0x7fdc55091fd0>"
      ]
     },
     "metadata": {},
     "output_type": "display_data"
    }
   ],
   "source": [
    "reduced_data = PCA(n_components=2).fit_transform(data)\n",
    "kmeans = KMeans(init='k-means++', n_clusters=n_digits, n_init=10)\n",
    "kmeans.fit(reduced_data)\n",
    "\n",
    "\n",
    "\n",
    "# Step size of the mesh. Decrease to increase the quality of the VQ.\n",
    "h = .02     # point in the mesh [x_min, x_max]x[y_min, y_max].\n",
    "\n",
    "# Plot the decision boundary. For that, we will assign a color to each\n",
    "x_min, x_max = reduced_data[:, 0].min() - 1, reduced_data[:, 0].max() + 1\n",
    "y_min, y_max = reduced_data[:, 1].min() - 1, reduced_data[:, 1].max() + 1\n",
    "xx, yy = np.meshgrid(np.arange(x_min, x_max, h), np.arange(y_min, y_max, h))\n",
    "\n",
    "# Obtain labels for each point in mesh. Use last trained model.\n",
    "Z = kmeans.predict(np.c_[xx.ravel(), yy.ravel()])\n",
    "\n",
    "# Put the result into a color plot\n",
    "Z = Z.reshape(xx.shape)\n",
    "plt.figure(1)\n",
    "plt.clf()\n",
    "plt.imshow(Z, interpolation='nearest',\n",
    "           extent=(xx.min(), xx.max(), yy.min(), yy.max()),\n",
    "           cmap=plt.cm.Paired,\n",
    "           aspect='auto', origin='lower')\n",
    "\n",
    "plt.plot(reduced_data[:, 0], reduced_data[:, 1], 'k.', markersize=2)\n",
    "# Plot the centroids as a white X\n",
    "centroids = kmeans.cluster_centers_\n",
    "plt.scatter(centroids[:, 0], centroids[:, 1],\n",
    "            marker='x', s=169, linewidths=3,\n",
    "            color='w', zorder=10)\n",
    "plt.title('K-means clustering on the digits dataset (PCA-reduced data)\\n'\n",
    "          'Centroids are marked with white cross')\n",
    "plt.xlim(x_min, x_max)\n",
    "plt.ylim(y_min, y_max)\n",
    "plt.xticks(())\n",
    "plt.yticks(())\n",
    "plt.show()"
   ]
  }
 ],
 "metadata": {
  "anaconda-cloud": {},
  "kernelspec": {
   "display_name": "Python [conda root]",
   "language": "python",
   "name": "conda-root-py"
  },
  "language_info": {
   "codemirror_mode": {
    "name": "ipython",
    "version": 2
   },
   "file_extension": ".py",
   "mimetype": "text/x-python",
   "name": "python",
   "nbconvert_exporter": "python",
   "pygments_lexer": "ipython2",
   "version": "2.7.12"
  }
 },
 "nbformat": 4,
 "nbformat_minor": 1
}
