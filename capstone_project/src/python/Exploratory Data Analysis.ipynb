{
 "cells": [
  {
   "cell_type": "markdown",
   "metadata": {},
   "source": [
    "# AirBnB : Part 2, Exploratory Data Analysis"
   ]
  },
  {
   "cell_type": "code",
   "execution_count": 69,
   "metadata": {
    "collapsed": false
   },
   "outputs": [],
   "source": [
    "%matplotlib inline \n",
    "\n",
    "import matplotlib.pyplot as plt\n",
    "\n",
    "from time import time\n",
    "import numpy as np\n",
    "import pandas as pd\n",
    "\n",
    "import seaborn as sns\n",
    "\n",
    "import statsmodels.api as sm\n",
    "\n",
    "from sklearn.ensemble import RandomForestClassifier\n",
    "from sklearn.linear_model import LogisticRegression\n",
    "from sklearn.svm import SVC\n",
    "from sklearn.metrics import r2_score, mean_squared_error,confusion_matrix,classification_report\n",
    "from sklearn.model_selection import train_test_split,StratifiedKFold\n",
    "from sklearn.grid_search import GridSearchCV\n",
    "\n",
    "from sklearn import metrics\n",
    "from sklearn.cluster import KMeans\n",
    "from sklearn.decomposition import PCA\n",
    "from sklearn.preprocessing import MinMaxScaler,LabelEncoder\n",
    "\n",
    "from xgboost import XGBClassifier\n",
    "from utils import rstr,distance"
   ]
  },
  {
   "cell_type": "markdown",
   "metadata": {},
   "source": [
    "### Add frequency reviews and distance to highlights"
   ]
  },
  {
   "cell_type": "code",
   "execution_count": 70,
   "metadata": {
    "collapsed": false
   },
   "outputs": [
    {
     "data": {
      "text/plain": [
       "0"
      ]
     },
     "execution_count": 70,
     "metadata": {},
     "output_type": "execute_result"
    }
   ],
   "source": [
    "df_id = pd.read_csv('../../data/listing_cleansed.csv')\n",
    "#df_listing = pd.read_csv('../../data/listing_cleansed.csv')\n",
    "\n",
    "#df_listing = pd.read_csv('../../data/listing_with_reviews_PCA.csv')\n",
    "df_listing = pd.read_csv('../../data/df_listing_high_renter_with_pic_data.csv')\n",
    "df_listing= pd.merge(df_listing,df_id[['listing_id','host_id']],on='listing_id')\n",
    "df_listing.host_id.isnull().sum()"
   ]
  },
  {
   "cell_type": "code",
   "execution_count": 71,
   "metadata": {
    "collapsed": false
   },
   "outputs": [
    {
     "data": {
      "text/plain": [
       "80.0"
      ]
     },
     "execution_count": 71,
     "metadata": {},
     "output_type": "execute_result"
    }
   ],
   "source": [
    "df_id.last_review.min()\n"
   ]
  },
  {
   "cell_type": "code",
   "execution_count": 72,
   "metadata": {
    "collapsed": true
   },
   "outputs": [],
   "source": [
    "df_review_with_lang = pd.read_csv('../../data/reviews_with_lang.csv',index_col=0)"
   ]
  },
  {
   "cell_type": "code",
   "execution_count": 73,
   "metadata": {
    "collapsed": false
   },
   "outputs": [
    {
     "data": {
      "text/html": [
       "<div>\n",
       "<style>\n",
       "    .dataframe thead tr:only-child th {\n",
       "        text-align: right;\n",
       "    }\n",
       "\n",
       "    .dataframe thead th {\n",
       "        text-align: left;\n",
       "    }\n",
       "\n",
       "    .dataframe tbody tr th {\n",
       "        vertical-align: top;\n",
       "    }\n",
       "</style>\n",
       "<table border=\"1\" class=\"dataframe\">\n",
       "  <thead>\n",
       "    <tr style=\"text-align: right;\">\n",
       "      <th></th>\n",
       "      <th>listing_id</th>\n",
       "      <th>id</th>\n",
       "      <th>date</th>\n",
       "      <th>reviewer_id</th>\n",
       "      <th>reviewer_name</th>\n",
       "      <th>comments</th>\n",
       "      <th>language</th>\n",
       "    </tr>\n",
       "  </thead>\n",
       "  <tbody>\n",
       "    <tr>\n",
       "      <th>0</th>\n",
       "      <td>7878281</td>\n",
       "      <td>46630032</td>\n",
       "      <td>2015-09-12</td>\n",
       "      <td>39579628</td>\n",
       "      <td>Roberto</td>\n",
       "      <td>Host molto gentile e disponibile, l'appartamen...</td>\n",
       "      <td>it</td>\n",
       "    </tr>\n",
       "    <tr>\n",
       "      <th>1</th>\n",
       "      <td>7878281</td>\n",
       "      <td>50115386</td>\n",
       "      <td>2015-10-09</td>\n",
       "      <td>45018962</td>\n",
       "      <td>Rotem</td>\n",
       "      <td>AMAZING hosting, we arrived to Benita's appart...</td>\n",
       "      <td>en</td>\n",
       "    </tr>\n",
       "    <tr>\n",
       "      <th>2</th>\n",
       "      <td>7878281</td>\n",
       "      <td>54012898</td>\n",
       "      <td>2015-11-15</td>\n",
       "      <td>47456471</td>\n",
       "      <td>Jochen</td>\n",
       "      <td>Sehr schöne und ideal gelegene Wohnung, ideal ...</td>\n",
       "      <td>de</td>\n",
       "    </tr>\n",
       "    <tr>\n",
       "      <th>3</th>\n",
       "      <td>7878281</td>\n",
       "      <td>58376102</td>\n",
       "      <td>2016-01-02</td>\n",
       "      <td>6789115</td>\n",
       "      <td>Nicola</td>\n",
       "      <td>This apartment was beautiful, spacious, warm a...</td>\n",
       "      <td>en</td>\n",
       "    </tr>\n",
       "    <tr>\n",
       "      <th>4</th>\n",
       "      <td>7878281</td>\n",
       "      <td>71814574</td>\n",
       "      <td>2016-04-28</td>\n",
       "      <td>63494941</td>\n",
       "      <td>Claudio</td>\n",
       "      <td>BENITA AND KLEMENS WERE VERY KIND WITH US. THE...</td>\n",
       "      <td>en</td>\n",
       "    </tr>\n",
       "  </tbody>\n",
       "</table>\n",
       "</div>"
      ],
      "text/plain": [
       "   listing_id        id        date  reviewer_id reviewer_name  \\\n",
       "0     7878281  46630032  2015-09-12     39579628       Roberto   \n",
       "1     7878281  50115386  2015-10-09     45018962         Rotem   \n",
       "2     7878281  54012898  2015-11-15     47456471        Jochen   \n",
       "3     7878281  58376102  2016-01-02      6789115        Nicola   \n",
       "4     7878281  71814574  2016-04-28     63494941       Claudio   \n",
       "\n",
       "                                            comments language  \n",
       "0  Host molto gentile e disponibile, l'appartamen...       it  \n",
       "1  AMAZING hosting, we arrived to Benita's appart...       en  \n",
       "2  Sehr schöne und ideal gelegene Wohnung, ideal ...       de  \n",
       "3  This apartment was beautiful, spacious, warm a...       en  \n",
       "4  BENITA AND KLEMENS WERE VERY KIND WITH US. THE...       en  "
      ]
     },
     "execution_count": 73,
     "metadata": {},
     "output_type": "execute_result"
    }
   ],
   "source": [
    "df_review_with_lang.head()"
   ]
  },
  {
   "cell_type": "code",
   "execution_count": 74,
   "metadata": {
    "collapsed": false
   },
   "outputs": [],
   "source": [
    "groupy_lang_review = df_review_with_lang.groupby(['listing_id','language'])[['id']].count().unstack().fillna(0)\n",
    "groupy_lang_review.columns = groupy_lang_review.columns.droplevel()\n",
    "groupy_lang_review = groupy_lang_review.reset_index()\n",
    "groupy_lang_review=groupy_lang_review.astype(int)"
   ]
  },
  {
   "cell_type": "code",
   "execution_count": 75,
   "metadata": {
    "collapsed": false
   },
   "outputs": [],
   "source": [
    "df_listing = pd.merge(df_listing,groupy_lang_review,on='listing_id')"
   ]
  },
  {
   "cell_type": "code",
   "execution_count": 76,
   "metadata": {
    "collapsed": false
   },
   "outputs": [],
   "source": [
    "df_reviews_freq=pd.read_csv('../../data/reviews_frequency.csv')\n",
    "df = pd.merge(df_listing,df_reviews_freq,on='listing_id')"
   ]
  },
  {
   "cell_type": "code",
   "execution_count": 77,
   "metadata": {
    "collapsed": false
   },
   "outputs": [
    {
     "data": {
      "text/plain": [
       "(3196, 642)"
      ]
     },
     "execution_count": 77,
     "metadata": {},
     "output_type": "execute_result"
    }
   ],
   "source": [
    "df_listing.shape"
   ]
  },
  {
   "cell_type": "code",
   "execution_count": 78,
   "metadata": {
    "collapsed": true
   },
   "outputs": [],
   "source": [
    "coord_brandenburg_tor = (52.516849,13.377661)\n",
    "def distance_highlight(x):\n",
    "    return distance(coord_brandenburg_tor,x)\n",
    "    "
   ]
  },
  {
   "cell_type": "code",
   "execution_count": 79,
   "metadata": {
    "collapsed": false
   },
   "outputs": [],
   "source": [
    "\n",
    "df['coordinate']=list(zip(df.latitude, df.longitude))\n",
    "df['distance_brandenburg_tor'] = df['coordinate'].apply(distance_highlight)\n",
    "\n",
    "df['listings_per_host']=df.groupby([\"host_id\"])[\"listing_id\"].transform(\"count\")\n",
    "\n",
    "df = pd.concat([df,pd.get_dummies(df.text_language,prefix='language_text_')],axis=1)\n",
    "\n",
    "df['is_multi_host']=( df.listings_per_host>1)*1"
   ]
  },
  {
   "cell_type": "code",
   "execution_count": 80,
   "metadata": {
    "collapsed": false
   },
   "outputs": [
    {
     "data": {
      "text/plain": [
       "<matplotlib.axes._subplots.AxesSubplot at 0x7f36bfa4dad0>"
      ]
     },
     "execution_count": 80,
     "metadata": {},
     "output_type": "execute_result"
    },
    {
     "data": {
      "image/png": "[encoded data removed]",
      "text/plain": [
       "<matplotlib.figure.Figure at 0x7f36d4507590>"
      ]
     },
     "metadata": {},
     "output_type": "display_data"
    }
   ],
   "source": [
    "df.is_multi_host.hist()"
   ]
  },
  {
   "cell_type": "markdown",
   "metadata": {},
   "source": [
    "### Filter on listings with high reviews number"
   ]
  },
  {
   "cell_type": "code",
   "execution_count": 81,
   "metadata": {
    "collapsed": false
   },
   "outputs": [],
   "source": [
    "df = df[df.last_review<200]\n",
    "df = df[df.number_of_reviews>2]\n",
    "df = df[~df.review_scores_accuracy.isnull()]"
   ]
  },
  {
   "cell_type": "markdown",
   "metadata": {},
   "source": [
    "### Fill the missing data"
   ]
  },
  {
   "cell_type": "code",
   "execution_count": 82,
   "metadata": {
    "collapsed": false
   },
   "outputs": [],
   "source": [
    "columns_fill_na_with_mean = [u'bathrooms', u'bedrooms', u'beds', u'host_since',\n",
    "       u'host_listings_count','host_response_time','host_response_rate','review_scores_value','review_scores_cleanliness','review_scores_communication','review_scores_location']\n",
    "\n",
    "df[columns_fill_na_with_mean]= df[columns_fill_na_with_mean].fillna(df[columns_fill_na_with_mean].mean())"
   ]
  },
  {
   "cell_type": "code",
   "execution_count": 83,
   "metadata": {
    "collapsed": false
   },
   "outputs": [
    {
     "data": {
      "text/html": [
       "<div>\n",
       "<style>\n",
       "    .dataframe thead tr:only-child th {\n",
       "        text-align: right;\n",
       "    }\n",
       "\n",
       "    .dataframe thead th {\n",
       "        text-align: left;\n",
       "    }\n",
       "\n",
       "    .dataframe tbody tr th {\n",
       "        vertical-align: top;\n",
       "    }\n",
       "</style>\n",
       "<table border=\"1\" class=\"dataframe\">\n",
       "  <thead>\n",
       "    <tr style=\"text-align: right;\">\n",
       "      <th></th>\n",
       "      <th>missing_percent</th>\n",
       "    </tr>\n",
       "  </thead>\n",
       "  <tbody>\n",
       "    <tr>\n",
       "      <th>text_notes</th>\n",
       "      <td>58.421630</td>\n",
       "    </tr>\n",
       "    <tr>\n",
       "      <th>text_access</th>\n",
       "      <td>47.679942</td>\n",
       "    </tr>\n",
       "    <tr>\n",
       "      <th>text_interaction</th>\n",
       "      <td>45.305079</td>\n",
       "    </tr>\n",
       "    <tr>\n",
       "      <th>text_neighborhood_overview</th>\n",
       "      <td>41.834125</td>\n",
       "    </tr>\n",
       "    <tr>\n",
       "      <th>text_host_about</th>\n",
       "      <td>39.970771</td>\n",
       "    </tr>\n",
       "    <tr>\n",
       "      <th>text_house_rules</th>\n",
       "      <td>33.321155</td>\n",
       "    </tr>\n",
       "    <tr>\n",
       "      <th>text_transit</th>\n",
       "      <td>32.078919</td>\n",
       "    </tr>\n",
       "    <tr>\n",
       "      <th>text_space</th>\n",
       "      <td>21.556449</td>\n",
       "    </tr>\n",
       "    <tr>\n",
       "      <th>text_summary</th>\n",
       "      <td>5.261235</td>\n",
       "    </tr>\n",
       "    <tr>\n",
       "      <th>text_name</th>\n",
       "      <td>0.182682</td>\n",
       "    </tr>\n",
       "    <tr>\n",
       "      <th>text_description</th>\n",
       "      <td>0.036536</td>\n",
       "    </tr>\n",
       "  </tbody>\n",
       "</table>\n",
       "</div>"
      ],
      "text/plain": [
       "                            missing_percent\n",
       "text_notes                        58.421630\n",
       "text_access                       47.679942\n",
       "text_interaction                  45.305079\n",
       "text_neighborhood_overview        41.834125\n",
       "text_host_about                   39.970771\n",
       "text_house_rules                  33.321155\n",
       "text_transit                      32.078919\n",
       "text_space                        21.556449\n",
       "text_summary                       5.261235\n",
       "text_name                          0.182682\n",
       "text_description                   0.036536"
      ]
     },
     "execution_count": 83,
     "metadata": {},
     "output_type": "execute_result"
    }
   ],
   "source": [
    "df_missing_data = pd.DataFrame(df.isnull().sum()/len(df)*100).sort_values(by=0,ascending=False)\n",
    "df_missing_data.columns = ['missing_percent']\n",
    "df_missing_data[df_missing_data.missing_percent>0]"
   ]
  },
  {
   "cell_type": "code",
   "execution_count": 84,
   "metadata": {
    "collapsed": true
   },
   "outputs": [],
   "source": [
    "#df.to_csv('../../data/listing_for_EDA.csv',index=None)"
   ]
  },
  {
   "cell_type": "markdown",
   "metadata": {},
   "source": [
    "## Correlation with target"
   ]
  },
  {
   "cell_type": "code",
   "execution_count": 85,
   "metadata": {
    "collapsed": true
   },
   "outputs": [],
   "source": [
    "TARGET = 'host_listings_count'"
   ]
  },
  {
   "cell_type": "markdown",
   "metadata": {},
   "source": [
    "### Columns to exclude"
   ]
  },
  {
   "cell_type": "code",
   "execution_count": 86,
   "metadata": {
    "collapsed": false
   },
   "outputs": [],
   "source": [
    "cols_amenities = [col for col in df.columns if 'amenities' in col]\n",
    "cols_review_PC = [col for col in df.columns if 'reviews_PC' in col]\n",
    "cols_picture_PC = [col for col in df.columns if 'pictures_PC' in col]\n",
    "cols_language_text = [col for col in df.columns if 'language_text' in col]\n",
    "\n",
    "COLS_EXCLUDE = cols_amenities+cols_review_PC+cols_picture_PC+cols_language_text+['listing_id','host_id','listings_per_host']\n",
    "COLS_INCLUDE =['reviews_PC_4', 'reviews_PC_3','reviews_PC_8','amenities__Elevatorinbuilding', u'amenities__TV', u'beds',\n",
    "       u'reviews_PC_13',u'amenities__Shampoo', u'amenities__Laptopfriendlyworkspace','pictures_PC_1']\n",
    "COLS_EXCLUDE = list(set(COLS_EXCLUDE)-set(COLS_INCLUDE))"
   ]
  },
  {
   "cell_type": "code",
   "execution_count": 87,
   "metadata": {
    "collapsed": false
   },
   "outputs": [
    {
     "data": {
      "text/html": [
       "<div>\n",
       "<style>\n",
       "    .dataframe thead tr:only-child th {\n",
       "        text-align: right;\n",
       "    }\n",
       "\n",
       "    .dataframe thead th {\n",
       "        text-align: left;\n",
       "    }\n",
       "\n",
       "    .dataframe tbody tr th {\n",
       "        vertical-align: top;\n",
       "    }\n",
       "</style>\n",
       "<table border=\"1\" class=\"dataframe\">\n",
       "  <thead>\n",
       "    <tr style=\"text-align: right;\">\n",
       "      <th></th>\n",
       "      <th>host_listings_count</th>\n",
       "      <th>corr_abs</th>\n",
       "    </tr>\n",
       "  </thead>\n",
       "  <tbody>\n",
       "    <tr>\n",
       "      <th>host_listings_count</th>\n",
       "      <td>1.000000</td>\n",
       "      <td>1.000000</td>\n",
       "    </tr>\n",
       "    <tr>\n",
       "      <th>listings_per_host</th>\n",
       "      <td>0.704505</td>\n",
       "      <td>0.704505</td>\n",
       "    </tr>\n",
       "    <tr>\n",
       "      <th>is_multi_host</th>\n",
       "      <td>0.429588</td>\n",
       "      <td>0.429588</td>\n",
       "    </tr>\n",
       "    <tr>\n",
       "      <th>instant_bookable</th>\n",
       "      <td>0.234392</td>\n",
       "      <td>0.234392</td>\n",
       "    </tr>\n",
       "    <tr>\n",
       "      <th>review_scores_communication</th>\n",
       "      <td>-0.214009</td>\n",
       "      <td>0.214009</td>\n",
       "    </tr>\n",
       "    <tr>\n",
       "      <th>reviews_PC_4</th>\n",
       "      <td>0.184697</td>\n",
       "      <td>0.184697</td>\n",
       "    </tr>\n",
       "    <tr>\n",
       "      <th>reviews_PC_3</th>\n",
       "      <td>-0.178023</td>\n",
       "      <td>0.178023</td>\n",
       "    </tr>\n",
       "    <tr>\n",
       "      <th>review_scores_accuracy</th>\n",
       "      <td>-0.176133</td>\n",
       "      <td>0.176133</td>\n",
       "    </tr>\n",
       "    <tr>\n",
       "      <th>review_scores_rating</th>\n",
       "      <td>-0.175830</td>\n",
       "      <td>0.175830</td>\n",
       "    </tr>\n",
       "    <tr>\n",
       "      <th>availability_365_previous_month</th>\n",
       "      <td>0.168126</td>\n",
       "      <td>0.168126</td>\n",
       "    </tr>\n",
       "    <tr>\n",
       "      <th>review_scores_checkin</th>\n",
       "      <td>-0.163575</td>\n",
       "      <td>0.163575</td>\n",
       "    </tr>\n",
       "    <tr>\n",
       "      <th>availability_365</th>\n",
       "      <td>0.158773</td>\n",
       "      <td>0.158773</td>\n",
       "    </tr>\n",
       "    <tr>\n",
       "      <th>amenities__Elevatorinbuilding</th>\n",
       "      <td>0.137619</td>\n",
       "      <td>0.137619</td>\n",
       "    </tr>\n",
       "    <tr>\n",
       "      <th>reviews_per_month</th>\n",
       "      <td>0.131354</td>\n",
       "      <td>0.131354</td>\n",
       "    </tr>\n",
       "    <tr>\n",
       "      <th>review_scores_value</th>\n",
       "      <td>-0.130599</td>\n",
       "      <td>0.130599</td>\n",
       "    </tr>\n",
       "    <tr>\n",
       "      <th>accommodates</th>\n",
       "      <td>0.128204</td>\n",
       "      <td>0.128204</td>\n",
       "    </tr>\n",
       "    <tr>\n",
       "      <th>property_type__Condominium</th>\n",
       "      <td>0.125576</td>\n",
       "      <td>0.125576</td>\n",
       "    </tr>\n",
       "    <tr>\n",
       "      <th>distance_brandenburg_tor</th>\n",
       "      <td>-0.122703</td>\n",
       "      <td>0.122703</td>\n",
       "    </tr>\n",
       "    <tr>\n",
       "      <th>host_response_time</th>\n",
       "      <td>-0.121689</td>\n",
       "      <td>0.121689</td>\n",
       "    </tr>\n",
       "    <tr>\n",
       "      <th>amenities__TV</th>\n",
       "      <td>0.119465</td>\n",
       "      <td>0.119465</td>\n",
       "    </tr>\n",
       "    <tr>\n",
       "      <th>beds</th>\n",
       "      <td>0.118418</td>\n",
       "      <td>0.118418</td>\n",
       "    </tr>\n",
       "    <tr>\n",
       "      <th>amenities__translationmissingenhostingamenity50</th>\n",
       "      <td>-0.114155</td>\n",
       "      <td>0.114155</td>\n",
       "    </tr>\n",
       "    <tr>\n",
       "      <th>reviewed_more_than_7_ago</th>\n",
       "      <td>0.113079</td>\n",
       "      <td>0.113079</td>\n",
       "    </tr>\n",
       "    <tr>\n",
       "      <th>reviewed_more_than_20_ago</th>\n",
       "      <td>0.112768</td>\n",
       "      <td>0.112768</td>\n",
       "    </tr>\n",
       "    <tr>\n",
       "      <th>reviews_PC_13</th>\n",
       "      <td>0.112278</td>\n",
       "      <td>0.112278</td>\n",
       "    </tr>\n",
       "    <tr>\n",
       "      <th>neighbourhood_group_cleansed__Mitte</th>\n",
       "      <td>0.110566</td>\n",
       "      <td>0.110566</td>\n",
       "    </tr>\n",
       "    <tr>\n",
       "      <th>amenities__Shampoo</th>\n",
       "      <td>-0.108774</td>\n",
       "      <td>0.108774</td>\n",
       "    </tr>\n",
       "    <tr>\n",
       "      <th>amenities__Laptopfriendlyworkspace</th>\n",
       "      <td>-0.107841</td>\n",
       "      <td>0.107841</td>\n",
       "    </tr>\n",
       "    <tr>\n",
       "      <th>reviewed_more_than_30_ago</th>\n",
       "      <td>0.104632</td>\n",
       "      <td>0.104632</td>\n",
       "    </tr>\n",
       "    <tr>\n",
       "      <th>is_location_exact</th>\n",
       "      <td>0.104110</td>\n",
       "      <td>0.104110</td>\n",
       "    </tr>\n",
       "  </tbody>\n",
       "</table>\n",
       "</div>"
      ],
      "text/plain": [
       "                                                 host_listings_count  corr_abs\n",
       "host_listings_count                                         1.000000  1.000000\n",
       "listings_per_host                                           0.704505  0.704505\n",
       "is_multi_host                                               0.429588  0.429588\n",
       "instant_bookable                                            0.234392  0.234392\n",
       "review_scores_communication                                -0.214009  0.214009\n",
       "reviews_PC_4                                                0.184697  0.184697\n",
       "reviews_PC_3                                               -0.178023  0.178023\n",
       "review_scores_accuracy                                     -0.176133  0.176133\n",
       "review_scores_rating                                       -0.175830  0.175830\n",
       "availability_365_previous_month                             0.168126  0.168126\n",
       "review_scores_checkin                                      -0.163575  0.163575\n",
       "availability_365                                            0.158773  0.158773\n",
       "amenities__Elevatorinbuilding                               0.137619  0.137619\n",
       "reviews_per_month                                           0.131354  0.131354\n",
       "review_scores_value                                        -0.130599  0.130599\n",
       "accommodates                                                0.128204  0.128204\n",
       "property_type__Condominium                                  0.125576  0.125576\n",
       "distance_brandenburg_tor                                   -0.122703  0.122703\n",
       "host_response_time                                         -0.121689  0.121689\n",
       "amenities__TV                                               0.119465  0.119465\n",
       "beds                                                        0.118418  0.118418\n",
       "amenities__translationmissingenhostingamenity50            -0.114155  0.114155\n",
       "reviewed_more_than_7_ago                                    0.113079  0.113079\n",
       "reviewed_more_than_20_ago                                   0.112768  0.112768\n",
       "reviews_PC_13                                               0.112278  0.112278\n",
       "neighbourhood_group_cleansed__Mitte                         0.110566  0.110566\n",
       "amenities__Shampoo                                         -0.108774  0.108774\n",
       "amenities__Laptopfriendlyworkspace                         -0.107841  0.107841\n",
       "reviewed_more_than_30_ago                                   0.104632  0.104632\n",
       "is_location_exact                                           0.104110  0.104110"
      ]
     },
     "execution_count": 87,
     "metadata": {},
     "output_type": "execute_result"
    }
   ],
   "source": [
    "df_corr = df.corr()[TARGET]\n",
    "df_corr = pd.DataFrame(df_corr)\n",
    "df_corr['corr_abs'] = np.abs(df_corr[TARGET])\n",
    "df_corr = df_corr.sort_values(by='corr_abs',ascending=False)\n",
    "df_corr.head(30)"
   ]
  },
  {
   "cell_type": "markdown",
   "metadata": {},
   "source": [
    "## Linear Model and R-squared"
   ]
  },
  {
   "cell_type": "code",
   "execution_count": 88,
   "metadata": {
    "collapsed": false
   },
   "outputs": [],
   "source": [
    "TARGET_CLASSIFICATION ='is_multi_host'\n",
    "y = df[TARGET_CLASSIFICATION]\n",
    "numerics = ['int16', 'int32', 'int64', 'float16', 'float32', 'float64']\n",
    "X = df.drop([TARGET_CLASSIFICATION,'host_listings_count']+COLS_EXCLUDE,axis=1).select_dtypes(include=numerics)"
   ]
  },
  {
   "cell_type": "markdown",
   "metadata": {},
   "source": [
    "### Train test split"
   ]
  },
  {
   "cell_type": "code",
   "execution_count": 89,
   "metadata": {
    "collapsed": true
   },
   "outputs": [],
   "source": [
    "def balanced_subsample(y, size=None):\n",
    "\n",
    "    subsample = []\n",
    "\n",
    "    if size is None:\n",
    "        n_smp = y.value_counts().min()\n",
    "    else:\n",
    "        n_smp = int(size / len(y.value_counts().index))\n",
    "\n",
    "    for label in y.value_counts().index:\n",
    "        samples = y[y == label].index.values\n",
    "        index_range = range(samples.shape[0])\n",
    "        indexes = np.random.choice(index_range, size=n_smp, replace=False)\n",
    "        subsample += samples[indexes].tolist()\n",
    "\n",
    "    return subsample"
   ]
  },
  {
   "cell_type": "code",
   "execution_count": 90,
   "metadata": {
    "collapsed": true
   },
   "outputs": [],
   "source": [
    "rebalanced_index = balanced_subsample(y)"
   ]
  },
  {
   "cell_type": "code",
   "execution_count": 91,
   "metadata": {
    "collapsed": false
   },
   "outputs": [],
   "source": [
    "X,y = X.loc[rebalanced_index],y.loc[rebalanced_index]"
   ]
  },
  {
   "cell_type": "code",
   "execution_count": 92,
   "metadata": {
    "collapsed": false
   },
   "outputs": [
    {
     "data": {
      "text/plain": [
       "1    697\n",
       "0    697\n",
       "Name: is_multi_host, dtype: int64"
      ]
     },
     "execution_count": 92,
     "metadata": {},
     "output_type": "execute_result"
    }
   ],
   "source": [
    "y.value_counts()"
   ]
  },
  {
   "cell_type": "code",
   "execution_count": null,
   "metadata": {
    "collapsed": false
   },
   "outputs": [],
   "source": []
  },
  {
   "cell_type": "code",
   "execution_count": 93,
   "metadata": {
    "collapsed": false
   },
   "outputs": [],
   "source": [
    "X_train,X_test,y_train,y_test = train_test_split(X,y,test_size=.2,stratify=y)\n",
    "features = pd.Series(X.columns)\n",
    "scaler = MinMaxScaler()\n",
    "\n",
    "X_train = scaler.fit_transform(X_train)\n",
    "X_test = scaler.transform(X_test)\n"
   ]
  },
  {
   "cell_type": "code",
   "execution_count": 94,
   "metadata": {
    "collapsed": true
   },
   "outputs": [],
   "source": [
    "def cv_optimize(clf, parameters, Xtrain, ytrain, n_folds=5):\n",
    "    gs = GridSearchCV(clf, param_grid=params, cv=n_folds, n_jobs=-1,scoring=\"recall\")\n",
    "    gs.fit(Xtrain, ytrain)\n",
    "    \n",
    "    return gs.best_estimator_"
   ]
  },
  {
   "cell_type": "markdown",
   "metadata": {},
   "source": [
    "### Logistic Regression"
   ]
  },
  {
   "cell_type": "code",
   "execution_count": 95,
   "metadata": {
    "collapsed": false
   },
   "outputs": [
    {
     "name": "stdout",
     "output_type": "stream",
     "text": [
      "[[105  34]\n",
      " [ 31 109]]\n",
      "             precision    recall  f1-score   support\n",
      "\n",
      "          0       0.77      0.76      0.76       139\n",
      "          1       0.76      0.78      0.77       140\n",
      "\n",
      "avg / total       0.77      0.77      0.77       279\n",
      "\n"
     ]
    }
   ],
   "source": [
    "lm = LogisticRegression(C=1e5)\n",
    "lm.fit(X_train,y_train)\n",
    "prediction = lm.predict(X_test)\n",
    "print confusion_matrix(y_test,prediction)\n",
    "print classification_report(y_test,prediction)"
   ]
  },
  {
   "cell_type": "markdown",
   "metadata": {},
   "source": [
    "### Random Forest"
   ]
  },
  {
   "cell_type": "code",
   "execution_count": 96,
   "metadata": {
    "collapsed": false
   },
   "outputs": [
    {
     "name": "stdout",
     "output_type": "stream",
     "text": [
      "RandomForestClassifier(bootstrap=True, class_weight=None, criterion='gini',\n",
      "            max_depth=None, max_features='auto', max_leaf_nodes=None,\n",
      "            min_impurity_split=1e-07, min_samples_leaf=1,\n",
      "            min_samples_split=2, min_weight_fraction_leaf=0.0,\n",
      "            n_estimators=10, n_jobs=1, oob_score=False, random_state=None,\n",
      "            verbose=0, warm_start=False)\n",
      "[[113  26]\n",
      " [ 47  93]]\n",
      "             precision    recall  f1-score   support\n",
      "\n",
      "          0       0.71      0.81      0.76       139\n",
      "          1       0.78      0.66      0.72       140\n",
      "\n",
      "avg / total       0.74      0.74      0.74       279\n",
      "\n"
     ]
    }
   ],
   "source": [
    "clf = RandomForestClassifier()\n",
    "params={}\n",
    "best_clf = cv_optimize(clf,params,X_train,y_train)\n",
    "\n",
    "print(best_clf)\n",
    "\n",
    "prediction = best_clf.predict(X_test)\n",
    "print confusion_matrix(y_test,prediction)\n",
    "print classification_report(y_test,prediction)"
   ]
  },
  {
   "cell_type": "markdown",
   "metadata": {},
   "source": [
    "###  SVM"
   ]
  },
  {
   "cell_type": "code",
   "execution_count": 97,
   "metadata": {
    "collapsed": false
   },
   "outputs": [
    {
     "name": "stdout",
     "output_type": "stream",
     "text": [
      "SVC(C=0.1, cache_size=200, class_weight=None, coef0=0.0,\n",
      "  decision_function_shape=None, degree=3, gamma=5, kernel='rbf',\n",
      "  max_iter=-1, probability=False, random_state=None, shrinking=True,\n",
      "  tol=0.001, verbose=False)\n",
      "[[139   0]\n",
      " [140   0]]\n",
      "             precision    recall  f1-score   support\n",
      "\n",
      "          0       0.50      1.00      0.67       139\n",
      "          1       0.00      0.00      0.00       140\n",
      "\n",
      "avg / total       0.25      0.50      0.33       279\n",
      "\n"
     ]
    },
    {
     "name": "stderr",
     "output_type": "stream",
     "text": [
      "/home/ramon/anaconda2/lib/python2.7/site-packages/sklearn/metrics/classification.py:1113: UndefinedMetricWarning: Precision and F-score are ill-defined and being set to 0.0 in labels with no predicted samples.\n",
      "  'precision', 'predicted', average, warn_for)\n"
     ]
    }
   ],
   "source": [
    "clf = SVC()\n",
    "params={'C':[0.1],\n",
    "        'kernel':['rbf'],\n",
    "       'gamma':[5]}\n",
    "best_clf = cv_optimize(clf,params,X_train,y_train)\n",
    "\n",
    "print(best_clf)\n",
    "\n",
    "prediction = best_clf.predict(X_test)\n",
    "print confusion_matrix(y_test,prediction)\n",
    "print classification_report(y_test,prediction)\n"
   ]
  },
  {
   "cell_type": "markdown",
   "metadata": {},
   "source": [
    "### XGB"
   ]
  },
  {
   "cell_type": "code",
   "execution_count": 98,
   "metadata": {
    "collapsed": false
   },
   "outputs": [
    {
     "name": "stdout",
     "output_type": "stream",
     "text": [
      "XGBClassifier(base_score=0.5, colsample_bylevel=1, colsample_bytree=1,\n",
      "       gamma=0.0, learning_rate=0.1, max_delta_step=0, max_depth=9,\n",
      "       min_child_weight=2, missing=None, n_estimators=100, nthread=-1,\n",
      "       objective='binary:logistic', reg_alpha=0, reg_lambda=1,\n",
      "       scale_pos_weight=1, seed=0, silent=True, subsample=1)\n",
      "[[111  28]\n",
      " [ 26 114]]\n",
      "             precision    recall  f1-score   support\n",
      "\n",
      "          0       0.81      0.80      0.80       139\n",
      "          1       0.80      0.81      0.81       140\n",
      "\n",
      "avg / total       0.81      0.81      0.81       279\n",
      "\n"
     ]
    }
   ],
   "source": [
    "params = {\n",
    "    'max_depth':[9],\n",
    "    'min_child_weight':[2],\n",
    "    'learning_rate' :[0.1],\n",
    "    'gamma':[0.0],\n",
    "    'n_estimators':[100]\n",
    "}\n",
    "\n",
    "clf = XGBClassifier()\n",
    "\n",
    "best_clf = cv_optimize(clf,params,X_train,y_train)\n",
    "\n",
    "print(best_clf)\n",
    "prediction = best_clf.predict(X_test)\n",
    "print confusion_matrix(y_test,prediction)\n",
    "print classification_report(y_test,prediction)"
   ]
  },
  {
   "cell_type": "code",
   "execution_count": null,
   "metadata": {
    "collapsed": true
   },
   "outputs": [],
   "source": []
  },
  {
   "cell_type": "code",
   "execution_count": 100,
   "metadata": {
    "collapsed": false
   },
   "outputs": [],
   "source": [
    "features_weights = pd.DataFrame.from_dict(best_clf.booster().get_fscore(),orient=\"index\")"
   ]
  },
  {
   "cell_type": "code",
   "execution_count": 104,
   "metadata": {
    "collapsed": false
   },
   "outputs": [
    {
     "data": {
      "text/html": [
       "<div>\n",
       "<style>\n",
       "    .dataframe thead tr:only-child th {\n",
       "        text-align: right;\n",
       "    }\n",
       "\n",
       "    .dataframe thead th {\n",
       "        text-align: left;\n",
       "    }\n",
       "\n",
       "    .dataframe tbody tr th {\n",
       "        vertical-align: top;\n",
       "    }\n",
       "</style>\n",
       "<table border=\"1\" class=\"dataframe\">\n",
       "  <thead>\n",
       "    <tr style=\"text-align: right;\">\n",
       "      <th></th>\n",
       "      <th>0</th>\n",
       "    </tr>\n",
       "  </thead>\n",
       "  <tbody>\n",
       "    <tr>\n",
       "      <th>f0</th>\n",
       "      <td>151</td>\n",
       "    </tr>\n",
       "    <tr>\n",
       "      <th>f23</th>\n",
       "      <td>96</td>\n",
       "    </tr>\n",
       "    <tr>\n",
       "      <th>f104</th>\n",
       "      <td>89</td>\n",
       "    </tr>\n",
       "    <tr>\n",
       "      <th>f106</th>\n",
       "      <td>87</td>\n",
       "    </tr>\n",
       "    <tr>\n",
       "      <th>f105</th>\n",
       "      <td>85</td>\n",
       "    </tr>\n",
       "    <tr>\n",
       "      <th>f6</th>\n",
       "      <td>81</td>\n",
       "    </tr>\n",
       "    <tr>\n",
       "      <th>f36</th>\n",
       "      <td>76</td>\n",
       "    </tr>\n",
       "    <tr>\n",
       "      <th>f100</th>\n",
       "      <td>75</td>\n",
       "    </tr>\n",
       "    <tr>\n",
       "      <th>f187</th>\n",
       "      <td>66</td>\n",
       "    </tr>\n",
       "    <tr>\n",
       "      <th>f111</th>\n",
       "      <td>63</td>\n",
       "    </tr>\n",
       "    <tr>\n",
       "      <th>f21</th>\n",
       "      <td>62</td>\n",
       "    </tr>\n",
       "    <tr>\n",
       "      <th>f7</th>\n",
       "      <td>61</td>\n",
       "    </tr>\n",
       "    <tr>\n",
       "      <th>f114</th>\n",
       "      <td>57</td>\n",
       "    </tr>\n",
       "    <tr>\n",
       "      <th>f121</th>\n",
       "      <td>56</td>\n",
       "    </tr>\n",
       "    <tr>\n",
       "      <th>f25</th>\n",
       "      <td>56</td>\n",
       "    </tr>\n",
       "    <tr>\n",
       "      <th>f125</th>\n",
       "      <td>49</td>\n",
       "    </tr>\n",
       "    <tr>\n",
       "      <th>f108</th>\n",
       "      <td>49</td>\n",
       "    </tr>\n",
       "    <tr>\n",
       "      <th>f24</th>\n",
       "      <td>48</td>\n",
       "    </tr>\n",
       "    <tr>\n",
       "      <th>f113</th>\n",
       "      <td>48</td>\n",
       "    </tr>\n",
       "    <tr>\n",
       "      <th>f133</th>\n",
       "      <td>48</td>\n",
       "    </tr>\n",
       "    <tr>\n",
       "      <th>f122</th>\n",
       "      <td>47</td>\n",
       "    </tr>\n",
       "    <tr>\n",
       "      <th>f107</th>\n",
       "      <td>46</td>\n",
       "    </tr>\n",
       "    <tr>\n",
       "      <th>f129</th>\n",
       "      <td>42</td>\n",
       "    </tr>\n",
       "    <tr>\n",
       "      <th>f9</th>\n",
       "      <td>40</td>\n",
       "    </tr>\n",
       "    <tr>\n",
       "      <th>f117</th>\n",
       "      <td>39</td>\n",
       "    </tr>\n",
       "    <tr>\n",
       "      <th>f126</th>\n",
       "      <td>38</td>\n",
       "    </tr>\n",
       "    <tr>\n",
       "      <th>f17</th>\n",
       "      <td>38</td>\n",
       "    </tr>\n",
       "    <tr>\n",
       "      <th>f12</th>\n",
       "      <td>38</td>\n",
       "    </tr>\n",
       "    <tr>\n",
       "      <th>f130</th>\n",
       "      <td>37</td>\n",
       "    </tr>\n",
       "    <tr>\n",
       "      <th>f13</th>\n",
       "      <td>36</td>\n",
       "    </tr>\n",
       "    <tr>\n",
       "      <th>...</th>\n",
       "      <td>...</td>\n",
       "    </tr>\n",
       "    <tr>\n",
       "      <th>f181</th>\n",
       "      <td>10</td>\n",
       "    </tr>\n",
       "    <tr>\n",
       "      <th>f112</th>\n",
       "      <td>10</td>\n",
       "    </tr>\n",
       "    <tr>\n",
       "      <th>f47</th>\n",
       "      <td>10</td>\n",
       "    </tr>\n",
       "    <tr>\n",
       "      <th>f30</th>\n",
       "      <td>8</td>\n",
       "    </tr>\n",
       "    <tr>\n",
       "      <th>f48</th>\n",
       "      <td>8</td>\n",
       "    </tr>\n",
       "    <tr>\n",
       "      <th>f31</th>\n",
       "      <td>8</td>\n",
       "    </tr>\n",
       "    <tr>\n",
       "      <th>f179</th>\n",
       "      <td>8</td>\n",
       "    </tr>\n",
       "    <tr>\n",
       "      <th>f40</th>\n",
       "      <td>7</td>\n",
       "    </tr>\n",
       "    <tr>\n",
       "      <th>f38</th>\n",
       "      <td>7</td>\n",
       "    </tr>\n",
       "    <tr>\n",
       "      <th>f8</th>\n",
       "      <td>6</td>\n",
       "    </tr>\n",
       "    <tr>\n",
       "      <th>f39</th>\n",
       "      <td>6</td>\n",
       "    </tr>\n",
       "    <tr>\n",
       "      <th>f161</th>\n",
       "      <td>6</td>\n",
       "    </tr>\n",
       "    <tr>\n",
       "      <th>f186</th>\n",
       "      <td>5</td>\n",
       "    </tr>\n",
       "    <tr>\n",
       "      <th>f144</th>\n",
       "      <td>5</td>\n",
       "    </tr>\n",
       "    <tr>\n",
       "      <th>f61</th>\n",
       "      <td>5</td>\n",
       "    </tr>\n",
       "    <tr>\n",
       "      <th>f3</th>\n",
       "      <td>4</td>\n",
       "    </tr>\n",
       "    <tr>\n",
       "      <th>f45</th>\n",
       "      <td>4</td>\n",
       "    </tr>\n",
       "    <tr>\n",
       "      <th>f140</th>\n",
       "      <td>4</td>\n",
       "    </tr>\n",
       "    <tr>\n",
       "      <th>f29</th>\n",
       "      <td>4</td>\n",
       "    </tr>\n",
       "    <tr>\n",
       "      <th>f37</th>\n",
       "      <td>4</td>\n",
       "    </tr>\n",
       "    <tr>\n",
       "      <th>f26</th>\n",
       "      <td>3</td>\n",
       "    </tr>\n",
       "    <tr>\n",
       "      <th>f163</th>\n",
       "      <td>3</td>\n",
       "    </tr>\n",
       "    <tr>\n",
       "      <th>f158</th>\n",
       "      <td>2</td>\n",
       "    </tr>\n",
       "    <tr>\n",
       "      <th>f28</th>\n",
       "      <td>2</td>\n",
       "    </tr>\n",
       "    <tr>\n",
       "      <th>f68</th>\n",
       "      <td>2</td>\n",
       "    </tr>\n",
       "    <tr>\n",
       "      <th>f71</th>\n",
       "      <td>1</td>\n",
       "    </tr>\n",
       "    <tr>\n",
       "      <th>f167</th>\n",
       "      <td>1</td>\n",
       "    </tr>\n",
       "    <tr>\n",
       "      <th>f69</th>\n",
       "      <td>1</td>\n",
       "    </tr>\n",
       "    <tr>\n",
       "      <th>f10</th>\n",
       "      <td>1</td>\n",
       "    </tr>\n",
       "    <tr>\n",
       "      <th>f73</th>\n",
       "      <td>1</td>\n",
       "    </tr>\n",
       "  </tbody>\n",
       "</table>\n",
       "<p>100 rows × 1 columns</p>\n",
       "</div>"
      ],
      "text/plain": [
       "        0\n",
       "f0    151\n",
       "f23    96\n",
       "f104   89\n",
       "f106   87\n",
       "f105   85\n",
       "f6     81\n",
       "f36    76\n",
       "f100   75\n",
       "f187   66\n",
       "f111   63\n",
       "f21    62\n",
       "f7     61\n",
       "f114   57\n",
       "f121   56\n",
       "f25    56\n",
       "f125   49\n",
       "f108   49\n",
       "f24    48\n",
       "f113   48\n",
       "f133   48\n",
       "f122   47\n",
       "f107   46\n",
       "f129   42\n",
       "f9     40\n",
       "f117   39\n",
       "f126   38\n",
       "f17    38\n",
       "f12    38\n",
       "f130   37\n",
       "f13    36\n",
       "...   ...\n",
       "f181   10\n",
       "f112   10\n",
       "f47    10\n",
       "f30     8\n",
       "f48     8\n",
       "f31     8\n",
       "f179    8\n",
       "f40     7\n",
       "f38     7\n",
       "f8      6\n",
       "f39     6\n",
       "f161    6\n",
       "f186    5\n",
       "f144    5\n",
       "f61     5\n",
       "f3      4\n",
       "f45     4\n",
       "f140    4\n",
       "f29     4\n",
       "f37     4\n",
       "f26     3\n",
       "f163    3\n",
       "f158    2\n",
       "f28     2\n",
       "f68     2\n",
       "f71     1\n",
       "f167    1\n",
       "f69     1\n",
       "f10     1\n",
       "f73     1\n",
       "\n",
       "[100 rows x 1 columns]"
      ]
     },
     "execution_count": 104,
     "metadata": {},
     "output_type": "execute_result"
    }
   ],
   "source": [
    "features_weights.sort_values(by=0,ascending=False)"
   ]
  },
  {
   "cell_type": "code",
   "execution_count": null,
   "metadata": {
    "collapsed": true
   },
   "outputs": [],
   "source": [
    "features_weights.columns = ['fscore']\n",
    "print features_weights.shape\n",
    "features_weights.set_index(features[:99],inplace=True)"
   ]
  },
  {
   "cell_type": "code",
   "execution_count": null,
   "metadata": {
    "collapsed": false
   },
   "outputs": [],
   "source": [
    "features_weights.sort_values(by='fscore',ascending=False).head(50).plot(kind='bar',title='XGB regressor - Features Importance')\n",
    "features_weights.sort_values(by='fscore',ascending=False).head(20)"
   ]
  },
  {
   "cell_type": "markdown",
   "metadata": {
    "collapsed": false
   },
   "source": [
    "### Keras"
   ]
  },
  {
   "cell_type": "code",
   "execution_count": null,
   "metadata": {
    "collapsed": false
   },
   "outputs": [],
   "source": [
    "\n",
    "from keras.models import Sequential\n",
    "from keras.layers import Dense, Dropout\n",
    "from keras.wrappers.scikit_learn import KerasClassifier\n",
    "\n",
    "params = {\n",
    "    'epochs':[500],\n",
    "     'batch_size':[512]\n",
    "}\n",
    "\n",
    "def create_model():\n",
    "\n",
    "    model = Sequential()\n",
    "    model.add(Dense(300, input_dim=X_train.shape[1], activation='relu', init='uniform'))\n",
    "    model.add(Dropout(0.5))\n",
    "    model.add(Dense(64, activation='relu'))\n",
    "    model.add(Dropout(0.5))\n",
    "    model.add(Dense(1, activation='sigmoid'))\n",
    "\n",
    "    model.compile(loss='binary_crossentropy',\n",
    "                  optimizer='rmsprop',\n",
    "                  metrics=['accuracy'])\n",
    "    return model\n",
    "\n",
    "\n",
    "clf = KerasClassifier(build_fn=create_model, verbose=0)\n",
    "\n",
    "best_clf = cv_optimize(clf,params,X_train,y_train)\n",
    "\n",
    "print(best_clf)\n",
    "prediction = best_clf.predict(X_test)\n",
    "print confusion_matrix(y_test.values,prediction>.5)\n",
    "print classification_report(y_test.values,prediction>.5)"
   ]
  },
  {
   "cell_type": "markdown",
   "metadata": {},
   "source": [
    "## K-Means clustering"
   ]
  },
  {
   "cell_type": "code",
   "execution_count": null,
   "metadata": {
    "collapsed": false
   },
   "outputs": [],
   "source": [
    "#np.random.seed(42)\n",
    "\n",
    "data = X\n",
    "\n",
    "n_samples, n_features = X.shape\n",
    "n_digits = len(np.unique(y))\n",
    "labels = y\n",
    "\n",
    "\n",
    "sample_size = 300\n",
    "\n",
    "print(\"n_digits: %d, \\t n_samples %d, \\t n_features %d\"\n",
    "      % (n_digits, n_samples, n_features))\n",
    "\n",
    "\n",
    "print(79 * '_')\n",
    "print('% 9s' % 'init'\n",
    "      '    time  inertia    homo   compl  v-meas     ARI AMI  silhouette')\n",
    "\n",
    "\n",
    "def bench_k_means(estimator, name, data):\n",
    "    t0 = time()\n",
    "    estimator.fit(data)\n",
    "    print('% 9s   %.2fs    %i   %.3f   %.3f   %.3f   %.3f   %.3f    %.3f'\n",
    "          % (name, (time() - t0), estimator.inertia_,\n",
    "             metrics.homogeneity_score(labels, estimator.labels_),\n",
    "             metrics.completeness_score(labels, estimator.labels_),\n",
    "             metrics.v_measure_score(labels, estimator.labels_),\n",
    "             metrics.adjusted_rand_score(labels, estimator.labels_),\n",
    "             metrics.adjusted_mutual_info_score(labels,  estimator.labels_),\n",
    "             metrics.silhouette_score(data, estimator.labels_,\n",
    "                                      metric='euclidean',\n",
    "                                      sample_size=sample_size)))\n",
    "\n",
    "bench_k_means(KMeans(init='k-means++', n_clusters=n_digits, n_init=10),\n",
    "              name=\"k-means++\", data=data)\n",
    "\n",
    "bench_k_means(KMeans(init='random', n_clusters=n_digits, n_init=10),\n",
    "              name=\"random\", data=data)\n",
    "\n",
    "# in this case the seeding of the centers is deterministic, hence we run the\n",
    "# kmeans algorithm only once with n_init=1\n",
    "pca = PCA(n_components=n_digits).fit(data)\n",
    "bench_k_means(KMeans(init=pca.components_, n_clusters=n_digits, n_init=1),\n",
    "              name=\"PCA-based\",\n",
    "              data=data)\n",
    "print(79 * '_')"
   ]
  },
  {
   "cell_type": "code",
   "execution_count": null,
   "metadata": {
    "collapsed": false
   },
   "outputs": [],
   "source": [
    "reduced_data = PCA(n_components=2).fit_transform(data)\n",
    "kmeans = KMeans(init='k-means++', n_clusters=n_digits, n_init=10)\n",
    "kmeans.fit(reduced_data)\n",
    "\n",
    "\n",
    "\n",
    "# Step size of the mesh. Decrease to increase the quality of the VQ.\n",
    "h = .02     # point in the mesh [x_min, x_max]x[y_min, y_max].\n",
    "\n",
    "# Plot the decision boundary. For that, we will assign a color to each\n",
    "x_min, x_max = reduced_data[:, 0].min() - 1, reduced_data[:, 0].max() + 1\n",
    "y_min, y_max = reduced_data[:, 1].min() - 1, reduced_data[:, 1].max() + 1\n",
    "xx, yy = np.meshgrid(np.arange(x_min, x_max, h), np.arange(y_min, y_max, h))\n",
    "\n",
    "# Obtain labels for each point in mesh. Use last trained model.\n",
    "Z = kmeans.predict(np.c_[xx.ravel(), yy.ravel()])\n",
    "\n",
    "# Put the result into a color plot\n",
    "Z = Z.reshape(xx.shape)\n",
    "plt.figure(1)\n",
    "plt.clf()\n",
    "plt.imshow(Z, interpolation='nearest',\n",
    "           extent=(xx.min(), xx.max(), yy.min(), yy.max()),\n",
    "           cmap=plt.cm.Paired,\n",
    "           aspect='auto', origin='lower')\n",
    "\n",
    "plt.plot(reduced_data[:, 0], reduced_data[:, 1], 'k.', markersize=2)\n",
    "# Plot the centroids as a white X\n",
    "centroids = kmeans.cluster_centers_\n",
    "plt.scatter(centroids[:, 0], centroids[:, 1],\n",
    "            marker='x', s=169, linewidths=3,\n",
    "            color='w', zorder=10)\n",
    "plt.title('K-means clustering on the digits dataset (PCA-reduced data)\\n'\n",
    "          'Centroids are marked with white cross')\n",
    "plt.xlim(x_min, x_max)\n",
    "plt.ylim(y_min, y_max)\n",
    "plt.xticks(())\n",
    "plt.yticks(())\n",
    "plt.show()"
   ]
  }
 ],
 "metadata": {
  "anaconda-cloud": {},
  "kernelspec": {
   "display_name": "Python [conda root]",
   "language": "python",
   "name": "conda-root-py"
  },
  "language_info": {
   "codemirror_mode": {
    "name": "ipython",
    "version": 2
   },
   "file_extension": ".py",
   "mimetype": "text/x-python",
   "name": "python",
   "nbconvert_exporter": "python",
   "pygments_lexer": "ipython2",
   "version": "2.7.12"
  }
 },
 "nbformat": 4,
 "nbformat_minor": 1
}
