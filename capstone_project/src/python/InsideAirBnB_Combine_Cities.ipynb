{
 "cells": [
  {
   "cell_type": "code",
   "execution_count": 1,
   "metadata": {
    "collapsed": false
   },
   "outputs": [
    {
     "name": "stderr",
     "output_type": "stream",
     "text": [
      "/home/ramon/anaconda2/lib/python2.7/site-packages/ggplot/utils.py:81: FutureWarning: pandas.tslib is deprecated and will be removed in a future version.\n",
      "You can access Timestamp as pandas.Timestamp\n",
      "  pd.tslib.Timestamp,\n",
      "/home/ramon/anaconda2/lib/python2.7/site-packages/ggplot/stats/smoothers.py:4: FutureWarning: The pandas.lib module is deprecated and will be removed in a future version. These are private functions and can be accessed from pandas._libs.lib instead\n",
      "  from pandas.lib import Timestamp\n",
      "/home/ramon/anaconda2/lib/python2.7/site-packages/statsmodels/compat/pandas.py:56: FutureWarning: The pandas.core.datetools module is deprecated and will be removed in a future version. Please use the pandas.tseries module instead.\n",
      "  from pandas.core import datetools\n"
     ]
    }
   ],
   "source": [
    "%matplotlib inline\n",
    "from os import listdir\n",
    "from os.path import isfile, join\n",
    "import numpy as np\n",
    "import pandas as pd\n",
    "from  ggplot import *"
   ]
  },
  {
   "cell_type": "markdown",
   "metadata": {},
   "source": [
    "Read all files names"
   ]
  },
  {
   "cell_type": "code",
   "execution_count": null,
   "metadata": {
    "collapsed": true
   },
   "outputs": [],
   "source": [
    "col_interest =['id', 'host_id', 'host_since',\n",
    "       'host_listings_count', 'host_total_listings_count',\n",
    "       'property_type', 'room_type', 'bathrooms',\n",
    "       'bedrooms', 'beds', 'price', 'calendar_updated', 'availability_30',\n",
    "       'availability_60', 'availability_90', 'availability_365',\n",
    "       'number_of_reviews', 'first_review', 'last_review',\n",
    "       'review_scores_rating', 'review_scores_accuracy',\n",
    "       'review_scores_cleanliness', 'review_scores_checkin',\n",
    "       'review_scores_communication', 'review_scores_location',\n",
    "       'review_scores_value', 'reviews_per_month']"
   ]
  },
  {
   "cell_type": "code",
   "execution_count": null,
   "metadata": {
    "collapsed": false
   },
   "outputs": [],
   "source": [
    "def combine_cities():\n",
    "    local_files =  [join('data/benchmark_capitals/',f) for f in listdir('data/benchmark_capitals/') if isfile(join('data/benchmark_capitals/', f))]\n",
    "    local_files = [f for f in local_files if \"all_\" not in f]\n",
    "    df_all_cities = pd.DataFrame()\n",
    "    print local_files\n",
    "\n",
    "    \n",
    "    for cities in local_files:\n",
    "        city_name =  cities.split('_')[2].split('.')[0]\n",
    "        df = pd.read_csv(cities)\n",
    "        df = df[col_interest]\n",
    "        df.price = df.price.astype(str)\n",
    "        df.price= df.price.str.replace('[$,]','')\n",
    "        df['city']=city_name.title()\n",
    "        df_all_cities =pd.concat([df_all_cities,df],axis=0)\n",
    "    return df_all_cities"
   ]
  },
  {
   "cell_type": "code",
   "execution_count": null,
   "metadata": {
    "collapsed": false
   },
   "outputs": [],
   "source": [
    "df = combine_cities()\n",
    "df.to_csv('data/benchmark_capitals/all_listings.csv',index=False)"
   ]
  },
  {
   "cell_type": "code",
   "execution_count": null,
   "metadata": {
    "collapsed": true
   },
   "outputs": [],
   "source": [
    "def is_professional(x):\n",
    "    return (np.mean((x!=0)&(x<25))*100.0)"
   ]
  },
  {
   "cell_type": "code",
   "execution_count": null,
   "metadata": {
    "collapsed": false
   },
   "outputs": [],
   "source": [
    "df_out = df.groupby('room_type').agg({'availability_30':{\"mean_availability_30\":np.mean, 'ratio_professional': is_professional}, \"reviews_per_month\":{'average_reviews_per_month':'mean'}, 'price':{'mean_price':'mean'}})[['availability_30','reviews_per_month','price']]"
   ]
  },
  {
   "cell_type": "code",
   "execution_count": null,
   "metadata": {
    "collapsed": false
   },
   "outputs": [],
   "source": [
    "df_out.columns = df_out.columns.droplevel(0)\n",
    "df_out"
   ]
  },
  {
   "cell_type": "code",
   "execution_count": 2,
   "metadata": {
    "collapsed": false
   },
   "outputs": [],
   "source": [
    "df_berlin = pd.read_csv('../../data/benchmark_capitals/listings_berlin.csv')"
   ]
  },
  {
   "cell_type": "code",
   "execution_count": 3,
   "metadata": {
    "collapsed": false
   },
   "outputs": [],
   "source": [
    "df_berlin['total_appart_host']=df_berlin.groupby([\"host_id\"])[\"id\"].transform(\"count\")"
   ]
  },
  {
   "cell_type": "code",
   "execution_count": 4,
   "metadata": {
    "collapsed": false
   },
   "outputs": [
    {
     "data": {
      "text/plain": [
       "1     16092\n",
       "2      2560\n",
       "3       801\n",
       "4       304\n",
       "5       140\n",
       "8       104\n",
       "9        99\n",
       "6        96\n",
       "7        70\n",
       "12       48\n",
       "24       48\n",
       "34       34\n",
       "32       32\n",
       "15       30\n",
       "29       29\n",
       "11       22\n",
       "20       20\n",
       "19       19\n",
       "18       18\n",
       "10       10\n",
       "Name: total_appart_host, dtype: int64"
      ]
     },
     "execution_count": 4,
     "metadata": {},
     "output_type": "execute_result"
    }
   ],
   "source": [
    "df_berlin.total_appart_host.value_counts()"
   ]
  },
  {
   "cell_type": "code",
   "execution_count": 5,
   "metadata": {
    "collapsed": false
   },
   "outputs": [
    {
     "data": {
      "text/plain": [
       "1.0      15337\n",
       "2.0       2868\n",
       "3.0        935\n",
       "4.0        369\n",
       "5.0        218\n",
       "6.0        118\n",
       "7.0         89\n",
       "8.0         81\n",
       "12.0        80\n",
       "9.0         75\n",
       "10.0        38\n",
       "15.0        36\n",
       "0.0         35\n",
       "34.0        34\n",
       "45.0        32\n",
       "29.0        29\n",
       "18.0        27\n",
       "28.0        24\n",
       "33.0        24\n",
       "11.0        24\n",
       "27.0        20\n",
       "19.0        19\n",
       "13.0        17\n",
       "17.0        10\n",
       "14.0         9\n",
       "46.0         3\n",
       "32.0         2\n",
       "16.0         2\n",
       "22.0         1\n",
       "23.0         1\n",
       "180.0        1\n",
       "Name: host_listings_count, dtype: int64"
      ]
     },
     "execution_count": 5,
     "metadata": {},
     "output_type": "execute_result"
    }
   ],
   "source": [
    "df_berlin.host_listings_count.value_counts()"
   ]
  },
  {
   "cell_type": "code",
   "execution_count": null,
   "metadata": {
    "collapsed": false
   },
   "outputs": [],
   "source": [
    "df_berlin[['total_appart_host','host_listings_count']].head(200).plot.bar()"
   ]
  },
  {
   "cell_type": "code",
   "execution_count": null,
   "metadata": {
    "collapsed": false
   },
   "outputs": [],
   "source": [
    "pd.to_datetime(df_berlin.host_since).hist()"
   ]
  },
  {
   "cell_type": "code",
   "execution_count": null,
   "metadata": {
    "collapsed": false
   },
   "outputs": [],
   "source": [
    "(pd.to_datetime(df_berlin.host_since)).idxmin()"
   ]
  },
  {
   "cell_type": "code",
   "execution_count": null,
   "metadata": {
    "collapsed": false
   },
   "outputs": [],
   "source": [
    "df_berlin.iloc[18147]"
   ]
  },
  {
   "cell_type": "code",
   "execution_count": null,
   "metadata": {
    "collapsed": false
   },
   "outputs": [],
   "source": [
    "df_berlin.host_since.max()"
   ]
  },
  {
   "cell_type": "code",
   "execution_count": null,
   "metadata": {
    "collapsed": false
   },
   "outputs": [],
   "source": [
    "np.mean(df_berlin.availability_30.isnull())"
   ]
  },
  {
   "cell_type": "code",
   "execution_count": null,
   "metadata": {
    "collapsed": false
   },
   "outputs": [],
   "source": [
    "df_berlin['occupancy_rate'] = (30-df_berlin[df_berlin.availability_30>0].availability_30)*100.0//30.0\n",
    "df_berlin.occupancy_rate.hist()"
   ]
  },
  {
   "cell_type": "code",
   "execution_count": null,
   "metadata": {
    "collapsed": false
   },
   "outputs": [],
   "source": [
    "ggplot(df_berlin,aes(x='occupancy_rate',y='reviews_per_month'))+ geom_boxplot()"
   ]
  },
  {
   "cell_type": "code",
   "execution_count": null,
   "metadata": {
    "collapsed": false
   },
   "outputs": [],
   "source": [
    "df_berlin.last_review = pd.to_datetime(df_berlin.last_review)"
   ]
  },
  {
   "cell_type": "code",
   "execution_count": null,
   "metadata": {
    "collapsed": false
   },
   "outputs": [],
   "source": [
    "t_zero =df_berlin.last_review.max()"
   ]
  },
  {
   "cell_type": "code",
   "execution_count": null,
   "metadata": {
    "collapsed": true
   },
   "outputs": [],
   "source": [
    "df_berlin['days_since_last_review']= (t_zero-df_berlin.last_review).dt.days"
   ]
  },
  {
   "cell_type": "code",
   "execution_count": null,
   "metadata": {
    "collapsed": false
   },
   "outputs": [],
   "source": [
    "df_berlin['is_active_host']= df_berlin.days_since_last_review<10"
   ]
  },
  {
   "cell_type": "code",
   "execution_count": null,
   "metadata": {
    "collapsed": false
   },
   "outputs": [],
   "source": [
    "df_berlin.groupby('room_type')[['is_active_host']].mean()"
   ]
  },
  {
   "cell_type": "code",
   "execution_count": null,
   "metadata": {
    "collapsed": false
   },
   "outputs": [],
   "source": [
    "pd.DataFrame(df_berlin.isnull().sum()/len(df_berlin)*100,columns=['ratio_missing']).sort_values(by=)"
   ]
  }
 ],
 "metadata": {
  "anaconda-cloud": {},
  "kernelspec": {
   "display_name": "Python [conda root]",
   "language": "python",
   "name": "conda-root-py"
  },
  "language_info": {
   "codemirror_mode": {
    "name": "ipython",
    "version": 2
   },
   "file_extension": ".py",
   "mimetype": "text/x-python",
   "name": "python",
   "nbconvert_exporter": "python",
   "pygments_lexer": "ipython2",
   "version": "2.7.12"
  }
 },
 "nbformat": 4,
 "nbformat_minor": 2
}
