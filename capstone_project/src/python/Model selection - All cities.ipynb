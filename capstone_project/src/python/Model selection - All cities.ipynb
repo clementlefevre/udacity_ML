{
 "cells": [
  {
   "cell_type": "markdown",
   "metadata": {},
   "source": [
    "# AirBnB : Part 2, Model Selection ALL CITIES"
   ]
  },
  {
   "cell_type": "code",
   "execution_count": null,
   "metadata": {
    "collapsed": false
   },
   "outputs": [],
   "source": [
    "%matplotlib inline \n",
    "\n",
    "import matplotlib.pyplot as plt\n",
    "\n",
    "from time import time\n",
    "import numpy as np\n",
    "import pandas as pd\n",
    "\n",
    "import seaborn as sns\n",
    "\n",
    "import statsmodels.api as sm\n",
    "\n",
    "from sklearn.ensemble import RandomForestClassifier\n",
    "from sklearn.linear_model import LogisticRegression,RandomizedLogisticRegression\n",
    "\n",
    "from sklearn.svm import SVC\n",
    "from sklearn.metrics import r2_score, mean_squared_error,confusion_matrix,classification_report\n",
    "from sklearn.model_selection import train_test_split,StratifiedKFold\n",
    "from sklearn.grid_search import GridSearchCV\n",
    "\n",
    "from sklearn import metrics\n",
    "from sklearn.cluster import KMeans\n",
    "from sklearn.decomposition import PCA\n",
    "from sklearn.preprocessing import MinMaxScaler,LabelEncoder\n",
    "\n",
    "from xgboost import XGBClassifier\n",
    "from utils import rstr,distance\n",
    "\n",
    "import pickle\n",
    "\n",
    "airBColor= '#ff5a5f'\n",
    "airBColor2= '#008489'"
   ]
  },
  {
   "cell_type": "markdown",
   "metadata": {},
   "source": [
    "### Add frequency reviews and distance to highlights"
   ]
  },
  {
   "cell_type": "code",
   "execution_count": null,
   "metadata": {
    "collapsed": false
   },
   "outputs": [],
   "source": [
    "#df = pd.read_csv('../../data/all_cities/dataset_for_modeling.csv')\n",
    "features_RLR =  pickle.load(open('features_RLR.p', 'rb'))\n",
    "features_Kbest_chi2=  pickle.load(open('features_Kbest_chi2.p', 'rb'))\n",
    "features_Kbest_fclass=  pickle.load(open('features_Kbest_fclass.p', 'rb'))\n",
    "\n",
    "df = pd.read_csv('../../data/all_cities/listing_cleansed_fillna.csv')\n",
    "print df.host_id.isnull().sum()\n",
    "df.drop('listings_per_host',axis=1,inplace=True)\n",
    "\n",
    "df.loc[df['maximum_nights'] > 365, 'maximum_nights'] = 365"
   ]
  },
  {
   "cell_type": "code",
   "execution_count": 3,
   "metadata": {
    "collapsed": false
   },
   "outputs": [
    {
     "data": {
      "text/plain": [
       "(56879, 108)"
      ]
     },
     "execution_count": 3,
     "metadata": {},
     "output_type": "execute_result"
    }
   ],
   "source": [
    "df.shape"
   ]
  },
  {
   "cell_type": "code",
   "execution_count": 4,
   "metadata": {
    "collapsed": false
   },
   "outputs": [
    {
     "data": {
      "text/plain": [
       "<matplotlib.axes._subplots.AxesSubplot at 0x7f604da861d0>"
      ]
     },
     "execution_count": 4,
     "metadata": {},
     "output_type": "execute_result"
    },
    {
     "data": {
      "image/png": "[encoded data removed]",
      "text/plain": [
       "<matplotlib.figure.Figure at 0x7f604e120a50>"
      ]
     },
     "metadata": {},
     "output_type": "display_data"
    }
   ],
   "source": [
    "df.multihost.hist()"
   ]
  },
  {
   "cell_type": "markdown",
   "metadata": {},
   "source": [
    "### Filter on listings with high reviews number"
   ]
  },
  {
   "cell_type": "markdown",
   "metadata": {},
   "source": [
    "### Fill the missing data"
   ]
  },
  {
   "cell_type": "code",
   "execution_count": 5,
   "metadata": {
    "collapsed": false
   },
   "outputs": [
    {
     "data": {
      "text/html": [
       "<div>\n",
       "<style>\n",
       "    .dataframe thead tr:only-child th {\n",
       "        text-align: right;\n",
       "    }\n",
       "\n",
       "    .dataframe thead th {\n",
       "        text-align: left;\n",
       "    }\n",
       "\n",
       "    .dataframe tbody tr th {\n",
       "        vertical-align: top;\n",
       "    }\n",
       "</style>\n",
       "<table border=\"1\" class=\"dataframe\">\n",
       "  <thead>\n",
       "    <tr style=\"text-align: right;\">\n",
       "      <th></th>\n",
       "      <th>missing_percent</th>\n",
       "    </tr>\n",
       "  </thead>\n",
       "  <tbody>\n",
       "  </tbody>\n",
       "</table>\n",
       "</div>"
      ],
      "text/plain": [
       "Empty DataFrame\n",
       "Columns: [missing_percent]\n",
       "Index: []"
      ]
     },
     "execution_count": 5,
     "metadata": {},
     "output_type": "execute_result"
    }
   ],
   "source": [
    "df_missing_data = pd.DataFrame(df.isnull().sum()/len(df)*100).sort_values(by=0,ascending=False)\n",
    "df_missing_data.columns = ['missing_percent']\n",
    "df_missing_data = df_missing_data[df_missing_data.missing_percent>0]\n",
    "df_missing_data"
   ]
  },
  {
   "cell_type": "markdown",
   "metadata": {},
   "source": [
    "## Linear Model and R-squared"
   ]
  },
  {
   "cell_type": "code",
   "execution_count": 6,
   "metadata": {
    "collapsed": false
   },
   "outputs": [],
   "source": [
    "TARGET_CLASSIFICATION ='multihost'\n",
    "y = df[TARGET_CLASSIFICATION]\n",
    "\n",
    "X = df.drop(TARGET_CLASSIFICATION,axis=1)"
   ]
  },
  {
   "cell_type": "markdown",
   "metadata": {},
   "source": [
    "### Train test split"
   ]
  },
  {
   "cell_type": "code",
   "execution_count": 7,
   "metadata": {
    "collapsed": true
   },
   "outputs": [],
   "source": [
    "def balanced_subsample(y, size=None):\n",
    "\n",
    "    subsample = []\n",
    "\n",
    "    if size is None:\n",
    "        n_smp = y.value_counts().min()\n",
    "    else:\n",
    "        n_smp = int(size / len(y.value_counts().index))\n",
    "\n",
    "    for label in y.value_counts().index:\n",
    "        samples = y[y == label].index.values\n",
    "        index_range = range(samples.shape[0])\n",
    "        indexes = np.random.choice(index_range, size=n_smp, replace=False)\n",
    "        subsample += samples[indexes].tolist()\n",
    "\n",
    "    return subsample"
   ]
  },
  {
   "cell_type": "code",
   "execution_count": 8,
   "metadata": {
    "collapsed": true
   },
   "outputs": [],
   "source": [
    "rebalanced_index = balanced_subsample(y)"
   ]
  },
  {
   "cell_type": "code",
   "execution_count": 9,
   "metadata": {
    "collapsed": false
   },
   "outputs": [],
   "source": [
    "X,y = X.loc[rebalanced_index],y.loc[rebalanced_index]"
   ]
  },
  {
   "cell_type": "code",
   "execution_count": 10,
   "metadata": {
    "collapsed": false
   },
   "outputs": [
    {
     "data": {
      "text/plain": [
       "0    36494\n",
       "1    20385\n",
       "Name: multihost, dtype: int64"
      ]
     },
     "execution_count": 10,
     "metadata": {},
     "output_type": "execute_result"
    }
   ],
   "source": [
    "y.value_counts()"
   ]
  },
  {
   "cell_type": "code",
   "execution_count": 11,
   "metadata": {
    "collapsed": false
   },
   "outputs": [],
   "source": [
    "X_train,X_test,y_train,y_test = train_test_split(X,y,test_size=.2)\n",
    "features = pd.Series(X.columns)\n",
    "#scaler = MinMaxScaler()\n",
    "\n",
    "#X_train = scaler.fit_transform(X_train)\n",
    "#X_test = scaler.transform(X_test)\n"
   ]
  },
  {
   "cell_type": "code",
   "execution_count": 12,
   "metadata": {
    "collapsed": true
   },
   "outputs": [],
   "source": [
    "def cv_optimize(clf, parameters, Xtrain, ytrain, n_folds=5):\n",
    "    gs = GridSearchCV(clf, param_grid=params, cv=n_folds, n_jobs=-1,scoring=\"recall\")\n",
    "    gs.fit(Xtrain, ytrain)\n",
    "    \n",
    "    return gs.best_estimator_"
   ]
  },
  {
   "cell_type": "markdown",
   "metadata": {},
   "source": [
    "### Logistic Regression"
   ]
  },
  {
   "cell_type": "code",
   "execution_count": 13,
   "metadata": {
    "collapsed": false
   },
   "outputs": [
    {
     "name": "stdout",
     "output_type": "stream",
     "text": [
      "[[6299 1000]\n",
      " [1533 2544]]\n",
      "             precision    recall  f1-score   support\n",
      "\n",
      "          0       0.80      0.86      0.83      7299\n",
      "          1       0.72      0.62      0.67      4077\n",
      "\n",
      "avg / total       0.77      0.78      0.77     11376\n",
      "\n"
     ]
    }
   ],
   "source": [
    "lm = LogisticRegression(C=1e5)\n",
    "lm.fit(X_train,y_train)\n",
    "prediction = lm.predict(X_test)\n",
    "print confusion_matrix(y_test,prediction)\n",
    "print classification_report(y_test,prediction)"
   ]
  },
  {
   "cell_type": "markdown",
   "metadata": {},
   "source": [
    "### Random Forest"
   ]
  },
  {
   "cell_type": "code",
   "execution_count": 14,
   "metadata": {
    "collapsed": false
   },
   "outputs": [
    {
     "name": "stdout",
     "output_type": "stream",
     "text": [
      "RandomForestClassifier(bootstrap=True, class_weight=None, criterion='gini',\n",
      "            max_depth=None, max_features='auto', max_leaf_nodes=None,\n",
      "            min_impurity_split=1e-07, min_samples_leaf=1,\n",
      "            min_samples_split=2, min_weight_fraction_leaf=0.0,\n",
      "            n_estimators=10, n_jobs=1, oob_score=False, random_state=None,\n",
      "            verbose=0, warm_start=False)\n",
      "[[6492  807]\n",
      " [2014 2063]]\n",
      "             precision    recall  f1-score   support\n",
      "\n",
      "          0       0.76      0.89      0.82      7299\n",
      "          1       0.72      0.51      0.59      4077\n",
      "\n",
      "avg / total       0.75      0.75      0.74     11376\n",
      "\n"
     ]
    }
   ],
   "source": [
    "clf = RandomForestClassifier()\n",
    "params={}\n",
    "best_clf = cv_optimize(clf,params,X_train,y_train)\n",
    "\n",
    "print(best_clf)\n",
    "\n",
    "prediction = best_clf.predict(X_test)\n",
    "print confusion_matrix(y_test,prediction)\n",
    "print classification_report(y_test,prediction)"
   ]
  },
  {
   "cell_type": "markdown",
   "metadata": {},
   "source": [
    "### XGB"
   ]
  },
  {
   "cell_type": "code",
   "execution_count": 15,
   "metadata": {
    "collapsed": false
   },
   "outputs": [
    {
     "name": "stdout",
     "output_type": "stream",
     "text": [
      "XGBClassifier(base_score=0.5, colsample_bylevel=1, colsample_bytree=1,\n",
      "       gamma=0.0, learning_rate=0.1, max_delta_step=0, max_depth=9,\n",
      "       min_child_weight=2, missing=None, n_estimators=100, nthread=-1,\n",
      "       objective='binary:logistic', reg_alpha=0, reg_lambda=1,\n",
      "       scale_pos_weight=1, seed=0, silent=True, subsample=1)\n"
     ]
    }
   ],
   "source": [
    "params = {\n",
    "    'max_depth':[9],\n",
    "    'min_child_weight':[2],\n",
    "    'learning_rate' :[0.1],\n",
    "    'gamma':[0.0],\n",
    "    'n_estimators':[100]\n",
    "}\n",
    "\n",
    "clf = XGBClassifier()\n",
    "\n",
    "best_clf = cv_optimize(clf,params,X_train,y_train)\n",
    "\n",
    "print(best_clf)"
   ]
  },
  {
   "cell_type": "code",
   "execution_count": 16,
   "metadata": {
    "collapsed": false
   },
   "outputs": [
    {
     "name": "stdout",
     "output_type": "stream",
     "text": [
      "[[6554  745]\n",
      " [1316 2761]]\n",
      "             precision    recall  f1-score   support\n",
      "\n",
      "          0       0.83      0.90      0.86      7299\n",
      "          1       0.79      0.68      0.73      4077\n",
      "\n",
      "avg / total       0.82      0.82      0.82     11376\n",
      "\n"
     ]
    }
   ],
   "source": [
    "prediction = best_clf.predict(X_test)\n",
    "print confusion_matrix(y_test,prediction)\n",
    "print classification_report(y_test,prediction)"
   ]
  },
  {
   "cell_type": "code",
   "execution_count": null,
   "metadata": {
    "collapsed": false
   },
   "outputs": [
    {
     "data": {
      "text/plain": [
       "<matplotlib.axes._subplots.AxesSubplot at 0x7f6043df8790>"
      ]
     },
     "execution_count": 17,
     "metadata": {},
     "output_type": "execute_result"
    },
    {
     "data": {
      "image/png": "[encoded data removed]",
      "text/plain": [
       "<matplotlib.figure.Figure at 0x7f6085dad3d0>"
      ]
     },
     "metadata": {},
     "output_type": "display_data"
    }
   ],
   "source": [
    "features_weights = pd.DataFrame.from_dict(best_clf.booster().get_fscore(),orient=\"index\")\n",
    "features_weights.columns = ['fscore']\n",
    "\n",
    "features_weights.sort_values(by='fscore',ascending=False).head(40).plot(kind='bar',title='',color=airBColor,figsize=(12,12))"
   ]
  },
  {
   "cell_type": "markdown",
   "metadata": {
    "collapsed": false
   },
   "source": [
    "### Keras"
   ]
  },
  {
   "cell_type": "code",
   "execution_count": null,
   "metadata": {
    "collapsed": false
   },
   "outputs": [
    {
     "name": "stderr",
     "output_type": "stream",
     "text": [
      "Using TensorFlow backend.\n",
      "Process PoolWorker-10:\n",
      "Process PoolWorker-11:\n",
      "Process PoolWorker-12:\n",
      "Traceback (most recent call last):\n",
      "  File \"/home/ramon/anaconda2/lib/python2.7/multiprocessing/process.py\", line 258, in _bootstrap\n",
      "Traceback (most recent call last):\n",
      "Traceback (most recent call last):\n",
      "    self.run()\n",
      "  File \"/home/ramon/anaconda2/lib/python2.7/multiprocessing/process.py\", line 258, in _bootstrap\n",
      "  File \"/home/ramon/anaconda2/lib/python2.7/multiprocessing/process.py\", line 258, in _bootstrap\n",
      "  File \"/home/ramon/anaconda2/lib/python2.7/multiprocessing/process.py\", line 114, in run\n",
      "    self._target(*self._args, **self._kwargs)\n",
      "    self.run()\n",
      "  File \"/home/ramon/anaconda2/lib/python2.7/multiprocessing/pool.py\", line 102, in worker\n",
      "    self.run()\n",
      "  File \"/home/ramon/anaconda2/lib/python2.7/multiprocessing/process.py\", line 114, in run\n",
      "    task = get()\n",
      "  File \"/home/ramon/anaconda2/lib/python2.7/multiprocessing/process.py\", line 114, in run\n",
      "    self._target(*self._args, **self._kwargs)\n"
     ]
    }
   ],
   "source": [
    "from keras.models import Sequential\n",
    "from keras.layers import Dense, Dropout\n",
    "from keras.wrappers.scikit_learn import KerasClassifier\n",
    "\n",
    "params = {\n",
    "    'epochs':[500],\n",
    "     'batch_size':[128]\n",
    "}\n",
    "\n",
    "def create_model():\n",
    "\n",
    "    model = Sequential()\n",
    "    model.add(Dense(256, input_dim=X_train.shape[1], activation='relu', kernel_initializer='uniform'))\n",
    "    model.add(Dropout(0.5))\n",
    "    model.add(Dense(64, activation='relu'))\n",
    "    model.add(Dropout(0.5))\n",
    "    model.add(Dense(1, activation='sigmoid'))\n",
    "\n",
    "    model.compile(loss='binary_crossentropy',\n",
    "                  optimizer='rmsprop',\n",
    "                  metrics=['accuracy'])\n",
    "    return model\n",
    "\n",
    "\n",
    "clf = KerasClassifier(build_fn=create_model, verbose=0)\n",
    "\n",
    "best_clf = cv_optimize(clf,params,X_train.values,y_train.values)\n",
    "\n",
    "print(best_clf)\n",
    "prediction = best_clf.predict(X_test.values)\n",
    "print confusion_matrix(y_test.values,prediction>.5)\n",
    "print classification_report(y_test.values,prediction>.5)"
   ]
  }
 ],
 "metadata": {
  "anaconda-cloud": {},
  "kernelspec": {
   "display_name": "Python [conda root]",
   "language": "python",
   "name": "conda-root-py"
  },
  "language_info": {
   "codemirror_mode": {
    "name": "ipython",
    "version": 2
   },
   "file_extension": ".py",
   "mimetype": "text/x-python",
   "name": "python",
   "nbconvert_exporter": "python",
   "pygments_lexer": "ipython2",
   "version": "2.7.12"
  }
 },
 "nbformat": 4,
 "nbformat_minor": 1
}
