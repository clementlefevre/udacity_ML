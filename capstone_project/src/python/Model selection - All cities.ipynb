{
 "cells": [
  {
   "cell_type": "markdown",
   "metadata": {},
   "source": [
    "# AirBnB : Part 2, Model Selection ALL CITIES"
   ]
  },
  {
   "cell_type": "code",
   "execution_count": 36,
   "metadata": {
    "collapsed": false
   },
   "outputs": [],
   "source": [
    "%matplotlib inline \n",
    "\n",
    "import matplotlib.pyplot as plt\n",
    "\n",
    "from time import time\n",
    "import numpy as np\n",
    "import pandas as pd\n",
    "\n",
    "import seaborn as sns\n",
    "\n",
    "import statsmodels.api as sm\n",
    "\n",
    "from sklearn.ensemble import RandomForestClassifier\n",
    "from sklearn.linear_model import LogisticRegression,RandomizedLogisticRegression\n",
    "\n",
    "from sklearn.svm import SVC\n",
    "from sklearn.metrics import r2_score, mean_squared_error,confusion_matrix,classification_report,roc_curve,auc\n",
    "from sklearn.model_selection import train_test_split,StratifiedKFold,cross_val_score\n",
    "from sklearn.grid_search import GridSearchCV\n",
    "\n",
    "\n",
    "from sklearn import metrics\n",
    "from sklearn.cluster import KMeans\n",
    "from sklearn.decomposition import PCA\n",
    "from sklearn.preprocessing import MinMaxScaler,LabelEncoder\n",
    "\n",
    "from xgboost import XGBClassifier\n",
    "from utils import rstr,distance\n",
    "\n",
    "import pickle\n",
    "\n",
    "airBColor= '#ff5a5f'\n",
    "airBColor2= '#008489'"
   ]
  },
  {
   "cell_type": "code",
   "execution_count": 2,
   "metadata": {
    "collapsed": false
   },
   "outputs": [],
   "source": [
    "df = pd.read_csv('../../data/all_cities/dataset_for_modeling.csv')"
   ]
  },
  {
   "cell_type": "code",
   "execution_count": 3,
   "metadata": {
    "collapsed": false
   },
   "outputs": [],
   "source": [
    "features_RLR =  pickle.load(open('best_features/features_RLR.p', 'rb'))\n",
    "features_Kbest_chi2=  pickle.load(open('best_features/features_Kbest_chi2.p', 'rb'))\n",
    "features_Kbest_fclass=  pickle.load(open('best_features/features_Kbest_fclass.p', 'rb'))\n",
    "features_XBOOST =  pickle.load(open('best_features/XGB_features.p', 'rb'))\n",
    "all_features = pickle.load(open('best_features/best_features.p', 'rb'))\n",
    "\n",
    "numerics = ['int16', 'int32', 'int64', 'float16', 'float32', 'float64']\n",
    "features_ALL = df.select_dtypes(include=numerics).columns.tolist()"
   ]
  },
  {
   "cell_type": "code",
   "execution_count": 4,
   "metadata": {
    "collapsed": false
   },
   "outputs": [
    {
     "data": {
      "text/plain": [
       "(3443, 183)"
      ]
     },
     "execution_count": 4,
     "metadata": {},
     "output_type": "execute_result"
    }
   ],
   "source": [
    "df.shape"
   ]
  },
  {
   "cell_type": "code",
   "execution_count": 5,
   "metadata": {
    "collapsed": false
   },
   "outputs": [],
   "source": [
    "df=df[['multihost']+ all_features]"
   ]
  },
  {
   "cell_type": "code",
   "execution_count": 6,
   "metadata": {
    "collapsed": false
   },
   "outputs": [
    {
     "data": {
      "text/plain": [
       "(3443, 183)"
      ]
     },
     "execution_count": 6,
     "metadata": {},
     "output_type": "execute_result"
    }
   ],
   "source": [
    "df.shape"
   ]
  },
  {
   "cell_type": "code",
   "execution_count": 7,
   "metadata": {
    "collapsed": false
   },
   "outputs": [
    {
     "data": {
      "text/plain": [
       "<matplotlib.axes._subplots.AxesSubplot at 0x7f51889067d0>"
      ]
     },
     "execution_count": 7,
     "metadata": {},
     "output_type": "execute_result"
    },
    {
     "data": {
      "image/png": "[encoded data removed]",
      "text/plain": [
       "<matplotlib.figure.Figure at 0x7f5188fa4f90>"
      ]
     },
     "metadata": {},
     "output_type": "display_data"
    }
   ],
   "source": [
    "df.multihost.hist()"
   ]
  },
  {
   "cell_type": "markdown",
   "metadata": {},
   "source": [
    "### Filter on listings with high reviews number"
   ]
  },
  {
   "cell_type": "markdown",
   "metadata": {},
   "source": [
    "### Fill the missing data"
   ]
  },
  {
   "cell_type": "code",
   "execution_count": 8,
   "metadata": {
    "collapsed": false
   },
   "outputs": [
    {
     "data": {
      "text/html": [
       "<div>\n",
       "<style>\n",
       "    .dataframe thead tr:only-child th {\n",
       "        text-align: right;\n",
       "    }\n",
       "\n",
       "    .dataframe thead th {\n",
       "        text-align: left;\n",
       "    }\n",
       "\n",
       "    .dataframe tbody tr th {\n",
       "        vertical-align: top;\n",
       "    }\n",
       "</style>\n",
       "<table border=\"1\" class=\"dataframe\">\n",
       "  <thead>\n",
       "    <tr style=\"text-align: right;\">\n",
       "      <th></th>\n",
       "      <th>missing_percent</th>\n",
       "    </tr>\n",
       "  </thead>\n",
       "  <tbody>\n",
       "  </tbody>\n",
       "</table>\n",
       "</div>"
      ],
      "text/plain": [
       "Empty DataFrame\n",
       "Columns: [missing_percent]\n",
       "Index: []"
      ]
     },
     "execution_count": 8,
     "metadata": {},
     "output_type": "execute_result"
    }
   ],
   "source": [
    "df_missing_data = pd.DataFrame(df.isnull().sum()/len(df)*100).sort_values(by=0,ascending=False)\n",
    "df_missing_data.columns = ['missing_percent']\n",
    "df_missing_data = df_missing_data[df_missing_data.missing_percent>0]\n",
    "df_missing_data"
   ]
  },
  {
   "cell_type": "markdown",
   "metadata": {},
   "source": [
    "## Linear Model and R-squared"
   ]
  },
  {
   "cell_type": "code",
   "execution_count": 9,
   "metadata": {
    "collapsed": false
   },
   "outputs": [],
   "source": [
    "TARGET_CLASSIFICATION ='multihost'\n",
    "y = df[TARGET_CLASSIFICATION]\n",
    "\n",
    "X = df.drop(TARGET_CLASSIFICATION,axis=1)"
   ]
  },
  {
   "cell_type": "markdown",
   "metadata": {},
   "source": [
    "### Train test split"
   ]
  },
  {
   "cell_type": "code",
   "execution_count": 10,
   "metadata": {
    "collapsed": true
   },
   "outputs": [],
   "source": [
    "def balanced_subsample(y, size=None):\n",
    "\n",
    "    subsample = []\n",
    "\n",
    "    if size is None:\n",
    "        n_smp = y.value_counts().min()\n",
    "    else:\n",
    "        n_smp = int(size / len(y.value_counts().index))\n",
    "\n",
    "    for label in y.value_counts().index:\n",
    "        samples = y[y == label].index.values\n",
    "        index_range = range(samples.shape[0])\n",
    "        indexes = np.random.choice(index_range, size=n_smp, replace=False)\n",
    "        subsample += samples[indexes].tolist()\n",
    "\n",
    "    return subsample"
   ]
  },
  {
   "cell_type": "code",
   "execution_count": 11,
   "metadata": {
    "collapsed": true
   },
   "outputs": [],
   "source": [
    "rebalanced_index = balanced_subsample(y)"
   ]
  },
  {
   "cell_type": "code",
   "execution_count": 12,
   "metadata": {
    "collapsed": false
   },
   "outputs": [],
   "source": [
    "X,y = X.loc[rebalanced_index],y.loc[rebalanced_index]"
   ]
  },
  {
   "cell_type": "code",
   "execution_count": 13,
   "metadata": {
    "collapsed": false
   },
   "outputs": [
    {
     "data": {
      "text/plain": [
       "1    728\n",
       "0    728\n",
       "Name: multihost, dtype: int64"
      ]
     },
     "execution_count": 13,
     "metadata": {},
     "output_type": "execute_result"
    }
   ],
   "source": [
    "y.value_counts()"
   ]
  },
  {
   "cell_type": "code",
   "execution_count": 14,
   "metadata": {
    "collapsed": false
   },
   "outputs": [
    {
     "name": "stdout",
     "output_type": "stream",
     "text": [
      "1    158\n",
      "0    134\n",
      "Name: multihost, dtype: int64\n"
     ]
    }
   ],
   "source": [
    "X_train,X_test,y_train,y_test = train_test_split(X,y,test_size=.2)\n",
    "features = pd.Series(X.columns)\n",
    "#scaler = MinMaxScaler()\n",
    "\n",
    "#X_train = scaler.fit_transform(X_train)\n",
    "#X_test = scaler.transform(X_test)\n",
    "print y_test.value_counts()"
   ]
  },
  {
   "cell_type": "code",
   "execution_count": 15,
   "metadata": {
    "collapsed": true
   },
   "outputs": [],
   "source": [
    "def cv_optimize(clf, parameters, Xtrain, ytrain, n_folds=5):\n",
    "    gs = GridSearchCV(clf, param_grid=params, cv=n_folds, n_jobs=-1,scoring=\"recall\")\n",
    "    gs.fit(Xtrain, ytrain)\n",
    "    \n",
    "    return gs.best_estimator_"
   ]
  },
  {
   "cell_type": "markdown",
   "metadata": {},
   "source": [
    "### Logistic Regression"
   ]
  },
  {
   "cell_type": "code",
   "execution_count": 40,
   "metadata": {
    "collapsed": false
   },
   "outputs": [
    {
     "name": "stdout",
     "output_type": "stream",
     "text": [
      "[[ 99  35]\n",
      " [ 41 117]]\n",
      "             precision    recall  f1-score   support\n",
      "\n",
      "          0       0.71      0.74      0.72       134\n",
      "          1       0.77      0.74      0.75       158\n",
      "\n",
      "avg / total       0.74      0.74      0.74       292\n",
      "\n",
      "Accuracy: 0.72 (+/- 0.32)\n"
     ]
    }
   ],
   "source": [
    "clf = LogisticRegression(C=1e5)\n",
    "clf.fit(X_train,y_train)\n",
    "prediction = clf.predict(X_test)\n",
    "print confusion_matrix(y_test,prediction)\n",
    "print classification_report(y_test,prediction)\n",
    "\n",
    "cv_scores =cross_val_score(clf, X_test, y_test, cv=5, scoring='recall')\n",
    "print(\"Accuracy: %0.2f (+/- %0.2f)\" % (cv_scores.mean(), cv_scores.std() * 2))"
   ]
  },
  {
   "cell_type": "markdown",
   "metadata": {},
   "source": [
    "### Random Forest"
   ]
  },
  {
   "cell_type": "code",
   "execution_count": 17,
   "metadata": {
    "collapsed": false
   },
   "outputs": [
    {
     "name": "stdout",
     "output_type": "stream",
     "text": [
      "RandomForestClassifier(bootstrap=True, class_weight=None, criterion='gini',\n",
      "            max_depth=None, max_features='auto', max_leaf_nodes=None,\n",
      "            min_impurity_split=1e-07, min_samples_leaf=1,\n",
      "            min_samples_split=2, min_weight_fraction_leaf=0.0,\n",
      "            n_estimators=10, n_jobs=1, oob_score=False, random_state=None,\n",
      "            verbose=0, warm_start=False)\n",
      "[[103  31]\n",
      " [ 59  99]]\n",
      "             precision    recall  f1-score   support\n",
      "\n",
      "          0       0.64      0.77      0.70       134\n",
      "          1       0.76      0.63      0.69       158\n",
      "\n",
      "avg / total       0.70      0.69      0.69       292\n",
      "\n"
     ]
    }
   ],
   "source": [
    "clf = RandomForestClassifier()\n",
    "params={}\n",
    "best_clf = cv_optimize(clf,params,X_train,y_train)\n",
    "\n",
    "print(best_clf)\n",
    "\n",
    "prediction = best_clf.predict(X_test)\n",
    "print confusion_matrix(y_test,prediction)\n",
    "print classification_report(y_test,prediction)"
   ]
  },
  {
   "cell_type": "markdown",
   "metadata": {},
   "source": [
    "### MLP"
   ]
  },
  {
   "cell_type": "code",
   "execution_count": 18,
   "metadata": {
    "collapsed": false
   },
   "outputs": [
    {
     "name": "stdout",
     "output_type": "stream",
     "text": [
      "[[ 95  39]\n",
      " [ 58 100]]\n",
      "             precision    recall  f1-score   support\n",
      "\n",
      "          0       0.62      0.71      0.66       134\n",
      "          1       0.72      0.63      0.67       158\n",
      "\n",
      "avg / total       0.67      0.67      0.67       292\n",
      "\n"
     ]
    },
    {
     "name": "stderr",
     "output_type": "stream",
     "text": [
      "/home/ramon/anaconda2/lib/python2.7/site-packages/sklearn/neural_network/multilayer_perceptron.py:563: ConvergenceWarning: Stochastic Optimizer: Maximum iterations reached and the optimization hasn't converged yet.\n",
      "  % (), ConvergenceWarning)\n"
     ]
    }
   ],
   "source": [
    "from sklearn.neural_network import MLPClassifier\n",
    "clf = MLPClassifier(solver='adam', alpha=1e-5, hidden_layer_sizes=(10, 5), random_state=1,learning_rate='adaptive')\n",
    " \n",
    "best_clf = clf.fit(X_train,y_train)\n",
    "\n",
    "prediction = best_clf.predict(X_test)\n",
    "\n",
    "print confusion_matrix(y_test,prediction)\n",
    "\n",
    "print classification_report(y_test,prediction)"
   ]
  },
  {
   "cell_type": "markdown",
   "metadata": {},
   "source": [
    "### XGB"
   ]
  },
  {
   "cell_type": "code",
   "execution_count": 19,
   "metadata": {
    "collapsed": false
   },
   "outputs": [
    {
     "name": "stdout",
     "output_type": "stream",
     "text": [
      "{'n_estimators': 500, 'gamma': 0.0, 'learning_rate': 0.1, 'max_depth': 15, 'min_child_weight': 1}\n",
      "XGBClassifier(base_score=0.5, colsample_bylevel=1, colsample_bytree=1,\n",
      "       gamma=0.0, learning_rate=0.1, max_delta_step=0, max_depth=15,\n",
      "       min_child_weight=1, missing=None, n_estimators=500, nthread=-1,\n",
      "       objective='binary:logistic', reg_alpha=0, reg_lambda=1,\n",
      "       scale_pos_weight=1, seed=0, silent=True, subsample=1)\n"
     ]
    }
   ],
   "source": [
    "params = {\n",
    "    'max_depth':15,\n",
    "    'min_child_weight':1,\n",
    "    'learning_rate' :0.1,\n",
    "    'gamma':0.0,\n",
    "    'n_estimators':500\n",
    "}\n",
    "\n",
    "print params\n",
    "\n",
    "clf = XGBClassifier(**params)\n",
    "\n",
    "#best_clf = cv_optimize(clf,params,X_train,y_train)\n",
    "best_clf = clf.fit(X_train,y_train)\n",
    "print(best_clf)"
   ]
  },
  {
   "cell_type": "code",
   "execution_count": 20,
   "metadata": {
    "collapsed": false
   },
   "outputs": [
    {
     "name": "stdout",
     "output_type": "stream",
     "text": [
      "[  9.95200038e-01   9.84078884e-01   9.70012367e-01   9.99021053e-01\n",
      "   9.99853969e-01   9.50013518e-01   3.64027888e-01   5.73312528e-02\n",
      "   9.96842384e-01   9.34287548e-01   9.25757289e-01   1.16250701e-01\n",
      "   3.34645374e-05   8.23285878e-01   9.37629342e-01   7.25489557e-02\n",
      "   7.20588025e-04   9.96615827e-01   9.58190918e-01   9.00009394e-01\n",
      "   9.99207079e-01   9.99234617e-02   4.09505703e-03   9.41872224e-03\n",
      "   8.84409308e-01   8.99310291e-01   1.93037122e-04   9.82765913e-01\n",
      "   5.16979070e-03   9.40669477e-01   1.37042686e-01   1.13952225e-02\n",
      "   3.02272907e-04   1.29102287e-03   9.96771276e-01   9.97270644e-01\n",
      "   2.49890308e-03   9.82169449e-01   9.57269132e-01   9.99522805e-01\n",
      "   7.91289568e-01   9.39069271e-01   6.56930208e-02   9.99243259e-01\n",
      "   3.29527003e-03   9.63026378e-03   4.85838464e-05   9.18613136e-01\n",
      "   9.72665966e-01   1.16909780e-01   9.63677764e-01   9.93362904e-01\n",
      "   4.51708287e-02   7.57138073e-01   1.36010543e-01   4.01662230e-01\n",
      "   9.69457254e-03   7.91998684e-01   2.56784916e-01   9.70369220e-01\n",
      "   2.74848251e-04   4.83148962e-01   3.70700116e-04   5.61547041e-01\n",
      "   9.39217210e-01   4.06724252e-02   9.62720811e-01   9.22621429e-01\n",
      "   3.10675919e-01   4.30563539e-02   9.98801470e-01   9.13284894e-04\n",
      "   9.88617480e-01   1.03592337e-03   5.83419669e-03   9.98757243e-01\n",
      "   8.79698768e-02   9.99295831e-01   8.77162993e-01   6.28347248e-02\n",
      "   7.57791044e-04   5.91635332e-03   6.76811906e-03   9.87049520e-01\n",
      "   9.91444290e-01   6.85404181e-01   9.99732077e-01   6.30315781e-01\n",
      "   4.15216852e-03   5.42958140e-01   5.90458289e-02   2.15750244e-02\n",
      "   1.50189002e-03   8.54929531e-05   9.84063372e-03   2.67019583e-04\n",
      "   9.63599861e-01   5.82534773e-03   2.51891781e-02   9.90217626e-01\n",
      "   2.00786759e-04   4.89572406e-01   1.36529980e-03   9.72128332e-01\n",
      "   8.85528326e-01   1.42911196e-01   9.98779833e-01   8.43882740e-01\n",
      "   5.71362913e-01   2.38194719e-01   9.45621669e-01   9.96818066e-01\n",
      "   9.43216145e-01   9.51934099e-01   4.46721184e-04   9.87142861e-01\n",
      "   9.91025329e-01   5.52886911e-03   6.66620374e-01   1.09587051e-01\n",
      "   5.22183955e-01   9.12653387e-01   4.78790730e-01   9.56498028e-04\n",
      "   1.40122488e-01   1.84835345e-02   7.89634466e-01   1.32450029e-01\n",
      "   2.40528211e-03   1.66952640e-01   4.64744270e-01   4.39182699e-01\n",
      "   9.90110934e-01   9.38181162e-01   5.73819550e-03   4.48669672e-01\n",
      "   1.67339214e-03   6.97830867e-04   9.54907119e-01   7.77483761e-01\n",
      "   9.99746740e-01   7.05068260e-02   9.41011786e-01   1.64310306e-01\n",
      "   9.95717585e-01   2.56434567e-02   6.34165168e-01   8.01529169e-01\n",
      "   9.81619596e-01   6.67105243e-02   8.64163798e-04   1.05980091e-01\n",
      "   8.82938802e-01   1.44082800e-01   9.90595698e-01   5.48312776e-02\n",
      "   8.33452225e-01   7.58337200e-01   2.98891783e-01   3.87741663e-02\n",
      "   9.48255956e-01   4.03614864e-02   9.98900771e-01   9.98917222e-01\n",
      "   9.50261891e-01   8.07422876e-01   4.94689913e-03   2.62945034e-02\n",
      "   7.78275967e-01   1.33041486e-01   9.86942768e-01   2.50489712e-01\n",
      "   2.61823714e-01   9.93936241e-01   5.71874857e-01   8.80980981e-04\n",
      "   1.76501321e-03   9.95723367e-01   3.21194530e-04   1.16351829e-03\n",
      "   9.46129262e-01   4.57699269e-01   9.71059024e-01   8.53786528e-01\n",
      "   6.83024943e-01   5.88979006e-01   1.85391854e-03   5.03579617e-01\n",
      "   9.70263839e-01   7.49438703e-02   9.71164227e-01   8.62147868e-01\n",
      "   5.45835137e-01   6.20057210e-02   2.07693476e-04   9.57978308e-01\n",
      "   3.71335889e-04   9.81144190e-01   9.97481525e-01   2.70989656e-01\n",
      "   1.38036003e-02   3.00222412e-02   8.05285096e-01   1.34987190e-01\n",
      "   2.88169645e-02   9.31631267e-01   4.20431979e-02   9.61705804e-01\n",
      "   6.15553617e-01   9.98739660e-01   1.98126328e-03   1.01401001e-01\n",
      "   9.86617088e-01   1.85821831e-01   6.57435775e-01   1.15634780e-02\n",
      "   2.03265790e-02   5.20125866e-01   6.95230842e-01   3.15212971e-03\n",
      "   5.32858493e-03   9.82619286e-01   8.05450916e-01   8.76644552e-01\n",
      "   2.98446357e-01   5.24290092e-02   8.92964423e-01   1.59419611e-01\n",
      "   9.40066457e-01   5.59976935e-01   1.20818033e-03   4.34843421e-01\n",
      "   9.04121459e-01   9.47746873e-01   9.97423530e-01   9.97519314e-01\n",
      "   8.76682997e-01   9.93823409e-01   9.10065830e-01   5.80354333e-02\n",
      "   9.93390918e-01   2.57181935e-02   2.28872169e-02   6.21708393e-01\n",
      "   1.03231065e-03   2.87088682e-03   1.04451803e-02   2.89910465e-01\n",
      "   9.95284975e-01   9.71790671e-01   9.84826207e-01   5.00416048e-02\n",
      "   7.60024428e-01   9.74615574e-01   7.89125085e-01   9.93160605e-01\n",
      "   9.89305615e-01   1.39799550e-01   1.60565171e-02   1.40506372e-01\n",
      "   4.69693419e-04   8.37640882e-01   2.42615461e-01   9.82257187e-01\n",
      "   3.34606506e-02   1.16519968e-03   9.98299062e-01   8.64779294e-01\n",
      "   9.56561029e-01   9.59686935e-01   8.93990815e-01   8.94816160e-01\n",
      "   1.48121312e-01   2.33950836e-04   1.61980301e-01   1.53984409e-03\n",
      "   1.00787684e-01   6.80926204e-01   9.99633789e-01   9.98868763e-01\n",
      "   9.99044716e-01   6.06176071e-03   8.53004217e-01   3.93607803e-02\n",
      "   9.55770671e-01   4.96891856e-01   9.98010576e-01   3.47449690e-01\n",
      "   9.67133701e-01   9.98728693e-01   1.70290992e-02   9.58658934e-01]\n",
      "[[107  27]\n",
      " [ 32 126]]\n",
      "             precision    recall  f1-score   support\n",
      "\n",
      "          0       0.77      0.80      0.78       134\n",
      "          1       0.82      0.80      0.81       158\n",
      "\n",
      "avg / total       0.80      0.80      0.80       292\n",
      "\n"
     ]
    }
   ],
   "source": [
    "prediction = best_clf.predict_proba(X_test)\n",
    "print prediction[:,1]\n",
    "print confusion_matrix(y_test,prediction[:,1]>.5)\n",
    "\n",
    "print classification_report(y_test,prediction[:,1]>.5)"
   ]
  },
  {
   "cell_type": "code",
   "execution_count": 21,
   "metadata": {
    "collapsed": false
   },
   "outputs": [
    {
     "data": {
      "text/plain": [
       "<matplotlib.axes._subplots.AxesSubplot at 0x7f5185a84a10>"
      ]
     },
     "execution_count": 21,
     "metadata": {},
     "output_type": "execute_result"
    },
    {
     "data": {
      "image/png": "[encoded data removed]",
      "text/plain": [
       "<matplotlib.figure.Figure at 0x7f5185a8c0d0>"
      ]
     },
     "metadata": {},
     "output_type": "display_data"
    }
   ],
   "source": [
    "features_weights = pd.DataFrame.from_dict(best_clf.booster().get_fscore(),orient=\"index\")\n",
    "features_weights.columns = ['fscore']\n",
    "\n",
    "features_weights.sort_values(by='fscore',ascending=False).head(40).plot(kind='bar',title='',color=airBColor,figsize=(12,12))"
   ]
  },
  {
   "cell_type": "markdown",
   "metadata": {},
   "source": [
    "### Plot ROC Curve"
   ]
  },
  {
   "cell_type": "code",
   "execution_count": 49,
   "metadata": {
    "collapsed": true
   },
   "outputs": [],
   "source": [
    "def make_roc(name, clf, ytest, xtest, ax=None, labe=10, proba=True, skip=1):\n",
    "    initial=False\n",
    "    if not ax:\n",
    "        ax=plt.gca()\n",
    "        initial=True\n",
    "    if proba:\n",
    "        fpr, tpr, thresholds=roc_curve(ytest, clf.predict_proba(xtest)[:,1])\n",
    "    else:\n",
    "        fpr, tpr, thresholds=roc_curve(ytest, clf.decision_function(xtest))\n",
    "    roc_auc = auc(fpr, tpr)\n",
    "    if skip:\n",
    "        l=fpr.shape[0]\n",
    "        ax.plot(fpr[0:l:skip], tpr[0:l:skip], '.-', alpha=0.3, label='ROC curve for %s (area = %0.2f)' % (name, roc_auc))\n",
    "    else:\n",
    "        ax.plot(fpr, tpr, '.-', alpha=0.3, label='ROC curve for %s (area = %0.2f)' % (name, roc_auc))\n",
    "    label_kwargs = {}\n",
    "    label_kwargs['bbox'] = dict(\n",
    "        boxstyle='round,pad=0.3', alpha=0.2,\n",
    "    )\n",
    "    for k in xrange(0, fpr.shape[0],labe):\n",
    "        #from https://gist.github.com/podshumok/c1d1c9394335d86255b8\n",
    "        threshold = str(np.round(thresholds[k], 2))\n",
    "        print threshold\n",
    "        ax.annotate(threshold, (fpr[k], tpr[k]), **label_kwargs)\n",
    "    if initial:\n",
    "        ax.plot([0, 1], [0, 1], 'k--')\n",
    "        ax.set_xlim([0.0, 1.0])\n",
    "        ax.set_ylim([0.0, 1.05])\n",
    "        ax.set_xlabel('False Positive Rate')\n",
    "        ax.set_ylabel('True Positive Rate')\n",
    "        ax.set_title('ROC')\n",
    "    ax.legend(loc=\"lower right\")\n",
    "    return ax"
   ]
  },
  {
   "cell_type": "code",
   "execution_count": 50,
   "metadata": {
    "collapsed": false
   },
   "outputs": [
    {
     "name": "stdout",
     "output_type": "stream",
     "text": [
      "1.0\n",
      "0.98\n",
      "0.83\n",
      "0.72\n",
      "0.64\n",
      "0.47\n",
      "0.28\n",
      "0.09\n",
      "0.03\n",
      "0.0\n"
     ]
    },
    {
     "data": {
      "text/plain": [
       "<matplotlib.axes._subplots.AxesSubplot at 0x7f517759bed0>"
      ]
     },
     "execution_count": 50,
     "metadata": {},
     "output_type": "execute_result"
    },
    {
     "data": {
      "image/png": "[encoded data removed]",
      "text/plain": [
       "<matplotlib.figure.Figure at 0x7f51775adfd0>"
      ]
     },
     "metadata": {},
     "output_type": "display_data"
    }
   ],
   "source": [
    "make_roc('test',best_clf,y_test,X_test)"
   ]
  }
 ],
 "metadata": {
  "anaconda-cloud": {},
  "kernelspec": {
   "display_name": "Python [conda root]",
   "language": "python",
   "name": "conda-root-py"
  },
  "language_info": {
   "codemirror_mode": {
    "name": "ipython",
    "version": 2
   },
   "file_extension": ".py",
   "mimetype": "text/x-python",
   "name": "python",
   "nbconvert_exporter": "python",
   "pygments_lexer": "ipython2",
   "version": "2.7.12"
  }
 },
 "nbformat": 4,
 "nbformat_minor": 1
}
