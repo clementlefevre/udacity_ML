{
 "cells": [
  {
   "cell_type": "code",
   "execution_count": 1,
   "metadata": {
    "collapsed": true
   },
   "outputs": [],
   "source": [
    "%matplotlib inline \n",
    "import numpy as np\n",
    "import pandas as pd\n",
    "\n",
    "import seaborn as sns\n",
    "\n",
    "from sklearn.ensemble import RandomForestRegressor\n",
    "from sklearn.linear_model import LinearRegression\n",
    "from sklearn.metrics import r2_score, mean_squared_error\n",
    "from sklearn.model_selection import train_test_split\n",
    "\n",
    "from utils import rstr"
   ]
  },
  {
   "cell_type": "code",
   "execution_count": 2,
   "metadata": {
    "collapsed": false
   },
   "outputs": [],
   "source": [
    "df =pd.read_csv('data/reviews_metadata.csv',parse_dates=['date'])\n",
    "df_listing = pd.read_csv('data/listings.csv')"
   ]
  },
  {
   "cell_type": "code",
   "execution_count": 3,
   "metadata": {
    "collapsed": false
   },
   "outputs": [
    {
     "data": {
      "text/plain": [
       "Timestamp('2017-05-08 00:00:00')"
      ]
     },
     "execution_count": 3,
     "metadata": {},
     "output_type": "execute_result"
    }
   ],
   "source": [
    "df.date.max()"
   ]
  },
  {
   "cell_type": "code",
   "execution_count": 4,
   "metadata": {
    "collapsed": false
   },
   "outputs": [
    {
     "data": {
      "text/html": [
       "<div>\n",
       "<style>\n",
       "    .dataframe thead tr:only-child th {\n",
       "        text-align: right;\n",
       "    }\n",
       "\n",
       "    .dataframe thead th {\n",
       "        text-align: left;\n",
       "    }\n",
       "\n",
       "    .dataframe tbody tr th {\n",
       "        vertical-align: top;\n",
       "    }\n",
       "</style>\n",
       "<table border=\"1\" class=\"dataframe\">\n",
       "  <thead>\n",
       "    <tr style=\"text-align: right;\">\n",
       "      <th></th>\n",
       "      <th>listing_id</th>\n",
       "      <th>date</th>\n",
       "    </tr>\n",
       "  </thead>\n",
       "  <tbody>\n",
       "    <tr>\n",
       "      <th>0</th>\n",
       "      <td>7878281</td>\n",
       "      <td>2015-09-12</td>\n",
       "    </tr>\n",
       "    <tr>\n",
       "      <th>1</th>\n",
       "      <td>7878281</td>\n",
       "      <td>2015-10-09</td>\n",
       "    </tr>\n",
       "    <tr>\n",
       "      <th>2</th>\n",
       "      <td>7878281</td>\n",
       "      <td>2015-11-15</td>\n",
       "    </tr>\n",
       "    <tr>\n",
       "      <th>3</th>\n",
       "      <td>7878281</td>\n",
       "      <td>2016-01-02</td>\n",
       "    </tr>\n",
       "    <tr>\n",
       "      <th>4</th>\n",
       "      <td>7878281</td>\n",
       "      <td>2016-04-28</td>\n",
       "    </tr>\n",
       "  </tbody>\n",
       "</table>\n",
       "</div>"
      ],
      "text/plain": [
       "   listing_id       date\n",
       "0     7878281 2015-09-12\n",
       "1     7878281 2015-10-09\n",
       "2     7878281 2015-11-15\n",
       "3     7878281 2016-01-02\n",
       "4     7878281 2016-04-28"
      ]
     },
     "execution_count": 4,
     "metadata": {},
     "output_type": "execute_result"
    }
   ],
   "source": [
    "df.head()"
   ]
  },
  {
   "cell_type": "code",
   "execution_count": 5,
   "metadata": {
    "collapsed": false
   },
   "outputs": [
    {
     "data": {
      "text/plain": [
       "datetime.date(2017, 5, 8)"
      ]
     },
     "execution_count": 5,
     "metadata": {},
     "output_type": "execute_result"
    }
   ],
   "source": [
    "last_scraped=pd.to_datetime(df_listing.last_scraped).max().date()\n",
    "last_scraped"
   ]
  },
  {
   "cell_type": "code",
   "execution_count": 6,
   "metadata": {
    "collapsed": false
   },
   "outputs": [],
   "source": [
    "df['from_scraping_date']=(last_scraped-df.date).dt.days"
   ]
  },
  {
   "cell_type": "code",
   "execution_count": 7,
   "metadata": {
    "collapsed": false
   },
   "outputs": [],
   "source": [
    "bins = [0,7,14,20,30,40,50,60,70,90,100,2000]\n",
    "group_names = [\"reviewed_more_than_\"+str(i)+\"_ago\" for i in bins[:-1]]"
   ]
  },
  {
   "cell_type": "code",
   "execution_count": 8,
   "metadata": {
    "collapsed": false
   },
   "outputs": [],
   "source": [
    "categories = pd.cut(df['from_scraping_date'], bins,labels=group_names)\n",
    "df['review_age']=categories"
   ]
  },
  {
   "cell_type": "code",
   "execution_count": 9,
   "metadata": {
    "collapsed": false
   },
   "outputs": [
    {
     "data": {
      "text/plain": [
       "0    604\n",
       "1    577\n",
       "2    540\n",
       "3    492\n",
       "4    375\n",
       "Name: from_scraping_date, dtype: int64"
      ]
     },
     "execution_count": 9,
     "metadata": {},
     "output_type": "execute_result"
    }
   ],
   "source": [
    "df.from_scraping_date.head()"
   ]
  },
  {
   "cell_type": "code",
   "execution_count": 10,
   "metadata": {
    "collapsed": false
   },
   "outputs": [],
   "source": [
    "df_group_review_age = df.groupby(['listing_id','review_age'])['date'].count()\n",
    "df_group_review_age= df_group_review_age.unstack('review_age').fillna(0)"
   ]
  },
  {
   "cell_type": "code",
   "execution_count": 11,
   "metadata": {
    "collapsed": false
   },
   "outputs": [],
   "source": [
    "df_group_review_age.to_csv('data/reviews_frequency.csv')"
   ]
  },
  {
   "cell_type": "code",
   "execution_count": 12,
   "metadata": {
    "collapsed": false
   },
   "outputs": [],
   "source": [
    "df_test=pd.read_csv('data/reviews_frequency.csv')"
   ]
  },
  {
   "cell_type": "code",
   "execution_count": 13,
   "metadata": {
    "collapsed": true
   },
   "outputs": [],
   "source": [
    "df_listing = df_listing[(df_listing.reviews_per_month>0)&(df_listing.availability_30>0)]"
   ]
  },
  {
   "cell_type": "code",
   "execution_count": 14,
   "metadata": {
    "collapsed": false
   },
   "outputs": [],
   "source": [
    "df_test = pd.merge(df_listing[['id','availability_30']],df_test,left_on='id',right_on='listing_id')"
   ]
  },
  {
   "cell_type": "code",
   "execution_count": 15,
   "metadata": {
    "collapsed": false
   },
   "outputs": [],
   "source": [
    "df_test.drop(['id','listing_id'],axis=1,inplace=True)"
   ]
  },
  {
   "cell_type": "code",
   "execution_count": 19,
   "metadata": {
    "collapsed": false
   },
   "outputs": [
    {
     "data": {
      "text/html": [
       "<div>\n",
       "<style>\n",
       "    .dataframe thead tr:only-child th {\n",
       "        text-align: right;\n",
       "    }\n",
       "\n",
       "    .dataframe thead th {\n",
       "        text-align: left;\n",
       "    }\n",
       "\n",
       "    .dataframe tbody tr th {\n",
       "        vertical-align: top;\n",
       "    }\n",
       "</style>\n",
       "<table border=\"1\" class=\"dataframe\">\n",
       "  <thead>\n",
       "    <tr style=\"text-align: right;\">\n",
       "      <th></th>\n",
       "      <th>availability_30</th>\n",
       "    </tr>\n",
       "  </thead>\n",
       "  <tbody>\n",
       "    <tr>\n",
       "      <th>reviewed_more_than_40_ago</th>\n",
       "      <td>-0.199318</td>\n",
       "    </tr>\n",
       "    <tr>\n",
       "      <th>reviewed_more_than_30_ago</th>\n",
       "      <td>-0.193696</td>\n",
       "    </tr>\n",
       "    <tr>\n",
       "      <th>reviewed_more_than_20_ago</th>\n",
       "      <td>-0.187662</td>\n",
       "    </tr>\n",
       "    <tr>\n",
       "      <th>reviewed_more_than_60_ago</th>\n",
       "      <td>-0.177572</td>\n",
       "    </tr>\n",
       "    <tr>\n",
       "      <th>reviewed_more_than_14_ago</th>\n",
       "      <td>-0.168346</td>\n",
       "    </tr>\n",
       "    <tr>\n",
       "      <th>reviewed_more_than_70_ago</th>\n",
       "      <td>-0.164634</td>\n",
       "    </tr>\n",
       "    <tr>\n",
       "      <th>reviewed_more_than_90_ago</th>\n",
       "      <td>-0.163673</td>\n",
       "    </tr>\n",
       "    <tr>\n",
       "      <th>reviewed_more_than_100_ago</th>\n",
       "      <td>-0.142606</td>\n",
       "    </tr>\n",
       "    <tr>\n",
       "      <th>reviewed_more_than_50_ago</th>\n",
       "      <td>-0.138040</td>\n",
       "    </tr>\n",
       "    <tr>\n",
       "      <th>reviewed_more_than_7_ago</th>\n",
       "      <td>-0.116951</td>\n",
       "    </tr>\n",
       "    <tr>\n",
       "      <th>reviewed_more_than_0_ago</th>\n",
       "      <td>-0.082790</td>\n",
       "    </tr>\n",
       "    <tr>\n",
       "      <th>availability_30</th>\n",
       "      <td>1.000000</td>\n",
       "    </tr>\n",
       "  </tbody>\n",
       "</table>\n",
       "</div>"
      ],
      "text/plain": [
       "                            availability_30\n",
       "reviewed_more_than_40_ago         -0.199318\n",
       "reviewed_more_than_30_ago         -0.193696\n",
       "reviewed_more_than_20_ago         -0.187662\n",
       "reviewed_more_than_60_ago         -0.177572\n",
       "reviewed_more_than_14_ago         -0.168346\n",
       "reviewed_more_than_70_ago         -0.164634\n",
       "reviewed_more_than_90_ago         -0.163673\n",
       "reviewed_more_than_100_ago        -0.142606\n",
       "reviewed_more_than_50_ago         -0.138040\n",
       "reviewed_more_than_7_ago          -0.116951\n",
       "reviewed_more_than_0_ago          -0.082790\n",
       "availability_30                    1.000000"
      ]
     },
     "execution_count": 19,
     "metadata": {},
     "output_type": "execute_result"
    }
   ],
   "source": [
    "df_test.corr()[['availability_30']].sort_values(by='availability_30',ascending=True)"
   ]
  }
 ],
 "metadata": {
  "anaconda-cloud": {},
  "kernelspec": {
   "display_name": "Python [conda root]",
   "language": "python",
   "name": "conda-root-py"
  },
  "language_info": {
   "codemirror_mode": {
    "name": "ipython",
    "version": 2
   },
   "file_extension": ".py",
   "mimetype": "text/x-python",
   "name": "python",
   "nbconvert_exporter": "python",
   "pygments_lexer": "ipython2",
   "version": "2.7.12"
  }
 },
 "nbformat": 4,
 "nbformat_minor": 2
}
