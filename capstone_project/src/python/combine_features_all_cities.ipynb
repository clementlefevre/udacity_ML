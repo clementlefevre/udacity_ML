{
 "cells": [
  {
   "cell_type": "code",
   "execution_count": 1,
   "metadata": {
    "collapsed": true
   },
   "outputs": [],
   "source": [
    "%matplotlib inline\n",
    "import numpy as np\n",
    "import pandas as pd"
   ]
  },
  {
   "cell_type": "markdown",
   "metadata": {},
   "source": [
    "# listings_cleansed "
   ]
  },
  {
   "cell_type": "markdown",
   "metadata": {},
   "source": [
    "### Fill missing values in listing_cleansed "
   ]
  },
  {
   "cell_type": "code",
   "execution_count": 2,
   "metadata": {
    "collapsed": false
   },
   "outputs": [
    {
     "name": "stderr",
     "output_type": "stream",
     "text": [
      "/home/ramon/anaconda2/lib/python2.7/site-packages/IPython/core/interactiveshell.py:2717: DtypeWarning: Columns (120) have mixed types. Specify dtype option on import or set low_memory=False.\n",
      "  interactivity=interactivity, compiler=compiler, result=result)\n"
     ]
    }
   ],
   "source": [
    "df_listings_cleansed = pd.read_csv('../../data/all_cities/listings_cleansed_all.csv',index_col=False)"
   ]
  },
  {
   "cell_type": "markdown",
   "metadata": {},
   "source": [
    "#### Drop useless columns"
   ]
  },
  {
   "cell_type": "code",
   "execution_count": 3,
   "metadata": {
    "collapsed": false
   },
   "outputs": [],
   "source": [
    "cols_drop = ['host_name','host_listings_count','room_type','cancellation_policy','last_scraped' ]\n",
    "df_listings_cleansed.drop(cols_drop,axis=1,inplace=True)"
   ]
  },
  {
   "cell_type": "markdown",
   "metadata": {},
   "source": [
    "#### Filter on active listings"
   ]
  },
  {
   "cell_type": "code",
   "execution_count": 4,
   "metadata": {
    "collapsed": true
   },
   "outputs": [],
   "source": [
    "df_listings_cleansed = df_listings_cleansed[df_listings_cleansed.availability_90 > 0]\n",
    "df_listings_cleansed = df_listings_cleansed[df_listings_cleansed.last_review < 60]"
   ]
  },
  {
   "cell_type": "markdown",
   "metadata": {},
   "source": [
    "#### Add listings count per host and multihost column"
   ]
  },
  {
   "cell_type": "code",
   "execution_count": 5,
   "metadata": {
    "collapsed": false
   },
   "outputs": [],
   "source": [
    "df_listings_cleansed['listings_per_host'] = df_listings_cleansed.groupby(\n",
    "        [\"host_id\"])[\"listing_id\"].transform(\"count\")\n",
    "\n",
    "df_listings_cleansed['multihost'] = (df_listings_cleansed.listings_per_host > 1) * 1"
   ]
  },
  {
   "cell_type": "code",
   "execution_count": 6,
   "metadata": {
    "collapsed": false
   },
   "outputs": [
    {
     "data": {
      "text/plain": [
       "<matplotlib.axes._subplots.AxesSubplot at 0x7ff4fd1cfc10>"
      ]
     },
     "execution_count": 6,
     "metadata": {},
     "output_type": "execute_result"
    },
    {
     "data": {
      "image/png": "[encoded data removed]",
      "text/plain": [
       "<matplotlib.figure.Figure at 0x7ff4fc29b790>"
      ]
     },
     "metadata": {},
     "output_type": "display_data"
    }
   ],
   "source": [
    "df_listings_cleansed['multihost'].hist()"
   ]
  },
  {
   "cell_type": "markdown",
   "metadata": {},
   "source": [
    "#### Fill missing amenities, neighborhood, etc with zero"
   ]
  },
  {
   "cell_type": "code",
   "execution_count": 7,
   "metadata": {
    "collapsed": false
   },
   "outputs": [],
   "source": [
    "fill_na_zero_features = ['amenities','neighbourhood_group_cleansed','host_verification','property_type','bed_type_airbed']\n",
    "\n",
    "cols_fill_na_zero = [c for c in df_listings_cleansed.columns if any(x in c for x in fill_na_zero_features)]\n",
    "df_listings_cleansed[cols_fill_na_zero] = df_listings_cleansed[cols_fill_na_zero].fillna(0)"
   ]
  },
  {
   "cell_type": "markdown",
   "metadata": {},
   "source": [
    "#### List columns with missing values "
   ]
  },
  {
   "cell_type": "code",
   "execution_count": 8,
   "metadata": {
    "collapsed": false
   },
   "outputs": [
    {
     "data": {
      "text/html": [
       "<div>\n",
       "<style>\n",
       "    .dataframe thead tr:only-child th {\n",
       "        text-align: right;\n",
       "    }\n",
       "\n",
       "    .dataframe thead th {\n",
       "        text-align: left;\n",
       "    }\n",
       "\n",
       "    .dataframe tbody tr th {\n",
       "        vertical-align: top;\n",
       "    }\n",
       "</style>\n",
       "<table border=\"1\" class=\"dataframe\">\n",
       "  <thead>\n",
       "    <tr style=\"text-align: right;\">\n",
       "      <th></th>\n",
       "      <th>missing_percent</th>\n",
       "    </tr>\n",
       "  </thead>\n",
       "  <tbody>\n",
       "    <tr>\n",
       "      <th>bathrooms</th>\n",
       "      <td>0.145903</td>\n",
       "    </tr>\n",
       "    <tr>\n",
       "      <th>bedrooms</th>\n",
       "      <td>0.147661</td>\n",
       "    </tr>\n",
       "    <tr>\n",
       "      <th>beds</th>\n",
       "      <td>0.026368</td>\n",
       "    </tr>\n",
       "    <tr>\n",
       "      <th>host_response_rate</th>\n",
       "      <td>0.128325</td>\n",
       "    </tr>\n",
       "    <tr>\n",
       "      <th>host_response_time</th>\n",
       "      <td>0.128325</td>\n",
       "    </tr>\n",
       "    <tr>\n",
       "      <th>host_since</th>\n",
       "      <td>0.001758</td>\n",
       "    </tr>\n",
       "    <tr>\n",
       "      <th>last_update_days</th>\n",
       "      <td>21.544465</td>\n",
       "    </tr>\n",
       "    <tr>\n",
       "      <th>review_scores_accuracy</th>\n",
       "      <td>0.325206</td>\n",
       "    </tr>\n",
       "    <tr>\n",
       "      <th>review_scores_checkin</th>\n",
       "      <td>0.337511</td>\n",
       "    </tr>\n",
       "    <tr>\n",
       "      <th>review_scores_cleanliness</th>\n",
       "      <td>0.284775</td>\n",
       "    </tr>\n",
       "    <tr>\n",
       "      <th>review_scores_communication</th>\n",
       "      <td>0.326964</td>\n",
       "    </tr>\n",
       "    <tr>\n",
       "      <th>review_scores_location</th>\n",
       "      <td>0.339269</td>\n",
       "    </tr>\n",
       "    <tr>\n",
       "      <th>review_scores_rating</th>\n",
       "      <td>0.261923</td>\n",
       "    </tr>\n",
       "    <tr>\n",
       "      <th>review_scores_value</th>\n",
       "      <td>0.365637</td>\n",
       "    </tr>\n",
       "  </tbody>\n",
       "</table>\n",
       "</div>"
      ],
      "text/plain": [
       "                             missing_percent\n",
       "bathrooms                           0.145903\n",
       "bedrooms                            0.147661\n",
       "beds                                0.026368\n",
       "host_response_rate                  0.128325\n",
       "host_response_time                  0.128325\n",
       "host_since                          0.001758\n",
       "last_update_days                   21.544465\n",
       "review_scores_accuracy              0.325206\n",
       "review_scores_checkin               0.337511\n",
       "review_scores_cleanliness           0.284775\n",
       "review_scores_communication         0.326964\n",
       "review_scores_location              0.339269\n",
       "review_scores_rating                0.261923\n",
       "review_scores_value                 0.365637"
      ]
     },
     "execution_count": 8,
     "metadata": {},
     "output_type": "execute_result"
    }
   ],
   "source": [
    "df_missing_listings = pd.DataFrame(df_listings_cleansed.isnull().sum()/len(df_listings_cleansed)*100).sort_values(by=0,ascending=False)\n",
    "\n",
    "df_missing_listings.columns = ['missing_percent']\n",
    "df_missing_listings = df_missing_listings[df_missing_listings.missing_percent>0]\n",
    "df_missing_listings = df_missing_listings.sort_index()\n",
    "cols_fill_missing_mean= df_missing_listings.index.tolist()\n",
    "df_missing_listings"
   ]
  },
  {
   "cell_type": "markdown",
   "metadata": {},
   "source": [
    "#### Fill missing values with mean of city"
   ]
  },
  {
   "cell_type": "code",
   "execution_count": 9,
   "metadata": {
    "collapsed": false
   },
   "outputs": [
    {
     "data": {
      "text/html": [
       "<div>\n",
       "<style>\n",
       "    .dataframe thead tr:only-child th {\n",
       "        text-align: right;\n",
       "    }\n",
       "\n",
       "    .dataframe thead th {\n",
       "        text-align: left;\n",
       "    }\n",
       "\n",
       "    .dataframe tbody tr th {\n",
       "        vertical-align: top;\n",
       "    }\n",
       "</style>\n",
       "<table border=\"1\" class=\"dataframe\">\n",
       "  <thead>\n",
       "    <tr style=\"text-align: right;\">\n",
       "      <th></th>\n",
       "      <th>number_of_reviews</th>\n",
       "      <th>last_review</th>\n",
       "    </tr>\n",
       "  </thead>\n",
       "  <tbody>\n",
       "    <tr>\n",
       "      <th>7</th>\n",
       "      <td>1</td>\n",
       "      <td>1.0</td>\n",
       "    </tr>\n",
       "    <tr>\n",
       "      <th>19</th>\n",
       "      <td>31</td>\n",
       "      <td>11.0</td>\n",
       "    </tr>\n",
       "    <tr>\n",
       "      <th>38</th>\n",
       "      <td>1</td>\n",
       "      <td>5.0</td>\n",
       "    </tr>\n",
       "    <tr>\n",
       "      <th>39</th>\n",
       "      <td>13</td>\n",
       "      <td>37.0</td>\n",
       "    </tr>\n",
       "    <tr>\n",
       "      <th>41</th>\n",
       "      <td>1</td>\n",
       "      <td>15.0</td>\n",
       "    </tr>\n",
       "  </tbody>\n",
       "</table>\n",
       "</div>"
      ],
      "text/plain": [
       "    number_of_reviews  last_review\n",
       "7                   1          1.0\n",
       "19                 31         11.0\n",
       "38                  1          5.0\n",
       "39                 13         37.0\n",
       "41                  1         15.0"
      ]
     },
     "execution_count": 9,
     "metadata": {},
     "output_type": "execute_result"
    }
   ],
   "source": [
    "df_listings_cleansed[df_listings_cleansed.last_update_days.isnull()][['number_of_reviews','last_review']].head()"
   ]
  },
  {
   "cell_type": "code",
   "execution_count": 10,
   "metadata": {
    "collapsed": false
   },
   "outputs": [
    {
     "name": "stdout",
     "output_type": "stream",
     "text": [
      "1    21.0\n",
      "4     7.0\n",
      "7     NaN\n",
      "Name: last_update_days, dtype: float64\n",
      "87427    NaN\n",
      "87428    7.0\n",
      "87429    0.0\n",
      "Name: last_update_days, dtype: float64\n"
     ]
    }
   ],
   "source": [
    "print df_listings_cleansed[df_listings_cleansed.city=='amsterdam'].last_update_days.head(3)\n",
    "print df_listings_cleansed[df_listings_cleansed.city=='roma'].last_update_days.head(3)"
   ]
  },
  {
   "cell_type": "code",
   "execution_count": 11,
   "metadata": {
    "collapsed": false
   },
   "outputs": [],
   "source": [
    "df_listings_cleansed[cols_fill_missing_mean] = df_listings_cleansed.groupby(\"city\")[cols_fill_missing_mean].transform(lambda x: x.fillna(x.mean()))"
   ]
  },
  {
   "cell_type": "code",
   "execution_count": 12,
   "metadata": {
    "collapsed": false
   },
   "outputs": [
    {
     "name": "stdout",
     "output_type": "stream",
     "text": [
      "1    21.000000\n",
      "4     7.000000\n",
      "7    10.509564\n",
      "Name: last_update_days, dtype: float64\n",
      "87427    9.072619\n",
      "87428    7.000000\n",
      "87429    0.000000\n",
      "Name: last_update_days, dtype: float64\n"
     ]
    }
   ],
   "source": [
    "print df_listings_cleansed[df_listings_cleansed.city=='amsterdam'].last_update_days.head(3)\n",
    "print df_listings_cleansed[df_listings_cleansed.city=='roma'].last_update_days.head(3)"
   ]
  },
  {
   "cell_type": "code",
   "execution_count": 13,
   "metadata": {
    "collapsed": false
   },
   "outputs": [
    {
     "data": {
      "text/html": [
       "<div>\n",
       "<style>\n",
       "    .dataframe thead tr:only-child th {\n",
       "        text-align: right;\n",
       "    }\n",
       "\n",
       "    .dataframe thead th {\n",
       "        text-align: left;\n",
       "    }\n",
       "\n",
       "    .dataframe tbody tr th {\n",
       "        vertical-align: top;\n",
       "    }\n",
       "</style>\n",
       "<table border=\"1\" class=\"dataframe\">\n",
       "  <thead>\n",
       "    <tr style=\"text-align: right;\">\n",
       "      <th></th>\n",
       "      <th>missing_percent</th>\n",
       "    </tr>\n",
       "  </thead>\n",
       "  <tbody>\n",
       "  </tbody>\n",
       "</table>\n",
       "</div>"
      ],
      "text/plain": [
       "Empty DataFrame\n",
       "Columns: [missing_percent]\n",
       "Index: []"
      ]
     },
     "execution_count": 13,
     "metadata": {},
     "output_type": "execute_result"
    }
   ],
   "source": [
    "df_missing_listings = pd.DataFrame(df_listings_cleansed.isnull().sum()/len(df_listings_cleansed)*100).sort_values(by=0,ascending=False)\n",
    "\n",
    "df_missing_listings.columns = ['missing_percent']\n",
    "df_missing_listings = df_missing_listings[df_missing_listings.missing_percent>0]\n",
    "df_missing_listings = df_missing_listings.sort_index()\n",
    "cols_fill_missing_mean= df_missing_listings.index.tolist()\n",
    "df_missing_listings"
   ]
  },
  {
   "cell_type": "markdown",
   "metadata": {},
   "source": [
    "### Create city categories "
   ]
  },
  {
   "cell_type": "code",
   "execution_count": 14,
   "metadata": {
    "collapsed": false
   },
   "outputs": [
    {
     "data": {
      "text/html": [
       "<div>\n",
       "<style>\n",
       "    .dataframe thead tr:only-child th {\n",
       "        text-align: right;\n",
       "    }\n",
       "\n",
       "    .dataframe thead th {\n",
       "        text-align: left;\n",
       "    }\n",
       "\n",
       "    .dataframe tbody tr th {\n",
       "        vertical-align: top;\n",
       "    }\n",
       "</style>\n",
       "<table border=\"1\" class=\"dataframe\">\n",
       "  <thead>\n",
       "    <tr style=\"text-align: right;\">\n",
       "      <th></th>\n",
       "      <th>amsterdam</th>\n",
       "      <th>antwerp</th>\n",
       "      <th>athens</th>\n",
       "      <th>barcelona</th>\n",
       "      <th>berlin</th>\n",
       "      <th>brussels</th>\n",
       "      <th>dublin</th>\n",
       "      <th>geneva</th>\n",
       "      <th>london</th>\n",
       "      <th>madrid</th>\n",
       "      <th>paris</th>\n",
       "      <th>roma</th>\n",
       "      <th>venice</th>\n",
       "      <th>vienna</th>\n",
       "    </tr>\n",
       "  </thead>\n",
       "  <tbody>\n",
       "    <tr>\n",
       "      <th>1</th>\n",
       "      <td>1</td>\n",
       "      <td>0</td>\n",
       "      <td>0</td>\n",
       "      <td>0</td>\n",
       "      <td>0</td>\n",
       "      <td>0</td>\n",
       "      <td>0</td>\n",
       "      <td>0</td>\n",
       "      <td>0</td>\n",
       "      <td>0</td>\n",
       "      <td>0</td>\n",
       "      <td>0</td>\n",
       "      <td>0</td>\n",
       "      <td>0</td>\n",
       "    </tr>\n",
       "  </tbody>\n",
       "</table>\n",
       "</div>"
      ],
      "text/plain": [
       "   amsterdam  antwerp  athens  barcelona  berlin  brussels  dublin  geneva  \\\n",
       "1          1        0       0          0       0         0       0       0   \n",
       "\n",
       "   london  madrid  paris  roma  venice  vienna  \n",
       "1       0       0      0     0       0       0  "
      ]
     },
     "execution_count": 14,
     "metadata": {},
     "output_type": "execute_result"
    }
   ],
   "source": [
    "df_city_categorie = pd.get_dummies(df_listings_cleansed.city)\n",
    "df_listings_cleansed.drop('city',axis=1,inplace=True)\n",
    "df_city_categorie.head(1)"
   ]
  },
  {
   "cell_type": "code",
   "execution_count": 15,
   "metadata": {
    "collapsed": true
   },
   "outputs": [],
   "source": [
    "df_listings_cleansed = pd.concat([df_listings_cleansed,df_city_categorie],axis=1)"
   ]
  },
  {
   "cell_type": "code",
   "execution_count": 16,
   "metadata": {
    "collapsed": false
   },
   "outputs": [
    {
     "data": {
      "text/plain": [
       "set()"
      ]
     },
     "execution_count": 16,
     "metadata": {},
     "output_type": "execute_result"
    }
   ],
   "source": [
    "cols_num = df_listings_cleansed.select_dtypes(['number']).columns.tolist()\n",
    "cols_not_num = set(df_listings_cleansed.columns.tolist())-set(cols_num)\n",
    "cols_not_num"
   ]
  },
  {
   "cell_type": "code",
   "execution_count": 17,
   "metadata": {
    "collapsed": false
   },
   "outputs": [],
   "source": [
    "df_listings_cleansed.to_csv('../../data/all_cities/listing_cleansed_fillna.csv',index=False)"
   ]
  },
  {
   "cell_type": "markdown",
   "metadata": {
    "collapsed": true
   },
   "source": [
    "# Add Reviews frequency"
   ]
  },
  {
   "cell_type": "code",
   "execution_count": 18,
   "metadata": {
    "collapsed": false
   },
   "outputs": [],
   "source": [
    "df_listings_cleansed= pd.read_csv('../../data/all_cities/listing_cleansed_fillna.csv',index_col=False)\n",
    "df_reviews_frequency_all = pd.read_csv('../../data/all_cities/reviews_frequency_all.csv')\n",
    "df_reviews_frequency_all = df_reviews_frequency_all.fillna(0)\n",
    "df_reviews_frequency_all.drop('city',axis=1,inplace=True)\n",
    "df_listings_cleansed = pd.merge(df_listings_cleansed,df_reviews_frequency_all,on='listing_id')"
   ]
  },
  {
   "cell_type": "markdown",
   "metadata": {},
   "source": [
    "# Add reviews_language ratio"
   ]
  },
  {
   "cell_type": "code",
   "execution_count": 19,
   "metadata": {
    "collapsed": false
   },
   "outputs": [
    {
     "name": "stderr",
     "output_type": "stream",
     "text": [
      "/home/ramon/anaconda2/lib/python2.7/site-packages/numpy/lib/arraysetops.py:395: FutureWarning: elementwise comparison failed; returning scalar instead, but in the future will perform elementwise comparison\n",
      "  mask |= (ar1 == a)\n"
     ]
    },
    {
     "name": "stdout",
     "output_type": "stream",
     "text": [
      "(2416585, 4)\n",
      "(2031532, 4)\n"
     ]
    }
   ],
   "source": [
    "df_review_with_lang = pd.read_csv('../../data/all_cities/reviews_language_all.csv',index_col=0)\n",
    "print df_review_with_lang.shape\n",
    "\n",
    "df_review_with_lang = pd.merge(df_listings_cleansed[['listing_id']],df_review_with_lang,on='listing_id')\n",
    "print df_review_with_lang.shape\n",
    "\n",
    "groupy_lang_review = df_review_with_lang.groupby(['listing_id','language'])[['id']].count().unstack().fillna(0)\n",
    "groupy_lang_review.columns = groupy_lang_review.columns.droplevel()\n",
    "groupy_lang_review = groupy_lang_review.reset_index()\n",
    "groupy_lang_review=groupy_lang_review.astype(int)\n",
    "\n",
    "groupy_lang_review.iloc[:, 1:] = groupy_lang_review.iloc[:, 1:].apply(lambda x: x*100.0 / x.sum(),axis=1)\n",
    "\n",
    "\n",
    "cols_ratio_lang = ['review_ratio_'+c for c in groupy_lang_review.columns.tolist()[1:]]\n",
    "groupy_lang_review.columns = ['listing_id']+cols_ratio_lang"
   ]
  },
  {
   "cell_type": "code",
   "execution_count": 20,
   "metadata": {
    "collapsed": false
   },
   "outputs": [
    {
     "name": "stdout",
     "output_type": "stream",
     "text": [
      "(56882, 46)\n"
     ]
    }
   ],
   "source": [
    "groupy_lang_review =groupy_lang_review.astype(int)\n",
    "print groupy_lang_review.shape"
   ]
  },
  {
   "cell_type": "code",
   "execution_count": 21,
   "metadata": {
    "collapsed": true
   },
   "outputs": [],
   "source": [
    "df_listings_cleansed = pd.merge(df_listings_cleansed,groupy_lang_review,on='listing_id')"
   ]
  },
  {
   "cell_type": "code",
   "execution_count": 22,
   "metadata": {
    "collapsed": false
   },
   "outputs": [
    {
     "data": {
      "text/plain": [
       "(56882, 323)"
      ]
     },
     "execution_count": 22,
     "metadata": {},
     "output_type": "execute_result"
    }
   ],
   "source": [
    "df_listings_cleansed.shape"
   ]
  },
  {
   "cell_type": "markdown",
   "metadata": {},
   "source": [
    "# Add reviews PCA"
   ]
  },
  {
   "cell_type": "code",
   "execution_count": 23,
   "metadata": {
    "collapsed": false
   },
   "outputs": [
    {
     "name": "stdout",
     "output_type": "stream",
     "text": [
      "(56887, 21)\n"
     ]
    }
   ],
   "source": [
    "df_review_PCA = pd.read_csv('../../data/all_cities/reviews_PCA_all.csv')\n",
    "print df_review_PCA.shape"
   ]
  },
  {
   "cell_type": "code",
   "execution_count": 24,
   "metadata": {
    "collapsed": false
   },
   "outputs": [
    {
     "data": {
      "text/html": [
       "<div>\n",
       "<style>\n",
       "    .dataframe thead tr:only-child th {\n",
       "        text-align: right;\n",
       "    }\n",
       "\n",
       "    .dataframe thead th {\n",
       "        text-align: left;\n",
       "    }\n",
       "\n",
       "    .dataframe tbody tr th {\n",
       "        vertical-align: top;\n",
       "    }\n",
       "</style>\n",
       "<table border=\"1\" class=\"dataframe\">\n",
       "  <thead>\n",
       "    <tr style=\"text-align: right;\">\n",
       "      <th></th>\n",
       "      <th>listing_id</th>\n",
       "      <th>reviews_pc_1</th>\n",
       "      <th>reviews_pc_2</th>\n",
       "      <th>reviews_pc_3</th>\n",
       "      <th>reviews_pc_4</th>\n",
       "      <th>reviews_pc_5</th>\n",
       "      <th>reviews_pc_6</th>\n",
       "      <th>reviews_pc_7</th>\n",
       "      <th>reviews_pc_8</th>\n",
       "      <th>reviews_pc_9</th>\n",
       "      <th>...</th>\n",
       "      <th>reviews_pc_11</th>\n",
       "      <th>reviews_pc_12</th>\n",
       "      <th>reviews_pc_13</th>\n",
       "      <th>reviews_pc_14</th>\n",
       "      <th>reviews_pc_15</th>\n",
       "      <th>reviews_pc_16</th>\n",
       "      <th>reviews_pc_17</th>\n",
       "      <th>reviews_pc_18</th>\n",
       "      <th>reviews_pc_19</th>\n",
       "      <th>city</th>\n",
       "    </tr>\n",
       "  </thead>\n",
       "  <tbody>\n",
       "    <tr>\n",
       "      <th>0</th>\n",
       "      <td>16590973</td>\n",
       "      <td>0.255008</td>\n",
       "      <td>-0.025034</td>\n",
       "      <td>-0.084033</td>\n",
       "      <td>0.024888</td>\n",
       "      <td>-0.055772</td>\n",
       "      <td>0.094112</td>\n",
       "      <td>0.045136</td>\n",
       "      <td>-0.072911</td>\n",
       "      <td>-0.096355</td>\n",
       "      <td>...</td>\n",
       "      <td>-0.007796</td>\n",
       "      <td>0.059378</td>\n",
       "      <td>0.061623</td>\n",
       "      <td>-0.047046</td>\n",
       "      <td>0.040242</td>\n",
       "      <td>0.089166</td>\n",
       "      <td>0.029728</td>\n",
       "      <td>-0.143098</td>\n",
       "      <td>0.022957</td>\n",
       "      <td>amsterdam</td>\n",
       "    </tr>\n",
       "    <tr>\n",
       "      <th>1</th>\n",
       "      <td>8024854</td>\n",
       "      <td>1.542527</td>\n",
       "      <td>0.590932</td>\n",
       "      <td>-0.265455</td>\n",
       "      <td>-0.086997</td>\n",
       "      <td>-0.060118</td>\n",
       "      <td>-0.410276</td>\n",
       "      <td>-0.146006</td>\n",
       "      <td>-0.011183</td>\n",
       "      <td>0.100233</td>\n",
       "      <td>...</td>\n",
       "      <td>0.005264</td>\n",
       "      <td>0.220025</td>\n",
       "      <td>-0.079162</td>\n",
       "      <td>-0.077951</td>\n",
       "      <td>0.012836</td>\n",
       "      <td>0.083547</td>\n",
       "      <td>-0.186142</td>\n",
       "      <td>0.053036</td>\n",
       "      <td>-0.127600</td>\n",
       "      <td>amsterdam</td>\n",
       "    </tr>\n",
       "    <tr>\n",
       "      <th>2</th>\n",
       "      <td>2117111</td>\n",
       "      <td>0.172423</td>\n",
       "      <td>-0.104302</td>\n",
       "      <td>0.119291</td>\n",
       "      <td>-0.075284</td>\n",
       "      <td>0.116812</td>\n",
       "      <td>0.145338</td>\n",
       "      <td>0.037120</td>\n",
       "      <td>-0.136319</td>\n",
       "      <td>-0.170814</td>\n",
       "      <td>...</td>\n",
       "      <td>-0.069308</td>\n",
       "      <td>-0.024339</td>\n",
       "      <td>-0.004917</td>\n",
       "      <td>-0.014024</td>\n",
       "      <td>0.098061</td>\n",
       "      <td>-0.053479</td>\n",
       "      <td>0.032714</td>\n",
       "      <td>0.052302</td>\n",
       "      <td>0.018001</td>\n",
       "      <td>amsterdam</td>\n",
       "    </tr>\n",
       "    <tr>\n",
       "      <th>3</th>\n",
       "      <td>17312436</td>\n",
       "      <td>0.340857</td>\n",
       "      <td>-0.236270</td>\n",
       "      <td>-0.126112</td>\n",
       "      <td>-0.001532</td>\n",
       "      <td>-0.030504</td>\n",
       "      <td>-0.057160</td>\n",
       "      <td>-0.108607</td>\n",
       "      <td>-0.028863</td>\n",
       "      <td>0.043528</td>\n",
       "      <td>...</td>\n",
       "      <td>-0.107899</td>\n",
       "      <td>-0.152710</td>\n",
       "      <td>0.011346</td>\n",
       "      <td>-0.103760</td>\n",
       "      <td>0.057315</td>\n",
       "      <td>-0.086389</td>\n",
       "      <td>0.013302</td>\n",
       "      <td>-0.008431</td>\n",
       "      <td>0.212630</td>\n",
       "      <td>amsterdam</td>\n",
       "    </tr>\n",
       "    <tr>\n",
       "      <th>4</th>\n",
       "      <td>6110143</td>\n",
       "      <td>0.928086</td>\n",
       "      <td>-0.213038</td>\n",
       "      <td>-0.169772</td>\n",
       "      <td>-0.189467</td>\n",
       "      <td>-0.135179</td>\n",
       "      <td>-0.321734</td>\n",
       "      <td>0.061121</td>\n",
       "      <td>-0.113399</td>\n",
       "      <td>-0.119609</td>\n",
       "      <td>...</td>\n",
       "      <td>0.038347</td>\n",
       "      <td>0.276933</td>\n",
       "      <td>-0.114159</td>\n",
       "      <td>0.241956</td>\n",
       "      <td>-0.130586</td>\n",
       "      <td>-0.002236</td>\n",
       "      <td>0.034677</td>\n",
       "      <td>-0.108452</td>\n",
       "      <td>0.026622</td>\n",
       "      <td>amsterdam</td>\n",
       "    </tr>\n",
       "  </tbody>\n",
       "</table>\n",
       "<p>5 rows × 21 columns</p>\n",
       "</div>"
      ],
      "text/plain": [
       "   listing_id  reviews_pc_1  reviews_pc_2  reviews_pc_3  reviews_pc_4  \\\n",
       "0    16590973      0.255008     -0.025034     -0.084033      0.024888   \n",
       "1     8024854      1.542527      0.590932     -0.265455     -0.086997   \n",
       "2     2117111      0.172423     -0.104302      0.119291     -0.075284   \n",
       "3    17312436      0.340857     -0.236270     -0.126112     -0.001532   \n",
       "4     6110143      0.928086     -0.213038     -0.169772     -0.189467   \n",
       "\n",
       "   reviews_pc_5  reviews_pc_6  reviews_pc_7  reviews_pc_8  reviews_pc_9  \\\n",
       "0     -0.055772      0.094112      0.045136     -0.072911     -0.096355   \n",
       "1     -0.060118     -0.410276     -0.146006     -0.011183      0.100233   \n",
       "2      0.116812      0.145338      0.037120     -0.136319     -0.170814   \n",
       "3     -0.030504     -0.057160     -0.108607     -0.028863      0.043528   \n",
       "4     -0.135179     -0.321734      0.061121     -0.113399     -0.119609   \n",
       "\n",
       "     ...      reviews_pc_11  reviews_pc_12  reviews_pc_13  reviews_pc_14  \\\n",
       "0    ...          -0.007796       0.059378       0.061623      -0.047046   \n",
       "1    ...           0.005264       0.220025      -0.079162      -0.077951   \n",
       "2    ...          -0.069308      -0.024339      -0.004917      -0.014024   \n",
       "3    ...          -0.107899      -0.152710       0.011346      -0.103760   \n",
       "4    ...           0.038347       0.276933      -0.114159       0.241956   \n",
       "\n",
       "   reviews_pc_15  reviews_pc_16  reviews_pc_17  reviews_pc_18  reviews_pc_19  \\\n",
       "0       0.040242       0.089166       0.029728      -0.143098       0.022957   \n",
       "1       0.012836       0.083547      -0.186142       0.053036      -0.127600   \n",
       "2       0.098061      -0.053479       0.032714       0.052302       0.018001   \n",
       "3       0.057315      -0.086389       0.013302      -0.008431       0.212630   \n",
       "4      -0.130586      -0.002236       0.034677      -0.108452       0.026622   \n",
       "\n",
       "        city  \n",
       "0  amsterdam  \n",
       "1  amsterdam  \n",
       "2  amsterdam  \n",
       "3  amsterdam  \n",
       "4  amsterdam  \n",
       "\n",
       "[5 rows x 21 columns]"
      ]
     },
     "execution_count": 24,
     "metadata": {},
     "output_type": "execute_result"
    }
   ],
   "source": [
    "df_review_PCA.head()"
   ]
  },
  {
   "cell_type": "code",
   "execution_count": 25,
   "metadata": {
    "collapsed": true
   },
   "outputs": [],
   "source": [
    "df_review_PCA.drop('city',axis=1,inplace=True)"
   ]
  },
  {
   "cell_type": "code",
   "execution_count": 26,
   "metadata": {
    "collapsed": true
   },
   "outputs": [],
   "source": [
    "df_listings_cleansed = pd.merge(df_listings_cleansed,df_review_PCA,on='listing_id')"
   ]
  },
  {
   "cell_type": "code",
   "execution_count": 27,
   "metadata": {
    "collapsed": false
   },
   "outputs": [
    {
     "data": {
      "text/plain": [
       "(56882, 342)"
      ]
     },
     "execution_count": 27,
     "metadata": {},
     "output_type": "execute_result"
    }
   ],
   "source": [
    "df_listings_cleansed.shape"
   ]
  },
  {
   "cell_type": "markdown",
   "metadata": {},
   "source": [
    "#  Add pictures brightness and PCA"
   ]
  },
  {
   "cell_type": "code",
   "execution_count": 28,
   "metadata": {
    "collapsed": false
   },
   "outputs": [
    {
     "name": "stdout",
     "output_type": "stream",
     "text": [
      "(56884, 7)\n",
      "(56884, 52)\n"
     ]
    }
   ],
   "source": [
    "df_pictures_contrast_brightness = pd.read_csv('../../data/all_cities/pictures_contrasts_brightness_all.csv')\n",
    "df_pictures_PCA = pd.read_csv('../../data/all_cities/pictures_PCA_all.csv',index_col=False)\n",
    "df_pictures_PCA.drop('unnamed: 0',axis=1,inplace=True)\n",
    "print df_pictures_contrast_brightness.shape\n",
    "print df_pictures_PCA.shape"
   ]
  },
  {
   "cell_type": "code",
   "execution_count": 29,
   "metadata": {
    "collapsed": false
   },
   "outputs": [
    {
     "data": {
      "text/html": [
       "<div>\n",
       "<style>\n",
       "    .dataframe thead tr:only-child th {\n",
       "        text-align: right;\n",
       "    }\n",
       "\n",
       "    .dataframe thead th {\n",
       "        text-align: left;\n",
       "    }\n",
       "\n",
       "    .dataframe tbody tr th {\n",
       "        vertical-align: top;\n",
       "    }\n",
       "</style>\n",
       "<table border=\"1\" class=\"dataframe\">\n",
       "  <thead>\n",
       "    <tr style=\"text-align: right;\">\n",
       "      <th></th>\n",
       "      <th>listing_id</th>\n",
       "      <th>r_contrast</th>\n",
       "      <th>g_contrast</th>\n",
       "      <th>b_contrast</th>\n",
       "      <th>brightness_mean</th>\n",
       "      <th>brightness_std</th>\n",
       "    </tr>\n",
       "  </thead>\n",
       "  <tbody>\n",
       "    <tr>\n",
       "      <th>0</th>\n",
       "      <td>16590973</td>\n",
       "      <td>58</td>\n",
       "      <td>60</td>\n",
       "      <td>66</td>\n",
       "      <td>122</td>\n",
       "      <td>58</td>\n",
       "    </tr>\n",
       "    <tr>\n",
       "      <th>1</th>\n",
       "      <td>8024854</td>\n",
       "      <td>40</td>\n",
       "      <td>42</td>\n",
       "      <td>45</td>\n",
       "      <td>145</td>\n",
       "      <td>42</td>\n",
       "    </tr>\n",
       "    <tr>\n",
       "      <th>2</th>\n",
       "      <td>2117111</td>\n",
       "      <td>52</td>\n",
       "      <td>51</td>\n",
       "      <td>52</td>\n",
       "      <td>99</td>\n",
       "      <td>51</td>\n",
       "    </tr>\n",
       "    <tr>\n",
       "      <th>3</th>\n",
       "      <td>17312436</td>\n",
       "      <td>49</td>\n",
       "      <td>49</td>\n",
       "      <td>52</td>\n",
       "      <td>177</td>\n",
       "      <td>49</td>\n",
       "    </tr>\n",
       "    <tr>\n",
       "      <th>4</th>\n",
       "      <td>6110143</td>\n",
       "      <td>62</td>\n",
       "      <td>64</td>\n",
       "      <td>65</td>\n",
       "      <td>97</td>\n",
       "      <td>63</td>\n",
       "    </tr>\n",
       "  </tbody>\n",
       "</table>\n",
       "</div>"
      ],
      "text/plain": [
       "   listing_id  r_contrast  g_contrast  b_contrast  brightness_mean  \\\n",
       "0    16590973          58          60          66              122   \n",
       "1     8024854          40          42          45              145   \n",
       "2     2117111          52          51          52               99   \n",
       "3    17312436          49          49          52              177   \n",
       "4     6110143          62          64          65               97   \n",
       "\n",
       "   brightness_std  \n",
       "0              58  \n",
       "1              42  \n",
       "2              51  \n",
       "3              49  \n",
       "4              63  "
      ]
     },
     "execution_count": 29,
     "metadata": {},
     "output_type": "execute_result"
    }
   ],
   "source": [
    "df_pictures_contrast_brightness.drop('city',axis=1,inplace=True)\n",
    "df_pictures_contrast_brightness.head()"
   ]
  },
  {
   "cell_type": "code",
   "execution_count": 30,
   "metadata": {
    "collapsed": false
   },
   "outputs": [
    {
     "name": "stdout",
     "output_type": "stream",
     "text": [
      "(56882, 342)\n"
     ]
    }
   ],
   "source": [
    "print df_listings_cleansed.shape"
   ]
  },
  {
   "cell_type": "code",
   "execution_count": 31,
   "metadata": {
    "collapsed": true
   },
   "outputs": [],
   "source": [
    "df_listings_cleansed = pd.merge(df_listings_cleansed,df_pictures_PCA,on='listing_id')\n",
    "df_listings_cleansed = pd.merge(df_listings_cleansed,df_pictures_contrast_brightness,on='listing_id')"
   ]
  },
  {
   "cell_type": "code",
   "execution_count": 32,
   "metadata": {
    "collapsed": false
   },
   "outputs": [
    {
     "name": "stdout",
     "output_type": "stream",
     "text": [
      "(56879, 398)\n"
     ]
    }
   ],
   "source": [
    "print df_listings_cleansed.shape"
   ]
  },
  {
   "cell_type": "code",
   "execution_count": 33,
   "metadata": {
    "collapsed": false
   },
   "outputs": [
    {
     "data": {
      "text/plain": [
       "0    398\n",
       "dtype: int64"
      ]
     },
     "execution_count": 33,
     "metadata": {},
     "output_type": "execute_result"
    }
   ],
   "source": [
    "df_listings_cleansed.isnull().sum().value_counts()"
   ]
  },
  {
   "cell_type": "markdown",
   "metadata": {},
   "source": [
    "# Save clean dataset without NA"
   ]
  },
  {
   "cell_type": "code",
   "execution_count": 34,
   "metadata": {
    "collapsed": true
   },
   "outputs": [],
   "source": [
    "df_listings_cleansed.to_csv('../../data/all_cities/listing_cleansed_fillna.csv',index=False)"
   ]
  },
  {
   "cell_type": "code",
   "execution_count": 35,
   "metadata": {
    "collapsed": false
   },
   "outputs": [
    {
     "data": {
      "text/plain": [
       "['city']"
      ]
     },
     "execution_count": 35,
     "metadata": {},
     "output_type": "execute_result"
    }
   ],
   "source": [
    "[x for x in df_listings_cleansed.columns.tolist() if 'city' in x]"
   ]
  }
 ],
 "metadata": {
  "anaconda-cloud": {},
  "kernelspec": {
   "display_name": "Python [conda root]",
   "language": "python",
   "name": "conda-root-py"
  },
  "language_info": {
   "codemirror_mode": {
    "name": "ipython",
    "version": 2
   },
   "file_extension": ".py",
   "mimetype": "text/x-python",
   "name": "python",
   "nbconvert_exporter": "python",
   "pygments_lexer": "ipython2",
   "version": "2.7.12"
  }
 },
 "nbformat": 4,
 "nbformat_minor": 2
}
